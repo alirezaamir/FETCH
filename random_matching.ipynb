{
 "cells": [
  {
   "cell_type": "code",
   "execution_count": 1,
   "metadata": {
    "collapsed": true,
    "pycharm": {
     "name": "#%%\n"
    }
   },
   "outputs": [],
   "source": [
    "import matplotlib.pyplot as plt\n",
    "import numpy as np\n",
    "import h5py\n",
    "import pandas as pd"
   ]
  },
  {
   "cell_type": "code",
   "execution_count": 2,
   "outputs": [
    {
     "data": {
      "text/plain": "           filename  start_time  stop_time seizure/non_seizure  patient  \\\n0  001402_s003_t001      0.0000  1264.0000                bckg     1402   \n1  001479_s001_t001      0.0000   950.0040                bckg     1479   \n2  001479_s001_t001    950.0040  1047.0178                seiz     1479   \n3  001479_s001_t001   1047.0178  1199.0000                bckg     1479   \n4  001413_s001_t000      0.0000   315.3400                bckg     1413   \n5  001413_s001_t000    315.3400   319.0240                seiz     1413   \n6  001413_s001_t000    319.0240   327.6680                bckg     1413   \n7  001413_s001_t000    327.6680   330.0320                seiz     1413   \n8  001413_s001_t000    330.0320   642.0160                bckg     1413   \n9  001413_s001_t000    642.0160   645.3960                seiz     1413   \n\n  session  file seizure_type  \n0    s003  t001          NaN  \n1    s001  t001          NaN  \n2    s001  t001         FNSZ  \n3    s001  t001          NaN  \n4    s001  t000          NaN  \n5    s001  t000         ABSZ  \n6    s001  t000          NaN  \n7    s001  t000         ABSZ  \n8    s001  t000          NaN  \n9    s001  t000         ABSZ  ",
      "text/html": "<div>\n<style scoped>\n    .dataframe tbody tr th:only-of-type {\n        vertical-align: middle;\n    }\n\n    .dataframe tbody tr th {\n        vertical-align: top;\n    }\n\n    .dataframe thead th {\n        text-align: right;\n    }\n</style>\n<table border=\"1\" class=\"dataframe\">\n  <thead>\n    <tr style=\"text-align: right;\">\n      <th></th>\n      <th>filename</th>\n      <th>start_time</th>\n      <th>stop_time</th>\n      <th>seizure/non_seizure</th>\n      <th>patient</th>\n      <th>session</th>\n      <th>file</th>\n      <th>seizure_type</th>\n    </tr>\n  </thead>\n  <tbody>\n    <tr>\n      <th>0</th>\n      <td>001402_s003_t001</td>\n      <td>0.0000</td>\n      <td>1264.0000</td>\n      <td>bckg</td>\n      <td>1402</td>\n      <td>s003</td>\n      <td>t001</td>\n      <td>NaN</td>\n    </tr>\n    <tr>\n      <th>1</th>\n      <td>001479_s001_t001</td>\n      <td>0.0000</td>\n      <td>950.0040</td>\n      <td>bckg</td>\n      <td>1479</td>\n      <td>s001</td>\n      <td>t001</td>\n      <td>NaN</td>\n    </tr>\n    <tr>\n      <th>2</th>\n      <td>001479_s001_t001</td>\n      <td>950.0040</td>\n      <td>1047.0178</td>\n      <td>seiz</td>\n      <td>1479</td>\n      <td>s001</td>\n      <td>t001</td>\n      <td>FNSZ</td>\n    </tr>\n    <tr>\n      <th>3</th>\n      <td>001479_s001_t001</td>\n      <td>1047.0178</td>\n      <td>1199.0000</td>\n      <td>bckg</td>\n      <td>1479</td>\n      <td>s001</td>\n      <td>t001</td>\n      <td>NaN</td>\n    </tr>\n    <tr>\n      <th>4</th>\n      <td>001413_s001_t000</td>\n      <td>0.0000</td>\n      <td>315.3400</td>\n      <td>bckg</td>\n      <td>1413</td>\n      <td>s001</td>\n      <td>t000</td>\n      <td>NaN</td>\n    </tr>\n    <tr>\n      <th>5</th>\n      <td>001413_s001_t000</td>\n      <td>315.3400</td>\n      <td>319.0240</td>\n      <td>seiz</td>\n      <td>1413</td>\n      <td>s001</td>\n      <td>t000</td>\n      <td>ABSZ</td>\n    </tr>\n    <tr>\n      <th>6</th>\n      <td>001413_s001_t000</td>\n      <td>319.0240</td>\n      <td>327.6680</td>\n      <td>bckg</td>\n      <td>1413</td>\n      <td>s001</td>\n      <td>t000</td>\n      <td>NaN</td>\n    </tr>\n    <tr>\n      <th>7</th>\n      <td>001413_s001_t000</td>\n      <td>327.6680</td>\n      <td>330.0320</td>\n      <td>seiz</td>\n      <td>1413</td>\n      <td>s001</td>\n      <td>t000</td>\n      <td>ABSZ</td>\n    </tr>\n    <tr>\n      <th>8</th>\n      <td>001413_s001_t000</td>\n      <td>330.0320</td>\n      <td>642.0160</td>\n      <td>bckg</td>\n      <td>1413</td>\n      <td>s001</td>\n      <td>t000</td>\n      <td>NaN</td>\n    </tr>\n    <tr>\n      <th>9</th>\n      <td>001413_s001_t000</td>\n      <td>642.0160</td>\n      <td>645.3960</td>\n      <td>seiz</td>\n      <td>1413</td>\n      <td>s001</td>\n      <td>t000</td>\n      <td>ABSZ</td>\n    </tr>\n  </tbody>\n</table>\n</div>"
     },
     "execution_count": 2,
     "metadata": {},
     "output_type": "execute_result"
    }
   ],
   "source": [
    "df = pd.read_csv('input/training_set_TUSZ.csv')\n",
    "df.head(n=10)"
   ],
   "metadata": {
    "collapsed": false,
    "pycharm": {
     "name": "#%%\n"
    }
   }
  },
  {
   "cell_type": "code",
   "execution_count": 3,
   "outputs": [
    {
     "data": {
      "text/plain": "            filename  start_time  stop_time seizure/non_seizure  patient  \\\n0   001402_s003_t001      0.0000     1264.0                bckg     1402   \n3   001479_s001_t001   1047.0178     1199.0                bckg     1479   \n10  001413_s001_t000    645.3960     1206.0                bckg     1413   \n17  001413_s003_t001    619.2360     1418.0                bckg     1413   \n28  001413_s002_t001   1126.9720     1217.0                bckg     1413   \n29  006352_s001_t000      0.0000     1583.0                bckg     6352   \n34  006351_s001_t000   1579.9400     1694.0                bckg     6351   \n41  006904_s001_t001    549.1160      557.0                bckg     6904   \n54  006904_s001_t000   1575.8160     1598.0                bckg     6904   \n55  005103_s002_t001      0.0000      561.0                bckg     5103   \n\n   session  file seizure_type  \n0     s003  t001          NaN  \n3     s001  t001          NaN  \n10    s001  t000          NaN  \n17    s003  t001          NaN  \n28    s002  t001          NaN  \n29    s001  t000          NaN  \n34    s001  t000          NaN  \n41    s001  t001          NaN  \n54    s001  t000          NaN  \n55    s002  t001          NaN  ",
      "text/html": "<div>\n<style scoped>\n    .dataframe tbody tr th:only-of-type {\n        vertical-align: middle;\n    }\n\n    .dataframe tbody tr th {\n        vertical-align: top;\n    }\n\n    .dataframe thead th {\n        text-align: right;\n    }\n</style>\n<table border=\"1\" class=\"dataframe\">\n  <thead>\n    <tr style=\"text-align: right;\">\n      <th></th>\n      <th>filename</th>\n      <th>start_time</th>\n      <th>stop_time</th>\n      <th>seizure/non_seizure</th>\n      <th>patient</th>\n      <th>session</th>\n      <th>file</th>\n      <th>seizure_type</th>\n    </tr>\n  </thead>\n  <tbody>\n    <tr>\n      <th>0</th>\n      <td>001402_s003_t001</td>\n      <td>0.0000</td>\n      <td>1264.0</td>\n      <td>bckg</td>\n      <td>1402</td>\n      <td>s003</td>\n      <td>t001</td>\n      <td>NaN</td>\n    </tr>\n    <tr>\n      <th>3</th>\n      <td>001479_s001_t001</td>\n      <td>1047.0178</td>\n      <td>1199.0</td>\n      <td>bckg</td>\n      <td>1479</td>\n      <td>s001</td>\n      <td>t001</td>\n      <td>NaN</td>\n    </tr>\n    <tr>\n      <th>10</th>\n      <td>001413_s001_t000</td>\n      <td>645.3960</td>\n      <td>1206.0</td>\n      <td>bckg</td>\n      <td>1413</td>\n      <td>s001</td>\n      <td>t000</td>\n      <td>NaN</td>\n    </tr>\n    <tr>\n      <th>17</th>\n      <td>001413_s003_t001</td>\n      <td>619.2360</td>\n      <td>1418.0</td>\n      <td>bckg</td>\n      <td>1413</td>\n      <td>s003</td>\n      <td>t001</td>\n      <td>NaN</td>\n    </tr>\n    <tr>\n      <th>28</th>\n      <td>001413_s002_t001</td>\n      <td>1126.9720</td>\n      <td>1217.0</td>\n      <td>bckg</td>\n      <td>1413</td>\n      <td>s002</td>\n      <td>t001</td>\n      <td>NaN</td>\n    </tr>\n    <tr>\n      <th>29</th>\n      <td>006352_s001_t000</td>\n      <td>0.0000</td>\n      <td>1583.0</td>\n      <td>bckg</td>\n      <td>6352</td>\n      <td>s001</td>\n      <td>t000</td>\n      <td>NaN</td>\n    </tr>\n    <tr>\n      <th>34</th>\n      <td>006351_s001_t000</td>\n      <td>1579.9400</td>\n      <td>1694.0</td>\n      <td>bckg</td>\n      <td>6351</td>\n      <td>s001</td>\n      <td>t000</td>\n      <td>NaN</td>\n    </tr>\n    <tr>\n      <th>41</th>\n      <td>006904_s001_t001</td>\n      <td>549.1160</td>\n      <td>557.0</td>\n      <td>bckg</td>\n      <td>6904</td>\n      <td>s001</td>\n      <td>t001</td>\n      <td>NaN</td>\n    </tr>\n    <tr>\n      <th>54</th>\n      <td>006904_s001_t000</td>\n      <td>1575.8160</td>\n      <td>1598.0</td>\n      <td>bckg</td>\n      <td>6904</td>\n      <td>s001</td>\n      <td>t000</td>\n      <td>NaN</td>\n    </tr>\n    <tr>\n      <th>55</th>\n      <td>005103_s002_t001</td>\n      <td>0.0000</td>\n      <td>561.0</td>\n      <td>bckg</td>\n      <td>5103</td>\n      <td>s002</td>\n      <td>t001</td>\n      <td>NaN</td>\n    </tr>\n  </tbody>\n</table>\n</div>"
     },
     "execution_count": 3,
     "metadata": {},
     "output_type": "execute_result"
    }
   ],
   "source": [
    "df_last = df.drop_duplicates(subset='filename', keep='last')\n",
    "df_last.head(n=10)"
   ],
   "metadata": {
    "collapsed": false,
    "pycharm": {
     "name": "#%%\n"
    }
   }
  },
  {
   "cell_type": "code",
   "execution_count": 4,
   "outputs": [
    {
     "data": {
      "text/plain": "            filename  stop_time  patient\n0   001402_s003_t001     1264.0     1402\n3   001479_s001_t001     1199.0     1479\n10  001413_s001_t000     1206.0     1413\n17  001413_s003_t001     1418.0     1413\n28  001413_s002_t001     1217.0     1413\n29  006352_s001_t000     1583.0     6352\n34  006351_s001_t000     1694.0     6351\n41  006904_s001_t001      557.0     6904\n54  006904_s001_t000     1598.0     6904\n55  005103_s002_t001      561.0     5103",
      "text/html": "<div>\n<style scoped>\n    .dataframe tbody tr th:only-of-type {\n        vertical-align: middle;\n    }\n\n    .dataframe tbody tr th {\n        vertical-align: top;\n    }\n\n    .dataframe thead th {\n        text-align: right;\n    }\n</style>\n<table border=\"1\" class=\"dataframe\">\n  <thead>\n    <tr style=\"text-align: right;\">\n      <th></th>\n      <th>filename</th>\n      <th>stop_time</th>\n      <th>patient</th>\n    </tr>\n  </thead>\n  <tbody>\n    <tr>\n      <th>0</th>\n      <td>001402_s003_t001</td>\n      <td>1264.0</td>\n      <td>1402</td>\n    </tr>\n    <tr>\n      <th>3</th>\n      <td>001479_s001_t001</td>\n      <td>1199.0</td>\n      <td>1479</td>\n    </tr>\n    <tr>\n      <th>10</th>\n      <td>001413_s001_t000</td>\n      <td>1206.0</td>\n      <td>1413</td>\n    </tr>\n    <tr>\n      <th>17</th>\n      <td>001413_s003_t001</td>\n      <td>1418.0</td>\n      <td>1413</td>\n    </tr>\n    <tr>\n      <th>28</th>\n      <td>001413_s002_t001</td>\n      <td>1217.0</td>\n      <td>1413</td>\n    </tr>\n    <tr>\n      <th>29</th>\n      <td>006352_s001_t000</td>\n      <td>1583.0</td>\n      <td>6352</td>\n    </tr>\n    <tr>\n      <th>34</th>\n      <td>006351_s001_t000</td>\n      <td>1694.0</td>\n      <td>6351</td>\n    </tr>\n    <tr>\n      <th>41</th>\n      <td>006904_s001_t001</td>\n      <td>557.0</td>\n      <td>6904</td>\n    </tr>\n    <tr>\n      <th>54</th>\n      <td>006904_s001_t000</td>\n      <td>1598.0</td>\n      <td>6904</td>\n    </tr>\n    <tr>\n      <th>55</th>\n      <td>005103_s002_t001</td>\n      <td>561.0</td>\n      <td>5103</td>\n    </tr>\n  </tbody>\n</table>\n</div>"
     },
     "execution_count": 4,
     "metadata": {},
     "output_type": "execute_result"
    }
   ],
   "source": [
    "df_last = df_last[['filename', 'stop_time', 'patient']]\n",
    "df_last.head(n=10)"
   ],
   "metadata": {
    "collapsed": false,
    "pycharm": {
     "name": "#%%\n"
    }
   }
  },
  {
   "cell_type": "code",
   "execution_count": 5,
   "outputs": [
    {
     "data": {
      "text/plain": "            filename  stop_time  patient  \\\n0   001402_s003_t001     1264.0     1402   \n3   001479_s001_t001     1199.0     1479   \n10  001413_s001_t000     1206.0     1413   \n17  001413_s003_t001     1418.0     1413   \n28  001413_s002_t001     1217.0     1413   \n\n                                                chunk  \n0   [0, 1, 2, 3, 4, 5, 6, 7, 8, 9, 10, 11, 12, 13,...  \n3   [0, 1, 2, 3, 4, 5, 6, 7, 8, 9, 10, 11, 12, 13,...  \n10  [0, 1, 2, 3, 4, 5, 6, 7, 8, 9, 10, 11, 12, 13,...  \n17  [0, 1, 2, 3, 4, 5, 6, 7, 8, 9, 10, 11, 12, 13,...  \n28  [0, 1, 2, 3, 4, 5, 6, 7, 8, 9, 10, 11, 12, 13,...  ",
      "text/html": "<div>\n<style scoped>\n    .dataframe tbody tr th:only-of-type {\n        vertical-align: middle;\n    }\n\n    .dataframe tbody tr th {\n        vertical-align: top;\n    }\n\n    .dataframe thead th {\n        text-align: right;\n    }\n</style>\n<table border=\"1\" class=\"dataframe\">\n  <thead>\n    <tr style=\"text-align: right;\">\n      <th></th>\n      <th>filename</th>\n      <th>stop_time</th>\n      <th>patient</th>\n      <th>chunk</th>\n    </tr>\n  </thead>\n  <tbody>\n    <tr>\n      <th>0</th>\n      <td>001402_s003_t001</td>\n      <td>1264.0</td>\n      <td>1402</td>\n      <td>[0, 1, 2, 3, 4, 5, 6, 7, 8, 9, 10, 11, 12, 13,...</td>\n    </tr>\n    <tr>\n      <th>3</th>\n      <td>001479_s001_t001</td>\n      <td>1199.0</td>\n      <td>1479</td>\n      <td>[0, 1, 2, 3, 4, 5, 6, 7, 8, 9, 10, 11, 12, 13,...</td>\n    </tr>\n    <tr>\n      <th>10</th>\n      <td>001413_s001_t000</td>\n      <td>1206.0</td>\n      <td>1413</td>\n      <td>[0, 1, 2, 3, 4, 5, 6, 7, 8, 9, 10, 11, 12, 13,...</td>\n    </tr>\n    <tr>\n      <th>17</th>\n      <td>001413_s003_t001</td>\n      <td>1418.0</td>\n      <td>1413</td>\n      <td>[0, 1, 2, 3, 4, 5, 6, 7, 8, 9, 10, 11, 12, 13,...</td>\n    </tr>\n    <tr>\n      <th>28</th>\n      <td>001413_s002_t001</td>\n      <td>1217.0</td>\n      <td>1413</td>\n      <td>[0, 1, 2, 3, 4, 5, 6, 7, 8, 9, 10, 11, 12, 13,...</td>\n    </tr>\n  </tbody>\n</table>\n</div>"
     },
     "execution_count": 5,
     "metadata": {},
     "output_type": "execute_result"
    }
   ],
   "source": [
    "def get_random_chunk(x):\n",
    "    max_len = x//12\n",
    "    rand = np.arange(0,max_len, dtype=int)\n",
    "    return rand\n",
    "\n",
    "df_last['chunk']= df_last['stop_time'].apply(get_random_chunk)\n",
    "# df_last['self'], df_last['comp'] = zip(*df_last['chunk'])\n",
    "df_last.head()"
   ],
   "metadata": {
    "collapsed": false,
    "pycharm": {
     "name": "#%%\n"
    }
   }
  },
  {
   "cell_type": "code",
   "execution_count": 6,
   "outputs": [
    {
     "data": {
      "text/plain": "            filename  stop_time  patient  \\\n0   001402_s003_t001     1264.0     1402   \n3   001479_s001_t001     1199.0     1479   \n10  001413_s001_t000     1206.0     1413   \n17  001413_s003_t001     1418.0     1413   \n28  001413_s002_t001     1217.0     1413   \n\n                                                chunk  \\\n0   ([00001402_s003_t001.edf_0.h5, 00001402_s003_t...   \n3   ([00001479_s001_t001.edf_0.h5, 00001479_s001_t...   \n10  ([00001413_s001_t000.edf_0.h5, 00001413_s001_t...   \n17  ([00001413_s003_t001.edf_0.h5, 00001413_s003_t...   \n28  ([00001413_s002_t001.edf_0.h5, 00001413_s002_t...   \n\n                                              chunk12  \\\n0   [00001402_s003_t001.edf_0.h5, 00001402_s003_t0...   \n3   [00001479_s001_t001.edf_0.h5, 00001479_s001_t0...   \n10  [00001413_s001_t000.edf_0.h5, 00001413_s001_t0...   \n17  [00001413_s003_t001.edf_0.h5, 00001413_s003_t0...   \n28  [00001413_s002_t001.edf_0.h5, 00001413_s002_t0...   \n\n                                              chunk48  \n0   [[00001402_s003_t001.edf_0.h5, 00001402_s003_t...  \n3   [[00001479_s001_t001.edf_0.h5, 00001479_s001_t...  \n10  [[00001413_s001_t000.edf_0.h5, 00001413_s001_t...  \n17  [[00001413_s003_t001.edf_0.h5, 00001413_s003_t...  \n28  [[00001413_s002_t001.edf_0.h5, 00001413_s002_t...  ",
      "text/html": "<div>\n<style scoped>\n    .dataframe tbody tr th:only-of-type {\n        vertical-align: middle;\n    }\n\n    .dataframe tbody tr th {\n        vertical-align: top;\n    }\n\n    .dataframe thead th {\n        text-align: right;\n    }\n</style>\n<table border=\"1\" class=\"dataframe\">\n  <thead>\n    <tr style=\"text-align: right;\">\n      <th></th>\n      <th>filename</th>\n      <th>stop_time</th>\n      <th>patient</th>\n      <th>chunk</th>\n      <th>chunk12</th>\n      <th>chunk48</th>\n    </tr>\n  </thead>\n  <tbody>\n    <tr>\n      <th>0</th>\n      <td>001402_s003_t001</td>\n      <td>1264.0</td>\n      <td>1402</td>\n      <td>([00001402_s003_t001.edf_0.h5, 00001402_s003_t...</td>\n      <td>[00001402_s003_t001.edf_0.h5, 00001402_s003_t0...</td>\n      <td>[[00001402_s003_t001.edf_0.h5, 00001402_s003_t...</td>\n    </tr>\n    <tr>\n      <th>3</th>\n      <td>001479_s001_t001</td>\n      <td>1199.0</td>\n      <td>1479</td>\n      <td>([00001479_s001_t001.edf_0.h5, 00001479_s001_t...</td>\n      <td>[00001479_s001_t001.edf_0.h5, 00001479_s001_t0...</td>\n      <td>[[00001479_s001_t001.edf_0.h5, 00001479_s001_t...</td>\n    </tr>\n    <tr>\n      <th>10</th>\n      <td>001413_s001_t000</td>\n      <td>1206.0</td>\n      <td>1413</td>\n      <td>([00001413_s001_t000.edf_0.h5, 00001413_s001_t...</td>\n      <td>[00001413_s001_t000.edf_0.h5, 00001413_s001_t0...</td>\n      <td>[[00001413_s001_t000.edf_0.h5, 00001413_s001_t...</td>\n    </tr>\n    <tr>\n      <th>17</th>\n      <td>001413_s003_t001</td>\n      <td>1418.0</td>\n      <td>1413</td>\n      <td>([00001413_s003_t001.edf_0.h5, 00001413_s003_t...</td>\n      <td>[00001413_s003_t001.edf_0.h5, 00001413_s003_t0...</td>\n      <td>[[00001413_s003_t001.edf_0.h5, 00001413_s003_t...</td>\n    </tr>\n    <tr>\n      <th>28</th>\n      <td>001413_s002_t001</td>\n      <td>1217.0</td>\n      <td>1413</td>\n      <td>([00001413_s002_t001.edf_0.h5, 00001413_s002_t...</td>\n      <td>[00001413_s002_t001.edf_0.h5, 00001413_s002_t0...</td>\n      <td>[[00001413_s002_t001.edf_0.h5, 00001413_s002_t...</td>\n    </tr>\n  </tbody>\n</table>\n</div>"
     },
     "execution_count": 6,
     "metadata": {},
     "output_type": "execute_result"
    }
   ],
   "source": [
    "def name_modified(filename):\n",
    "    pat_name, session, file = filename.split('_')\n",
    "    pat_name = str(pat_name).zfill(8)\n",
    "    return '{}_{}_{}'.format(pat_name, session, file)\n",
    "\n",
    "\n",
    "def get_self_list(x):\n",
    "    chunk12 = []\n",
    "    chunk48 = []\n",
    "    for idx in range(int(x['stop_time']//12) - 4):\n",
    "        self12 = '{}.edf_{}.h5'.format(name_modified(x['filename']), idx)\n",
    "        self48 = ['{}.edf_{}.h5'.format(name_modified(x['filename']), i) for i in range(idx, idx+4)]\n",
    "        chunk12.append(self12)\n",
    "        chunk48.append(self48)\n",
    "    return chunk12, chunk48\n",
    "df_last['chunk'] = df_last.apply(get_self_list, axis=1)\n",
    "df_last['chunk12'], df_last['chunk48'] = zip(*df_last['chunk'])\n",
    "df_last.head()"
   ],
   "metadata": {
    "collapsed": false,
    "pycharm": {
     "name": "#%%\n"
    }
   }
  },
  {
   "cell_type": "code",
   "execution_count": 7,
   "outputs": [
    {
     "data": {
      "text/plain": "                                                   chunk12  \\\npatient                                                      \n2        [00000002_s002_t000.edf_0.h5, 00000002_s002_t0...   \n6        [00000006_s005_t000.edf_0.h5, 00000006_s005_t0...   \n17       [00000017_s003_t000.edf_0.h5, 00000017_s003_t0...   \n21       [00000021_s001_t000.edf_0.h5, 00000021_s001_t0...   \n32       [00000032_s002_t000.edf_0.h5, 00000032_s002_t0...   \n\n                                                   chunk48  \npatient                                                     \n2        [[00000002_s002_t000.edf_0.h5, 00000002_s002_t...  \n6        [[00000006_s005_t000.edf_0.h5, 00000006_s005_t...  \n17       [[00000017_s003_t000.edf_0.h5, 00000017_s003_t...  \n21       [[00000021_s001_t000.edf_0.h5, 00000021_s001_t...  \n32       [[00000032_s002_t000.edf_0.h5, 00000032_s002_t...  ",
      "text/html": "<div>\n<style scoped>\n    .dataframe tbody tr th:only-of-type {\n        vertical-align: middle;\n    }\n\n    .dataframe tbody tr th {\n        vertical-align: top;\n    }\n\n    .dataframe thead th {\n        text-align: right;\n    }\n</style>\n<table border=\"1\" class=\"dataframe\">\n  <thead>\n    <tr style=\"text-align: right;\">\n      <th></th>\n      <th>chunk12</th>\n      <th>chunk48</th>\n    </tr>\n    <tr>\n      <th>patient</th>\n      <th></th>\n      <th></th>\n    </tr>\n  </thead>\n  <tbody>\n    <tr>\n      <th>2</th>\n      <td>[00000002_s002_t000.edf_0.h5, 00000002_s002_t0...</td>\n      <td>[[00000002_s002_t000.edf_0.h5, 00000002_s002_t...</td>\n    </tr>\n    <tr>\n      <th>6</th>\n      <td>[00000006_s005_t000.edf_0.h5, 00000006_s005_t0...</td>\n      <td>[[00000006_s005_t000.edf_0.h5, 00000006_s005_t...</td>\n    </tr>\n    <tr>\n      <th>17</th>\n      <td>[00000017_s003_t000.edf_0.h5, 00000017_s003_t0...</td>\n      <td>[[00000017_s003_t000.edf_0.h5, 00000017_s003_t...</td>\n    </tr>\n    <tr>\n      <th>21</th>\n      <td>[00000021_s001_t000.edf_0.h5, 00000021_s001_t0...</td>\n      <td>[[00000021_s001_t000.edf_0.h5, 00000021_s001_t...</td>\n    </tr>\n    <tr>\n      <th>32</th>\n      <td>[00000032_s002_t000.edf_0.h5, 00000032_s002_t0...</td>\n      <td>[[00000032_s002_t000.edf_0.h5, 00000032_s002_t...</td>\n    </tr>\n  </tbody>\n</table>\n</div>"
     },
     "execution_count": 7,
     "metadata": {},
     "output_type": "execute_result"
    }
   ],
   "source": [
    "df_pat = df_last.groupby('patient')[['chunk12', 'chunk48']].sum()\n",
    "df_pat.head()\n"
   ],
   "metadata": {
    "collapsed": false,
    "pycharm": {
     "name": "#%%\n"
    }
   }
  },
  {
   "cell_type": "code",
   "execution_count": 8,
   "outputs": [
    {
     "name": "stdout",
     "output_type": "stream",
     "text": [
      "592\n",
      "591\n"
     ]
    }
   ],
   "source": [
    "print(len(df_pat))\n",
    "df_pat = df_pat[df_pat['chunk48'].map(lambda d: len(d)) > 0]\n",
    "print(len(df_pat))\n"
   ],
   "metadata": {
    "collapsed": false,
    "pycharm": {
     "name": "#%%\n"
    }
   }
  },
  {
   "cell_type": "code",
   "execution_count": 9,
   "outputs": [],
   "source": [
    "import random\n",
    "pat_list = df_pat.index.tolist()\n",
    "random.shuffle(pat_list)\n",
    "train_len = int(0.9*len(pat_list))\n",
    "pat_train_test = {'train': pat_list[:train_len],\n",
    "                  'test': pat_list[train_len:]}"
   ],
   "metadata": {
    "collapsed": false,
    "pycharm": {
     "name": "#%%\n"
    }
   }
  },
  {
   "cell_type": "code",
   "execution_count": 10,
   "outputs": [],
   "source": [
    "discrimination_df = pd.DataFrame(columns=['ch12', 'ch48', 'label'])\n",
    "discrimination_list = {'train': [], 'test': []}\n",
    "repeat_times = {'train': 10, 'test': 1}\n",
    "for data_type in ['train', 'test']:\n",
    "    for _ in range(repeat_times[data_type]):\n",
    "        for pat in pat_train_test[data_type]:\n",
    "            ch12_list = df_pat.loc[pat]['chunk12']\n",
    "            ch48_list = df_pat.loc[pat]['chunk48']\n",
    "            for ch12 in ch12_list:\n",
    "                ch48 = random.sample(ch48_list, 1)[0]\n",
    "                if not ch12 in ch48:\n",
    "                    discrimination_list[data_type].append({'ch12': ch12, 'ch48': ch48, 'label': 0})\n",
    "\n",
    "                rand_pat = random.sample([p for p in pat_train_test[data_type] if p != pat], 1)[0]\n",
    "                ch48 = random.sample(df_pat.loc[rand_pat]['chunk48'], 1)[0]\n",
    "                discrimination_list[data_type].append({'ch12': ch12, 'ch48': ch48, 'label': 1})\n"
   ],
   "metadata": {
    "collapsed": false,
    "pycharm": {
     "name": "#%%\n"
    }
   }
  },
  {
   "cell_type": "code",
   "execution_count": 11,
   "outputs": [
    {
     "data": {
      "text/plain": "                                 ch12  \\\n3320371  00012960_s002_t006.edf_16.h5   \n3330084   00006546_s039_t003.edf_8.h5   \n1721345  00007937_s003_t000.edf_81.h5   \n3102322  00007122_s008_t005.edf_33.h5   \n3323620  00008476_s006_t006.edf_42.h5   \n\n                                                      ch48  label  \\\n3320371  [00012960_s001_t001.edf_217.h5, 00012960_s001_...      0   \n3330084  [00006546_s039_t004.edf_20.h5, 00006546_s039_t...      0   \n1721345  [00008886_s001_t000.edf_2.h5, 00008886_s001_t0...      1   \n3102322  [00004842_s001_t001.edf_32.h5, 00004842_s001_t...      1   \n3323620  [00008476_s002_t002.edf_25.h5, 00008476_s002_t...      0   \n\n                                          distance    cosine     euclidean  \n3320371  (0.33806261915734703, 13809.851108056586)  0.338063  13809.851108  \n3330084  (0.02265484188256983, 263.97490470493125)  0.022655    263.974905  \n1721345    (0.7044528115697308, 6479.955357881157)  0.704453   6479.955358  \n3102322   (0.2849883492776538, 3033.2984011630265)  0.284988   3033.298401  \n3323620   (0.43746692669996257, 5529.785280714984)  0.437467   5529.785281  ",
      "text/html": "<div>\n<style scoped>\n    .dataframe tbody tr th:only-of-type {\n        vertical-align: middle;\n    }\n\n    .dataframe tbody tr th {\n        vertical-align: top;\n    }\n\n    .dataframe thead th {\n        text-align: right;\n    }\n</style>\n<table border=\"1\" class=\"dataframe\">\n  <thead>\n    <tr style=\"text-align: right;\">\n      <th></th>\n      <th>ch12</th>\n      <th>ch48</th>\n      <th>label</th>\n      <th>distance</th>\n      <th>cosine</th>\n      <th>euclidean</th>\n    </tr>\n  </thead>\n  <tbody>\n    <tr>\n      <th>3320371</th>\n      <td>00012960_s002_t006.edf_16.h5</td>\n      <td>[00012960_s001_t001.edf_217.h5, 00012960_s001_...</td>\n      <td>0</td>\n      <td>(0.33806261915734703, 13809.851108056586)</td>\n      <td>0.338063</td>\n      <td>13809.851108</td>\n    </tr>\n    <tr>\n      <th>3330084</th>\n      <td>00006546_s039_t003.edf_8.h5</td>\n      <td>[00006546_s039_t004.edf_20.h5, 00006546_s039_t...</td>\n      <td>0</td>\n      <td>(0.02265484188256983, 263.97490470493125)</td>\n      <td>0.022655</td>\n      <td>263.974905</td>\n    </tr>\n    <tr>\n      <th>1721345</th>\n      <td>00007937_s003_t000.edf_81.h5</td>\n      <td>[00008886_s001_t000.edf_2.h5, 00008886_s001_t0...</td>\n      <td>1</td>\n      <td>(0.7044528115697308, 6479.955357881157)</td>\n      <td>0.704453</td>\n      <td>6479.955358</td>\n    </tr>\n    <tr>\n      <th>3102322</th>\n      <td>00007122_s008_t005.edf_33.h5</td>\n      <td>[00004842_s001_t001.edf_32.h5, 00004842_s001_t...</td>\n      <td>1</td>\n      <td>(0.2849883492776538, 3033.2984011630265)</td>\n      <td>0.284988</td>\n      <td>3033.298401</td>\n    </tr>\n    <tr>\n      <th>3323620</th>\n      <td>00008476_s006_t006.edf_42.h5</td>\n      <td>[00008476_s002_t002.edf_25.h5, 00008476_s002_t...</td>\n      <td>0</td>\n      <td>(0.43746692669996257, 5529.785280714984)</td>\n      <td>0.437467</td>\n      <td>5529.785281</td>\n    </tr>\n  </tbody>\n</table>\n</div>"
     },
     "execution_count": 11,
     "metadata": {},
     "output_type": "execute_result"
    }
   ],
   "source": [
    "import os\n",
    "from scipy import spatial\n",
    "discrimination_df = pd.DataFrame(discrimination_list['train'])\n",
    "root_dir = 'input/eglass_features_TUSZ/clipLen12_timeStepSize4/'\n",
    "\n",
    "\n",
    "def get_similarity(x):\n",
    "    with h5py.File(os.path.join(root_dir, x['ch12'] ), 'r') as in_file:\n",
    "        data = in_file['clip'][()]\n",
    "        avg12 = np.mean(data, axis=0).flatten()\n",
    "    data48 = np.zeros((0, 19, 54))\n",
    "    for ch48 in x['ch48']:\n",
    "        with h5py.File(os.path.join(root_dir, ch48 ), 'r') as in_file:\n",
    "            data = in_file['clip'][()]\n",
    "            data48 = np.concatenate((data48, data), axis=0)\n",
    "    avg48 = np.mean(data48, axis=0).flatten()\n",
    "    cosine_dist = spatial.distance.cosine(avg12, avg48)\n",
    "    euclidean_dist = spatial.distance.euclidean(avg12, avg48)\n",
    "    return cosine_dist, euclidean_dist\n",
    "\n",
    "\n",
    "\n",
    "sample_df = discrimination_df.sample(frac=0.01)\n",
    "sample_df['distance'] = sample_df.apply(get_similarity, axis=1)\n",
    "sample_df['cosine'], sample_df['euclidean'] = zip(*sample_df['distance'])\n",
    "sample_df.head()"
   ],
   "metadata": {
    "collapsed": false,
    "pycharm": {
     "name": "#%%\n"
    }
   }
  },
  {
   "cell_type": "code",
   "execution_count": 12,
   "outputs": [
    {
     "data": {
      "text/plain": "<AxesSubplot:title={'center':'cosine'}, xlabel='same'>"
     },
     "execution_count": 12,
     "metadata": {},
     "output_type": "execute_result"
    },
    {
     "data": {
      "text/plain": "<Figure size 432x288 with 1 Axes>",
      "image/png": "[encoded data removed]"
     },
     "metadata": {
      "needs_background": "light"
     },
     "output_type": "display_data"
    }
   ],
   "source": [
    "def same_file(x):\n",
    "    ch12_name = x['ch12'].split('edf')[0]\n",
    "    ch48_name = x['ch48'][0].split('edf')[0]\n",
    "\n",
    "    return ch12_name == ch48_name\n",
    "\n",
    "sample_df['same'] = sample_df[sample_df['label'] == 0].apply(same_file, axis=1)\n",
    "sample_df[sample_df['label'] == 0].boxplot(column='cosine', by='same')"
   ],
   "metadata": {
    "collapsed": false,
    "pycharm": {
     "name": "#%%\n"
    }
   }
  },
  {
   "cell_type": "code",
   "execution_count": 23,
   "outputs": [
    {
     "data": {
      "text/plain": "<Figure size 432x288 with 1 Axes>",
      "image/png": "[encoded data removed]"
     },
     "metadata": {
      "needs_background": "light"
     },
     "output_type": "display_data"
    }
   ],
   "source": [
    "import matplotlib.pyplot as plt\n",
    "sample_df.boxplot(column='cosine', by='label')\n",
    "# sample_df.boxplot(column='euclidean', by='label', showfliers=False)\n",
    "plt.savefig('output/random_cosine.png')\n"
   ],
   "metadata": {
    "collapsed": false,
    "pycharm": {
     "name": "#%%\n"
    }
   }
  },
  {
   "cell_type": "code",
   "execution_count": 14,
   "outputs": [
    {
     "data": {
      "text/plain": "Ttest_indResult(statistic=-40.15031189461622, pvalue=0.0)"
     },
     "execution_count": 14,
     "metadata": {},
     "output_type": "execute_result"
    }
   ],
   "source": [
    "from scipy.stats import ttest_ind\n",
    "cat0 = sample_df[(sample_df['label'] == 0) & (sample_df['same'] == False)]\n",
    "cat1 = sample_df[(sample_df['label'] == 1) ]\n",
    "ttest_ind(cat0['cosine'], cat1['cosine'])"
   ],
   "metadata": {
    "collapsed": false,
    "pycharm": {
     "name": "#%%\n"
    }
   }
  },
  {
   "cell_type": "code",
   "execution_count": 15,
   "outputs": [
    {
     "name": "stdout",
     "output_type": "stream",
     "text": [
      "Train : 3669315\n",
      "Dev : 43838\n"
     ]
    }
   ],
   "source": [
    "print(\"Train : {}\".format(len(discrimination_list['train'])))\n",
    "print(\"Dev : {}\".format(len(discrimination_list['test'])))"
   ],
   "metadata": {
    "collapsed": false,
    "pycharm": {
     "name": "#%%\n"
    }
   }
  },
  {
   "cell_type": "code",
   "execution_count": 16,
   "outputs": [],
   "source": [
    "import pickle\n",
    "pickle.dump(discrimination_list['train'], open('output/random_patient_train.pickle', 'wb'))\n",
    "pickle.dump(discrimination_list['test'], open('output/random_patient_dev.pickle', 'wb'))"
   ],
   "metadata": {
    "collapsed": false,
    "pycharm": {
     "name": "#%%\n"
    }
   }
  },
  {
   "cell_type": "code",
   "execution_count": 17,
   "outputs": [
    {
     "name": "stdout",
     "output_type": "stream",
     "text": [
      "(3, 19, 54)\n"
     ]
    }
   ],
   "source": [
    "import os\n",
    "with h5py.File(os.path.join('input/eglass_features_TUSZ/clipLen12_timeStepSize4/', '00000006_s006_t002.edf_49.h5' ), 'r') as in_file:\n",
    "    data = in_file['clip'][()]\n",
    "    print(data.shape)"
   ],
   "metadata": {
    "collapsed": false,
    "pycharm": {
     "name": "#%%\n"
    }
   }
  },
  {
   "cell_type": "code",
   "execution_count": 18,
   "outputs": [],
   "source": [
    "np.random.seed(27)\n",
    "shuffled_index = np.random.permutation(np.arange(len(df_pat)))\n",
    "part1 = df_pat.iloc[shuffled_index[:len(df_pat)//2]]\n",
    "part2 = df_pat.iloc[shuffled_index[len(df_pat)//2:]]\n",
    "part1_len = len(part1['chunk12'].sum())\n",
    "part2_len = len(part2['chunk12'].sum())"
   ],
   "metadata": {
    "collapsed": false,
    "pycharm": {
     "name": "#%%\n"
    }
   }
  },
  {
   "cell_type": "code",
   "execution_count": 19,
   "outputs": [],
   "source": [
    "import os\n",
    "\n",
    "root_dir = 'input/eglass_features_TUSZ/clipLen12_timeStepSize4/'\n",
    "\n",
    "ch12_p1 = np.zeros((part1_len, 19*54))\n",
    "ch12_p2 = np.zeros((part2_len, 19*54))\n",
    "\n",
    "idx = 0\n",
    "for pat in part1.index.tolist():\n",
    "    ch12_list = df_pat.loc[pat]['chunk12']\n",
    "    for ch12 in ch12_list:\n",
    "        with h5py.File(os.path.join(root_dir, ch12), 'r') as in_file:\n",
    "            data = in_file['clip'][()]\n",
    "            avg12 = np.mean(data, axis=0).flatten()\n",
    "            ch12_p1[idx, :] = avg12\n",
    "            idx += 1"
   ],
   "metadata": {
    "collapsed": false,
    "pycharm": {
     "name": "#%%\n"
    }
   }
  },
  {
   "cell_type": "code",
   "execution_count": 20,
   "outputs": [],
   "source": [
    "idx = 0\n",
    "for pat in part2.index.tolist():\n",
    "    ch12_list = df_pat.loc[pat]['chunk12']\n",
    "    for ch12 in ch12_list:\n",
    "        with h5py.File(os.path.join(root_dir, ch12), 'r') as in_file:\n",
    "            data = in_file['clip'][()]\n",
    "            avg12 = np.mean(data, axis=0).flatten()\n",
    "            ch12_p2[idx, :] = avg12\n",
    "            idx += 1"
   ],
   "metadata": {
    "collapsed": false,
    "pycharm": {
     "name": "#%%\n"
    }
   }
  },
  {
   "cell_type": "code",
   "execution_count": 21,
   "outputs": [
    {
     "ename": "MemoryError",
     "evalue": "Unable to allocate 79.3 GiB for an array with shape (99293, 107233) and data type float64",
     "output_type": "error",
     "traceback": [
      "\u001B[0;31m---------------------------------------------------------------------------\u001B[0m",
      "\u001B[0;31mMemoryError\u001B[0m                               Traceback (most recent call last)",
      "\u001B[0;32m/tmp/ipykernel_7604/1709492376.py\u001B[0m in \u001B[0;36m<module>\u001B[0;34m\u001B[0m\n\u001B[1;32m      1\u001B[0m \u001B[0;32mfrom\u001B[0m \u001B[0msklearn\u001B[0m\u001B[0;34m.\u001B[0m\u001B[0mmetrics\u001B[0m\u001B[0;34m.\u001B[0m\u001B[0mpairwise\u001B[0m \u001B[0;32mimport\u001B[0m \u001B[0mcosine_similarity\u001B[0m\u001B[0;34m\u001B[0m\u001B[0;34m\u001B[0m\u001B[0m\n\u001B[0;32m----> 2\u001B[0;31m \u001B[0msimilarity\u001B[0m \u001B[0;34m=\u001B[0m  \u001B[0mcosine_similarity\u001B[0m\u001B[0;34m(\u001B[0m\u001B[0mch12_p1\u001B[0m\u001B[0;34m,\u001B[0m \u001B[0mch12_p2\u001B[0m\u001B[0;34m)\u001B[0m\u001B[0;34m\u001B[0m\u001B[0;34m\u001B[0m\u001B[0m\n\u001B[0m\u001B[1;32m      3\u001B[0m \u001B[0msimilarity\u001B[0m\u001B[0;34m.\u001B[0m\u001B[0mshape\u001B[0m\u001B[0;34m\u001B[0m\u001B[0;34m\u001B[0m\u001B[0m\n\u001B[1;32m      4\u001B[0m \u001B[0;34m\u001B[0m\u001B[0m\n",
      "\u001B[0;32m~/EPFL/ADA2021/env/lib/python3.8/site-packages/sklearn/metrics/pairwise.py\u001B[0m in \u001B[0;36mcosine_similarity\u001B[0;34m(X, Y, dense_output)\u001B[0m\n\u001B[1;32m   1252\u001B[0m         \u001B[0mY_normalized\u001B[0m \u001B[0;34m=\u001B[0m \u001B[0mnormalize\u001B[0m\u001B[0;34m(\u001B[0m\u001B[0mY\u001B[0m\u001B[0;34m,\u001B[0m \u001B[0mcopy\u001B[0m\u001B[0;34m=\u001B[0m\u001B[0;32mTrue\u001B[0m\u001B[0;34m)\u001B[0m\u001B[0;34m\u001B[0m\u001B[0;34m\u001B[0m\u001B[0m\n\u001B[1;32m   1253\u001B[0m \u001B[0;34m\u001B[0m\u001B[0m\n\u001B[0;32m-> 1254\u001B[0;31m     \u001B[0mK\u001B[0m \u001B[0;34m=\u001B[0m \u001B[0msafe_sparse_dot\u001B[0m\u001B[0;34m(\u001B[0m\u001B[0mX_normalized\u001B[0m\u001B[0;34m,\u001B[0m \u001B[0mY_normalized\u001B[0m\u001B[0;34m.\u001B[0m\u001B[0mT\u001B[0m\u001B[0;34m,\u001B[0m \u001B[0mdense_output\u001B[0m\u001B[0;34m=\u001B[0m\u001B[0mdense_output\u001B[0m\u001B[0;34m)\u001B[0m\u001B[0;34m\u001B[0m\u001B[0;34m\u001B[0m\u001B[0m\n\u001B[0m\u001B[1;32m   1255\u001B[0m \u001B[0;34m\u001B[0m\u001B[0m\n\u001B[1;32m   1256\u001B[0m     \u001B[0;32mreturn\u001B[0m \u001B[0mK\u001B[0m\u001B[0;34m\u001B[0m\u001B[0;34m\u001B[0m\u001B[0m\n",
      "\u001B[0;32m~/EPFL/ADA2021/env/lib/python3.8/site-packages/sklearn/utils/extmath.py\u001B[0m in \u001B[0;36msafe_sparse_dot\u001B[0;34m(a, b, dense_output)\u001B[0m\n\u001B[1;32m    151\u001B[0m             \u001B[0mret\u001B[0m \u001B[0;34m=\u001B[0m \u001B[0mnp\u001B[0m\u001B[0;34m.\u001B[0m\u001B[0mdot\u001B[0m\u001B[0;34m(\u001B[0m\u001B[0ma\u001B[0m\u001B[0;34m,\u001B[0m \u001B[0mb\u001B[0m\u001B[0;34m)\u001B[0m\u001B[0;34m\u001B[0m\u001B[0;34m\u001B[0m\u001B[0m\n\u001B[1;32m    152\u001B[0m     \u001B[0;32melse\u001B[0m\u001B[0;34m:\u001B[0m\u001B[0;34m\u001B[0m\u001B[0;34m\u001B[0m\u001B[0m\n\u001B[0;32m--> 153\u001B[0;31m         \u001B[0mret\u001B[0m \u001B[0;34m=\u001B[0m \u001B[0ma\u001B[0m \u001B[0;34m@\u001B[0m \u001B[0mb\u001B[0m\u001B[0;34m\u001B[0m\u001B[0;34m\u001B[0m\u001B[0m\n\u001B[0m\u001B[1;32m    154\u001B[0m \u001B[0;34m\u001B[0m\u001B[0m\n\u001B[1;32m    155\u001B[0m     if (\n",
      "\u001B[0;31mMemoryError\u001B[0m: Unable to allocate 79.3 GiB for an array with shape (99293, 107233) and data type float64"
     ]
    }
   ],
   "source": [
    "\n",
    "from sklearn.metrics.pairwise import cosine_similarity\n",
    "similarity =  cosine_similarity(ch12_p1, ch12_p2)\n",
    "similarity.shape"
   ],
   "metadata": {
    "collapsed": false,
    "pycharm": {
     "name": "#%%\n"
    }
   }
  },
  {
   "cell_type": "code",
   "execution_count": null,
   "outputs": [],
   "source": [
    "import pickle\n",
    "data = pickle.load(open('output/random_patient_train.pickle', 'rb'))"
   ],
   "metadata": {
    "collapsed": false,
    "pycharm": {
     "name": "#%%\n"
    }
   }
  },
  {
   "cell_type": "code",
   "execution_count": null,
   "outputs": [],
   "source": [
    "same_cnt = 0\n",
    "label0 = 0\n",
    "for match in data:\n",
    "    if match['label'] == 0:\n",
    "        label0+=1\n",
    "        ch12_name = match['ch12'].split('.edf')[0]\n",
    "        ch48_name = match['ch48'][0].split('.edf')[0]\n",
    "        if ch12_name == ch48_name:\n",
    "            same_cnt += 1\n",
    "same_cnt\n"
   ],
   "metadata": {
    "collapsed": false,
    "pycharm": {
     "name": "#%%\n"
    }
   }
  }
 ],
 "metadata": {
  "kernelspec": {
   "display_name": "Python 3",
   "language": "python",
   "name": "python3"
  },
  "language_info": {
   "codemirror_mode": {
    "name": "ipython",
    "version": 2
   },
   "file_extension": ".py",
   "mimetype": "text/x-python",
   "name": "python",
   "nbconvert_exporter": "python",
   "pygments_lexer": "ipython2",
   "version": "2.7.6"
  }
 },
 "nbformat": 4,
 "nbformat_minor": 0
}