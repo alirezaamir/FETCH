{
 "cells": [
  {
   "cell_type": "code",
   "execution_count": 37,
   "outputs": [],
   "source": [
    "import pandas as pd\n",
    "import os\n",
    "import json"
   ],
   "metadata": {
    "collapsed": false,
    "pycharm": {
     "name": "#%%\n"
    }
   }
  },
  {
   "cell_type": "code",
   "execution_count": 15,
   "outputs": [],
   "source": [
    "def get_bckg_seiz_list(label_lists):\n",
    "    if label_lists[0][3] == 'bckg':\n",
    "        return [0], [0]\n",
    "    else:\n",
    "        onsets = []\n",
    "        offsets = []\n",
    "        for idx, label_list in enumerate(label_lists):\n",
    "            onsets.append(float(label_list[1]))\n",
    "            offsets.append(float(label_list[2]))\n",
    "    return onsets, offsets"
   ],
   "metadata": {
    "collapsed": false,
    "pycharm": {
     "name": "#%%\n"
    }
   }
  },
  {
   "cell_type": "code",
   "execution_count": 39,
   "outputs": [
    {
     "data": {
      "text/plain": "             filename                                           filepath  \\\n0  aaaaasdq_s005_t001  TUSZv2/edf/train/aaaaasdq/s005_2014_11_26/03_t...   \n0  aaaaapqh_s002_t000  TUSZv2/edf/train/aaaaapqh/s002_2013_07_17/01_t...   \n0  aaaaajqo_s010_t003  TUSZv2/edf/train/aaaaajqo/s010_2010_05_04/03_t...   \n0  aaaaaron_s001_t003  TUSZv2/edf/train/aaaaaron/s001_2014_08_12/01_t...   \n0  aaaaarei_s007_t002  TUSZv2/edf/eval/aaaaarei/s007_2015_01_16/01_tc...   \n\n  onsets offsets  length  \n0    [0]     [0]   601.0  \n0    [0]     [0]   300.0  \n0    [0]     [0]  3600.0  \n0    [0]     [0]   113.0  \n0    [0]     [0]   302.0  ",
      "text/html": "<div>\n<style scoped>\n    .dataframe tbody tr th:only-of-type {\n        vertical-align: middle;\n    }\n\n    .dataframe tbody tr th {\n        vertical-align: top;\n    }\n\n    .dataframe thead th {\n        text-align: right;\n    }\n</style>\n<table border=\"1\" class=\"dataframe\">\n  <thead>\n    <tr style=\"text-align: right;\">\n      <th></th>\n      <th>filename</th>\n      <th>filepath</th>\n      <th>onsets</th>\n      <th>offsets</th>\n      <th>length</th>\n    </tr>\n  </thead>\n  <tbody>\n    <tr>\n      <th>0</th>\n      <td>aaaaasdq_s005_t001</td>\n      <td>TUSZv2/edf/train/aaaaasdq/s005_2014_11_26/03_t...</td>\n      <td>[0]</td>\n      <td>[0]</td>\n      <td>601.0</td>\n    </tr>\n    <tr>\n      <th>0</th>\n      <td>aaaaapqh_s002_t000</td>\n      <td>TUSZv2/edf/train/aaaaapqh/s002_2013_07_17/01_t...</td>\n      <td>[0]</td>\n      <td>[0]</td>\n      <td>300.0</td>\n    </tr>\n    <tr>\n      <th>0</th>\n      <td>aaaaajqo_s010_t003</td>\n      <td>TUSZv2/edf/train/aaaaajqo/s010_2010_05_04/03_t...</td>\n      <td>[0]</td>\n      <td>[0]</td>\n      <td>3600.0</td>\n    </tr>\n    <tr>\n      <th>0</th>\n      <td>aaaaaron_s001_t003</td>\n      <td>TUSZv2/edf/train/aaaaaron/s001_2014_08_12/01_t...</td>\n      <td>[0]</td>\n      <td>[0]</td>\n      <td>113.0</td>\n    </tr>\n    <tr>\n      <th>0</th>\n      <td>aaaaarei_s007_t002</td>\n      <td>TUSZv2/edf/eval/aaaaarei/s007_2015_01_16/01_tc...</td>\n      <td>[0]</td>\n      <td>[0]</td>\n      <td>302.0</td>\n    </tr>\n  </tbody>\n</table>\n</div>"
     },
     "execution_count": 39,
     "metadata": {},
     "output_type": "execute_result"
    }
   ],
   "source": [
    "# specify the directory you want to start from\n",
    "root_dir = './input/TUSZv2_labels'  # replace this with your directory\n",
    "\n",
    "df = pd.DataFrame(columns=['filename', 'filepath', 'onsets', 'offsets', 'length'])\n",
    "# walk through directory structure\n",
    "for dir_name, subdir_list, file_list in os.walk(root_dir):\n",
    "    for fname in file_list:\n",
    "        # check if the file has '.csv_bi' extension\n",
    "        if fname.endswith('.csv_bi'):\n",
    "            # construct full file path\n",
    "            file_path = os.path.join(dir_name, fname)\n",
    "\n",
    "            # open and read the file\n",
    "            with open(file_path, 'r') as file:\n",
    "                labels_lines = file.readlines()\n",
    "                # print(fname, labels_lines)\n",
    "                duration = labels_lines[2].split('secs')[0].split('= ')[1]\n",
    "                label_lists = [line.strip().split(',') for line in labels_lines[6:]]\n",
    "                onset, offset = get_bckg_seiz_list(label_lists)\n",
    "                new_record = {\"filename\": fname.split('.csv_bi')[0],\n",
    "                           \"filepath\": \"/\".join(dir_name.split(\"/\")[3:]),\n",
    "                           \"length\": float(duration),\n",
    "                           \"onsets\": [onset],\n",
    "                           \"offsets\": [offset]}\n",
    "                df = pd.concat([df, pd.DataFrame(new_record)])\n",
    "\n",
    "df.sample(n=5)"
   ],
   "metadata": {
    "collapsed": false,
    "pycharm": {
     "name": "#%%\n"
    }
   }
  },
  {
   "cell_type": "code",
   "execution_count": 41,
   "outputs": [
    {
     "data": {
      "text/plain": "             filename                                                 fs  \\\n0  aaaaamhj_s004_t000  [250, 250, 250, 250, 250, 250, 250, 250, 250, ...   \n0  aaaaappt_s006_t008  [256, 256, 256, 256, 256, 256, 256, 256, 256, ...   \n0  aaaaanrb_s005_t003  [250, 250, 250, 250, 250, 250, 250, 250, 250, ...   \n0  aaaaaict_s006_t010  [400, 400, 400, 400, 400, 400, 400, 400, 400, ...   \n0  aaaaapks_s004_t005  [256, 256, 256, 256, 256, 256, 256, 256, 256, ...   \n\n                                            channels  \n0  [EEG FP1-REF, EEG FP2-REF, EEG F3-REF, EEG F4-...  \n0  [EEG FP1-REF, EEG FP2-REF, EEG F3-REF, EEG F4-...  \n0  [EEG FP1-REF, EEG FP2-REF, EEG F3-REF, EEG F4-...  \n0  [EEG FP1-REF, EEG FP2-REF, EEG F3-REF, EEG F4-...  \n0  [EEG FP1-REF, EEG FP2-REF, EEG F3-REF, EEG F4-...  ",
      "text/html": "<div>\n<style scoped>\n    .dataframe tbody tr th:only-of-type {\n        vertical-align: middle;\n    }\n\n    .dataframe tbody tr th {\n        vertical-align: top;\n    }\n\n    .dataframe thead th {\n        text-align: right;\n    }\n</style>\n<table border=\"1\" class=\"dataframe\">\n  <thead>\n    <tr style=\"text-align: right;\">\n      <th></th>\n      <th>filename</th>\n      <th>fs</th>\n      <th>channels</th>\n    </tr>\n  </thead>\n  <tbody>\n    <tr>\n      <th>0</th>\n      <td>aaaaamhj_s004_t000</td>\n      <td>[250, 250, 250, 250, 250, 250, 250, 250, 250, ...</td>\n      <td>[EEG FP1-REF, EEG FP2-REF, EEG F3-REF, EEG F4-...</td>\n    </tr>\n    <tr>\n      <th>0</th>\n      <td>aaaaappt_s006_t008</td>\n      <td>[256, 256, 256, 256, 256, 256, 256, 256, 256, ...</td>\n      <td>[EEG FP1-REF, EEG FP2-REF, EEG F3-REF, EEG F4-...</td>\n    </tr>\n    <tr>\n      <th>0</th>\n      <td>aaaaanrb_s005_t003</td>\n      <td>[250, 250, 250, 250, 250, 250, 250, 250, 250, ...</td>\n      <td>[EEG FP1-REF, EEG FP2-REF, EEG F3-REF, EEG F4-...</td>\n    </tr>\n    <tr>\n      <th>0</th>\n      <td>aaaaaict_s006_t010</td>\n      <td>[400, 400, 400, 400, 400, 400, 400, 400, 400, ...</td>\n      <td>[EEG FP1-REF, EEG FP2-REF, EEG F3-REF, EEG F4-...</td>\n    </tr>\n    <tr>\n      <th>0</th>\n      <td>aaaaapks_s004_t005</td>\n      <td>[256, 256, 256, 256, 256, 256, 256, 256, 256, ...</td>\n      <td>[EEG FP1-REF, EEG FP2-REF, EEG F3-REF, EEG F4-...</td>\n    </tr>\n  </tbody>\n</table>\n</div>"
     },
     "execution_count": 41,
     "metadata": {},
     "output_type": "execute_result"
    }
   ],
   "source": [
    "# specify the directory you want to start from\n",
    "root_dir = './input/TUSZv2_labels'\n",
    "\n",
    "fs_df = pd.DataFrame(columns=['filename', 'fs', 'channels'])\n",
    "# walk through directory structure\n",
    "for dir_name, subdir_list, file_list in os.walk(root_dir):\n",
    "    for fname in file_list:\n",
    "        # check if the file has '.csv_bi' extension\n",
    "        if fname.endswith('.json'):\n",
    "            # construct full file path\n",
    "            file_path = os.path.join(dir_name, fname)\n",
    "\n",
    "            # open and read the file\n",
    "            with open(file_path, 'r') as file:\n",
    "                headers = json.load(file)\n",
    "                fs_list = []\n",
    "                channel_list = []\n",
    "                for ch_header in headers:\n",
    "                    channel_list.append(ch_header['label'])\n",
    "                    fs_list.append(ch_header['sample_rate'])\n",
    "\n",
    "                new_record = {\"filename\": fname.split('_header.json')[0],\n",
    "                              \"channels\": [channel_list],\n",
    "                              \"fs\": [fs_list]}\n",
    "                fs_df = pd.concat([fs_df, pd.DataFrame(new_record)])\n",
    "\n",
    "fs_df.sample(n=5)"
   ],
   "metadata": {
    "collapsed": false,
    "pycharm": {
     "name": "#%%\n"
    }
   }
  },
  {
   "cell_type": "code",
   "execution_count": 48,
   "outputs": [],
   "source": [
    "# There are duplicated files in eval/aaaaaqvx/s003_2015_08_24 and eval/aaaaaqvx/s010_2015_08_27\n",
    "fs_df = fs_df.drop_duplicates(subset='filename', keep='first')\n",
    "df = df.drop_duplicates(subset='filename', keep='first')"
   ],
   "metadata": {
    "collapsed": false,
    "pycharm": {
     "name": "#%%\n"
    }
   }
  },
  {
   "cell_type": "code",
   "execution_count": 56,
   "outputs": [
    {
     "data": {
      "text/plain": "0    [EEG FP1-LE, EEG FP2-LE, EEG F3-LE, EEG F4-LE,...\n0    [EEG FP1-LE, EEG FP2-LE, EEG F3-LE, EEG F4-LE,...\n0    [EEG FP1-REF, EEG FP2-REF, EEG F3-REF, EEG F4-...\n0    [EEG FP1-REF, EEG FP2-REF, EEG F3-REF, EEG F4-...\n0    [EEG FP1-REF, EEG FP2-REF, EEG F3-REF, EEG F4-...\n0    [EEG FP1-REF, EEG FP2-REF, EEG F3-REF, EEG F4-...\n0    [EEG FP1-REF, EEG FP2-REF, EEG F3-REF, EEG F4-...\n0    [EEG FP1-REF, EEG FP2-REF, EEG F3-REF, EEG F4-...\n0    [EEG FP1-LE, EEG FP2-LE, EEG F3-LE, EEG F4-LE,...\n0    [EEG FP1-REF, EEG FP2-REF, EEG F3-REF, EEG F4-...\n0    [EEG FP1-REF, EEG FP2-REF, EEG F3-REF, EEG F4-...\n0    [EEG FP1-REF, EEG FP2-REF, EEG F3-REF, EEG F4-...\n0    [EEG FP1-REF, EEG FP2-REF, EEG F3-REF, EEG F4-...\n0    [EEG FP1-REF, EEG FP2-REF, EEG F3-REF, EEG F4-...\n0    [EEG FP1-REF, EEG FP2-REF, EEG F3-REF, EEG F4-...\n0    [EEG FP1-REF, EEG FP2-REF, EEG F3-REF, EEG F4-...\n0    [EEG FP1-REF, EEG FP2-REF, EEG F3-REF, EEG F4-...\n0    [EEG FP1-REF, EEG FP2-REF, EEG F3-REF, EEG F4-...\n0    [EEG FP1-LE, EEG FP2-LE, EEG F3-LE, EEG F4-LE,...\n0    [EEG FP1-LE, EEG FP2-LE, EEG F3-LE, EEG F4-LE,...\n0    [EEG FP1-REF, EEG FP2-REF, EEG F3-REF, EEG F4-...\n0    [EEG FP1-REF, EEG FP2-REF, EEG F3-REF, EEG F4-...\n0    [EEG FP1-REF, EEG FP2-REF, EEG F3-REF, EEG F4-...\n0    [EEG FP1-REF, EEG FP2-REF, EEG F3-REF, EEG F4-...\n0    [EEG FP1-REF, EEG FP2-REF, EEG F3-REF, EEG F4-...\n0    [EEG FP1-REF, EEG FP2-REF, EEG F3-REF, EEG F4-...\n0    [EEG FP1-REF, EEG FP2-REF, EEG F3-REF, EEG F4-...\n0    [EEG FP1-REF, EEG FP2-REF, EEG F3-REF, EEG F4-...\n0    [EEG FP1-REF, EEG FP2-REF, EEG F3-REF, EEG F4-...\n0    [EEG FP1-REF, EEG FP2-REF, EEG F3-REF, EEG F4-...\n0    [EEG FP1-REF, EEG FP2-REF, EEG F3-REF, EEG F4-...\n0    [EEG FP1-REF, EEG FP2-REF, EEG F3-REF, EEG F4-...\n0    [EEG FP1-REF, EEG FP2-REF, EEG F3-REF, EEG F4-...\n0    [EEG FP1-REF, EEG FP2-REF, EEG F3-REF, EEG F4-...\n0    [EEG FP1-REF, EEG FP2-REF, EEG F3-REF, EEG F4-...\n0    [EEG FP1-REF, EEG FP2-REF, EEG F3-REF, EEG F4-...\n0    [EEG FP1-REF, EEG FP2-REF, EEG F3-REF, EEG F4-...\n0    [EEG FP1-REF, EEG FP2-REF, EEG F3-REF, EEG F4-...\n0    [EEG FP1-REF, EEG FP2-REF, EEG F3-REF, EEG F4-...\n0    [EEG FP1-REF, EEG FP2-REF, EEG F3-REF, EEG F4-...\n0    [EEG FP1-REF, EEG FP2-REF, EEG F3-REF, EEG F4-...\n0    [EEG FP1-REF, EEG FP2-REF, EEG F3-REF, EEG F4-...\n0    [EEG FP1-REF, EEG FP2-REF, EEG F3-REF, EEG F4-...\n0    [EEG FP1-REF, EEG FP2-REF, EEG F3-REF, EEG F4-...\n0    [EEG FP1-REF, EEG FP2-REF, EEG F3-REF, EEG F4-...\n0    [EEG FP1-REF, EEG FP2-REF, EEG F3-REF, EEG F4-...\n0    [EEG FP1-REF, EEG FP2-REF, EEG F3-REF, EEG F4-...\n0    [EEG FP1-REF, EEG FP2-REF, EEG F3-REF, EEG F4-...\n0    [EEG FP1-REF, EEG FP2-REF, EEG F3-REF, EEG F4-...\n0    [EEG FP1-REF, EEG FP2-REF, EEG F3-REF, EEG F4-...\n0    [EEG FP1-REF, EEG FP2-REF, EEG F3-REF, EEG F4-...\n0    [EEG FP1-REF, EEG FP2-REF, EEG F3-REF, EEG F4-...\n0    [EEG FP1-REF, EEG FP2-REF, EEG F3-REF, EEG F4-...\n0    [EEG FP1-REF, EEG FP2-REF, EEG F3-REF, EEG F4-...\n0    [EEG FP1-REF, EEG FP2-REF, EEG F3-REF, EEG F4-...\n0    [EEG FP1-REF, EEG FP2-REF, EEG F3-REF, EEG F4-...\n0    [EEG FP1-REF, EEG FP2-REF, EEG F3-REF, EEG F4-...\nName: channels, dtype: object"
     },
     "execution_count": 56,
     "metadata": {},
     "output_type": "execute_result"
    }
   ],
   "source": [
    "fs_df['channels'].drop_duplicates()"
   ],
   "metadata": {
    "collapsed": false,
    "pycharm": {
     "name": "#%%\n"
    }
   }
  },
  {
   "cell_type": "code",
   "execution_count": 61,
   "outputs": [
    {
     "data": {
      "text/plain": "EEG FP2-REF    6814\nEEG FP1-REF    6814\nEEG F4-REF     6814\nEEG C3-REF     6814\nEEG C4-REF     6814\n               ... \nECG EKG-REF      15\nEEG OZ-REF       15\nPULSE RATE       15\nEEG 23-LE        14\nEEG 24-LE        14\nName: channels, Length: 202, dtype: int64"
     },
     "execution_count": 61,
     "metadata": {},
     "output_type": "execute_result"
    }
   ],
   "source": [
    "# Explode the lists in the 'channels' column\n",
    "df_exploded = fs_df.explode('channels')\n",
    "\n",
    "# Get the unique values from the 'channels' column\n",
    "unique_channels = df_exploded['channels'].value_counts()\n",
    "unique_channels"
   ],
   "metadata": {
    "collapsed": false,
    "pycharm": {
     "name": "#%%\n"
    }
   }
  },
  {
   "cell_type": "code",
   "execution_count": 72,
   "outputs": [],
   "source": [
    "bipolar_montage = [('FP1', 'F7'), ('F7', 'T3'), ('T3', 'T5'), ('T5', 'O1'),\n",
    "                   ('FP1', 'F3'), ('F3', 'C3'), ('C3', 'P3'), ('P3', 'O1'),\n",
    "                   ('FP2', 'F8'), ('F8', 'T4'), ('T4', 'T6'), ('T6', 'O2'),\n",
    "                   ('FP2', 'F4'), ('F4', 'C4'), ('C4', 'P4'), ('P4', 'O2'),\n",
    "                   ('FZ', 'CZ'), ('PZ', 'CZ'), ('C3', 'CZ'), ('C4', 'CZ'),]\n",
    "\n",
    "def find_index(channels, word):\n",
    "    for i, channel in enumerate(channels):\n",
    "        if channel.startswith('EEG {}'.format(word)):\n",
    "            return i\n",
    "    return -1\n",
    "\n",
    "def get_bipolar_montage_index(channels):\n",
    "    bipolar_montage_index = []\n",
    "    for x, y in bipolar_montage:\n",
    "        bipolar_montage_index.append((find_index(channels, x), find_index(channels, y)))\n",
    "\n",
    "    return bipolar_montage_index"
   ],
   "metadata": {
    "collapsed": false,
    "pycharm": {
     "name": "#%%\n"
    }
   }
  },
  {
   "cell_type": "code",
   "execution_count": 74,
   "outputs": [],
   "source": [
    "fs_df['bipolar_montage'] = fs_df['channels'].apply(get_bipolar_montage_index)"
   ],
   "metadata": {
    "collapsed": false,
    "pycharm": {
     "name": "#%%\n"
    }
   }
  },
  {
   "cell_type": "code",
   "execution_count": 81,
   "outputs": [
    {
     "data": {
      "text/plain": "             filename                                                 fs  \\\n0  aaaaaplb_s002_t010  [256, 256, 256, 256, 256, 256, 256, 256, 256, ...   \n0  aaaaapsl_s005_t000  [256, 256, 256, 256, 256, 256, 256, 256, 256, ...   \n0  aaaaaijh_s005_t002  [256, 256, 256, 256, 256, 256, 256, 256, 256, ...   \n\n                                            channels  \\\n0  [EEG FP1-REF, EEG FP2-REF, EEG F3-REF, EEG F4-...   \n0  [EEG FP1-REF, EEG FP2-REF, EEG F3-REF, EEG F4-...   \n0  [EEG FP1-REF, EEG FP2-REF, EEG F3-REF, EEG F4-...   \n\n                                     bipolar_montage  \n0  [(0, 10), (10, 12), (12, 14), (14, 8), (0, 2),...  \n0  [(0, 10), (10, 12), (12, 14), (14, 8), (0, 2),...  \n0  [(0, 10), (10, 12), (12, 14), (14, 8), (0, 2),...  ",
      "text/html": "<div>\n<style scoped>\n    .dataframe tbody tr th:only-of-type {\n        vertical-align: middle;\n    }\n\n    .dataframe tbody tr th {\n        vertical-align: top;\n    }\n\n    .dataframe thead th {\n        text-align: right;\n    }\n</style>\n<table border=\"1\" class=\"dataframe\">\n  <thead>\n    <tr style=\"text-align: right;\">\n      <th></th>\n      <th>filename</th>\n      <th>fs</th>\n      <th>channels</th>\n      <th>bipolar_montage</th>\n    </tr>\n  </thead>\n  <tbody>\n    <tr>\n      <th>0</th>\n      <td>aaaaaplb_s002_t010</td>\n      <td>[256, 256, 256, 256, 256, 256, 256, 256, 256, ...</td>\n      <td>[EEG FP1-REF, EEG FP2-REF, EEG F3-REF, EEG F4-...</td>\n      <td>[(0, 10), (10, 12), (12, 14), (14, 8), (0, 2),...</td>\n    </tr>\n    <tr>\n      <th>0</th>\n      <td>aaaaapsl_s005_t000</td>\n      <td>[256, 256, 256, 256, 256, 256, 256, 256, 256, ...</td>\n      <td>[EEG FP1-REF, EEG FP2-REF, EEG F3-REF, EEG F4-...</td>\n      <td>[(0, 10), (10, 12), (12, 14), (14, 8), (0, 2),...</td>\n    </tr>\n    <tr>\n      <th>0</th>\n      <td>aaaaaijh_s005_t002</td>\n      <td>[256, 256, 256, 256, 256, 256, 256, 256, 256, ...</td>\n      <td>[EEG FP1-REF, EEG FP2-REF, EEG F3-REF, EEG F4-...</td>\n      <td>[(0, 10), (10, 12), (12, 14), (14, 8), (0, 2),...</td>\n    </tr>\n  </tbody>\n</table>\n</div>"
     },
     "execution_count": 81,
     "metadata": {},
     "output_type": "execute_result"
    }
   ],
   "source": [
    "fs_df.sample(3)"
   ],
   "metadata": {
    "collapsed": false,
    "pycharm": {
     "name": "#%%\n"
    }
   }
  },
  {
   "cell_type": "code",
   "execution_count": 90,
   "outputs": [],
   "source": [
    "def check_fs_values(row):\n",
    "    # Get the 'bipolar_montage' and 'fs' columns\n",
    "    bipolar_montage_list = row['bipolar_montage']\n",
    "    fs = row['fs']\n",
    "    # Extract the indices from the 'bipolar_montage' list\n",
    "    indices = [index for tup in bipolar_montage_list for index in tup if index != -1]\n",
    "\n",
    "    # Get the unique values of 'fs' where the index is present in 'bipolar_montage'\n",
    "    unique_fs_values = set([fs[index] for index in indices])\n",
    "\n",
    "    # Return True if all the unique values are the same, False otherwise\n",
    "    return len(unique_fs_values) == 1"
   ],
   "metadata": {
    "collapsed": false,
    "pycharm": {
     "name": "#%%\n"
    }
   }
  },
  {
   "cell_type": "code",
   "execution_count": 96,
   "outputs": [
    {
     "data": {
      "text/plain": "Empty DataFrame\nColumns: [filename, fs, channels, bipolar_montage, same_elements]\nIndex: []",
      "text/html": "<div>\n<style scoped>\n    .dataframe tbody tr th:only-of-type {\n        vertical-align: middle;\n    }\n\n    .dataframe tbody tr th {\n        vertical-align: top;\n    }\n\n    .dataframe thead th {\n        text-align: right;\n    }\n</style>\n<table border=\"1\" class=\"dataframe\">\n  <thead>\n    <tr style=\"text-align: right;\">\n      <th></th>\n      <th>filename</th>\n      <th>fs</th>\n      <th>channels</th>\n      <th>bipolar_montage</th>\n      <th>same_elements</th>\n    </tr>\n  </thead>\n  <tbody>\n  </tbody>\n</table>\n</div>"
     },
     "execution_count": 96,
     "metadata": {},
     "output_type": "execute_result"
    }
   ],
   "source": [
    "fs_df['same_elements'] = fs_df.apply(lambda row: check_fs_values(row), axis=1)\n",
    "fs_df[fs_df['same_elements']!=True]"
   ],
   "metadata": {
    "collapsed": false,
    "pycharm": {
     "name": "#%%\n"
    }
   }
  },
  {
   "cell_type": "code",
   "execution_count": 97,
   "outputs": [],
   "source": [
    "fs_df['sampling_frequency'] = fs_df['fs'].apply(lambda x: x[0])"
   ],
   "metadata": {
    "collapsed": false,
    "pycharm": {
     "name": "#%%\n"
    }
   }
  },
  {
   "cell_type": "code",
   "execution_count": 98,
   "outputs": [
    {
     "data": {
      "text/plain": "             filename                                            fs_list  \\\n0  aaaaaraf_s006_t000  [256, 256, 256, 256, 256, 256, 256, 256, 256, ...   \n0  aaaaaskf_s004_t002  [256, 256, 256, 256, 256, 256, 256, 256, 256, ...   \n0  aaaaaoxa_s008_t004  [256, 256, 256, 256, 256, 256, 256, 256, 256, ...   \n\n                                            channels  \\\n0  [EEG FP1-REF, EEG FP2-REF, EEG F3-REF, EEG F4-...   \n0  [EEG FP1-REF, EEG FP2-REF, EEG F3-REF, EEG F4-...   \n0  [EEG FP1-REF, EEG FP2-REF, EEG F3-REF, EEG F4-...   \n\n                                     bipolar_montage  sampling_frequency  \n0  [(0, 10), (10, 12), (12, 14), (14, 8), (0, 2),...                 256  \n0  [(0, 10), (10, 12), (12, 14), (14, 8), (0, 2),...                 256  \n0  [(0, 10), (10, 12), (12, 14), (14, 8), (0, 2),...                 256  ",
      "text/html": "<div>\n<style scoped>\n    .dataframe tbody tr th:only-of-type {\n        vertical-align: middle;\n    }\n\n    .dataframe tbody tr th {\n        vertical-align: top;\n    }\n\n    .dataframe thead th {\n        text-align: right;\n    }\n</style>\n<table border=\"1\" class=\"dataframe\">\n  <thead>\n    <tr style=\"text-align: right;\">\n      <th></th>\n      <th>filename</th>\n      <th>fs_list</th>\n      <th>channels</th>\n      <th>bipolar_montage</th>\n      <th>sampling_frequency</th>\n    </tr>\n  </thead>\n  <tbody>\n    <tr>\n      <th>0</th>\n      <td>aaaaaraf_s006_t000</td>\n      <td>[256, 256, 256, 256, 256, 256, 256, 256, 256, ...</td>\n      <td>[EEG FP1-REF, EEG FP2-REF, EEG F3-REF, EEG F4-...</td>\n      <td>[(0, 10), (10, 12), (12, 14), (14, 8), (0, 2),...</td>\n      <td>256</td>\n    </tr>\n    <tr>\n      <th>0</th>\n      <td>aaaaaskf_s004_t002</td>\n      <td>[256, 256, 256, 256, 256, 256, 256, 256, 256, ...</td>\n      <td>[EEG FP1-REF, EEG FP2-REF, EEG F3-REF, EEG F4-...</td>\n      <td>[(0, 10), (10, 12), (12, 14), (14, 8), (0, 2),...</td>\n      <td>256</td>\n    </tr>\n    <tr>\n      <th>0</th>\n      <td>aaaaaoxa_s008_t004</td>\n      <td>[256, 256, 256, 256, 256, 256, 256, 256, 256, ...</td>\n      <td>[EEG FP1-REF, EEG FP2-REF, EEG F3-REF, EEG F4-...</td>\n      <td>[(0, 10), (10, 12), (12, 14), (14, 8), (0, 2),...</td>\n      <td>256</td>\n    </tr>\n  </tbody>\n</table>\n</div>"
     },
     "execution_count": 98,
     "metadata": {},
     "output_type": "execute_result"
    }
   ],
   "source": [
    "# Remove the 'same_elements' column\n",
    "fs_df = fs_df.drop('same_elements', axis=1)\n",
    "\n",
    "# Rename the 'fs' column to 'fs_list'\n",
    "fs_df = fs_df.rename(columns={'fs': 'fs_list'})\n",
    "fs_df.sample(n=3)"
   ],
   "metadata": {
    "collapsed": false,
    "pycharm": {
     "name": "#%%\n"
    }
   }
  },
  {
   "cell_type": "code",
   "execution_count": null,
   "outputs": [],
   "source": [],
   "metadata": {
    "collapsed": false,
    "pycharm": {
     "name": "#%%\n"
    }
   }
  }
 ],
 "metadata": {
  "kernelspec": {
   "display_name": "Python 3",
   "language": "python",
   "name": "python3"
  },
  "language_info": {
   "codemirror_mode": {
    "name": "ipython",
    "version": 2
   },
   "file_extension": ".py",
   "mimetype": "text/x-python",
   "name": "python",
   "nbconvert_exporter": "python",
   "pygments_lexer": "ipython2",
   "version": "2.7.6"
  }
 },
 "nbformat": 4,
 "nbformat_minor": 0
}