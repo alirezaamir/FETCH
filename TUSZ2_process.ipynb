{
 "cells": [
  {
   "cell_type": "code",
   "execution_count": 1,
   "outputs": [],
   "source": [
    "import pandas as pd\n",
    "import os\n",
    "import json\n",
    "import numpy as np"
   ],
   "metadata": {
    "collapsed": false,
    "pycharm": {
     "name": "#%%\n"
    }
   }
  },
  {
   "cell_type": "code",
   "execution_count": 2,
   "outputs": [],
   "source": [
    "def get_bckg_seiz_list(label_lists):\n",
    "    if label_lists[0][3] == 'bckg':\n",
    "        return [0], [0]\n",
    "    else:\n",
    "        onsets = []\n",
    "        offsets = []\n",
    "        for idx, label_list in enumerate(label_lists):\n",
    "            onsets.append(float(label_list[1]))\n",
    "            offsets.append(float(label_list[2]))\n",
    "    return onsets, offsets"
   ],
   "metadata": {
    "collapsed": false,
    "pycharm": {
     "name": "#%%\n"
    }
   }
  },
  {
   "cell_type": "code",
   "execution_count": 3,
   "outputs": [
    {
     "data": {
      "text/plain": "             filename                                           filepath  \\\n0  aaaaanrp_s007_t004  TUSZv2/edf/train/aaaaanrp/s007_2013_08_08/01_t...   \n0  aaaaaool_s007_t002  TUSZv2/edf/dev/aaaaaool/s007_2013_07_22/01_tcp_ar   \n0  aaaaanme_s006_t008  TUSZv2/edf/train/aaaaanme/s006_2014_09_23/01_t...   \n0  aaaaasvq_s004_t002  TUSZv2/edf/eval/aaaaasvq/s004_2015_04_02/01_tc...   \n0  aaaaaoek_s006_t004  TUSZv2/edf/dev/aaaaaoek/s006_2013_03_02/01_tcp_ar   \n\n  onsets offsets  length  \n0    [0]     [0]   300.0  \n0    [0]     [0]   687.0  \n0    [0]     [0]   831.0  \n0    [0]     [0]   601.0  \n0    [0]     [0]   300.0  ",
      "text/html": "<div>\n<style scoped>\n    .dataframe tbody tr th:only-of-type {\n        vertical-align: middle;\n    }\n\n    .dataframe tbody tr th {\n        vertical-align: top;\n    }\n\n    .dataframe thead th {\n        text-align: right;\n    }\n</style>\n<table border=\"1\" class=\"dataframe\">\n  <thead>\n    <tr style=\"text-align: right;\">\n      <th></th>\n      <th>filename</th>\n      <th>filepath</th>\n      <th>onsets</th>\n      <th>offsets</th>\n      <th>length</th>\n    </tr>\n  </thead>\n  <tbody>\n    <tr>\n      <th>0</th>\n      <td>aaaaanrp_s007_t004</td>\n      <td>TUSZv2/edf/train/aaaaanrp/s007_2013_08_08/01_t...</td>\n      <td>[0]</td>\n      <td>[0]</td>\n      <td>300.0</td>\n    </tr>\n    <tr>\n      <th>0</th>\n      <td>aaaaaool_s007_t002</td>\n      <td>TUSZv2/edf/dev/aaaaaool/s007_2013_07_22/01_tcp_ar</td>\n      <td>[0]</td>\n      <td>[0]</td>\n      <td>687.0</td>\n    </tr>\n    <tr>\n      <th>0</th>\n      <td>aaaaanme_s006_t008</td>\n      <td>TUSZv2/edf/train/aaaaanme/s006_2014_09_23/01_t...</td>\n      <td>[0]</td>\n      <td>[0]</td>\n      <td>831.0</td>\n    </tr>\n    <tr>\n      <th>0</th>\n      <td>aaaaasvq_s004_t002</td>\n      <td>TUSZv2/edf/eval/aaaaasvq/s004_2015_04_02/01_tc...</td>\n      <td>[0]</td>\n      <td>[0]</td>\n      <td>601.0</td>\n    </tr>\n    <tr>\n      <th>0</th>\n      <td>aaaaaoek_s006_t004</td>\n      <td>TUSZv2/edf/dev/aaaaaoek/s006_2013_03_02/01_tcp_ar</td>\n      <td>[0]</td>\n      <td>[0]</td>\n      <td>300.0</td>\n    </tr>\n  </tbody>\n</table>\n</div>"
     },
     "execution_count": 3,
     "metadata": {},
     "output_type": "execute_result"
    }
   ],
   "source": [
    "# specify the directory you want to start from\n",
    "root_dir = './input/TUSZv2_labels'  # replace this with your directory\n",
    "\n",
    "df = pd.DataFrame(columns=['filename', 'filepath', 'onsets', 'offsets', 'length'])\n",
    "# walk through directory structure\n",
    "for dir_name, subdir_list, file_list in os.walk(root_dir):\n",
    "    for fname in file_list:\n",
    "        # check if the file has '.csv_bi' extension\n",
    "        if fname.endswith('.csv_bi'):\n",
    "            # construct full file path\n",
    "            file_path = os.path.join(dir_name, fname)\n",
    "\n",
    "            # open and read the file\n",
    "            with open(file_path, 'r') as file:\n",
    "                labels_lines = file.readlines()\n",
    "                # print(fname, labels_lines)\n",
    "                duration = labels_lines[2].split('secs')[0].split('= ')[1]\n",
    "                label_lists = [line.strip().split(',') for line in labels_lines[6:]]\n",
    "                onset, offset = get_bckg_seiz_list(label_lists)\n",
    "                new_record = {\"filename\": fname.split('.csv_bi')[0],\n",
    "                           \"filepath\": \"/\".join(dir_name.split(\"/\")[3:]),\n",
    "                           \"length\": float(duration),\n",
    "                           \"onsets\": [onset],\n",
    "                           \"offsets\": [offset]}\n",
    "                df = pd.concat([df, pd.DataFrame(new_record)])\n",
    "\n",
    "df.sample(n=5)"
   ],
   "metadata": {
    "collapsed": false,
    "pycharm": {
     "name": "#%%\n"
    }
   }
  },
  {
   "cell_type": "code",
   "execution_count": 4,
   "outputs": [
    {
     "data": {
      "text/plain": "             filename                                                 fs  \\\n0  aaaaaoya_s008_t002  [256, 256, 256, 256, 256, 256, 256, 256, 256, ...   \n0  aaaaaovk_s001_t001  [256, 256, 256, 256, 256, 256, 256, 256, 256, ...   \n0  aaaaaplb_s002_t011  [256, 256, 256, 256, 256, 256, 256, 256, 256, ...   \n0  aaaaaqkh_s001_t004  [256, 256, 256, 256, 256, 256, 256, 256, 256, ...   \n0  aaaaaoek_s031_t013  [256, 256, 256, 256, 256, 256, 256, 256, 256, ...   \n\n                                            channels  \n0  [EEG FP1-REF, EEG FP2-REF, EEG F3-REF, EEG F4-...  \n0  [EEG FP1-REF, EEG FP2-REF, EEG F3-REF, EEG F4-...  \n0  [EEG FP1-REF, EEG FP2-REF, EEG F3-REF, EEG F4-...  \n0  [EEG FP1-REF, EEG FP2-REF, EEG F3-REF, EEG F4-...  \n0  [EEG FP1-REF, EEG FP2-REF, EEG F3-REF, EEG F4-...  ",
      "text/html": "<div>\n<style scoped>\n    .dataframe tbody tr th:only-of-type {\n        vertical-align: middle;\n    }\n\n    .dataframe tbody tr th {\n        vertical-align: top;\n    }\n\n    .dataframe thead th {\n        text-align: right;\n    }\n</style>\n<table border=\"1\" class=\"dataframe\">\n  <thead>\n    <tr style=\"text-align: right;\">\n      <th></th>\n      <th>filename</th>\n      <th>fs</th>\n      <th>channels</th>\n    </tr>\n  </thead>\n  <tbody>\n    <tr>\n      <th>0</th>\n      <td>aaaaaoya_s008_t002</td>\n      <td>[256, 256, 256, 256, 256, 256, 256, 256, 256, ...</td>\n      <td>[EEG FP1-REF, EEG FP2-REF, EEG F3-REF, EEG F4-...</td>\n    </tr>\n    <tr>\n      <th>0</th>\n      <td>aaaaaovk_s001_t001</td>\n      <td>[256, 256, 256, 256, 256, 256, 256, 256, 256, ...</td>\n      <td>[EEG FP1-REF, EEG FP2-REF, EEG F3-REF, EEG F4-...</td>\n    </tr>\n    <tr>\n      <th>0</th>\n      <td>aaaaaplb_s002_t011</td>\n      <td>[256, 256, 256, 256, 256, 256, 256, 256, 256, ...</td>\n      <td>[EEG FP1-REF, EEG FP2-REF, EEG F3-REF, EEG F4-...</td>\n    </tr>\n    <tr>\n      <th>0</th>\n      <td>aaaaaqkh_s001_t004</td>\n      <td>[256, 256, 256, 256, 256, 256, 256, 256, 256, ...</td>\n      <td>[EEG FP1-REF, EEG FP2-REF, EEG F3-REF, EEG F4-...</td>\n    </tr>\n    <tr>\n      <th>0</th>\n      <td>aaaaaoek_s031_t013</td>\n      <td>[256, 256, 256, 256, 256, 256, 256, 256, 256, ...</td>\n      <td>[EEG FP1-REF, EEG FP2-REF, EEG F3-REF, EEG F4-...</td>\n    </tr>\n  </tbody>\n</table>\n</div>"
     },
     "execution_count": 4,
     "metadata": {},
     "output_type": "execute_result"
    }
   ],
   "source": [
    "# specify the directory you want to start from\n",
    "root_dir = './input/TUSZv2_labels'\n",
    "\n",
    "fs_df = pd.DataFrame(columns=['filename', 'fs', 'channels'])\n",
    "# walk through directory structure\n",
    "for dir_name, subdir_list, file_list in os.walk(root_dir):\n",
    "    for fname in file_list:\n",
    "        # check if the file has '.csv_bi' extension\n",
    "        if fname.endswith('.json'):\n",
    "            # construct full file path\n",
    "            file_path = os.path.join(dir_name, fname)\n",
    "\n",
    "            # open and read the file\n",
    "            with open(file_path, 'r') as file:\n",
    "                headers = json.load(file)\n",
    "                fs_list = []\n",
    "                channel_list = []\n",
    "                for ch_header in headers:\n",
    "                    channel_list.append(ch_header['label'])\n",
    "                    fs_list.append(ch_header['sample_rate'])\n",
    "\n",
    "                new_record = {\"filename\": fname.split('_header.json')[0],\n",
    "                              \"channels\": [channel_list],\n",
    "                              \"fs\": [fs_list]}\n",
    "                fs_df = pd.concat([fs_df, pd.DataFrame(new_record)])\n",
    "\n",
    "fs_df.sample(n=5)"
   ],
   "metadata": {
    "collapsed": false,
    "pycharm": {
     "name": "#%%\n"
    }
   }
  },
  {
   "cell_type": "code",
   "execution_count": 5,
   "outputs": [],
   "source": [
    "# There are duplicated files in eval/aaaaaqvx/s003_2015_08_24 and eval/aaaaaqvx/s010_2015_08_27\n",
    "fs_df = fs_df.drop_duplicates(subset='filename', keep='first')\n",
    "df = df.drop_duplicates(subset='filename', keep='first')"
   ],
   "metadata": {
    "collapsed": false,
    "pycharm": {
     "name": "#%%\n"
    }
   }
  },
  {
   "cell_type": "code",
   "execution_count": 6,
   "outputs": [
    {
     "data": {
      "text/plain": "0    [EEG FP1-LE, EEG FP2-LE, EEG F3-LE, EEG F4-LE,...\n0    [EEG FP1-LE, EEG FP2-LE, EEG F3-LE, EEG F4-LE,...\n0    [EEG FP1-REF, EEG FP2-REF, EEG F3-REF, EEG F4-...\n0    [EEG FP1-REF, EEG FP2-REF, EEG F3-REF, EEG F4-...\n0    [EEG FP1-REF, EEG FP2-REF, EEG F3-REF, EEG F4-...\n0    [EEG FP1-REF, EEG FP2-REF, EEG F3-REF, EEG F4-...\n0    [EEG FP1-REF, EEG FP2-REF, EEG F3-REF, EEG F4-...\n0    [EEG FP1-REF, EEG FP2-REF, EEG F3-REF, EEG F4-...\n0    [EEG FP1-LE, EEG FP2-LE, EEG F3-LE, EEG F4-LE,...\n0    [EEG FP1-REF, EEG FP2-REF, EEG F3-REF, EEG F4-...\n0    [EEG FP1-REF, EEG FP2-REF, EEG F3-REF, EEG F4-...\n0    [EEG FP1-REF, EEG FP2-REF, EEG F3-REF, EEG F4-...\n0    [EEG FP1-REF, EEG FP2-REF, EEG F3-REF, EEG F4-...\n0    [EEG FP1-REF, EEG FP2-REF, EEG F3-REF, EEG F4-...\n0    [EEG FP1-REF, EEG FP2-REF, EEG F3-REF, EEG F4-...\n0    [EEG FP1-REF, EEG FP2-REF, EEG F3-REF, EEG F4-...\n0    [EEG FP1-REF, EEG FP2-REF, EEG F3-REF, EEG F4-...\n0    [EEG FP1-REF, EEG FP2-REF, EEG F3-REF, EEG F4-...\n0    [EEG FP1-LE, EEG FP2-LE, EEG F3-LE, EEG F4-LE,...\n0    [EEG FP1-LE, EEG FP2-LE, EEG F3-LE, EEG F4-LE,...\n0    [EEG FP1-REF, EEG FP2-REF, EEG F3-REF, EEG F4-...\n0    [EEG FP1-REF, EEG FP2-REF, EEG F3-REF, EEG F4-...\n0    [EEG FP1-REF, EEG FP2-REF, EEG F3-REF, EEG F4-...\n0    [EEG FP1-REF, EEG FP2-REF, EEG F3-REF, EEG F4-...\n0    [EEG FP1-REF, EEG FP2-REF, EEG F3-REF, EEG F4-...\n0    [EEG FP1-REF, EEG FP2-REF, EEG F3-REF, EEG F4-...\n0    [EEG FP1-REF, EEG FP2-REF, EEG F3-REF, EEG F4-...\n0    [EEG FP1-REF, EEG FP2-REF, EEG F3-REF, EEG F4-...\n0    [EEG FP1-REF, EEG FP2-REF, EEG F3-REF, EEG F4-...\n0    [EEG FP1-REF, EEG FP2-REF, EEG F3-REF, EEG F4-...\n0    [EEG FP1-REF, EEG FP2-REF, EEG F3-REF, EEG F4-...\n0    [EEG FP1-REF, EEG FP2-REF, EEG F3-REF, EEG F4-...\n0    [EEG FP1-REF, EEG FP2-REF, EEG F3-REF, EEG F4-...\n0    [EEG FP1-REF, EEG FP2-REF, EEG F3-REF, EEG F4-...\n0    [EEG FP1-REF, EEG FP2-REF, EEG F3-REF, EEG F4-...\n0    [EEG FP1-REF, EEG FP2-REF, EEG F3-REF, EEG F4-...\n0    [EEG FP1-REF, EEG FP2-REF, EEG F3-REF, EEG F4-...\n0    [EEG FP1-REF, EEG FP2-REF, EEG F3-REF, EEG F4-...\n0    [EEG FP1-REF, EEG FP2-REF, EEG F3-REF, EEG F4-...\n0    [EEG FP1-REF, EEG FP2-REF, EEG F3-REF, EEG F4-...\n0    [EEG FP1-REF, EEG FP2-REF, EEG F3-REF, EEG F4-...\n0    [EEG FP1-REF, EEG FP2-REF, EEG F3-REF, EEG F4-...\n0    [EEG FP1-REF, EEG FP2-REF, EEG F3-REF, EEG F4-...\n0    [EEG FP1-REF, EEG FP2-REF, EEG F3-REF, EEG F4-...\n0    [EEG FP1-REF, EEG FP2-REF, EEG F3-REF, EEG F4-...\n0    [EEG FP1-REF, EEG FP2-REF, EEG F3-REF, EEG F4-...\n0    [EEG FP1-REF, EEG FP2-REF, EEG F3-REF, EEG F4-...\n0    [EEG FP1-REF, EEG FP2-REF, EEG F3-REF, EEG F4-...\n0    [EEG FP1-REF, EEG FP2-REF, EEG F3-REF, EEG F4-...\n0    [EEG FP1-REF, EEG FP2-REF, EEG F3-REF, EEG F4-...\n0    [EEG FP1-REF, EEG FP2-REF, EEG F3-REF, EEG F4-...\n0    [EEG FP1-REF, EEG FP2-REF, EEG F3-REF, EEG F4-...\n0    [EEG FP1-REF, EEG FP2-REF, EEG F3-REF, EEG F4-...\n0    [EEG FP1-REF, EEG FP2-REF, EEG F3-REF, EEG F4-...\n0    [EEG FP1-REF, EEG FP2-REF, EEG F3-REF, EEG F4-...\n0    [EEG FP1-REF, EEG FP2-REF, EEG F3-REF, EEG F4-...\n0    [EEG FP1-REF, EEG FP2-REF, EEG F3-REF, EEG F4-...\nName: channels, dtype: object"
     },
     "execution_count": 6,
     "metadata": {},
     "output_type": "execute_result"
    }
   ],
   "source": [
    "fs_df['channels'].drop_duplicates()"
   ],
   "metadata": {
    "collapsed": false,
    "pycharm": {
     "name": "#%%\n"
    }
   }
  },
  {
   "cell_type": "code",
   "execution_count": 7,
   "outputs": [
    {
     "data": {
      "text/plain": "EEG FP2-REF    6814\nEEG FP1-REF    6814\nEEG F4-REF     6814\nEEG C3-REF     6814\nEEG C4-REF     6814\n               ... \nECG EKG-REF      15\nEEG OZ-REF       15\nPULSE RATE       15\nEEG 23-LE        14\nEEG 24-LE        14\nName: channels, Length: 202, dtype: int64"
     },
     "execution_count": 7,
     "metadata": {},
     "output_type": "execute_result"
    }
   ],
   "source": [
    "# Explode the lists in the 'channels' column\n",
    "df_exploded = fs_df.explode('channels')\n",
    "\n",
    "# Get the unique values from the 'channels' column\n",
    "unique_channels = df_exploded['channels'].value_counts()\n",
    "unique_channels"
   ],
   "metadata": {
    "collapsed": false,
    "pycharm": {
     "name": "#%%\n"
    }
   }
  },
  {
   "cell_type": "code",
   "execution_count": 8,
   "outputs": [],
   "source": [
    "bipolar_montage = [('FP1', 'F7'), ('F7', 'T3'), ('T3', 'T5'), ('T5', 'O1'),\n",
    "                   ('FP1', 'F3'), ('F3', 'C3'), ('C3', 'P3'), ('P3', 'O1'),\n",
    "                   ('FP2', 'F8'), ('F8', 'T4'), ('T4', 'T6'), ('T6', 'O2'),\n",
    "                   ('FP2', 'F4'), ('F4', 'C4'), ('C4', 'P4'), ('P4', 'O2'),\n",
    "                   ('FZ', 'CZ'), ('PZ', 'CZ'), ('C3', 'CZ'), ('C4', 'CZ'),]\n",
    "\n",
    "def find_index(channels, word):\n",
    "    for i, channel in enumerate(channels):\n",
    "        if channel.startswith('EEG {}'.format(word)):\n",
    "            return i\n",
    "    return -1\n",
    "\n",
    "def get_bipolar_montage_index(channels):\n",
    "    bipolar_montage_index = []\n",
    "    for x, y in bipolar_montage:\n",
    "        bipolar_montage_index.append((find_index(channels, x), find_index(channels, y)))\n",
    "\n",
    "    return bipolar_montage_index"
   ],
   "metadata": {
    "collapsed": false,
    "pycharm": {
     "name": "#%%\n"
    }
   }
  },
  {
   "cell_type": "code",
   "execution_count": 9,
   "outputs": [],
   "source": [
    "fs_df['bipolar_montage'] = fs_df['channels'].apply(get_bipolar_montage_index)"
   ],
   "metadata": {
    "collapsed": false,
    "pycharm": {
     "name": "#%%\n"
    }
   }
  },
  {
   "cell_type": "code",
   "execution_count": 10,
   "outputs": [
    {
     "data": {
      "text/plain": "             filename                                                 fs  \\\n0  aaaaandx_s005_t005  [256, 256, 256, 256, 256, 256, 256, 256, 256, ...   \n0  aaaaarcs_s003_t004  [256, 256, 256, 256, 256, 256, 256, 256, 256, ...   \n0  aaaaamof_s003_t000  [256, 256, 256, 256, 256, 256, 256, 256, 256, ...   \n\n                                            channels  \\\n0  [EEG FP1-REF, EEG FP2-REF, EEG F3-REF, EEG F4-...   \n0  [EEG FP1-REF, EEG FP2-REF, EEG F3-REF, EEG F4-...   \n0  [EEG FP1-REF, EEG FP2-REF, EEG F3-REF, EEG F4-...   \n\n                                     bipolar_montage  \n0  [(0, 10), (10, 12), (12, 14), (14, 8), (0, 2),...  \n0  [(0, 10), (10, 12), (12, 14), (14, 8), (0, 2),...  \n0  [(0, 10), (10, 12), (12, 14), (14, 8), (0, 2),...  ",
      "text/html": "<div>\n<style scoped>\n    .dataframe tbody tr th:only-of-type {\n        vertical-align: middle;\n    }\n\n    .dataframe tbody tr th {\n        vertical-align: top;\n    }\n\n    .dataframe thead th {\n        text-align: right;\n    }\n</style>\n<table border=\"1\" class=\"dataframe\">\n  <thead>\n    <tr style=\"text-align: right;\">\n      <th></th>\n      <th>filename</th>\n      <th>fs</th>\n      <th>channels</th>\n      <th>bipolar_montage</th>\n    </tr>\n  </thead>\n  <tbody>\n    <tr>\n      <th>0</th>\n      <td>aaaaandx_s005_t005</td>\n      <td>[256, 256, 256, 256, 256, 256, 256, 256, 256, ...</td>\n      <td>[EEG FP1-REF, EEG FP2-REF, EEG F3-REF, EEG F4-...</td>\n      <td>[(0, 10), (10, 12), (12, 14), (14, 8), (0, 2),...</td>\n    </tr>\n    <tr>\n      <th>0</th>\n      <td>aaaaarcs_s003_t004</td>\n      <td>[256, 256, 256, 256, 256, 256, 256, 256, 256, ...</td>\n      <td>[EEG FP1-REF, EEG FP2-REF, EEG F3-REF, EEG F4-...</td>\n      <td>[(0, 10), (10, 12), (12, 14), (14, 8), (0, 2),...</td>\n    </tr>\n    <tr>\n      <th>0</th>\n      <td>aaaaamof_s003_t000</td>\n      <td>[256, 256, 256, 256, 256, 256, 256, 256, 256, ...</td>\n      <td>[EEG FP1-REF, EEG FP2-REF, EEG F3-REF, EEG F4-...</td>\n      <td>[(0, 10), (10, 12), (12, 14), (14, 8), (0, 2),...</td>\n    </tr>\n  </tbody>\n</table>\n</div>"
     },
     "execution_count": 10,
     "metadata": {},
     "output_type": "execute_result"
    }
   ],
   "source": [
    "fs_df.sample(3)"
   ],
   "metadata": {
    "collapsed": false,
    "pycharm": {
     "name": "#%%\n"
    }
   }
  },
  {
   "cell_type": "code",
   "execution_count": 11,
   "outputs": [],
   "source": [
    "def check_fs_values(row):\n",
    "    # Get the 'bipolar_montage' and 'fs' columns\n",
    "    bipolar_montage_list = row['bipolar_montage']\n",
    "    fs = row['fs']\n",
    "    # Extract the indices from the 'bipolar_montage' list\n",
    "    indices = [index for tup in bipolar_montage_list for index in tup if index != -1]\n",
    "\n",
    "    # Get the unique values of 'fs' where the index is present in 'bipolar_montage'\n",
    "    unique_fs_values = set([fs[index] for index in indices])\n",
    "\n",
    "    # Return True if all the unique values are the same, False otherwise\n",
    "    return len(unique_fs_values) == 1"
   ],
   "metadata": {
    "collapsed": false,
    "pycharm": {
     "name": "#%%\n"
    }
   }
  },
  {
   "cell_type": "code",
   "execution_count": 12,
   "outputs": [
    {
     "data": {
      "text/plain": "Empty DataFrame\nColumns: [filename, fs, channels, bipolar_montage, same_elements]\nIndex: []",
      "text/html": "<div>\n<style scoped>\n    .dataframe tbody tr th:only-of-type {\n        vertical-align: middle;\n    }\n\n    .dataframe tbody tr th {\n        vertical-align: top;\n    }\n\n    .dataframe thead th {\n        text-align: right;\n    }\n</style>\n<table border=\"1\" class=\"dataframe\">\n  <thead>\n    <tr style=\"text-align: right;\">\n      <th></th>\n      <th>filename</th>\n      <th>fs</th>\n      <th>channels</th>\n      <th>bipolar_montage</th>\n      <th>same_elements</th>\n    </tr>\n  </thead>\n  <tbody>\n  </tbody>\n</table>\n</div>"
     },
     "execution_count": 12,
     "metadata": {},
     "output_type": "execute_result"
    }
   ],
   "source": [
    "fs_df['same_elements'] = fs_df.apply(lambda row: check_fs_values(row), axis=1)\n",
    "fs_df[fs_df['same_elements']!=True]"
   ],
   "metadata": {
    "collapsed": false,
    "pycharm": {
     "name": "#%%\n"
    }
   }
  },
  {
   "cell_type": "code",
   "execution_count": 13,
   "outputs": [],
   "source": [
    "fs_df['sampling_frequency'] = fs_df['fs'].apply(lambda x: x[0])"
   ],
   "metadata": {
    "collapsed": false,
    "pycharm": {
     "name": "#%%\n"
    }
   }
  },
  {
   "cell_type": "code",
   "execution_count": 14,
   "outputs": [
    {
     "data": {
      "text/plain": "             filename                                            fs_list  \\\n0  aaaaatvr_s002_t011  [256, 256, 256, 256, 256, 256, 256, 256, 256, ...   \n0  aaaaaiat_s009_t002  [256, 256, 256, 256, 256, 256, 256, 256, 256, ...   \n0  aaaaaiea_s004_t004  [400, 400, 400, 400, 400, 400, 400, 400, 400, ...   \n\n                                            channels  \\\n0  [EEG FP1-REF, EEG FP2-REF, EEG F3-REF, EEG F4-...   \n0  [EEG FP1-REF, EEG FP2-REF, EEG F3-REF, EEG F4-...   \n0  [EEG FP1-REF, EEG FP2-REF, EEG F3-REF, EEG F4-...   \n\n                                     bipolar_montage  sampling_frequency  \n0  [(0, 10), (10, 12), (12, 14), (14, 8), (0, 2),...                 256  \n0  [(0, 10), (10, 12), (12, 14), (14, 8), (0, 2),...                 256  \n0  [(0, 10), (10, 12), (12, 14), (14, 8), (0, 2),...                 400  ",
      "text/html": "<div>\n<style scoped>\n    .dataframe tbody tr th:only-of-type {\n        vertical-align: middle;\n    }\n\n    .dataframe tbody tr th {\n        vertical-align: top;\n    }\n\n    .dataframe thead th {\n        text-align: right;\n    }\n</style>\n<table border=\"1\" class=\"dataframe\">\n  <thead>\n    <tr style=\"text-align: right;\">\n      <th></th>\n      <th>filename</th>\n      <th>fs_list</th>\n      <th>channels</th>\n      <th>bipolar_montage</th>\n      <th>sampling_frequency</th>\n    </tr>\n  </thead>\n  <tbody>\n    <tr>\n      <th>0</th>\n      <td>aaaaatvr_s002_t011</td>\n      <td>[256, 256, 256, 256, 256, 256, 256, 256, 256, ...</td>\n      <td>[EEG FP1-REF, EEG FP2-REF, EEG F3-REF, EEG F4-...</td>\n      <td>[(0, 10), (10, 12), (12, 14), (14, 8), (0, 2),...</td>\n      <td>256</td>\n    </tr>\n    <tr>\n      <th>0</th>\n      <td>aaaaaiat_s009_t002</td>\n      <td>[256, 256, 256, 256, 256, 256, 256, 256, 256, ...</td>\n      <td>[EEG FP1-REF, EEG FP2-REF, EEG F3-REF, EEG F4-...</td>\n      <td>[(0, 10), (10, 12), (12, 14), (14, 8), (0, 2),...</td>\n      <td>256</td>\n    </tr>\n    <tr>\n      <th>0</th>\n      <td>aaaaaiea_s004_t004</td>\n      <td>[400, 400, 400, 400, 400, 400, 400, 400, 400, ...</td>\n      <td>[EEG FP1-REF, EEG FP2-REF, EEG F3-REF, EEG F4-...</td>\n      <td>[(0, 10), (10, 12), (12, 14), (14, 8), (0, 2),...</td>\n      <td>400</td>\n    </tr>\n  </tbody>\n</table>\n</div>"
     },
     "execution_count": 14,
     "metadata": {},
     "output_type": "execute_result"
    }
   ],
   "source": [
    "# Remove the 'same_elements' column\n",
    "fs_df = fs_df.drop('same_elements', axis=1)\n",
    "\n",
    "# Rename the 'fs' column to 'fs_list'\n",
    "fs_df = fs_df.rename(columns={'fs': 'fs_list'})\n",
    "fs_df.sample(n=3)"
   ],
   "metadata": {
    "collapsed": false,
    "pycharm": {
     "name": "#%%\n"
    }
   }
  },
  {
   "cell_type": "markdown",
   "source": [
    "## Merge the two dataframes"
   ],
   "metadata": {
    "collapsed": false,
    "pycharm": {
     "name": "#%% md\n"
    }
   }
  },
  {
   "cell_type": "code",
   "execution_count": 15,
   "outputs": [
    {
     "data": {
      "text/plain": "                filename                                           filepath  \\\n7064  aaaaatba_s004_t000  TUSZv2/edf/eval/aaaaatba/s004_2015_03_11/01_tc...   \n1550  aaaaamhb_s006_t004  TUSZv2/edf/train/aaaaamhb/s006_2012_05_09/01_t...   \n4925  aaaaamqq_s010_t000  TUSZv2/edf/dev/aaaaamqq/s010_2012_01_07/01_tcp_ar   \n4070  aaaaalxt_s002_t008  TUSZv2/edf/train/aaaaalxt/s002_2011_03_25/03_t...   \n2344  aaaaabnm_s001_t000  TUSZv2/edf/train/aaaaabnm/s001_2003_05_05/02_t...   \n\n     onsets offsets  length  \\\n7064    [0]     [0]   300.0   \n1550    [0]     [0]   960.0   \n4925    [0]     [0]   300.0   \n4070    [0]     [0]   601.0   \n2344    [0]     [0]  1217.0   \n\n                                                fs_list  \\\n7064  [256, 256, 256, 256, 256, 256, 256, 256, 256, ...   \n1550  [512, 512, 512, 512, 512, 512, 512, 512, 512, ...   \n4925  [256, 256, 256, 256, 256, 256, 256, 256, 256, ...   \n4070  [256, 256, 256, 256, 256, 256, 256, 256, 256, ...   \n2344  [250, 250, 250, 250, 250, 250, 250, 250, 250, ...   \n\n                                               channels  \\\n7064  [EEG FP1-REF, EEG FP2-REF, EEG F3-REF, EEG F4-...   \n1550  [EEG FP1-REF, EEG FP2-REF, EEG F3-REF, EEG F4-...   \n4925  [EEG FP1-REF, EEG FP2-REF, EEG F3-REF, EEG F4-...   \n4070  [EEG FP1-REF, EEG FP2-REF, EEG F3-REF, EEG F4-...   \n2344  [EEG FP1-LE, EEG FP2-LE, EEG F3-LE, EEG F4-LE,...   \n\n                                        bipolar_montage  sampling_frequency  \n7064  [(0, 10), (10, 12), (12, 14), (14, 8), (0, 2),...                 256  \n1550  [(0, 10), (10, 12), (12, 14), (14, 8), (0, 2),...                 512  \n4925  [(0, 10), (10, 12), (12, 14), (14, 8), (0, 2),...                 256  \n4070  [(0, 10), (10, 12), (12, 14), (14, 8), (0, 2),...                 256  \n2344  [(0, 12), (12, 14), (14, 16), (16, 10), (0, 2)...                 250  ",
      "text/html": "<div>\n<style scoped>\n    .dataframe tbody tr th:only-of-type {\n        vertical-align: middle;\n    }\n\n    .dataframe tbody tr th {\n        vertical-align: top;\n    }\n\n    .dataframe thead th {\n        text-align: right;\n    }\n</style>\n<table border=\"1\" class=\"dataframe\">\n  <thead>\n    <tr style=\"text-align: right;\">\n      <th></th>\n      <th>filename</th>\n      <th>filepath</th>\n      <th>onsets</th>\n      <th>offsets</th>\n      <th>length</th>\n      <th>fs_list</th>\n      <th>channels</th>\n      <th>bipolar_montage</th>\n      <th>sampling_frequency</th>\n    </tr>\n  </thead>\n  <tbody>\n    <tr>\n      <th>7064</th>\n      <td>aaaaatba_s004_t000</td>\n      <td>TUSZv2/edf/eval/aaaaatba/s004_2015_03_11/01_tc...</td>\n      <td>[0]</td>\n      <td>[0]</td>\n      <td>300.0</td>\n      <td>[256, 256, 256, 256, 256, 256, 256, 256, 256, ...</td>\n      <td>[EEG FP1-REF, EEG FP2-REF, EEG F3-REF, EEG F4-...</td>\n      <td>[(0, 10), (10, 12), (12, 14), (14, 8), (0, 2),...</td>\n      <td>256</td>\n    </tr>\n    <tr>\n      <th>1550</th>\n      <td>aaaaamhb_s006_t004</td>\n      <td>TUSZv2/edf/train/aaaaamhb/s006_2012_05_09/01_t...</td>\n      <td>[0]</td>\n      <td>[0]</td>\n      <td>960.0</td>\n      <td>[512, 512, 512, 512, 512, 512, 512, 512, 512, ...</td>\n      <td>[EEG FP1-REF, EEG FP2-REF, EEG F3-REF, EEG F4-...</td>\n      <td>[(0, 10), (10, 12), (12, 14), (14, 8), (0, 2),...</td>\n      <td>512</td>\n    </tr>\n    <tr>\n      <th>4925</th>\n      <td>aaaaamqq_s010_t000</td>\n      <td>TUSZv2/edf/dev/aaaaamqq/s010_2012_01_07/01_tcp_ar</td>\n      <td>[0]</td>\n      <td>[0]</td>\n      <td>300.0</td>\n      <td>[256, 256, 256, 256, 256, 256, 256, 256, 256, ...</td>\n      <td>[EEG FP1-REF, EEG FP2-REF, EEG F3-REF, EEG F4-...</td>\n      <td>[(0, 10), (10, 12), (12, 14), (14, 8), (0, 2),...</td>\n      <td>256</td>\n    </tr>\n    <tr>\n      <th>4070</th>\n      <td>aaaaalxt_s002_t008</td>\n      <td>TUSZv2/edf/train/aaaaalxt/s002_2011_03_25/03_t...</td>\n      <td>[0]</td>\n      <td>[0]</td>\n      <td>601.0</td>\n      <td>[256, 256, 256, 256, 256, 256, 256, 256, 256, ...</td>\n      <td>[EEG FP1-REF, EEG FP2-REF, EEG F3-REF, EEG F4-...</td>\n      <td>[(0, 10), (10, 12), (12, 14), (14, 8), (0, 2),...</td>\n      <td>256</td>\n    </tr>\n    <tr>\n      <th>2344</th>\n      <td>aaaaabnm_s001_t000</td>\n      <td>TUSZv2/edf/train/aaaaabnm/s001_2003_05_05/02_t...</td>\n      <td>[0]</td>\n      <td>[0]</td>\n      <td>1217.0</td>\n      <td>[250, 250, 250, 250, 250, 250, 250, 250, 250, ...</td>\n      <td>[EEG FP1-LE, EEG FP2-LE, EEG F3-LE, EEG F4-LE,...</td>\n      <td>[(0, 12), (12, 14), (14, 16), (16, 10), (0, 2)...</td>\n      <td>250</td>\n    </tr>\n  </tbody>\n</table>\n</div>"
     },
     "execution_count": 15,
     "metadata": {},
     "output_type": "execute_result"
    }
   ],
   "source": [
    "# Check number of rows before merge\n",
    "rows_before_merge = len(df)\n",
    "\n",
    "# Merge the DataFrames based on 'filename'\n",
    "merged_df = pd.merge(df, fs_df, on='filename', how='inner')\n",
    "\n",
    "# Check number of rows after merge\n",
    "rows_after_merge = len(merged_df)\n",
    "\n",
    "# Compare the number of rows\n",
    "data_missed = rows_before_merge != rows_after_merge\n",
    "merged_df.sample(n=5)"
   ],
   "metadata": {
    "collapsed": false,
    "pycharm": {
     "name": "#%%\n"
    }
   }
  },
  {
   "cell_type": "code",
   "execution_count": 16,
   "outputs": [
    {
     "name": "stdout",
     "output_type": "stream",
     "text": [
      "Any data missed during merging: False\n"
     ]
    }
   ],
   "source": [
    "# Print the result\n",
    "print(\"Any data missed during merging:\", data_missed)"
   ],
   "metadata": {
    "collapsed": false,
    "pycharm": {
     "name": "#%%\n"
    }
   }
  },
  {
   "cell_type": "code",
   "execution_count": 17,
   "outputs": [
    {
     "data": {
      "text/plain": "                filename                                           filepath  \\\n7262  aaaaaghb_s010_t001  TUSZv2/edf/eval/aaaaaghb/s010_2014_07_02/01_tc...   \n6417  aaaaaqrs_s007_t005  TUSZv2/edf/dev/aaaaaqrs/s007_2014_02_06/01_tcp_ar   \n5113  aaaaaoek_s031_t009  TUSZv2/edf/dev/aaaaaoek/s031_2013_08_24/01_tcp_ar   \n\n                            onsets                       offsets  length  \\\n7262  [10.9989, 84.4329, 204.5445]  [18.5129, 106.0303, 220.697]   311.0   \n6417                           [0]                           [0]   601.0   \n5113                           [0]                           [0]   300.0   \n\n                                                fs_list  \\\n7262  [256, 256, 256, 256, 256, 256, 256, 256, 256, ...   \n6417  [256, 256, 256, 256, 256, 256, 256, 256, 256, ...   \n5113  [256, 256, 256, 256, 256, 256, 256, 256, 256, ...   \n\n                                               channels  \\\n7262  [EEG FP1-REF, EEG FP2-REF, EEG F3-REF, EEG F4-...   \n6417  [EEG FP1-REF, EEG FP2-REF, EEG F3-REF, EEG F4-...   \n5113  [EEG FP1-REF, EEG FP2-REF, EEG F3-REF, EEG F4-...   \n\n                                        bipolar_montage  sampling_frequency  \\\n7262  [(0, 10), (10, 12), (12, 14), (14, 8), (0, 2),...                 256   \n6417  [(0, 10), (10, 12), (12, 14), (14, 8), (0, 2),...                 256   \n5113  [(0, 10), (10, 12), (12, 14), (14, 8), (0, 2),...                 256   \n\n      mode   patient  \n7262  eval  aaaaaghb  \n6417   dev  aaaaaqrs  \n5113   dev  aaaaaoek  ",
      "text/html": "<div>\n<style scoped>\n    .dataframe tbody tr th:only-of-type {\n        vertical-align: middle;\n    }\n\n    .dataframe tbody tr th {\n        vertical-align: top;\n    }\n\n    .dataframe thead th {\n        text-align: right;\n    }\n</style>\n<table border=\"1\" class=\"dataframe\">\n  <thead>\n    <tr style=\"text-align: right;\">\n      <th></th>\n      <th>filename</th>\n      <th>filepath</th>\n      <th>onsets</th>\n      <th>offsets</th>\n      <th>length</th>\n      <th>fs_list</th>\n      <th>channels</th>\n      <th>bipolar_montage</th>\n      <th>sampling_frequency</th>\n      <th>mode</th>\n      <th>patient</th>\n    </tr>\n  </thead>\n  <tbody>\n    <tr>\n      <th>7262</th>\n      <td>aaaaaghb_s010_t001</td>\n      <td>TUSZv2/edf/eval/aaaaaghb/s010_2014_07_02/01_tc...</td>\n      <td>[10.9989, 84.4329, 204.5445]</td>\n      <td>[18.5129, 106.0303, 220.697]</td>\n      <td>311.0</td>\n      <td>[256, 256, 256, 256, 256, 256, 256, 256, 256, ...</td>\n      <td>[EEG FP1-REF, EEG FP2-REF, EEG F3-REF, EEG F4-...</td>\n      <td>[(0, 10), (10, 12), (12, 14), (14, 8), (0, 2),...</td>\n      <td>256</td>\n      <td>eval</td>\n      <td>aaaaaghb</td>\n    </tr>\n    <tr>\n      <th>6417</th>\n      <td>aaaaaqrs_s007_t005</td>\n      <td>TUSZv2/edf/dev/aaaaaqrs/s007_2014_02_06/01_tcp_ar</td>\n      <td>[0]</td>\n      <td>[0]</td>\n      <td>601.0</td>\n      <td>[256, 256, 256, 256, 256, 256, 256, 256, 256, ...</td>\n      <td>[EEG FP1-REF, EEG FP2-REF, EEG F3-REF, EEG F4-...</td>\n      <td>[(0, 10), (10, 12), (12, 14), (14, 8), (0, 2),...</td>\n      <td>256</td>\n      <td>dev</td>\n      <td>aaaaaqrs</td>\n    </tr>\n    <tr>\n      <th>5113</th>\n      <td>aaaaaoek_s031_t009</td>\n      <td>TUSZv2/edf/dev/aaaaaoek/s031_2013_08_24/01_tcp_ar</td>\n      <td>[0]</td>\n      <td>[0]</td>\n      <td>300.0</td>\n      <td>[256, 256, 256, 256, 256, 256, 256, 256, 256, ...</td>\n      <td>[EEG FP1-REF, EEG FP2-REF, EEG F3-REF, EEG F4-...</td>\n      <td>[(0, 10), (10, 12), (12, 14), (14, 8), (0, 2),...</td>\n      <td>256</td>\n      <td>dev</td>\n      <td>aaaaaoek</td>\n    </tr>\n  </tbody>\n</table>\n</div>"
     },
     "execution_count": 17,
     "metadata": {},
     "output_type": "execute_result"
    }
   ],
   "source": [
    "merged_df['mode'] = merged_df['filepath'].apply(lambda x: x.split('/')[2])\n",
    "merged_df['patient'] = merged_df['filepath'].apply(lambda x: x.split('/')[3])\n",
    "merged_df.sample(3)"
   ],
   "metadata": {
    "collapsed": false,
    "pycharm": {
     "name": "#%%\n"
    }
   }
  },
  {
   "cell_type": "markdown",
   "source": [
    "## Labeling"
   ],
   "metadata": {
    "collapsed": false,
    "pycharm": {
     "name": "#%% md\n"
    }
   }
  },
  {
   "cell_type": "code",
   "execution_count": 18,
   "outputs": [],
   "source": [
    "def get_labels(x):\n",
    "    onsets = x['onsets']\n",
    "    offsets = x['offsets']\n",
    "    length = x['length']\n",
    "    labels = np.zeros(int(length // 12), dtype=int)\n",
    "    if len(offsets) == 1 and offsets[0] == 0:\n",
    "        return labels\n",
    "\n",
    "    for on, off in zip(onsets, offsets):\n",
    "        on_index = int(np.round(on/12))\n",
    "        off_index = int(np.round(off/12))\n",
    "        if on_index!=off_index:\n",
    "            labels[on_index:off_index] = 1\n",
    "    return labels\n",
    "\n",
    "merged_df['labels'] = merged_df.apply(get_labels, axis=1)"
   ],
   "metadata": {
    "collapsed": false,
    "pycharm": {
     "name": "#%%\n"
    }
   }
  },
  {
   "cell_type": "code",
   "execution_count": 19,
   "outputs": [
    {
     "data": {
      "text/plain": "                filename                                           filepath  \\\n4903  aaaaaoxa_s002_t000  TUSZv2/edf/dev/aaaaaoxa/s002_2013_03_11/01_tcp_ar   \n2535  aaaaaltg_s008_t001  TUSZv2/edf/train/aaaaaltg/s008_2014_08_21/01_t...   \n4747  aaaaagus_s001_t000  TUSZv2/edf/dev/aaaaagus/s001_2008_03_31/02_tcp_le   \n484   aaaaacyf_s007_t001  TUSZv2/edf/train/aaaaacyf/s007_2015_03_30/01_t...   \n3888  aaaaaqvr_s004_t002  TUSZv2/edf/train/aaaaaqvr/s004_2014_01_23/01_t...   \n\n     onsets offsets  length  \\\n4903    [0]     [0]   743.0   \n2535    [0]     [0]   300.0   \n4747    [0]     [0]   488.0   \n484     [0]     [0]    51.0   \n3888    [0]     [0]   601.0   \n\n                                                fs_list  \\\n4903  [250, 250, 250, 250, 250, 250, 250, 250, 250, ...   \n2535  [256, 256, 256, 256, 256, 256, 256, 256, 256, ...   \n4747  [250, 250, 250, 250, 250, 250, 250, 250, 250, ...   \n484   [256, 256, 256, 256, 256, 256, 256, 256, 256, ...   \n3888  [256, 256, 256, 256, 256, 256, 256, 256, 256, ...   \n\n                                               channels  \\\n4903  [EEG FP1-REF, EEG FP2-REF, EEG F3-REF, EEG F4-...   \n2535  [EEG FP1-REF, EEG FP2-REF, EEG F3-REF, EEG F4-...   \n4747  [EEG FP1-LE, EEG FP2-LE, EEG F3-LE, EEG F4-LE,...   \n484   [EEG FP1-REF, EEG FP2-REF, EEG F3-REF, EEG F4-...   \n3888  [EEG FP1-REF, EEG FP2-REF, EEG F3-REF, EEG F4-...   \n\n                                        bipolar_montage  sampling_frequency  \\\n4903  [(0, 10), (10, 12), (12, 14), (14, 8), (0, 2),...                 250   \n2535  [(0, 10), (10, 12), (12, 14), (14, 8), (0, 2),...                 256   \n4747  [(0, 12), (12, 14), (14, 16), (16, 10), (0, 2)...                 250   \n484   [(0, 10), (10, 12), (12, 14), (14, 8), (0, 2),...                 256   \n3888  [(0, 10), (10, 12), (12, 14), (14, 8), (0, 2),...                 256   \n\n       mode   patient                                             labels  \n4903    dev  aaaaaoxa  [0, 0, 0, 0, 0, 0, 0, 0, 0, 0, 0, 0, 0, 0, 0, ...  \n2535  train  aaaaaltg  [0, 0, 0, 0, 0, 0, 0, 0, 0, 0, 0, 0, 0, 0, 0, ...  \n4747    dev  aaaaagus  [0, 0, 0, 0, 0, 0, 0, 0, 0, 0, 0, 0, 0, 0, 0, ...  \n484   train  aaaaacyf                                       [0, 0, 0, 0]  \n3888  train  aaaaaqvr  [0, 0, 0, 0, 0, 0, 0, 0, 0, 0, 0, 0, 0, 0, 0, ...  ",
      "text/html": "<div>\n<style scoped>\n    .dataframe tbody tr th:only-of-type {\n        vertical-align: middle;\n    }\n\n    .dataframe tbody tr th {\n        vertical-align: top;\n    }\n\n    .dataframe thead th {\n        text-align: right;\n    }\n</style>\n<table border=\"1\" class=\"dataframe\">\n  <thead>\n    <tr style=\"text-align: right;\">\n      <th></th>\n      <th>filename</th>\n      <th>filepath</th>\n      <th>onsets</th>\n      <th>offsets</th>\n      <th>length</th>\n      <th>fs_list</th>\n      <th>channels</th>\n      <th>bipolar_montage</th>\n      <th>sampling_frequency</th>\n      <th>mode</th>\n      <th>patient</th>\n      <th>labels</th>\n    </tr>\n  </thead>\n  <tbody>\n    <tr>\n      <th>4903</th>\n      <td>aaaaaoxa_s002_t000</td>\n      <td>TUSZv2/edf/dev/aaaaaoxa/s002_2013_03_11/01_tcp_ar</td>\n      <td>[0]</td>\n      <td>[0]</td>\n      <td>743.0</td>\n      <td>[250, 250, 250, 250, 250, 250, 250, 250, 250, ...</td>\n      <td>[EEG FP1-REF, EEG FP2-REF, EEG F3-REF, EEG F4-...</td>\n      <td>[(0, 10), (10, 12), (12, 14), (14, 8), (0, 2),...</td>\n      <td>250</td>\n      <td>dev</td>\n      <td>aaaaaoxa</td>\n      <td>[0, 0, 0, 0, 0, 0, 0, 0, 0, 0, 0, 0, 0, 0, 0, ...</td>\n    </tr>\n    <tr>\n      <th>2535</th>\n      <td>aaaaaltg_s008_t001</td>\n      <td>TUSZv2/edf/train/aaaaaltg/s008_2014_08_21/01_t...</td>\n      <td>[0]</td>\n      <td>[0]</td>\n      <td>300.0</td>\n      <td>[256, 256, 256, 256, 256, 256, 256, 256, 256, ...</td>\n      <td>[EEG FP1-REF, EEG FP2-REF, EEG F3-REF, EEG F4-...</td>\n      <td>[(0, 10), (10, 12), (12, 14), (14, 8), (0, 2),...</td>\n      <td>256</td>\n      <td>train</td>\n      <td>aaaaaltg</td>\n      <td>[0, 0, 0, 0, 0, 0, 0, 0, 0, 0, 0, 0, 0, 0, 0, ...</td>\n    </tr>\n    <tr>\n      <th>4747</th>\n      <td>aaaaagus_s001_t000</td>\n      <td>TUSZv2/edf/dev/aaaaagus/s001_2008_03_31/02_tcp_le</td>\n      <td>[0]</td>\n      <td>[0]</td>\n      <td>488.0</td>\n      <td>[250, 250, 250, 250, 250, 250, 250, 250, 250, ...</td>\n      <td>[EEG FP1-LE, EEG FP2-LE, EEG F3-LE, EEG F4-LE,...</td>\n      <td>[(0, 12), (12, 14), (14, 16), (16, 10), (0, 2)...</td>\n      <td>250</td>\n      <td>dev</td>\n      <td>aaaaagus</td>\n      <td>[0, 0, 0, 0, 0, 0, 0, 0, 0, 0, 0, 0, 0, 0, 0, ...</td>\n    </tr>\n    <tr>\n      <th>484</th>\n      <td>aaaaacyf_s007_t001</td>\n      <td>TUSZv2/edf/train/aaaaacyf/s007_2015_03_30/01_t...</td>\n      <td>[0]</td>\n      <td>[0]</td>\n      <td>51.0</td>\n      <td>[256, 256, 256, 256, 256, 256, 256, 256, 256, ...</td>\n      <td>[EEG FP1-REF, EEG FP2-REF, EEG F3-REF, EEG F4-...</td>\n      <td>[(0, 10), (10, 12), (12, 14), (14, 8), (0, 2),...</td>\n      <td>256</td>\n      <td>train</td>\n      <td>aaaaacyf</td>\n      <td>[0, 0, 0, 0]</td>\n    </tr>\n    <tr>\n      <th>3888</th>\n      <td>aaaaaqvr_s004_t002</td>\n      <td>TUSZv2/edf/train/aaaaaqvr/s004_2014_01_23/01_t...</td>\n      <td>[0]</td>\n      <td>[0]</td>\n      <td>601.0</td>\n      <td>[256, 256, 256, 256, 256, 256, 256, 256, 256, ...</td>\n      <td>[EEG FP1-REF, EEG FP2-REF, EEG F3-REF, EEG F4-...</td>\n      <td>[(0, 10), (10, 12), (12, 14), (14, 8), (0, 2),...</td>\n      <td>256</td>\n      <td>train</td>\n      <td>aaaaaqvr</td>\n      <td>[0, 0, 0, 0, 0, 0, 0, 0, 0, 0, 0, 0, 0, 0, 0, ...</td>\n    </tr>\n  </tbody>\n</table>\n</div>"
     },
     "execution_count": 19,
     "metadata": {},
     "output_type": "execute_result"
    }
   ],
   "source": [
    "merged_df.sample(n=5)"
   ],
   "metadata": {
    "collapsed": false,
    "pycharm": {
     "name": "#%%\n"
    }
   }
  },
  {
   "cell_type": "code",
   "execution_count": 21,
   "outputs": [],
   "source": [
    "# Set 'filename' column as the index\n",
    "merged_df.set_index('filename', inplace=True)"
   ],
   "metadata": {
    "collapsed": false,
    "pycharm": {
     "name": "#%%\n"
    }
   }
  },
  {
   "cell_type": "code",
   "execution_count": 23,
   "outputs": [],
   "source": [
    "merged_df.to_json('TUSZv2_info.json')"
   ],
   "metadata": {
    "collapsed": false,
    "pycharm": {
     "name": "#%%\n"
    }
   }
  },
  {
   "cell_type": "markdown",
   "source": [
    "## Statistics"
   ],
   "metadata": {
    "collapsed": false,
    "pycharm": {
     "name": "#%% md\n"
    }
   }
  },
  {
   "cell_type": "code",
   "execution_count": 26,
   "outputs": [
    {
     "data": {
      "text/plain": "mode   sampling_frequency\ndev    256                   1526\n       250                    163\n       400                     75\n       512                     36\n       1000                    32\neval   256                    831\n       1000                    18\n       250                     16\ntrain  256                   3013\n       250                    930\n       400                    580\n       512                     94\n       1000                    47\nName: sampling_frequency, dtype: int64"
     },
     "execution_count": 26,
     "metadata": {},
     "output_type": "execute_result"
    }
   ],
   "source": [
    "merged_df.groupby('mode')['sampling_frequency'].value_counts()"
   ],
   "metadata": {
    "collapsed": false,
    "pycharm": {
     "name": "#%%\n"
    }
   }
  },
  {
   "cell_type": "code",
   "execution_count": 27,
   "outputs": [
    {
     "data": {
      "text/plain": "                                                             filepath  \\\nfilename                                                                \naaaaaprj_s004_t000  TUSZv2/edf/train/aaaaaprj/s004_2013_08_10/01_t...   \naaaaaoxa_s006_t001  TUSZv2/edf/dev/aaaaaoxa/s006_2013_03_27/01_tcp_ar   \naaaaatds_s004_t008  TUSZv2/edf/train/aaaaatds/s004_2015_04_28/01_t...   \naaaaaraf_s003_t003  TUSZv2/edf/eval/aaaaaraf/s003_2014_09_23/01_tc...   \naaaaarsm_s002_t007  TUSZv2/edf/train/aaaaarsm/s002_2014_09_16/01_t...   \n\n                       onsets     offsets  length  \\\nfilename                                            \naaaaaprj_s004_t000        [0]         [0]   300.0   \naaaaaoxa_s006_t001        [0]         [0]  1069.0   \naaaaatds_s004_t008        [0]         [0]   300.0   \naaaaaraf_s003_t003        [0]         [0]   327.0   \naaaaarsm_s002_t007  [91.2652]  [180.0936]   276.0   \n\n                                                              fs_list  \\\nfilename                                                                \naaaaaprj_s004_t000  [256, 256, 256, 256, 256, 256, 256, 256, 256, ...   \naaaaaoxa_s006_t001  [256, 256, 256, 256, 256, 256, 256, 256, 256, ...   \naaaaatds_s004_t008  [256, 256, 256, 256, 256, 256, 256, 256, 256, ...   \naaaaaraf_s003_t003  [256, 256, 256, 256, 256, 256, 256, 256, 256, ...   \naaaaarsm_s002_t007  [256, 256, 256, 256, 256, 256, 256, 256, 256, ...   \n\n                                                             channels  \\\nfilename                                                                \naaaaaprj_s004_t000  [EEG FP1-REF, EEG FP2-REF, EEG F3-REF, EEG F4-...   \naaaaaoxa_s006_t001  [EEG FP1-REF, EEG FP2-REF, EEG F3-REF, EEG F4-...   \naaaaatds_s004_t008  [EEG FP1-REF, EEG FP2-REF, EEG F3-REF, EEG F4-...   \naaaaaraf_s003_t003  [EEG FP1-REF, EEG FP2-REF, EEG F3-REF, EEG F4-...   \naaaaarsm_s002_t007  [EEG FP1-REF, EEG FP2-REF, EEG F3-REF, EEG F4-...   \n\n                                                      bipolar_montage  \\\nfilename                                                                \naaaaaprj_s004_t000  [(0, 10), (10, 12), (12, 14), (14, 8), (0, 2),...   \naaaaaoxa_s006_t001  [(0, 10), (10, 12), (12, 14), (14, 8), (0, 2),...   \naaaaatds_s004_t008  [(0, 10), (10, 12), (12, 14), (14, 8), (0, 2),...   \naaaaaraf_s003_t003  [(0, 10), (10, 12), (12, 14), (14, 8), (0, 2),...   \naaaaarsm_s002_t007  [(0, 10), (10, 12), (12, 14), (14, 8), (0, 2),...   \n\n                    sampling_frequency   mode   patient  \\\nfilename                                                  \naaaaaprj_s004_t000                 256  train  aaaaaprj   \naaaaaoxa_s006_t001                 256    dev  aaaaaoxa   \naaaaatds_s004_t008                 256  train  aaaaatds   \naaaaaraf_s003_t003                 256   eval  aaaaaraf   \naaaaarsm_s002_t007                 256  train  aaaaarsm   \n\n                                                               labels  \\\nfilename                                                                \naaaaaprj_s004_t000  [0, 0, 0, 0, 0, 0, 0, 0, 0, 0, 0, 0, 0, 0, 0, ...   \naaaaaoxa_s006_t001  [0, 0, 0, 0, 0, 0, 0, 0, 0, 0, 0, 0, 0, 0, 0, ...   \naaaaatds_s004_t008  [0, 0, 0, 0, 0, 0, 0, 0, 0, 0, 0, 0, 0, 0, 0, ...   \naaaaaraf_s003_t003  [0, 0, 0, 0, 0, 0, 0, 0, 0, 0, 0, 0, 0, 0, 0, ...   \naaaaarsm_s002_t007  [0, 0, 0, 0, 0, 0, 0, 0, 1, 1, 1, 1, 1, 1, 1, ...   \n\n                    seizure_length  \nfilename                            \naaaaaprj_s004_t000          0.0000  \naaaaaoxa_s006_t001          0.0000  \naaaaatds_s004_t008          0.0000  \naaaaaraf_s003_t003          0.0000  \naaaaarsm_s002_t007         88.8284  ",
      "text/html": "<div>\n<style scoped>\n    .dataframe tbody tr th:only-of-type {\n        vertical-align: middle;\n    }\n\n    .dataframe tbody tr th {\n        vertical-align: top;\n    }\n\n    .dataframe thead th {\n        text-align: right;\n    }\n</style>\n<table border=\"1\" class=\"dataframe\">\n  <thead>\n    <tr style=\"text-align: right;\">\n      <th></th>\n      <th>filepath</th>\n      <th>onsets</th>\n      <th>offsets</th>\n      <th>length</th>\n      <th>fs_list</th>\n      <th>channels</th>\n      <th>bipolar_montage</th>\n      <th>sampling_frequency</th>\n      <th>mode</th>\n      <th>patient</th>\n      <th>labels</th>\n      <th>seizure_length</th>\n    </tr>\n    <tr>\n      <th>filename</th>\n      <th></th>\n      <th></th>\n      <th></th>\n      <th></th>\n      <th></th>\n      <th></th>\n      <th></th>\n      <th></th>\n      <th></th>\n      <th></th>\n      <th></th>\n      <th></th>\n    </tr>\n  </thead>\n  <tbody>\n    <tr>\n      <th>aaaaaprj_s004_t000</th>\n      <td>TUSZv2/edf/train/aaaaaprj/s004_2013_08_10/01_t...</td>\n      <td>[0]</td>\n      <td>[0]</td>\n      <td>300.0</td>\n      <td>[256, 256, 256, 256, 256, 256, 256, 256, 256, ...</td>\n      <td>[EEG FP1-REF, EEG FP2-REF, EEG F3-REF, EEG F4-...</td>\n      <td>[(0, 10), (10, 12), (12, 14), (14, 8), (0, 2),...</td>\n      <td>256</td>\n      <td>train</td>\n      <td>aaaaaprj</td>\n      <td>[0, 0, 0, 0, 0, 0, 0, 0, 0, 0, 0, 0, 0, 0, 0, ...</td>\n      <td>0.0000</td>\n    </tr>\n    <tr>\n      <th>aaaaaoxa_s006_t001</th>\n      <td>TUSZv2/edf/dev/aaaaaoxa/s006_2013_03_27/01_tcp_ar</td>\n      <td>[0]</td>\n      <td>[0]</td>\n      <td>1069.0</td>\n      <td>[256, 256, 256, 256, 256, 256, 256, 256, 256, ...</td>\n      <td>[EEG FP1-REF, EEG FP2-REF, EEG F3-REF, EEG F4-...</td>\n      <td>[(0, 10), (10, 12), (12, 14), (14, 8), (0, 2),...</td>\n      <td>256</td>\n      <td>dev</td>\n      <td>aaaaaoxa</td>\n      <td>[0, 0, 0, 0, 0, 0, 0, 0, 0, 0, 0, 0, 0, 0, 0, ...</td>\n      <td>0.0000</td>\n    </tr>\n    <tr>\n      <th>aaaaatds_s004_t008</th>\n      <td>TUSZv2/edf/train/aaaaatds/s004_2015_04_28/01_t...</td>\n      <td>[0]</td>\n      <td>[0]</td>\n      <td>300.0</td>\n      <td>[256, 256, 256, 256, 256, 256, 256, 256, 256, ...</td>\n      <td>[EEG FP1-REF, EEG FP2-REF, EEG F3-REF, EEG F4-...</td>\n      <td>[(0, 10), (10, 12), (12, 14), (14, 8), (0, 2),...</td>\n      <td>256</td>\n      <td>train</td>\n      <td>aaaaatds</td>\n      <td>[0, 0, 0, 0, 0, 0, 0, 0, 0, 0, 0, 0, 0, 0, 0, ...</td>\n      <td>0.0000</td>\n    </tr>\n    <tr>\n      <th>aaaaaraf_s003_t003</th>\n      <td>TUSZv2/edf/eval/aaaaaraf/s003_2014_09_23/01_tc...</td>\n      <td>[0]</td>\n      <td>[0]</td>\n      <td>327.0</td>\n      <td>[256, 256, 256, 256, 256, 256, 256, 256, 256, ...</td>\n      <td>[EEG FP1-REF, EEG FP2-REF, EEG F3-REF, EEG F4-...</td>\n      <td>[(0, 10), (10, 12), (12, 14), (14, 8), (0, 2),...</td>\n      <td>256</td>\n      <td>eval</td>\n      <td>aaaaaraf</td>\n      <td>[0, 0, 0, 0, 0, 0, 0, 0, 0, 0, 0, 0, 0, 0, 0, ...</td>\n      <td>0.0000</td>\n    </tr>\n    <tr>\n      <th>aaaaarsm_s002_t007</th>\n      <td>TUSZv2/edf/train/aaaaarsm/s002_2014_09_16/01_t...</td>\n      <td>[91.2652]</td>\n      <td>[180.0936]</td>\n      <td>276.0</td>\n      <td>[256, 256, 256, 256, 256, 256, 256, 256, 256, ...</td>\n      <td>[EEG FP1-REF, EEG FP2-REF, EEG F3-REF, EEG F4-...</td>\n      <td>[(0, 10), (10, 12), (12, 14), (14, 8), (0, 2),...</td>\n      <td>256</td>\n      <td>train</td>\n      <td>aaaaarsm</td>\n      <td>[0, 0, 0, 0, 0, 0, 0, 0, 1, 1, 1, 1, 1, 1, 1, ...</td>\n      <td>88.8284</td>\n    </tr>\n  </tbody>\n</table>\n</div>"
     },
     "execution_count": 27,
     "metadata": {},
     "output_type": "execute_result"
    }
   ],
   "source": [
    "def get_seizure_length(x):\n",
    "    onsets = x['onsets']\n",
    "    offsets = x['offsets']\n",
    "    seizure_length = 0\n",
    "    for x, y in zip(onsets, offsets):\n",
    "        seizure_length += (y-x)\n",
    "    return seizure_length\n",
    "\n",
    "merged_df['seizure_length'] = merged_df.apply(get_seizure_length, axis=1)\n",
    "merged_df.sample(n=5)"
   ],
   "metadata": {
    "collapsed": false,
    "pycharm": {
     "name": "#%%\n"
    }
   }
  },
  {
   "cell_type": "code",
   "execution_count": 34,
   "outputs": [
    {
     "data": {
      "text/plain": "mode\ndev      18.586235\neval      7.568529\ntrain    47.943315\nName: seizure_length, dtype: float64"
     },
     "execution_count": 34,
     "metadata": {},
     "output_type": "execute_result"
    }
   ],
   "source": [
    "merged_df.groupby('mode')['seizure_length'].sum()/3600"
   ],
   "metadata": {
    "collapsed": false,
    "pycharm": {
     "name": "#%%\n"
    }
   }
  },
  {
   "cell_type": "code",
   "execution_count": 30,
   "outputs": [
    {
     "data": {
      "text/plain": "                                                             filepath  \\\nfilename                                                                \naaaaaroo_s004_t004  TUSZv2/edf/train/aaaaaroo/s004_2014_08_13/01_t...   \naaaaahxq_s004_t001  TUSZv2/edf/train/aaaaahxq/s004_2009_03_15/02_t...   \naaaaaqvx_s007_t001  TUSZv2/edf/eval/aaaaaqvx/s007_2015_08_27/01_tc...   \naaaaambs_s009_t004  TUSZv2/edf/train/aaaaambs/s009_2015_08_26/01_t...   \naaaaaool_s008_t008  TUSZv2/edf/dev/aaaaaool/s008_2013_07_23/01_tcp_ar   \n\n                                  onsets               offsets  length  \\\nfilename                                                                 \naaaaaroo_s004_t004  [129.0345, 254.0817]  [171.1462, 405.9846]   601.0   \naaaaahxq_s004_t001                   [0]                   [0]   315.0   \naaaaaqvx_s007_t001                   [0]                   [0]    24.0   \naaaaambs_s009_t004                   [0]                   [0]   601.0   \naaaaaool_s008_t008                   [0]                   [0]   601.0   \n\n                                                              fs_list  \\\nfilename                                                                \naaaaaroo_s004_t004  [256, 256, 256, 256, 256, 256, 256, 256, 256, ...   \naaaaahxq_s004_t001  [250, 250, 250, 250, 250, 250, 250, 250, 250, ...   \naaaaaqvx_s007_t001  [250, 250, 250, 250, 250, 250, 250, 250, 250, ...   \naaaaambs_s009_t004  [256, 256, 256, 256, 256, 256, 256, 256, 256, ...   \naaaaaool_s008_t008  [256, 256, 256, 256, 256, 256, 256, 256, 256, ...   \n\n                                                             channels  \\\nfilename                                                                \naaaaaroo_s004_t004  [EEG FP1-REF, EEG FP2-REF, EEG F3-REF, EEG F4-...   \naaaaahxq_s004_t001  [EEG FP1-LE, EEG FP2-LE, EEG F3-LE, EEG F4-LE,...   \naaaaaqvx_s007_t001  [EEG FP1-REF, EEG FP2-REF, EEG F3-REF, EEG F4-...   \naaaaambs_s009_t004  [EEG FP1-REF, EEG FP2-REF, EEG F3-REF, EEG F4-...   \naaaaaool_s008_t008  [EEG FP1-REF, EEG FP2-REF, EEG F3-REF, EEG F4-...   \n\n                                                      bipolar_montage  \\\nfilename                                                                \naaaaaroo_s004_t004  [(0, 10), (10, 12), (12, 14), (14, 8), (0, 2),...   \naaaaahxq_s004_t001  [(0, 12), (12, 14), (14, 16), (16, 10), (0, 2)...   \naaaaaqvx_s007_t001  [(0, 10), (10, 12), (12, 14), (14, 8), (0, 2),...   \naaaaambs_s009_t004  [(0, 10), (10, 12), (12, 14), (14, 8), (0, 2),...   \naaaaaool_s008_t008  [(0, 10), (10, 12), (12, 14), (14, 8), (0, 2),...   \n\n                    sampling_frequency   mode   patient  \\\nfilename                                                  \naaaaaroo_s004_t004                 256  train  aaaaaroo   \naaaaahxq_s004_t001                 250  train  aaaaahxq   \naaaaaqvx_s007_t001                 250   eval  aaaaaqvx   \naaaaambs_s009_t004                 256  train  aaaaambs   \naaaaaool_s008_t008                 256    dev  aaaaaool   \n\n                                                               labels  \\\nfilename                                                                \naaaaaroo_s004_t004  [0, 0, 0, 0, 0, 0, 0, 0, 0, 0, 0, 1, 1, 1, 0, ...   \naaaaahxq_s004_t001  [0, 0, 0, 0, 0, 0, 0, 0, 0, 0, 0, 0, 0, 0, 0, ...   \naaaaaqvx_s007_t001                                             [0, 0]   \naaaaambs_s009_t004  [0, 0, 0, 0, 0, 0, 0, 0, 0, 0, 0, 0, 0, 0, 0, ...   \naaaaaool_s008_t008  [0, 0, 0, 0, 0, 0, 0, 0, 0, 0, 0, 0, 0, 0, 0, ...   \n\n                    seizure_length  seiz_window_num  \nfilename                                             \naaaaaroo_s004_t004        194.0146               16  \naaaaahxq_s004_t001          0.0000                0  \naaaaaqvx_s007_t001          0.0000                0  \naaaaambs_s009_t004          0.0000                0  \naaaaaool_s008_t008          0.0000                0  ",
      "text/html": "<div>\n<style scoped>\n    .dataframe tbody tr th:only-of-type {\n        vertical-align: middle;\n    }\n\n    .dataframe tbody tr th {\n        vertical-align: top;\n    }\n\n    .dataframe thead th {\n        text-align: right;\n    }\n</style>\n<table border=\"1\" class=\"dataframe\">\n  <thead>\n    <tr style=\"text-align: right;\">\n      <th></th>\n      <th>filepath</th>\n      <th>onsets</th>\n      <th>offsets</th>\n      <th>length</th>\n      <th>fs_list</th>\n      <th>channels</th>\n      <th>bipolar_montage</th>\n      <th>sampling_frequency</th>\n      <th>mode</th>\n      <th>patient</th>\n      <th>labels</th>\n      <th>seizure_length</th>\n      <th>seiz_window_num</th>\n    </tr>\n    <tr>\n      <th>filename</th>\n      <th></th>\n      <th></th>\n      <th></th>\n      <th></th>\n      <th></th>\n      <th></th>\n      <th></th>\n      <th></th>\n      <th></th>\n      <th></th>\n      <th></th>\n      <th></th>\n      <th></th>\n    </tr>\n  </thead>\n  <tbody>\n    <tr>\n      <th>aaaaaroo_s004_t004</th>\n      <td>TUSZv2/edf/train/aaaaaroo/s004_2014_08_13/01_t...</td>\n      <td>[129.0345, 254.0817]</td>\n      <td>[171.1462, 405.9846]</td>\n      <td>601.0</td>\n      <td>[256, 256, 256, 256, 256, 256, 256, 256, 256, ...</td>\n      <td>[EEG FP1-REF, EEG FP2-REF, EEG F3-REF, EEG F4-...</td>\n      <td>[(0, 10), (10, 12), (12, 14), (14, 8), (0, 2),...</td>\n      <td>256</td>\n      <td>train</td>\n      <td>aaaaaroo</td>\n      <td>[0, 0, 0, 0, 0, 0, 0, 0, 0, 0, 0, 1, 1, 1, 0, ...</td>\n      <td>194.0146</td>\n      <td>16</td>\n    </tr>\n    <tr>\n      <th>aaaaahxq_s004_t001</th>\n      <td>TUSZv2/edf/train/aaaaahxq/s004_2009_03_15/02_t...</td>\n      <td>[0]</td>\n      <td>[0]</td>\n      <td>315.0</td>\n      <td>[250, 250, 250, 250, 250, 250, 250, 250, 250, ...</td>\n      <td>[EEG FP1-LE, EEG FP2-LE, EEG F3-LE, EEG F4-LE,...</td>\n      <td>[(0, 12), (12, 14), (14, 16), (16, 10), (0, 2)...</td>\n      <td>250</td>\n      <td>train</td>\n      <td>aaaaahxq</td>\n      <td>[0, 0, 0, 0, 0, 0, 0, 0, 0, 0, 0, 0, 0, 0, 0, ...</td>\n      <td>0.0000</td>\n      <td>0</td>\n    </tr>\n    <tr>\n      <th>aaaaaqvx_s007_t001</th>\n      <td>TUSZv2/edf/eval/aaaaaqvx/s007_2015_08_27/01_tc...</td>\n      <td>[0]</td>\n      <td>[0]</td>\n      <td>24.0</td>\n      <td>[250, 250, 250, 250, 250, 250, 250, 250, 250, ...</td>\n      <td>[EEG FP1-REF, EEG FP2-REF, EEG F3-REF, EEG F4-...</td>\n      <td>[(0, 10), (10, 12), (12, 14), (14, 8), (0, 2),...</td>\n      <td>250</td>\n      <td>eval</td>\n      <td>aaaaaqvx</td>\n      <td>[0, 0]</td>\n      <td>0.0000</td>\n      <td>0</td>\n    </tr>\n    <tr>\n      <th>aaaaambs_s009_t004</th>\n      <td>TUSZv2/edf/train/aaaaambs/s009_2015_08_26/01_t...</td>\n      <td>[0]</td>\n      <td>[0]</td>\n      <td>601.0</td>\n      <td>[256, 256, 256, 256, 256, 256, 256, 256, 256, ...</td>\n      <td>[EEG FP1-REF, EEG FP2-REF, EEG F3-REF, EEG F4-...</td>\n      <td>[(0, 10), (10, 12), (12, 14), (14, 8), (0, 2),...</td>\n      <td>256</td>\n      <td>train</td>\n      <td>aaaaambs</td>\n      <td>[0, 0, 0, 0, 0, 0, 0, 0, 0, 0, 0, 0, 0, 0, 0, ...</td>\n      <td>0.0000</td>\n      <td>0</td>\n    </tr>\n    <tr>\n      <th>aaaaaool_s008_t008</th>\n      <td>TUSZv2/edf/dev/aaaaaool/s008_2013_07_23/01_tcp_ar</td>\n      <td>[0]</td>\n      <td>[0]</td>\n      <td>601.0</td>\n      <td>[256, 256, 256, 256, 256, 256, 256, 256, 256, ...</td>\n      <td>[EEG FP1-REF, EEG FP2-REF, EEG F3-REF, EEG F4-...</td>\n      <td>[(0, 10), (10, 12), (12, 14), (14, 8), (0, 2),...</td>\n      <td>256</td>\n      <td>dev</td>\n      <td>aaaaaool</td>\n      <td>[0, 0, 0, 0, 0, 0, 0, 0, 0, 0, 0, 0, 0, 0, 0, ...</td>\n      <td>0.0000</td>\n      <td>0</td>\n    </tr>\n  </tbody>\n</table>\n</div>"
     },
     "execution_count": 30,
     "metadata": {},
     "output_type": "execute_result"
    }
   ],
   "source": [
    "merged_df['seiz_window_num'] = merged_df['labels'].apply(lambda x: np.sum(x))\n",
    "merged_df.sample(n=5)"
   ],
   "metadata": {
    "collapsed": false,
    "pycharm": {
     "name": "#%%\n"
    }
   }
  },
  {
   "cell_type": "code",
   "execution_count": 32,
   "outputs": [
    {
     "data": {
      "text/plain": "mode\ndev       70980\neval      27360\ntrain    174504\nName: seiz_window_num, dtype: int64"
     },
     "execution_count": 32,
     "metadata": {},
     "output_type": "execute_result"
    }
   ],
   "source": [
    "merged_df.groupby('mode')['seiz_window_num'].sum() * 12"
   ],
   "metadata": {
    "collapsed": false,
    "pycharm": {
     "name": "#%%\n"
    }
   }
  },
  {
   "cell_type": "code",
   "execution_count": 33,
   "outputs": [
    {
     "data": {
      "text/plain": "mode\ndev       53\neval      43\ntrain    579\nName: patient, dtype: int64"
     },
     "execution_count": 33,
     "metadata": {},
     "output_type": "execute_result"
    }
   ],
   "source": [
    "merged_df.groupby('mode')['patient'].nunique()"
   ],
   "metadata": {
    "collapsed": false,
    "pycharm": {
     "name": "#%%\n"
    }
   }
  },
  {
   "cell_type": "code",
   "execution_count": null,
   "outputs": [],
   "source": [],
   "metadata": {
    "collapsed": false,
    "pycharm": {
     "name": "#%%\n"
    }
   }
  },
  {
   "cell_type": "markdown",
   "source": [
    "## Scoring"
   ],
   "metadata": {
    "collapsed": false,
    "pycharm": {
     "name": "#%% md\n"
    }
   }
  },
  {
   "cell_type": "code",
   "execution_count": 41,
   "outputs": [],
   "source": [
    "import epilepsy_performance_metrics.src.timescoring.annotations as annotation"
   ],
   "metadata": {
    "collapsed": false,
    "pycharm": {
     "name": "#%%\n"
    }
   }
  },
  {
   "cell_type": "code",
   "execution_count": 48,
   "outputs": [
    {
     "data": {
      "text/plain": "Annotation(events=[], mask=array([False]), fs=0.08333333333333333)"
     },
     "execution_count": 48,
     "metadata": {},
     "output_type": "execute_result"
    }
   ],
   "source": [],
   "metadata": {
    "collapsed": false,
    "pycharm": {
     "name": "#%%\n"
    }
   }
  },
  {
   "cell_type": "code",
   "execution_count": 50,
   "outputs": [],
   "source": [
    "merged_df['events'] = merged_df['labels'].apply(lambda x: annotation.Annotation(x, 1/12).events if len(x)> 1 else [])"
   ],
   "metadata": {
    "collapsed": false,
    "pycharm": {
     "name": "#%%\n"
    }
   }
  },
  {
   "cell_type": "markdown",
   "source": [
    "## Number of Event"
   ],
   "metadata": {
    "collapsed": false,
    "pycharm": {
     "name": "#%% md\n"
    }
   }
  },
  {
   "cell_type": "markdown",
   "source": [],
   "metadata": {
    "collapsed": false,
    "pycharm": {
     "name": "#%% md\n"
    }
   }
  },
  {
   "cell_type": "code",
   "execution_count": 62,
   "outputs": [
    {
     "data": {
      "text/plain": "mode\ndev       944\neval      410\ntrain    2127\nName: events, dtype: int64"
     },
     "execution_count": 62,
     "metadata": {},
     "output_type": "execute_result"
    }
   ],
   "source": [
    "merged_df.groupby('mode')['events'].sum().apply(len)"
   ],
   "metadata": {
    "collapsed": false,
    "pycharm": {
     "name": "#%%\n"
    }
   }
  },
  {
   "cell_type": "code",
   "execution_count": 63,
   "outputs": [
    {
     "data": {
      "text/plain": "                                                             filepath  \\\nfilename                                                                \naaaaaict_s003_t000  TUSZv2/edf/dev/aaaaaict/s003_2011_01_05/01_tcp_ar   \naaaaasfw_s003_t009  TUSZv2/edf/eval/aaaaasfw/s003_2015_04_06/01_tc...   \naaaaakmw_s003_t011  TUSZv2/edf/train/aaaaakmw/s003_2010_11_02/01_t...   \naaaaaiwu_s002_t002  TUSZv2/edf/train/aaaaaiwu/s002_2009_08_07/03_t...   \naaaaakoe_s002_t002  TUSZv2/edf/train/aaaaakoe/s002_2010_10_12/03_t...   \n\n                                                          onsets  \\\nfilename                                                           \naaaaaict_s003_t000                         [301.8333, 1158.7778]   \naaaaasfw_s003_t009                                           [0]   \naaaaakmw_s003_t011                                           [0]   \naaaaaiwu_s002_t002                                           [0]   \naaaaakoe_s002_t002  [1.0, 110.2422, 235.834, 406.9023, 884.1563]   \n\n                                                           offsets  length  \\\nfilename                                                                     \naaaaaict_s003_t000                           [323.8333, 1170.3889]  1228.0   \naaaaasfw_s003_t009                                             [0]   601.0   \naaaaakmw_s003_t011                                             [0]    60.0   \naaaaaiwu_s002_t002                                             [0]    55.0   \naaaaakoe_s002_t002  [80.1758, 207.8164, 329.8242, 476.1484, 917.0]   918.0   \n\n                                                              fs_list  \\\nfilename                                                                \naaaaaict_s003_t000  [250, 250, 250, 250, 250, 250, 250, 250, 250, ...   \naaaaasfw_s003_t009  [256, 256, 256, 256, 256, 256, 256, 256, 256, ...   \naaaaakmw_s003_t011  [250, 250, 250, 250, 250, 250, 250, 250, 250, ...   \naaaaaiwu_s002_t002  [400, 400, 400, 400, 400, 400, 400, 400, 400, ...   \naaaaakoe_s002_t002  [256, 256, 256, 256, 256, 256, 256, 256, 256, ...   \n\n                                                             channels  \\\nfilename                                                                \naaaaaict_s003_t000  [EEG FP1-REF, EEG FP2-REF, EEG F3-REF, EEG F4-...   \naaaaasfw_s003_t009  [EEG FP1-REF, EEG FP2-REF, EEG F3-REF, EEG F4-...   \naaaaakmw_s003_t011  [EEG FP1-REF, EEG FP2-REF, EEG F3-REF, EEG F4-...   \naaaaaiwu_s002_t002  [EEG FP1-REF, EEG FP2-REF, EEG F3-REF, EEG F4-...   \naaaaakoe_s002_t002  [EEG FP1-REF, EEG FP2-REF, EEG F3-REF, EEG F4-...   \n\n                                                      bipolar_montage  \\\nfilename                                                                \naaaaaict_s003_t000  [(0, 10), (10, 12), (12, 14), (14, 8), (0, 2),...   \naaaaasfw_s003_t009  [(0, 10), (10, 12), (12, 14), (14, 8), (0, 2),...   \naaaaakmw_s003_t011  [(0, 10), (10, 12), (12, 14), (14, 8), (0, 2),...   \naaaaaiwu_s002_t002  [(0, 10), (10, 12), (12, 14), (14, 8), (0, 2),...   \naaaaakoe_s002_t002  [(0, 10), (10, 12), (12, 14), (14, 8), (0, 2),...   \n\n                    sampling_frequency   mode   patient  \\\nfilename                                                  \naaaaaict_s003_t000                 250    dev  aaaaaict   \naaaaasfw_s003_t009                 256   eval  aaaaasfw   \naaaaakmw_s003_t011                 250  train  aaaaakmw   \naaaaaiwu_s002_t002                 400  train  aaaaaiwu   \naaaaakoe_s002_t002                 256  train  aaaaakoe   \n\n                                                               labels  \\\nfilename                                                                \naaaaaict_s003_t000  [0, 0, 0, 0, 0, 0, 0, 0, 0, 0, 0, 0, 0, 0, 0, ...   \naaaaasfw_s003_t009  [0, 0, 0, 0, 0, 0, 0, 0, 0, 0, 0, 0, 0, 0, 0, ...   \naaaaakmw_s003_t011                                    [0, 0, 0, 0, 0]   \naaaaaiwu_s002_t002                                       [0, 0, 0, 0]   \naaaaakoe_s002_t002  [1, 1, 1, 1, 1, 1, 1, 0, 0, 1, 1, 1, 1, 1, 1, ...   \n\n                    seizure_length  seiz_window_num  \\\nfilename                                              \naaaaaict_s003_t000         33.6111                3   \naaaaasfw_s003_t009          0.0000                0   \naaaaakmw_s003_t011          0.0000                0   \naaaaaiwu_s002_t002          0.0000                0   \naaaaakoe_s002_t002        372.8300               30   \n\n                                                               events  \nfilename                                                               \naaaaaict_s003_t000                 [(300.0, 324.0), (1164.0, 1176.0)]  \naaaaasfw_s003_t009                                                 []  \naaaaakmw_s003_t011                                                 []  \naaaaaiwu_s002_t002                                                 []  \naaaaakoe_s002_t002  [(0, 84.0), (108.0, 204.0), (240.0, 324.0), (4...  ",
      "text/html": "<div>\n<style scoped>\n    .dataframe tbody tr th:only-of-type {\n        vertical-align: middle;\n    }\n\n    .dataframe tbody tr th {\n        vertical-align: top;\n    }\n\n    .dataframe thead th {\n        text-align: right;\n    }\n</style>\n<table border=\"1\" class=\"dataframe\">\n  <thead>\n    <tr style=\"text-align: right;\">\n      <th></th>\n      <th>filepath</th>\n      <th>onsets</th>\n      <th>offsets</th>\n      <th>length</th>\n      <th>fs_list</th>\n      <th>channels</th>\n      <th>bipolar_montage</th>\n      <th>sampling_frequency</th>\n      <th>mode</th>\n      <th>patient</th>\n      <th>labels</th>\n      <th>seizure_length</th>\n      <th>seiz_window_num</th>\n      <th>events</th>\n    </tr>\n    <tr>\n      <th>filename</th>\n      <th></th>\n      <th></th>\n      <th></th>\n      <th></th>\n      <th></th>\n      <th></th>\n      <th></th>\n      <th></th>\n      <th></th>\n      <th></th>\n      <th></th>\n      <th></th>\n      <th></th>\n      <th></th>\n    </tr>\n  </thead>\n  <tbody>\n    <tr>\n      <th>aaaaaict_s003_t000</th>\n      <td>TUSZv2/edf/dev/aaaaaict/s003_2011_01_05/01_tcp_ar</td>\n      <td>[301.8333, 1158.7778]</td>\n      <td>[323.8333, 1170.3889]</td>\n      <td>1228.0</td>\n      <td>[250, 250, 250, 250, 250, 250, 250, 250, 250, ...</td>\n      <td>[EEG FP1-REF, EEG FP2-REF, EEG F3-REF, EEG F4-...</td>\n      <td>[(0, 10), (10, 12), (12, 14), (14, 8), (0, 2),...</td>\n      <td>250</td>\n      <td>dev</td>\n      <td>aaaaaict</td>\n      <td>[0, 0, 0, 0, 0, 0, 0, 0, 0, 0, 0, 0, 0, 0, 0, ...</td>\n      <td>33.6111</td>\n      <td>3</td>\n      <td>[(300.0, 324.0), (1164.0, 1176.0)]</td>\n    </tr>\n    <tr>\n      <th>aaaaasfw_s003_t009</th>\n      <td>TUSZv2/edf/eval/aaaaasfw/s003_2015_04_06/01_tc...</td>\n      <td>[0]</td>\n      <td>[0]</td>\n      <td>601.0</td>\n      <td>[256, 256, 256, 256, 256, 256, 256, 256, 256, ...</td>\n      <td>[EEG FP1-REF, EEG FP2-REF, EEG F3-REF, EEG F4-...</td>\n      <td>[(0, 10), (10, 12), (12, 14), (14, 8), (0, 2),...</td>\n      <td>256</td>\n      <td>eval</td>\n      <td>aaaaasfw</td>\n      <td>[0, 0, 0, 0, 0, 0, 0, 0, 0, 0, 0, 0, 0, 0, 0, ...</td>\n      <td>0.0000</td>\n      <td>0</td>\n      <td>[]</td>\n    </tr>\n    <tr>\n      <th>aaaaakmw_s003_t011</th>\n      <td>TUSZv2/edf/train/aaaaakmw/s003_2010_11_02/01_t...</td>\n      <td>[0]</td>\n      <td>[0]</td>\n      <td>60.0</td>\n      <td>[250, 250, 250, 250, 250, 250, 250, 250, 250, ...</td>\n      <td>[EEG FP1-REF, EEG FP2-REF, EEG F3-REF, EEG F4-...</td>\n      <td>[(0, 10), (10, 12), (12, 14), (14, 8), (0, 2),...</td>\n      <td>250</td>\n      <td>train</td>\n      <td>aaaaakmw</td>\n      <td>[0, 0, 0, 0, 0]</td>\n      <td>0.0000</td>\n      <td>0</td>\n      <td>[]</td>\n    </tr>\n    <tr>\n      <th>aaaaaiwu_s002_t002</th>\n      <td>TUSZv2/edf/train/aaaaaiwu/s002_2009_08_07/03_t...</td>\n      <td>[0]</td>\n      <td>[0]</td>\n      <td>55.0</td>\n      <td>[400, 400, 400, 400, 400, 400, 400, 400, 400, ...</td>\n      <td>[EEG FP1-REF, EEG FP2-REF, EEG F3-REF, EEG F4-...</td>\n      <td>[(0, 10), (10, 12), (12, 14), (14, 8), (0, 2),...</td>\n      <td>400</td>\n      <td>train</td>\n      <td>aaaaaiwu</td>\n      <td>[0, 0, 0, 0]</td>\n      <td>0.0000</td>\n      <td>0</td>\n      <td>[]</td>\n    </tr>\n    <tr>\n      <th>aaaaakoe_s002_t002</th>\n      <td>TUSZv2/edf/train/aaaaakoe/s002_2010_10_12/03_t...</td>\n      <td>[1.0, 110.2422, 235.834, 406.9023, 884.1563]</td>\n      <td>[80.1758, 207.8164, 329.8242, 476.1484, 917.0]</td>\n      <td>918.0</td>\n      <td>[256, 256, 256, 256, 256, 256, 256, 256, 256, ...</td>\n      <td>[EEG FP1-REF, EEG FP2-REF, EEG F3-REF, EEG F4-...</td>\n      <td>[(0, 10), (10, 12), (12, 14), (14, 8), (0, 2),...</td>\n      <td>256</td>\n      <td>train</td>\n      <td>aaaaakoe</td>\n      <td>[1, 1, 1, 1, 1, 1, 1, 0, 0, 1, 1, 1, 1, 1, 1, ...</td>\n      <td>372.8300</td>\n      <td>30</td>\n      <td>[(0, 84.0), (108.0, 204.0), (240.0, 324.0), (4...</td>\n    </tr>\n  </tbody>\n</table>\n</div>"
     },
     "execution_count": 63,
     "metadata": {},
     "output_type": "execute_result"
    }
   ],
   "source": [
    "merged_df.sample(n=5)"
   ],
   "metadata": {
    "collapsed": false,
    "pycharm": {
     "name": "#%%\n"
    }
   }
  }
 ],
 "metadata": {
  "kernelspec": {
   "display_name": "Python 3",
   "language": "python",
   "name": "python3"
  },
  "language_info": {
   "codemirror_mode": {
    "name": "ipython",
    "version": 2
   },
   "file_extension": ".py",
   "mimetype": "text/x-python",
   "name": "python",
   "nbconvert_exporter": "python",
   "pygments_lexer": "ipython2",
   "version": "2.7.6"
  }
 },
 "nbformat": 4,
 "nbformat_minor": 0
}