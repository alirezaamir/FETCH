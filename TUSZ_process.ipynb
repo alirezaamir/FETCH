{
 "cells": [
  {
   "cell_type": "code",
   "execution_count": 1,
   "metadata": {
    "collapsed": true,
    "pycharm": {
     "name": "#%%\n"
    }
   },
   "outputs": [],
   "source": [
    "import pandas as pd\n"
   ]
  },
  {
   "cell_type": "code",
   "execution_count": 2,
   "outputs": [],
   "source": [
    "df = pd.read_excel('./input/TUSZ/_DOCS/seizures_v36r.xlsx', engine='openpyxl', sheet_name='train', header=[0,1]).dropna(how='all')\n",
    "df_dev = pd.read_excel('./input/TUSZ/_DOCS/seizures_v36r.xlsx', engine='openpyxl', sheet_name='dev', header=[0,1]).dropna(how='all')\n",
    "df = pd.concat([df, df_dev], axis=0)"
   ],
   "metadata": {
    "collapsed": false,
    "pycharm": {
     "name": "#%%\n"
    }
   }
  },
  {
   "cell_type": "code",
   "execution_count": 3,
   "outputs": [],
   "source": [
    "df.columns  = ['_'.join(col) for col in df.columns.values]"
   ],
   "metadata": {
    "collapsed": false,
    "pycharm": {
     "name": "#%%\n"
    }
   }
  },
  {
   "cell_type": "code",
   "execution_count": 4,
   "outputs": [
    {
     "data": {
      "text/plain": "Index(['Index_Unnamed: 0_level_1', 'File No._Unnamed: 1_level_1',\n       'Patient_Unnamed: 2_level_1', 'Session_Unnamed: 3_level_1',\n       'File_Unnamed: 4_level_1', 'EEG Type_Unnamed: 5_level_1',\n       'EEG SubType_Unnamed: 6_level_1', 'LTM -or- Routine_Unnamed: 7_level_1',\n       'Normal/ Abnormal_Unnamed: 8_level_1',\n       'No. Seizures/ File_Unnamed: 9_level_1',\n       'No. Seizures/ Session_Unnamed: 10_level_1',\n       'No. Seizures/ Session_Filename', 'Seizure Time_Start',\n       'Seizure Time_Stop', 'Seizure Type_Unnamed: 14_level_1',\n       'Seizure Type_Unnamed: 15_level_1', 'Summary_EEG Type',\n       'Summary_Sessions', 'Summary_Freq.', 'Summary_Cum.', 'Summary_Cum..1',\n       'Summary_EEG SubType', 'Summary_Sessions.1', 'Summary_Freq..1',\n       'Summary_Cum..2', 'Summary_Cum..3', 'Summary_Seizure Type',\n       'Summary_Events', 'Summary_Freq..2', 'Summary_Cum..4',\n       'Summary_Cum..5'],\n      dtype='object')"
     },
     "execution_count": 4,
     "metadata": {},
     "output_type": "execute_result"
    }
   ],
   "source": [
    "df.columns"
   ],
   "metadata": {
    "collapsed": false,
    "pycharm": {
     "name": "#%%\n"
    }
   }
  },
  {
   "cell_type": "code",
   "execution_count": 5,
   "outputs": [
    {
     "data": {
      "text/plain": "Index_Unnamed: 0_level_1                     7513\nFile No._Unnamed: 1_level_1                  7513\nPatient_Unnamed: 2_level_1                   1423\nSession_Unnamed: 3_level_1                   1423\nFile_Unnamed: 4_level_1                      5612\nEEG Type_Unnamed: 5_level_1                  1423\nEEG SubType_Unnamed: 6_level_1               1423\nLTM -or- Routine_Unnamed: 7_level_1          1423\nNormal/ Abnormal_Unnamed: 8_level_1          1423\nNo. Seizures/ File_Unnamed: 9_level_1        5612\nNo. Seizures/ Session_Unnamed: 10_level_1    1423\nNo. Seizures/ Session_Filename               7513\nSeizure Time_Start                           3050\nSeizure Time_Stop                            3050\nSeizure Type_Unnamed: 14_level_1             3050\nSeizure Type_Unnamed: 15_level_1                0\nSummary_EEG Type                               32\nSummary_Sessions                               50\nSummary_Freq.                                  36\nSummary_Cum.                                   16\nSummary_Cum..1                                 40\nSummary_EEG SubType                            38\nSummary_Sessions.1                             38\nSummary_Freq..1                                38\nSummary_Cum..2                                 34\nSummary_Cum..3                                  0\nSummary_Seizure Type                           22\nSummary_Events                                 22\nSummary_Freq..2                                22\nSummary_Cum..4                                 20\nSummary_Cum..5                                  0\ndtype: int64"
     },
     "execution_count": 5,
     "metadata": {},
     "output_type": "execute_result"
    }
   ],
   "source": [
    "df.count()"
   ],
   "metadata": {
    "collapsed": false,
    "pycharm": {
     "name": "#%%\n"
    }
   }
  },
  {
   "cell_type": "code",
   "execution_count": 6,
   "outputs": [
    {
     "data": {
      "text/plain": "                                               filename  \\\n1650  ./train/01_tcp_ar/115/00011562/s004_2014_06_01...   \n5295  ./train/03_tcp_ar_a/046/00004671/s016_2015_03_...   \n2555  ./train/01_tcp_ar/130/00013010/s001_2015_08_28...   \n335   ./dev/01_tcp_ar/098/00009839/s005_2013_07_21/0...   \n3800  ./train/01_tcp_ar/065/00006563/s009_2010_02_11...   \n\n                                                     fs  \\\n1650  [256, 256, 256, 256, 256, 256, 256, 256, 256, ...   \n5295  [256, 256, 256, 256, 256, 256, 256, 256, 256, ...   \n2555  [256, 256, 256, 256, 256, 256, 256, 256, 256, ...   \n335   [256, 256, 256, 256, 256, 256, 256, 256, 256, ...   \n3800  [256, 256, 256, 256, 256, 256, 256, 256, 256, ...   \n\n                                                     ch  \n1650  [EEG FP1-REF, EEG FP2-REF, EEG F3-REF, EEG F4-...  \n5295  [EEG FP1-REF, EEG FP2-REF, EEG F3-REF, EEG F4-...  \n2555  [EEG FP1-REF, EEG FP2-REF, EEG F3-REF, EEG F4-...  \n335   [EEG FP1-REF, EEG FP2-REF, EEG F3-REF, EEG F4-...  \n3800  [EEG FP1-REF, EEG FP2-REF, EEG F3-REF, EEG F4-...  ",
      "text/html": "<div>\n<style scoped>\n    .dataframe tbody tr th:only-of-type {\n        vertical-align: middle;\n    }\n\n    .dataframe tbody tr th {\n        vertical-align: top;\n    }\n\n    .dataframe thead th {\n        text-align: right;\n    }\n</style>\n<table border=\"1\" class=\"dataframe\">\n  <thead>\n    <tr style=\"text-align: right;\">\n      <th></th>\n      <th>filename</th>\n      <th>fs</th>\n      <th>ch</th>\n    </tr>\n  </thead>\n  <tbody>\n    <tr>\n      <th>1650</th>\n      <td>./train/01_tcp_ar/115/00011562/s004_2014_06_01...</td>\n      <td>[256, 256, 256, 256, 256, 256, 256, 256, 256, ...</td>\n      <td>[EEG FP1-REF, EEG FP2-REF, EEG F3-REF, EEG F4-...</td>\n    </tr>\n    <tr>\n      <th>5295</th>\n      <td>./train/03_tcp_ar_a/046/00004671/s016_2015_03_...</td>\n      <td>[256, 256, 256, 256, 256, 256, 256, 256, 256, ...</td>\n      <td>[EEG FP1-REF, EEG FP2-REF, EEG F3-REF, EEG F4-...</td>\n    </tr>\n    <tr>\n      <th>2555</th>\n      <td>./train/01_tcp_ar/130/00013010/s001_2015_08_28...</td>\n      <td>[256, 256, 256, 256, 256, 256, 256, 256, 256, ...</td>\n      <td>[EEG FP1-REF, EEG FP2-REF, EEG F3-REF, EEG F4-...</td>\n    </tr>\n    <tr>\n      <th>335</th>\n      <td>./dev/01_tcp_ar/098/00009839/s005_2013_07_21/0...</td>\n      <td>[256, 256, 256, 256, 256, 256, 256, 256, 256, ...</td>\n      <td>[EEG FP1-REF, EEG FP2-REF, EEG F3-REF, EEG F4-...</td>\n    </tr>\n    <tr>\n      <th>3800</th>\n      <td>./train/01_tcp_ar/065/00006563/s009_2010_02_11...</td>\n      <td>[256, 256, 256, 256, 256, 256, 256, 256, 256, ...</td>\n      <td>[EEG FP1-REF, EEG FP2-REF, EEG F3-REF, EEG F4-...</td>\n    </tr>\n  </tbody>\n</table>\n</div>"
     },
     "execution_count": 6,
     "metadata": {},
     "output_type": "execute_result"
    }
   ],
   "source": [
    "fs_df =  pd.DataFrame.from_dict(pd.read_pickle('./input/TUSZ/_DOCS/fs.pickle'), orient='index')\n",
    "fs_df = fs_df.reset_index().rename(columns={\"index\": \"filename\"})\n",
    "fs_df['filename'] = fs_df['filename'].apply(\n",
    "    lambda x: './{}'.format(x.split('TUSZ/edf/')[1].split('.edf')[0]))\n",
    "fs_df.sample(n=5)"
   ],
   "metadata": {
    "collapsed": false,
    "pycharm": {
     "name": "#%%\n"
    }
   }
  },
  {
   "cell_type": "code",
   "execution_count": 7,
   "outputs": [
    {
     "data": {
      "text/plain": "array([\"['EEG FP1-REF', 'EEG FP2-REF', 'EEG F3-REF', 'EEG F4-REF', 'EEG C3-REF', 'EEG C4-REF', 'EEG P3-REF', 'EEG P4-REF', 'EEG O1-REF', 'EEG O2-REF', 'EEG F7-REF', 'EEG F8-REF', 'EEG T3-REF', 'EEG T4-REF', 'EEG T5-REF', 'EEG T6-REF', 'EEG A1-REF', 'EEG A2-REF', 'EEG FZ-REF', 'EEG CZ-REF', 'EEG PZ-REF', 'EEG ROC-REF', 'EEG LOC-REF', 'EEG EKG1-REF', 'EMG-REF', 'EEG 26-REF', 'EEG 27-REF', 'EEG 28-REF', 'EEG 29-REF', 'EEG 30-REF', 'EEG T1-REF', 'EEG T2-REF', 'PHOTIC-REF', 'IBI', 'BURSTS', 'SUPPR']\",\n       \"['EEG FP1-REF', 'EEG FP2-REF', 'EEG F3-REF', 'EEG F4-REF', 'EEG C3-REF', 'EEG C4-REF', 'EEG P3-REF', 'EEG P4-REF', 'EEG O1-REF', 'EEG O2-REF', 'EEG F7-REF', 'EEG F8-REF', 'EEG T3-REF', 'EEG T4-REF', 'EEG T5-REF', 'EEG T6-REF', 'EEG A1-REF', 'EEG A2-REF', 'EEG FZ-REF', 'EEG CZ-REF', 'EEG PZ-REF', 'EEG ROC-REF', 'EEG LOC-REF', 'EEG EKG1-REF', 'EEG T1-REF', 'EEG T2-REF', 'PHOTIC-REF', 'IBI', 'BURSTS', 'SUPPR']\",\n       \"['EEG FP1-REF', 'EEG FP2-REF', 'EEG F3-REF', 'EEG F4-REF', 'EEG C3-REF', 'EEG C4-REF', 'EEG P3-REF', 'EEG P4-REF', 'EEG O1-REF', 'EEG O2-REF', 'EEG F7-REF', 'EEG F8-REF', 'EEG T3-REF', 'EEG T4-REF', 'EEG T5-REF', 'EEG T6-REF', 'EEG T1-REF', 'EEG T2-REF', 'EEG FZ-REF', 'EEG CZ-REF', 'EEG PZ-REF', 'EEG EKG1-REF', 'EEG C3P-REF', 'EEG C4P-REF', 'EEG SP1-REF', 'EEG SP2-REF', 'EMG-REF', 'EEG A1-REF', 'EEG A2-REF', 'EEG 31-REF', 'EEG 32-REF', 'IBI', 'BURSTS', 'SUPPR']\",\n       \"['EEG FP1-REF', 'EEG FP2-REF', 'EEG F3-REF', 'EEG F4-REF', 'EEG C3-REF', 'EEG C4-REF', 'EEG P3-REF', 'EEG P4-REF', 'EEG O1-REF', 'EEG O2-REF', 'EEG F7-REF', 'EEG F8-REF', 'EEG T3-REF', 'EEG T4-REF', 'EEG T5-REF', 'EEG T6-REF', 'EEG T1-REF', 'EEG T2-REF', 'EEG FZ-REF', 'EEG CZ-REF', 'EEG PZ-REF', 'EEG EKG1-REF', 'EEG C3P-REF', 'EEG C4P-REF', 'EEG SP1-REF', 'EEG SP2-REF', 'EEG A1-REF', 'EEG A2-REF', 'EEG 31-REF', 'EEG 32-REF', 'PHOTIC-REF', 'IBI', 'BURSTS', 'SUPPR']\",\n       \"['EEG FP1-REF', 'EEG FP2-REF', 'EEG F3-REF', 'EEG F4-REF', 'EEG C3-REF', 'EEG C4-REF', 'EEG P3-REF', 'EEG P4-REF', 'EEG O1-REF', 'EEG O2-REF', 'EEG F7-REF', 'EEG F8-REF', 'EEG T3-REF', 'EEG T4-REF', 'EEG T5-REF', 'EEG T6-REF', 'EEG FZ-REF', 'EEG CZ-REF', 'EEG PZ-REF', 'EEG EKG-REF', 'EEG A1-REF', 'EEG A2-REF', 'EEG T1-REF', 'EEG T2-REF', 'EEG SP1-REF', 'EEG SP2-REF', 'EEG LUC-REF', 'EEG RLC-REF', 'EEG RESP1-REF', 'EEG RESP2-REF', 'EEG 31-REF', 'EEG 32-REF']\",\n       \"['EEG FP1-REF', 'EEG FP2-REF', 'EEG F3-REF', 'EEG F4-REF', 'EEG C3-REF', 'EEG C4-REF', 'EEG P3-REF', 'EEG P4-REF', 'EEG O1-REF', 'EEG O2-REF', 'EEG F7-REF', 'EEG F8-REF', 'EEG T3-REF', 'EEG T4-REF', 'EEG T5-REF', 'EEG T6-REF', 'EEG T1-REF', 'EEG T2-REF', 'EEG FZ-REF', 'EEG CZ-REF', 'EEG PZ-REF', 'EEG EKG1-REF', 'EEG C3P-REF', 'EEG C4P-REF', 'EEG SP1-REF', 'EEG SP2-REF', 'EEG A1-REF', 'EEG A2-REF', 'EEG 31-REF', 'EEG 32-REF', 'IBI', 'BURSTS', 'SUPPR']\",\n       \"['EEG FP1-REF', 'EEG FP2-REF', 'EEG F3-REF', 'EEG F4-REF', 'EEG C3-REF', 'EEG C4-REF', 'EEG P3-REF', 'EEG P4-REF', 'EEG O1-REF', 'EEG O2-REF', 'EEG F7-REF', 'EEG F8-REF', 'EEG T3-REF', 'EEG T4-REF', 'EEG T5-REF', 'EEG T6-REF', 'EEG A1-REF', 'EEG A2-REF', 'EEG FZ-REF', 'EEG CZ-REF', 'EEG PZ-REF', 'EEG ROC-REF', 'EEG LOC-REF', 'EEG EKG1-REF', 'EMG-REF', 'EEG T1-REF', 'EEG T2-REF', 'PHOTIC-REF', 'IBI', 'BURSTS', 'SUPPR']\",\n       \"['EEG FP1-REF', 'EEG FP2-REF', 'EEG F3-REF', 'EEG F4-REF', 'EEG C3-REF', 'EEG C4-REF', 'EEG P3-REF', 'EEG P4-REF', 'EEG O1-REF', 'EEG O2-REF', 'EEG F7-REF', 'EEG F8-REF', 'EEG T3-REF', 'EEG T4-REF', 'EEG T5-REF', 'EEG T6-REF', 'EEG T1-REF', 'EEG T2-REF', 'EEG FZ-REF', 'EEG CZ-REF', 'EEG PZ-REF', 'EEG EKG1-REF', 'EEG C3P-REF', 'EEG C4P-REF', 'EEG A1-REF', 'EEG A2-REF', 'IBI', 'BURSTS', 'SUPPR']\",\n       \"['EEG FP1-REF', 'EEG FP2-REF', 'EEG F3-REF', 'EEG F4-REF', 'EEG C3-REF', 'EEG C4-REF', 'EEG P3-REF', 'EEG P4-REF', 'EEG O1-REF', 'EEG O2-REF', 'EEG F7-REF', 'EEG F8-REF', 'EEG T3-REF', 'EEG T4-REF', 'EEG T5-REF', 'EEG T6-REF', 'EEG T1-REF', 'EEG T2-REF', 'EEG FZ-REF', 'EEG CZ-REF', 'EEG PZ-REF', 'EEG EKG1-REF', 'EMG-REF', 'EEG A1-REF', 'EEG A2-REF', 'EEG 31-REF', 'EEG 32-REF', 'IBI', 'BURSTS', 'SUPPR']\",\n       \"['EEG FP1-REF', 'EEG FP2-REF', 'EEG F3-REF', 'EEG F4-REF', 'EEG C3-REF', 'EEG C4-REF', 'EEG P3-REF', 'EEG P4-REF', 'EEG O1-REF', 'EEG O2-REF', 'EEG F7-REF', 'EEG F8-REF', 'EEG T3-REF', 'EEG T4-REF', 'EEG T5-REF', 'EEG T6-REF', 'EEG T1-REF', 'EEG T2-REF', 'EEG FZ-REF', 'EEG CZ-REF', 'EEG PZ-REF', 'EEG EKG1-REF', 'EEG A1-REF', 'EEG A2-REF', 'PHOTIC-REF', 'IBI', 'BURSTS', 'SUPPR']\",\n       \"['EEG FP1-REF', 'EEG FP2-REF', 'EEG F3-REF', 'EEG F4-REF', 'EEG C3-REF', 'EEG C4-REF', 'EEG P3-REF', 'EEG P4-REF', 'EEG O1-REF', 'EEG O2-REF', 'EEG F7-REF', 'EEG F8-REF', 'EEG T3-REF', 'EEG T4-REF', 'EEG T5-REF', 'EEG T6-REF', 'EEG T1-REF', 'EEG T2-REF', 'EEG FZ-REF', 'EEG CZ-REF', 'EEG PZ-REF', 'EEG EKG1-REF', 'EEG A1-REF', 'EEG A2-REF', 'IBI', 'BURSTS', 'SUPPR']\",\n       \"['EEG FP1-REF', 'EEG FP2-REF', 'EEG F3-REF', 'EEG F4-REF', 'EEG C3-REF', 'EEG C4-REF', 'EEG P3-REF', 'EEG P4-REF', 'EEG O1-REF', 'EEG O2-REF', 'EEG F7-REF', 'EEG F8-REF', 'EEG T3-REF', 'EEG T4-REF', 'EEG T5-REF', 'EEG T6-REF', 'EEG A1-REF', 'EEG A2-REF', 'EEG FZ-REF', 'EEG CZ-REF', 'EEG PZ-REF', 'EEG EKG1-REF', 'EEG T1-REF', 'EEG T2-REF', 'PHOTIC-REF', 'IBI', 'BURSTS', 'SUPPR']\",\n       \"['EEG FP1-LE', 'EEG FP2-LE', 'EEG F3-LE', 'EEG F4-LE', 'EEG C3-LE', 'EEG C4-LE', 'EEG A1-LE', 'EEG A2-LE', 'EEG P3-LE', 'EEG P4-LE', 'EEG O1-LE', 'EEG O2-LE', 'EEG F7-LE', 'EEG F8-LE', 'EEG T3-LE', 'EEG T4-LE', 'EEG T5-LE', 'EEG T6-LE', 'EEG FZ-LE', 'EEG CZ-LE', 'EEG PZ-LE', 'EEG OZ-LE', 'EEG PG1-LE', 'EEG PG2-LE', 'EEG EKG-LE', 'EEG 26-LE', 'EEG 27-LE', 'EEG 28-LE', 'EEG 29-LE', 'EEG 30-LE', 'EEG 31-LE', 'EEG 32-LE', 'PHOTIC PH']\",\n       \"['EEG FP1-LE', 'EEG FP2-LE', 'EEG F3-LE', 'EEG F4-LE', 'EEG C3-LE', 'EEG C4-LE', 'EEG A1-LE', 'EEG A2-LE', 'EEG P3-LE', 'EEG P4-LE', 'EEG O1-LE', 'EEG O2-LE', 'EEG F7-LE', 'EEG F8-LE', 'EEG T3-LE', 'EEG T4-LE', 'EEG T5-LE', 'EEG T6-LE', 'EEG FZ-LE', 'EEG CZ-LE', 'EEG PZ-LE', 'EEG OZ-LE', 'EEG PG1-LE', 'EEG PG2-LE', 'EEG EKG-LE', 'EEG 26-LE', 'EEG 27-LE', 'EEG 28-LE', 'EEG 29-LE', 'EEG 30-LE', 'EEG 31-LE', 'EEG 32-LE', 'PHOTIC PH', 'DC1-DC', 'DC2-DC', 'DC3-DC', 'DC4-DC', 'DC5-DC', 'DC6-DC', 'DC7-DC', 'DC8-DC']\",\n       \"['EEG FP1-LE', 'EEG FP2-LE', 'EEG F3-LE', 'EEG F4-LE', 'EEG C3-LE', 'EEG C4-LE', 'EEG A1-LE', 'EEG A2-LE', 'EEG P3-LE', 'EEG P4-LE', 'EEG O1-LE', 'EEG O2-LE', 'EEG F7-LE', 'EEG F8-LE', 'EEG T3-LE', 'EEG T4-LE', 'EEG T5-LE', 'EEG T6-LE', 'EEG FZ-LE', 'EEG CZ-LE', 'EEG PZ-LE', 'EEG OZ-LE', 'EEG PG1-LE', 'EEG PG2-LE', 'EEG EKG-LE', 'EEG SP2-LE', 'EEG SP1-LE', 'EEG 28-LE', 'EEG 29-LE', 'EEG 30-LE', 'EEG T1-LE', 'EEG T2-LE', 'PHOTIC PH']\",\n       \"['EEG FP1-LE', 'EEG FP2-LE', 'EEG F3-LE', 'EEG F4-LE', 'EEG C3-LE', 'EEG C4-LE', 'EEG A1-LE', 'EEG A2-LE', 'EEG P3-LE', 'EEG P4-LE', 'EEG O1-LE', 'EEG O2-LE', 'EEG F7-LE', 'EEG F8-LE', 'EEG T3-LE', 'EEG T4-LE', 'EEG T5-LE', 'EEG T6-LE', 'EEG FZ-LE', 'EEG CZ-LE', 'EEG PZ-LE', 'EEG OZ-LE', 'EEG PG1-LE', 'EEG PG2-LE', 'EEG EKG-LE', 'EEG SP2-LE', 'EEG SP1-LE', 'EEG RLC-LE', 'EEG LUC-LE', 'EEG 30-LE', 'EEG T1-LE', 'EEG T2-LE', 'PHOTIC PH']\",\n       \"['EEG FP1-LE', 'EEG FP2-LE', 'EEG F3-LE', 'EEG F4-LE', 'EEG C3-LE', 'EEG C4-LE', 'EEG A1-LE', 'EEG A2-LE', 'EEG P3-LE', 'EEG P4-LE', 'EEG O1-LE', 'EEG O2-LE', 'EEG F7-LE', 'EEG F8-LE', 'EEG T3-LE', 'EEG T4-LE', 'EEG T5-LE', 'EEG T6-LE', 'EEG FZ-LE', 'EEG CZ-LE', 'EEG PZ-LE', 'EEG OZ-LE', 'EEG 23-LE', 'EEG 24-LE', 'EEG EKG-LE', 'EEG 26-LE', 'EEG 27-LE', 'EEG 28-LE', 'EEG 29-LE', 'EEG 30-LE', 'EEG T1-LE', 'EEG T2-LE']\",\n       \"['EEG FP1-REF', 'EEG FP2-REF', 'EEG F3-REF', 'EEG F4-REF', 'EEG C3-REF', 'EEG C4-REF', 'EEG P3-REF', 'EEG P4-REF', 'EEG O1-REF', 'EEG O2-REF', 'EEG F7-REF', 'EEG F8-REF', 'EEG T3-REF', 'EEG T4-REF', 'EEG T5-REF', 'EEG T6-REF', 'EEG FZ-REF', 'EEG CZ-REF', 'EEG PZ-REF', 'EEG 20-REF', 'EEG 21-REF', 'EEG 22-REF', 'EEG 23-REF', 'EEG 24-REF', 'EEG 25-REF', 'EEG 26-REF', 'EEG 27-REF', 'EEG 28-REF', 'EEG 29-REF', 'EEG 30-REF', 'EEG 31-REF', 'EEG 32-REF']\",\n       \"['EEG FP1-REF', 'EEG FP2-REF', 'EEG F3-REF', 'EEG F4-REF', 'EEG C3-REF', 'EEG C4-REF', 'EEG P3-REF', 'EEG P4-REF', 'EEG O1-REF', 'EEG O2-REF', 'EEG F7-REF', 'EEG F8-REF', 'EEG T3-REF', 'EEG T4-REF', 'EEG T5-REF', 'EEG T6-REF', 'EEG T1-REF', 'EEG T2-REF', 'EEG FZ-REF', 'EEG CZ-REF', 'EEG PZ-REF', 'EEG EKG1-REF', 'EEG C3P-REF', 'EEG C4P-REF', 'EEG SP1-REF', 'EEG SP2-REF', 'EMG-REF', 'EEG 29-REF', 'EEG 30-REF', 'EEG 31-REF', 'EEG 32-REF', 'IBI', 'BURSTS', 'SUPPR']\",\n       \"['EEG FP1-REF', 'EEG FP2-REF', 'EEG F3-REF', 'EEG F4-REF', 'EEG C3-REF', 'EEG C4-REF', 'EEG P3-REF', 'EEG P4-REF', 'EEG O1-REF', 'EEG O2-REF', 'EEG F7-REF', 'EEG F8-REF', 'EEG T3-REF', 'EEG T4-REF', 'EEG T5-REF', 'EEG T6-REF', 'EEG T1-REF', 'EEG T2-REF', 'EEG FZ-REF', 'EEG CZ-REF', 'EEG PZ-REF', 'EEG EKG1-REF', 'EEG LOC-REF', 'EEG ROC-REF', 'EEG SP1-REF', 'EEG SP2-REF', 'EMG-REF', 'EEG A1-REF', 'EEG A2-REF', 'EEG 31-REF', 'EEG 32-REF', 'IBI', 'BURSTS', 'SUPPR']\",\n       \"['EEG FP1-REF', 'EEG FP2-REF', 'EEG F3-REF', 'EEG F4-REF', 'EEG C3-REF', 'EEG C4-REF', 'EEG P3-REF', 'EEG P4-REF', 'EEG O1-REF', 'EEG O2-REF', 'EEG F7-REF', 'EEG F8-REF', 'EEG T3-REF', 'EEG T4-REF', 'EEG T5-REF', 'EEG T6-REF', 'EEG T1-REF', 'EEG T2-REF', 'EEG FZ-REF', 'EEG CZ-REF', 'EEG PZ-REF', 'EEG EKG1-REF', 'EEG LOC-REF', 'EEG ROC-REF', 'EEG A1-REF', 'EEG A2-REF', 'IBI', 'BURSTS', 'SUPPR']\",\n       \"['EEG FP1-REF', 'EEG FP2-REF', 'EEG F3-REF', 'EEG F4-REF', 'EEG C3-REF', 'EEG C4-REF', 'EEG P3-REF', 'EEG P4-REF', 'EEG O1-REF', 'EEG O2-REF', 'EEG F7-REF', 'EEG F8-REF', 'EEG T3-REF', 'EEG T4-REF', 'EEG T5-REF', 'EEG T6-REF', 'EEG T1-REF', 'EEG T2-REF', 'EEG FZ-REF', 'EEG CZ-REF', 'EEG PZ-REF', 'EEG EKG1-REF', 'EEG A1-REF', 'EEG A2-REF', 'EEG 31-REF', 'EEG 32-REF', 'IBI', 'BURSTS', 'SUPPR']\",\n       \"['EEG FP1-REF', 'EEG FP2-REF', 'EEG F3-REF', 'EEG F4-REF', 'EEG C3-REF', 'EEG C4-REF', 'EEG P3-REF', 'EEG P4-REF', 'EEG O1-REF', 'EEG O2-REF', 'EEG F7-REF', 'EEG F8-REF', 'EEG T3-REF', 'EEG T4-REF', 'EEG T5-REF', 'EEG T6-REF', 'EEG A1-REF', 'EEG A2-REF', 'EEG FZ-REF', 'EEG CZ-REF', 'EEG PZ-REF', 'EEG OZ-REF', 'ECG EKG-REF', 'PULSE RATE', 'IBI', 'BURSTS', 'SUPPR']\",\n       \"['EEG FP1-REF', 'EEG FP2-REF', 'EEG F3-REF', 'EEG F4-REF', 'EEG C3-REF', 'EEG C4-REF', 'EEG P3-REF', 'EEG P4-REF', 'EEG O1-REF', 'EEG O2-REF', 'EEG F7-REF', 'EEG F8-REF', 'EEG T3-REF', 'EEG T4-REF', 'EEG T5-REF', 'EEG T6-REF', 'EEG T1-REF', 'EEG T2-REF', 'EEG FZ-REF', 'EEG CZ-REF', 'EEG PZ-REF', 'EEG EKG1-REF', 'EEG C3P-REF', 'EEG C4P-REF', 'EEG SP1-REF', 'EEG SP2-REF', 'EMG-REF', 'EEG A1-REF', 'EEG A2-REF', 'IBI', 'BURSTS', 'SUPPR']\",\n       \"['EEG FP1-REF', 'EEG FP2-REF', 'EEG F3-REF', 'EEG F4-REF', 'EEG C3-REF', 'EEG C4-REF', 'EEG P3-REF', 'EEG P4-REF', 'EEG O1-REF', 'EEG O2-REF', 'EEG F7-REF', 'EEG F8-REF', 'EEG T3-REF', 'EEG T4-REF', 'EEG T5-REF', 'EEG T6-REF', 'EEG T1-REF', 'EEG T2-REF', 'EEG FZ-REF', 'EEG CZ-REF', 'EEG PZ-REF', 'EEG EKG1-REF', 'EEG A1-REF', 'EEG A2-REF', 'EEG LOC-REF', 'EEG ROC-REF', 'IBI', 'BURSTS', 'SUPPR']\",\n       \"['EEG FP1-REF', 'EEG FP2-REF', 'EEG F3-REF', 'EEG F4-REF', 'EEG C3-REF', 'EEG C4-REF', 'EEG P3-REF', 'EEG P4-REF', 'EEG O1-REF', 'EEG O2-REF', 'EEG F7-REF', 'EEG F8-REF', 'EEG T3-REF', 'EEG T4-REF', 'EEG T5-REF', 'EEG T6-REF', 'EEG T1-REF', 'EEG T2-REF', 'EEG FZ-REF', 'EEG CZ-REF', 'EEG PZ-REF', 'EEG EKG1-REF', 'EEG C3P-REF', 'EEG C4P-REF', 'EEG A1-REF', 'EEG A2-REF', 'EEG LOC-REF', 'EEG ROC-REF', 'IBI', 'BURSTS', 'SUPPR']\",\n       \"['EEG FP1-REF', 'EEG FP2-REF', 'EEG F3-REF', 'EEG F4-REF', 'EEG C3-REF', 'EEG C4-REF', 'EEG P3-REF', 'EEG P4-REF', 'EEG O1-REF', 'EEG O2-REF', 'EEG F7-REF', 'EEG F8-REF', 'EEG T3-REF', 'EEG T4-REF', 'EEG T5-REF', 'EEG T6-REF', 'EEG T1-REF', 'EEG T2-REF', 'EEG FZ-REF', 'EEG CZ-REF', 'EEG PZ-REF', 'EEG EKG1-REF', 'EEG C3P-REF', 'EEG C4P-REF', 'EEG SP1-REF', 'EEG SP2-REF', 'EMG-REF', 'EEG A1-REF', 'EEG A2-REF', 'EEG 31-REF', 'EEG 32-REF', 'PHOTIC-REF', 'IBI', 'BURSTS', 'SUPPR']\",\n       \"['EEG FP1-REF', 'EEG FP2-REF', 'EEG F3-REF', 'EEG F4-REF', 'EEG C3-REF', 'EEG C4-REF', 'EEG P3-REF', 'EEG P4-REF', 'EEG O1-REF', 'EEG O2-REF', 'EEG F7-REF', 'EEG F8-REF', 'EEG T3-REF', 'EEG T4-REF', 'EEG T5-REF', 'EEG T6-REF', 'EEG T1-REF', 'EEG T2-REF', 'EEG FZ-REF', 'EEG CZ-REF', 'EEG PZ-REF', 'EEG EKG1-REF', 'EEG SP1-REF', 'EEG SP2-REF', 'EMG-REF', 'EEG A1-REF', 'EEG A2-REF', 'IBI', 'BURSTS', 'SUPPR']\",\n       \"['EEG FP1-REF', 'EEG FP2-REF', 'EEG F3-REF', 'EEG F4-REF', 'EEG C3-REF', 'EEG C4-REF', 'EEG P3-REF', 'EEG P4-REF', 'EEG O1-REF', 'EEG O2-REF', 'EEG F7-REF', 'EEG F8-REF', 'EEG T3-REF', 'EEG T4-REF', 'EEG T5-REF', 'EEG T6-REF', 'EEG T1-REF', 'EEG T2-REF', 'EEG FZ-REF', 'EEG CZ-REF', 'EEG PZ-REF', 'EEG EKG1-REF', 'EEG C3P-REF', 'EEG C4P-REF', 'EEG A1-REF', 'EEG A2-REF', 'EEG 31-REF', 'EEG 32-REF', 'IBI', 'BURSTS', 'SUPPR']\",\n       \"['EEG FP1-REF', 'EEG FP2-REF', 'EEG F3-REF', 'EEG F4-REF', 'EEG C3-REF', 'EEG C4-REF', 'EEG P3-REF', 'EEG P4-REF', 'EEG O1-REF', 'EEG O2-REF', 'EEG F7-REF', 'EEG F8-REF', 'EEG T3-REF', 'EEG T4-REF', 'EEG T5-REF', 'EEG T6-REF', 'EEG T1-REF', 'EEG T2-REF', 'EEG FZ-REF', 'EEG CZ-REF', 'EEG PZ-REF', 'EEG EKG1-REF', 'EEG C3P-REF', 'EEG C4P-REF', 'EEG SP1-REF', 'EEG SP2-REF', 'EEG A1-REF', 'EEG A2-REF', 'IBI', 'BURSTS', 'SUPPR']\",\n       \"['EEG FP1-REF', 'EEG FP2-REF', 'EEG F3-REF', 'EEG F4-REF', 'EEG C3-REF', 'EEG C4-REF', 'EEG P3-REF', 'EEG P4-REF', 'EEG O1-REF', 'EEG O2-REF', 'EEG F7-REF', 'EEG F8-REF', 'EEG T3-REF', 'EEG T4-REF', 'EEG T5-REF', 'EEG T6-REF', 'EEG T1-REF', 'EEG T2-REF', 'EEG FZ-REF', 'EEG CZ-REF', 'EEG PZ-REF', 'EEG EKG1-REF', 'EEG LOC-REF', 'EEG ROC-REF', 'EEG SP1-REF', 'EMG-REF', 'EEG A1-REF', 'EEG A2-REF', 'RESP ABDOMEN-REF', 'IBI', 'BURSTS', 'SUPPR']\",\n       \"['EEG FP1-REF', 'EEG FP2-REF', 'EEG F3-REF', 'EEG F4-REF', 'EEG C3-REF', 'EEG C4-REF', 'EEG P3-REF', 'EEG P4-REF', 'EEG O1-REF', 'EEG O2-REF', 'EEG F7-REF', 'EEG F8-REF', 'EEG T3-REF', 'EEG T4-REF', 'EEG T5-REF', 'EEG T6-REF', 'EEG T1-REF', 'EEG T2-REF', 'EEG FZ-REF', 'EEG CZ-REF', 'EEG PZ-REF', 'EEG EKG1-REF', 'EEG C3P-REF', 'EEG C4P-REF', 'EEG SP1-REF', 'EMG-REF', 'EEG A1-REF', 'EEG A2-REF', 'RESP ABDOMEN-REF', 'IBI', 'BURSTS', 'SUPPR']\",\n       \"['EEG FP1-REF', 'EEG FP2-REF', 'EEG F3-REF', 'EEG F4-REF', 'EEG C3-REF', 'EEG C4-REF', 'EEG P3-REF', 'EEG P4-REF', 'EEG O1-REF', 'EEG O2-REF', 'EEG F7-REF', 'EEG F8-REF', 'EEG T3-REF', 'EEG T4-REF', 'EEG T5-REF', 'EEG T6-REF', 'EEG T1-REF', 'EEG T2-REF', 'EEG FZ-REF', 'EEG CZ-REF', 'EEG PZ-REF', 'EEG EKG1-REF', 'EEG C3P-REF', 'EEG C4P-REF', 'EEG A1-REF', 'EEG A2-REF', 'RESP ABDOMEN-REF', 'IBI', 'BURSTS', 'SUPPR']\",\n       \"['EEG FP1-REF', 'EEG FP2-REF', 'EEG F3-REF', 'EEG F4-REF', 'EEG C3-REF', 'EEG C4-REF', 'EEG P3-REF', 'EEG P4-REF', 'EEG O1-REF', 'EEG O2-REF', 'EEG F7-REF', 'EEG F8-REF', 'EEG T3-REF', 'EEG T4-REF', 'EEG T5-REF', 'EEG T6-REF', 'EEG T1-REF', 'EEG T2-REF', 'EEG FZ-REF', 'EEG CZ-REF', 'EEG PZ-REF', 'EEG EKG1-REF', 'EEG SP1-REF', 'EEG A1-REF', 'EEG A2-REF', 'IBI', 'BURSTS', 'SUPPR']\",\n       \"['EEG FP1-REF', 'EEG FP2-REF', 'EEG F3-REF', 'EEG F4-REF', 'EEG C3-REF', 'EEG C4-REF', 'EEG P3-REF', 'EEG P4-REF', 'EEG O1-REF', 'EEG O2-REF', 'EEG F7-REF', 'EEG F8-REF', 'EEG T3-REF', 'EEG T4-REF', 'EEG T5-REF', 'EEG T6-REF', 'EEG T1-REF', 'EEG T2-REF', 'EEG FZ-REF', 'EEG CZ-REF', 'EEG PZ-REF', 'EEG EKG1-REF', 'EEG SP1-REF', 'EEG SP2-REF', 'EMG-REF', 'EEG A1-REF', 'EEG A2-REF', 'EEG 31-REF', 'EEG 32-REF', 'IBI', 'BURSTS', 'SUPPR']\",\n       \"['EEG FP1-REF', 'EEG FP2-REF', 'EEG F3-REF', 'EEG F4-REF', 'EEG C3-REF', 'EEG C4-REF', 'EEG P3-REF', 'EEG P4-REF', 'EEG O1-REF', 'EEG O2-REF', 'EEG F7-REF', 'EEG F8-REF', 'EEG T3-REF', 'EEG T4-REF', 'EEG T5-REF', 'EEG T6-REF', 'EEG T1-REF', 'EEG T2-REF', 'EEG FZ-REF', 'EEG CZ-REF', 'EEG PZ-REF', 'EEG EKG1-REF', 'EMG-REF', 'EEG A1-REF', 'EEG A2-REF', 'PHOTIC-REF', 'IBI', 'BURSTS', 'SUPPR']\",\n       \"['EEG FP1-REF', 'EEG FP2-REF', 'EEG F3-REF', 'EEG F4-REF', 'EEG C3-REF', 'EEG C4-REF', 'EEG P3-REF', 'EEG P4-REF', 'EEG O1-REF', 'EEG O2-REF', 'EEG F7-REF', 'EEG F8-REF', 'EEG T3-REF', 'EEG T4-REF', 'EEG T5-REF', 'EEG T6-REF', 'EEG T1-REF', 'EEG T2-REF', 'EEG FZ-REF', 'EEG CZ-REF', 'EEG PZ-REF', 'EEG EKG1-REF', 'EEG SP1-REF', 'EEG SP2-REF', 'EEG A1-REF', 'EEG A2-REF', 'EEG 31-REF', 'EEG 32-REF', 'IBI', 'BURSTS', 'SUPPR']\",\n       \"['EEG FP1-REF', 'EEG FP2-REF', 'EEG F3-REF', 'EEG F4-REF', 'EEG C3-REF', 'EEG C4-REF', 'EEG P3-REF', 'EEG P4-REF', 'EEG O1-REF', 'EEG O2-REF', 'EEG F7-REF', 'EEG F8-REF', 'EEG T3-REF', 'EEG T4-REF', 'EEG T5-REF', 'EEG T6-REF', 'EEG T1-REF', 'EEG T2-REF', 'EEG FZ-REF', 'EEG CZ-REF', 'EEG PZ-REF', 'EEG EKG1-REF', 'EMG-REF', 'EEG A1-REF', 'EEG A2-REF', 'IBI', 'BURSTS', 'SUPPR']\",\n       \"['EEG FP1-REF', 'EEG FP2-REF', 'EEG F3-REF', 'EEG F4-REF', 'EEG C3-REF', 'EEG C4-REF', 'EEG P3-REF', 'EEG P4-REF', 'EEG O1-REF', 'EEG O2-REF', 'EEG F7-REF', 'EEG F8-REF', 'EEG T3-REF', 'EEG T4-REF', 'EEG T5-REF', 'EEG T6-REF', 'EEG A1-REF', 'EEG A2-REF', 'EEG FZ-REF', 'EEG CZ-REF', 'EEG PZ-REF', 'EEG ROC-REF', 'EEG LOC-REF', 'EEG EKG1-REF', 'PHOTIC-REF', 'IBI', 'BURSTS', 'SUPPR']\",\n       \"['EEG FP1-REF', 'EEG FP2-REF', 'EEG F3-REF', 'EEG F4-REF', 'EEG C3-REF', 'EEG C4-REF', 'EEG P3-REF', 'EEG P4-REF', 'EEG O1-REF', 'EEG O2-REF', 'EEG F7-REF', 'EEG F8-REF', 'EEG T3-REF', 'EEG T4-REF', 'EEG T5-REF', 'EEG T6-REF', 'EEG FZ-REF', 'EEG CZ-REF', 'EEG PZ-REF', 'EEG 20-REF', 'EEG 21-REF', 'EEG 22-REF', 'EEG 23-REF', 'EEG 24-REF', 'EEG 25-REF', 'EEG 26-REF', 'EEG 27-REF', 'EEG 28-REF', 'EEG 29-REF', 'EEG 30-REF', 'EEG 31-REF', 'EEG 32-REF', 'EEG 33-REF', 'EEG 34-REF', 'EEG 35-REF', 'EEG 36-REF', 'EEG 37-REF', 'EEG 38-REF', 'EEG 39-REF', 'EEG 40-REF', 'EEG 41-REF', 'EEG 42-REF', 'EEG 43-REF', 'EEG 44-REF', 'EEG 45-REF', 'EEG 46-REF', 'EEG 47-REF', 'EEG 48-REF', 'EEG 49-REF', 'EEG 50-REF', 'EEG 51-REF', 'EEG 52-REF', 'EEG 53-REF', 'EEG 54-REF', 'EEG 55-REF', 'EEG 56-REF', 'EEG 57-REF', 'EEG 58-REF', 'EEG 59-REF', 'EEG 60-REF', 'EEG 61-REF', 'EEG 62-REF', 'EEG 63-REF', 'EEG 64-REF', 'EEG 65-REF', 'EEG 66-REF', 'EEG 67-REF', 'EEG 68-REF', 'EEG 69-REF', 'EEG 70-REF', 'EEG 71-REF', 'EEG 72-REF', 'EEG 73-REF', 'EEG 74-REF', 'EEG 75-REF', 'EEG 76-REF', 'EEG 77-REF', 'EEG 78-REF', 'EEG 79-REF', 'EEG 80-REF', 'EEG 81-REF', 'EEG 82-REF', 'EEG 83-REF', 'EEG 84-REF', 'EEG 85-REF', 'EEG 86-REF', 'EEG 87-REF', 'EEG 88-REF', 'EEG 89-REF', 'EEG 90-REF', 'EEG 91-REF', 'EEG 92-REF', 'EEG 93-REF', 'EEG 94-REF', 'EEG 95-REF', 'EEG 96-REF', 'EEG 97-REF', 'EEG 98-REF', 'EEG 99-REF', 'EEG 100-REF', 'EEG 101-REF', 'EEG 102-REF', 'EEG 103-REF', 'EEG 104-REF', 'EEG 105-REF', 'EEG 106-REF', 'EEG 107-REF', 'EEG 108-REF', 'EEG 109-REF', 'EEG 110-REF', 'EEG 111-REF', 'EEG 112-REF', 'EEG 113-REF', 'EEG 114-REF', 'EEG 115-REF', 'EEG 116-REF', 'EEG 117-REF', 'EEG 118-REF', 'EEG 119-REF', 'EEG 120-REF', 'EEG 121-REF', 'EEG 122-REF', 'EEG 123-REF', 'EEG 124-REF', 'EEG 125-REF', 'EEG 126-REF', 'EEG 127-REF', 'EEG 128-REF', 'EDF ANNOTATIONS']\",\n       \"['EEG FP1-REF', 'EEG FP2-REF', 'EEG F3-REF', 'EEG F4-REF', 'EEG C3-REF', 'EEG C4-REF', 'EEG P3-REF', 'EEG P4-REF', 'EEG O1-REF', 'EEG O2-REF', 'EEG F7-REF', 'EEG F8-REF', 'EEG T3-REF', 'EEG T4-REF', 'EEG T5-REF', 'EEG T6-REF', 'EEG T1-REF', 'EEG T2-REF', 'EEG FZ-REF', 'EEG CZ-REF', 'EEG PZ-REF', 'EEG EKG1-REF', 'EEG C3P-REF', 'EEG C4P-REF', 'EEG 29-REF', 'EEG 30-REF', 'EEG 31-REF', 'EEG 32-REF', 'IBI', 'BURSTS', 'SUPPR']\",\n       \"['EEG FP1-REF', 'EEG FP2-REF', 'EEG F3-REF', 'EEG F4-REF', 'EEG C3-REF', 'EEG C4-REF', 'EEG P3-REF', 'EEG P4-REF', 'EEG O1-REF', 'EEG O2-REF', 'EEG F7-REF', 'EEG F8-REF', 'EEG T3-REF', 'EEG T4-REF', 'EEG T5-REF', 'EEG T6-REF', 'EEG T1-REF', 'EEG T2-REF', 'EEG FZ-REF', 'EEG CZ-REF', 'EEG PZ-REF', 'EEG EKG1-REF', 'EEG C3P-REF', 'EEG C4P-REF', 'EEG SP1-REF', 'EEG SP2-REF', 'EEG 29-REF', 'EEG 30-REF', 'EEG 31-REF', 'EEG 32-REF', 'IBI', 'BURSTS', 'SUPPR']\",\n       \"['EEG FP1-REF', 'EEG FP2-REF', 'EEG F3-REF', 'EEG F4-REF', 'EEG C3-REF', 'EEG C4-REF', 'EEG P3-REF', 'EEG P4-REF', 'EEG O1-REF', 'EEG O2-REF', 'EEG F7-REF', 'EEG F8-REF', 'EEG T3-REF', 'EEG T4-REF', 'EEG T5-REF', 'EEG T6-REF', 'EEG T1-REF', 'EEG T2-REF', 'EEG FZ-REF', 'EEG CZ-REF', 'EEG PZ-REF', 'EEG EKG1-REF', 'EEG C3P-REF', 'EEG C4P-REF', 'EEG SP1-REF', 'EEG SP2-REF', 'EMG-REF', 'EEG 29-REF', 'EEG 30-REF', 'EEG 31-REF', 'EEG 32-REF', 'IBI', 'BURSTS', 'SUPPR', 'EDF ANNOTATIONS']\",\n       \"['EEG FP1-REF', 'EEG FP2-REF', 'EEG F3-REF', 'EEG F4-REF', 'EEG C3-REF', 'EEG C4-REF', 'EEG P3-REF', 'EEG P4-REF', 'EEG O1-REF', 'EEG O2-REF', 'EEG F7-REF', 'EEG F8-REF', 'EEG T3-REF', 'EEG T4-REF', 'EEG T5-REF', 'EEG T6-REF', 'EEG T1-REF', 'EEG T2-REF', 'EEG FZ-REF', 'EEG CZ-REF', 'EEG PZ-REF', 'EEG EKG1-REF', 'EEG LOC-REF', 'EEG ROC-REF', 'EEG SP1-REF', 'EEG SP2-REF', 'EMG-REF', 'EEG 29-REF', 'EEG 30-REF', 'EEG 31-REF', 'EEG 32-REF', 'IBI', 'BURSTS', 'SUPPR']\",\n       \"['EEG FP1-REF', 'EEG FP2-REF', 'EEG F3-REF', 'EEG F4-REF', 'EEG C3-REF', 'EEG C4-REF', 'EEG P3-REF', 'EEG P4-REF', 'EEG O1-REF', 'EEG O2-REF', 'EEG F7-REF', 'EEG F8-REF', 'EEG T3-REF', 'EEG T4-REF', 'EEG T5-REF', 'EEG T6-REF', 'EEG T1-REF', 'EEG T2-REF', 'EEG FZ-REF', 'EEG CZ-REF', 'EEG PZ-REF', 'EEG EKG1-REF', 'EEG SP1-REF', 'EEG SP2-REF', 'EMG-REF', 'EEG 29-REF', 'EEG 30-REF', 'EEG 31-REF', 'EEG 32-REF', 'IBI', 'BURSTS', 'SUPPR']\",\n       \"['EEG FP1-REF', 'EEG FP2-REF', 'EEG F3-REF', 'EEG F4-REF', 'EEG C3-REF', 'EEG C4-REF', 'EEG P3-REF', 'EEG P4-REF', 'EEG O1-REF', 'EEG O2-REF', 'EEG F7-REF', 'EEG F8-REF', 'EEG T3-REF', 'EEG T4-REF', 'EEG T5-REF', 'EEG T6-REF', 'EEG T1-REF', 'EEG T2-REF', 'EEG FZ-REF', 'EEG CZ-REF', 'EEG PZ-REF', 'EEG EKG1-REF', 'EEG 29-REF', 'EEG 30-REF', 'EEG 31-REF', 'EEG 32-REF', 'IBI', 'BURSTS', 'SUPPR']\",\n       \"['EEG FP1-REF', 'EEG FP2-REF', 'EEG F3-REF', 'EEG F4-REF', 'EEG C3-REF', 'EEG C4-REF', 'EEG P3-REF', 'EEG P4-REF', 'EEG O1-REF', 'EEG O2-REF', 'EEG F7-REF', 'EEG F8-REF', 'EEG T3-REF', 'EEG T4-REF', 'EEG T5-REF', 'EEG T6-REF', 'EEG T1-REF', 'EEG T2-REF', 'EEG FZ-REF', 'EEG CZ-REF', 'EEG PZ-REF', 'EEG EKG1-REF', 'EMG-REF', 'IBI', 'BURSTS', 'SUPPR']\",\n       \"['EEG FP1-REF', 'EEG FP2-REF', 'EEG F3-REF', 'EEG F4-REF', 'EEG C3-REF', 'EEG C4-REF', 'EEG P3-REF', 'EEG P4-REF', 'EEG O1-REF', 'EEG O2-REF', 'EEG F7-REF', 'EEG F8-REF', 'EEG T3-REF', 'EEG T4-REF', 'EEG T5-REF', 'EEG T6-REF', 'EEG T1-REF', 'EEG T2-REF', 'EEG FZ-REF', 'EEG CZ-REF', 'EEG PZ-REF', 'EEG EKG1-REF', 'IBI', 'BURSTS', 'SUPPR']\",\n       \"['EEG FP1-REF', 'EEG FP2-REF', 'EEG F3-REF', 'EEG F4-REF', 'EEG C3-REF', 'EEG C4-REF', 'EEG P3-REF', 'EEG P4-REF', 'EEG O1-REF', 'EEG O2-REF', 'EEG F7-REF', 'EEG F8-REF', 'EEG T3-REF', 'EEG T4-REF', 'EEG T5-REF', 'EEG T6-REF', 'EEG FZ-REF', 'EEG CZ-REF', 'EEG PZ-REF', 'EEG EKG-REF', 'EEG 21-REF', 'EEG 22-REF', 'EEG T1-REF', 'EEG T2-REF', 'EEG 25-REF', 'EEG 26-REF', 'EEG 27-REF', 'EEG 28-REF', 'EEG 29-REF', 'EEG 30-REF', 'EEG 31-REF', 'EEG 32-REF', 'EEG 33-REF', 'EEG 34-REF', 'EEG 35-REF', 'EEG 36-REF', 'EEG 37-REF', 'EEG 38-REF', 'EEG 39-REF', 'EEG 40-REF', 'EEG 41-REF', 'EEG 42-REF', 'EEG 43-REF', 'EEG 44-REF', 'EEG 45-REF', 'EEG 46-REF', 'EEG 47-REF', 'EEG 48-REF', 'EEG 49-REF', 'EEG 50-REF', 'EEG 51-REF', 'EEG 52-REF', 'EEG 53-REF', 'EEG 54-REF', 'EEG 55-REF', 'EEG 56-REF', 'EEG 57-REF', 'EEG 58-REF', 'EEG 59-REF', 'EEG 60-REF', 'EEG 61-REF', 'EEG 62-REF', 'EEG 63-REF', 'EEG 64-REF', 'EEG 65-REF', 'EEG 66-REF', 'EEG 67-REF', 'EEG 68-REF', 'EEG 69-REF', 'EEG 70-REF', 'EEG 71-REF', 'EEG 72-REF', 'EEG 73-REF', 'EEG 74-REF', 'EEG 75-REF', 'EEG 76-REF', 'EEG 77-REF', 'EEG 78-REF', 'EEG 79-REF', 'EEG 80-REF', 'EEG 81-REF', 'EEG 82-REF', 'EEG 83-REF', 'EEG 84-REF', 'EEG 85-REF', 'EEG 86-REF', 'EEG 87-REF', 'EEG 88-REF', 'EEG 89-REF', 'EEG 90-REF', 'EEG 91-REF', 'EEG 92-REF', 'EEG 93-REF', 'EEG 94-REF', 'EEG 95-REF', 'EEG 96-REF', 'EEG 97-REF', 'EEG 98-REF', 'EEG 99-REF', 'EEG 100-REF', 'EEG 101-REF', 'EEG 102-REF', 'EEG 103-REF', 'EEG 104-REF', 'EEG 105-REF', 'EEG 106-REF', 'EEG 107-REF', 'EEG 108-REF', 'EEG 109-REF', 'EEG 110-REF', 'EEG 111-REF', 'EEG 112-REF', 'EEG 113-REF', 'EEG 114-REF', 'EEG 115-REF', 'EEG 116-REF', 'EEG 117-REF', 'EEG 118-REF', 'EEG 119-REF', 'EEG 120-REF', 'EEG 121-REF', 'EEG 122-REF', 'EEG 123-REF', 'EEG 124-REF', 'EEG 125-REF', 'EEG 126-REF', 'EEG 127-REF', 'EEG 128-REF']\"],\n      dtype=object)"
     },
     "execution_count": 7,
     "metadata": {},
     "output_type": "execute_result"
    }
   ],
   "source": [
    "fs_df.astype({'filename': str, 'fs': str, 'ch': str})['ch'].unique()"
   ],
   "metadata": {
    "collapsed": false,
    "pycharm": {
     "name": "#%%\n"
    }
   }
  },
  {
   "cell_type": "code",
   "execution_count": 8,
   "outputs": [
    {
     "data": {
      "text/plain": "7513"
     },
     "execution_count": 8,
     "metadata": {},
     "output_type": "execute_result"
    }
   ],
   "source": [
    "# df =\n",
    "df['Filename'] = df['No. Seizures/ Session_Filename'].apply(lambda x: x.split('.tse')[0])\n",
    "len(df)\n"
   ],
   "metadata": {
    "collapsed": false,
    "pycharm": {
     "name": "#%%\n"
    }
   }
  },
  {
   "cell_type": "code",
   "execution_count": 9,
   "outputs": [
    {
     "data": {
      "text/plain": "                                               filename  \\\n6179  ./train/03_tcp_ar_a/064/00006413/s006_2010_02_...   \n5633  ./train/02_tcp_le/032/00003208/s001_2006_09_08...   \n2617  ./train/01_tcp_ar/082/00008295/s007_2012_05_10...   \n1314  ./dev/02_tcp_le/059/00005943/s005_2009_07_08/0...   \n2089  ./train/01_tcp_ar/044/00004456/s015_2014_06_19...   \n4591  ./train/01_tcp_ar/110/00011083/s003_2013_12_25...   \n6406  ./train/03_tcp_ar_a/032/00003282/s004_2006_10_...   \n3307  ./train/01_tcp_ar/074/00007431/s008_2012_12_12...   \n363   ./dev/01_tcp_ar/098/00009866/s003_2013_07_24/0...   \n4738  ./train/01_tcp_ar/065/00006546/s034_2014_03_17...   \n\n                                                     fs  \\\n6179  [256, 256, 256, 256, 256, 256, 256, 256, 256, ...   \n5633  [250, 250, 250, 250, 250, 250, 250, 250, 250, ...   \n2617  [512, 512, 512, 512, 512, 512, 512, 512, 512, ...   \n1314  [250, 250, 250, 250, 250, 250, 250, 250, 250, ...   \n2089  [256, 256, 256, 256, 256, 256, 256, 256, 256, ...   \n4591  [256, 256, 256, 256, 256, 256, 256, 256, 256, ...   \n6406  [400, 400, 400, 400, 400, 400, 400, 400, 400, ...   \n3307  [512, 512, 512, 512, 512, 512, 512, 512, 512, ...   \n363   [256, 256, 256, 256, 256, 256, 256, 256, 256, ...   \n4738  [256, 256, 256, 256, 256, 256, 256, 256, 256, ...   \n\n                                                     ch  \\\n6179  [EEG FP1-REF, EEG FP2-REF, EEG F3-REF, EEG F4-...   \n5633  [EEG FP1-LE, EEG FP2-LE, EEG F3-LE, EEG F4-LE,...   \n2617  [EEG FP1-REF, EEG FP2-REF, EEG F3-REF, EEG F4-...   \n1314  [EEG FP1-LE, EEG FP2-LE, EEG F3-LE, EEG F4-LE,...   \n2089  [EEG FP1-REF, EEG FP2-REF, EEG F3-REF, EEG F4-...   \n4591  [EEG FP1-REF, EEG FP2-REF, EEG F3-REF, EEG F4-...   \n6406  [EEG FP1-REF, EEG FP2-REF, EEG F3-REF, EEG F4-...   \n3307  [EEG FP1-REF, EEG FP2-REF, EEG F3-REF, EEG F4-...   \n363   [EEG FP1-REF, EEG FP2-REF, EEG F3-REF, EEG F4-...   \n4738  [EEG FP1-REF, EEG FP2-REF, EEG F3-REF, EEG F4-...   \n\n      Index_Unnamed: 0_level_1  File No._Unnamed: 1_level_1  \\\n6179                    4800.0                       3719.0   \n5633                      95.0                         53.0   \n2617                    2177.0                       1621.0   \n1314                    1328.0                        946.0   \n2089                    1048.0                        719.0   \n4591                    4091.0                       3161.0   \n6406                    4910.0                       3803.0   \n3307                    4719.0                       3640.0   \n363                     1015.0                        778.0   \n4738                    1112.0                        763.0   \n\n      Patient_Unnamed: 2_level_1 Session_Unnamed: 3_level_1  \\\n6179                         NaN                        NaN   \n5633                         NaN                        NaN   \n2617                         NaN                        NaN   \n1314                      5943.0                       s005   \n2089                         NaN                        NaN   \n4591                         NaN                        NaN   \n6406                         NaN                        NaN   \n3307                         NaN                        NaN   \n363                       9866.0                       s003   \n4738                         NaN                        NaN   \n\n     File_Unnamed: 4_level_1 EEG Type_Unnamed: 5_level_1  \\\n6179                    t000                         NaN   \n5633                    t002                         NaN   \n2617                    t003                         NaN   \n1314                    t000                     Unknown   \n2089                     NaN                         NaN   \n4591                    t007                         NaN   \n6406                    t000                         NaN   \n3307                    t003                         NaN   \n363                     t001                         EMU   \n4738                     NaN                         NaN   \n\n     EEG SubType_Unnamed: 6_level_1  ... Summary_Sessions.1 Summary_Freq..1  \\\n6179                            NaN  ...                NaN             NaN   \n5633                            NaN  ...                NaN             NaN   \n2617                            NaN  ...                NaN             NaN   \n1314                        Unknown  ...                NaN             NaN   \n2089                            NaN  ...                NaN             NaN   \n4591                            NaN  ...                NaN             NaN   \n6406                            NaN  ...                NaN             NaN   \n3307                            NaN  ...                NaN             NaN   \n363                             EMU  ...                NaN             NaN   \n4738                            NaN  ...                NaN             NaN   \n\n      Summary_Cum..2  Summary_Cum..3 Summary_Seizure Type  Summary_Events  \\\n6179             NaN             NaN                  NaN             NaN   \n5633             NaN             NaN                  NaN             NaN   \n2617             NaN             NaN                  NaN             NaN   \n1314             NaN             NaN                  NaN             NaN   \n2089             NaN             NaN                  NaN             NaN   \n4591             NaN             NaN                  NaN             NaN   \n6406             NaN             NaN                  NaN             NaN   \n3307             NaN             NaN                  NaN             NaN   \n363              NaN             NaN                  NaN             NaN   \n4738             NaN             NaN                  NaN             NaN   \n\n      Summary_Freq..2 Summary_Cum..4  Summary_Cum..5  \\\n6179              NaN            NaN             NaN   \n5633              NaN            NaN             NaN   \n2617              NaN            NaN             NaN   \n1314              NaN            NaN             NaN   \n2089              NaN            NaN             NaN   \n4591              NaN            NaN             NaN   \n6406              NaN            NaN             NaN   \n3307              NaN            NaN             NaN   \n363               NaN            NaN             NaN   \n4738              NaN            NaN             NaN   \n\n                                               Filename  \n6179  ./train/03_tcp_ar_a/064/00006413/s006_2010_02_...  \n5633  ./train/02_tcp_le/032/00003208/s001_2006_09_08...  \n2617  ./train/01_tcp_ar/082/00008295/s007_2012_05_10...  \n1314  ./dev/02_tcp_le/059/00005943/s005_2009_07_08/0...  \n2089  ./train/01_tcp_ar/044/00004456/s015_2014_06_19...  \n4591  ./train/01_tcp_ar/110/00011083/s003_2013_12_25...  \n6406  ./train/03_tcp_ar_a/032/00003282/s004_2006_10_...  \n3307  ./train/01_tcp_ar/074/00007431/s008_2012_12_12...  \n363   ./dev/01_tcp_ar/098/00009866/s003_2013_07_24/0...  \n4738  ./train/01_tcp_ar/065/00006546/s034_2014_03_17...  \n\n[10 rows x 35 columns]",
      "text/html": "<div>\n<style scoped>\n    .dataframe tbody tr th:only-of-type {\n        vertical-align: middle;\n    }\n\n    .dataframe tbody tr th {\n        vertical-align: top;\n    }\n\n    .dataframe thead th {\n        text-align: right;\n    }\n</style>\n<table border=\"1\" class=\"dataframe\">\n  <thead>\n    <tr style=\"text-align: right;\">\n      <th></th>\n      <th>filename</th>\n      <th>fs</th>\n      <th>ch</th>\n      <th>Index_Unnamed: 0_level_1</th>\n      <th>File No._Unnamed: 1_level_1</th>\n      <th>Patient_Unnamed: 2_level_1</th>\n      <th>Session_Unnamed: 3_level_1</th>\n      <th>File_Unnamed: 4_level_1</th>\n      <th>EEG Type_Unnamed: 5_level_1</th>\n      <th>EEG SubType_Unnamed: 6_level_1</th>\n      <th>...</th>\n      <th>Summary_Sessions.1</th>\n      <th>Summary_Freq..1</th>\n      <th>Summary_Cum..2</th>\n      <th>Summary_Cum..3</th>\n      <th>Summary_Seizure Type</th>\n      <th>Summary_Events</th>\n      <th>Summary_Freq..2</th>\n      <th>Summary_Cum..4</th>\n      <th>Summary_Cum..5</th>\n      <th>Filename</th>\n    </tr>\n  </thead>\n  <tbody>\n    <tr>\n      <th>6179</th>\n      <td>./train/03_tcp_ar_a/064/00006413/s006_2010_02_...</td>\n      <td>[256, 256, 256, 256, 256, 256, 256, 256, 256, ...</td>\n      <td>[EEG FP1-REF, EEG FP2-REF, EEG F3-REF, EEG F4-...</td>\n      <td>4800.0</td>\n      <td>3719.0</td>\n      <td>NaN</td>\n      <td>NaN</td>\n      <td>t000</td>\n      <td>NaN</td>\n      <td>NaN</td>\n      <td>...</td>\n      <td>NaN</td>\n      <td>NaN</td>\n      <td>NaN</td>\n      <td>NaN</td>\n      <td>NaN</td>\n      <td>NaN</td>\n      <td>NaN</td>\n      <td>NaN</td>\n      <td>NaN</td>\n      <td>./train/03_tcp_ar_a/064/00006413/s006_2010_02_...</td>\n    </tr>\n    <tr>\n      <th>5633</th>\n      <td>./train/02_tcp_le/032/00003208/s001_2006_09_08...</td>\n      <td>[250, 250, 250, 250, 250, 250, 250, 250, 250, ...</td>\n      <td>[EEG FP1-LE, EEG FP2-LE, EEG F3-LE, EEG F4-LE,...</td>\n      <td>95.0</td>\n      <td>53.0</td>\n      <td>NaN</td>\n      <td>NaN</td>\n      <td>t002</td>\n      <td>NaN</td>\n      <td>NaN</td>\n      <td>...</td>\n      <td>NaN</td>\n      <td>NaN</td>\n      <td>NaN</td>\n      <td>NaN</td>\n      <td>NaN</td>\n      <td>NaN</td>\n      <td>NaN</td>\n      <td>NaN</td>\n      <td>NaN</td>\n      <td>./train/02_tcp_le/032/00003208/s001_2006_09_08...</td>\n    </tr>\n    <tr>\n      <th>2617</th>\n      <td>./train/01_tcp_ar/082/00008295/s007_2012_05_10...</td>\n      <td>[512, 512, 512, 512, 512, 512, 512, 512, 512, ...</td>\n      <td>[EEG FP1-REF, EEG FP2-REF, EEG F3-REF, EEG F4-...</td>\n      <td>2177.0</td>\n      <td>1621.0</td>\n      <td>NaN</td>\n      <td>NaN</td>\n      <td>t003</td>\n      <td>NaN</td>\n      <td>NaN</td>\n      <td>...</td>\n      <td>NaN</td>\n      <td>NaN</td>\n      <td>NaN</td>\n      <td>NaN</td>\n      <td>NaN</td>\n      <td>NaN</td>\n      <td>NaN</td>\n      <td>NaN</td>\n      <td>NaN</td>\n      <td>./train/01_tcp_ar/082/00008295/s007_2012_05_10...</td>\n    </tr>\n    <tr>\n      <th>1314</th>\n      <td>./dev/02_tcp_le/059/00005943/s005_2009_07_08/0...</td>\n      <td>[250, 250, 250, 250, 250, 250, 250, 250, 250, ...</td>\n      <td>[EEG FP1-LE, EEG FP2-LE, EEG F3-LE, EEG F4-LE,...</td>\n      <td>1328.0</td>\n      <td>946.0</td>\n      <td>5943.0</td>\n      <td>s005</td>\n      <td>t000</td>\n      <td>Unknown</td>\n      <td>Unknown</td>\n      <td>...</td>\n      <td>NaN</td>\n      <td>NaN</td>\n      <td>NaN</td>\n      <td>NaN</td>\n      <td>NaN</td>\n      <td>NaN</td>\n      <td>NaN</td>\n      <td>NaN</td>\n      <td>NaN</td>\n      <td>./dev/02_tcp_le/059/00005943/s005_2009_07_08/0...</td>\n    </tr>\n    <tr>\n      <th>2089</th>\n      <td>./train/01_tcp_ar/044/00004456/s015_2014_06_19...</td>\n      <td>[256, 256, 256, 256, 256, 256, 256, 256, 256, ...</td>\n      <td>[EEG FP1-REF, EEG FP2-REF, EEG F3-REF, EEG F4-...</td>\n      <td>1048.0</td>\n      <td>719.0</td>\n      <td>NaN</td>\n      <td>NaN</td>\n      <td>NaN</td>\n      <td>NaN</td>\n      <td>NaN</td>\n      <td>...</td>\n      <td>NaN</td>\n      <td>NaN</td>\n      <td>NaN</td>\n      <td>NaN</td>\n      <td>NaN</td>\n      <td>NaN</td>\n      <td>NaN</td>\n      <td>NaN</td>\n      <td>NaN</td>\n      <td>./train/01_tcp_ar/044/00004456/s015_2014_06_19...</td>\n    </tr>\n    <tr>\n      <th>4591</th>\n      <td>./train/01_tcp_ar/110/00011083/s003_2013_12_25...</td>\n      <td>[256, 256, 256, 256, 256, 256, 256, 256, 256, ...</td>\n      <td>[EEG FP1-REF, EEG FP2-REF, EEG F3-REF, EEG F4-...</td>\n      <td>4091.0</td>\n      <td>3161.0</td>\n      <td>NaN</td>\n      <td>NaN</td>\n      <td>t007</td>\n      <td>NaN</td>\n      <td>NaN</td>\n      <td>...</td>\n      <td>NaN</td>\n      <td>NaN</td>\n      <td>NaN</td>\n      <td>NaN</td>\n      <td>NaN</td>\n      <td>NaN</td>\n      <td>NaN</td>\n      <td>NaN</td>\n      <td>NaN</td>\n      <td>./train/01_tcp_ar/110/00011083/s003_2013_12_25...</td>\n    </tr>\n    <tr>\n      <th>6406</th>\n      <td>./train/03_tcp_ar_a/032/00003282/s004_2006_10_...</td>\n      <td>[400, 400, 400, 400, 400, 400, 400, 400, 400, ...</td>\n      <td>[EEG FP1-REF, EEG FP2-REF, EEG F3-REF, EEG F4-...</td>\n      <td>4910.0</td>\n      <td>3803.0</td>\n      <td>NaN</td>\n      <td>NaN</td>\n      <td>t000</td>\n      <td>NaN</td>\n      <td>NaN</td>\n      <td>...</td>\n      <td>NaN</td>\n      <td>NaN</td>\n      <td>NaN</td>\n      <td>NaN</td>\n      <td>NaN</td>\n      <td>NaN</td>\n      <td>NaN</td>\n      <td>NaN</td>\n      <td>NaN</td>\n      <td>./train/03_tcp_ar_a/032/00003282/s004_2006_10_...</td>\n    </tr>\n    <tr>\n      <th>3307</th>\n      <td>./train/01_tcp_ar/074/00007431/s008_2012_12_12...</td>\n      <td>[512, 512, 512, 512, 512, 512, 512, 512, 512, ...</td>\n      <td>[EEG FP1-REF, EEG FP2-REF, EEG F3-REF, EEG F4-...</td>\n      <td>4719.0</td>\n      <td>3640.0</td>\n      <td>NaN</td>\n      <td>NaN</td>\n      <td>t003</td>\n      <td>NaN</td>\n      <td>NaN</td>\n      <td>...</td>\n      <td>NaN</td>\n      <td>NaN</td>\n      <td>NaN</td>\n      <td>NaN</td>\n      <td>NaN</td>\n      <td>NaN</td>\n      <td>NaN</td>\n      <td>NaN</td>\n      <td>NaN</td>\n      <td>./train/01_tcp_ar/074/00007431/s008_2012_12_12...</td>\n    </tr>\n    <tr>\n      <th>363</th>\n      <td>./dev/01_tcp_ar/098/00009866/s003_2013_07_24/0...</td>\n      <td>[256, 256, 256, 256, 256, 256, 256, 256, 256, ...</td>\n      <td>[EEG FP1-REF, EEG FP2-REF, EEG F3-REF, EEG F4-...</td>\n      <td>1015.0</td>\n      <td>778.0</td>\n      <td>9866.0</td>\n      <td>s003</td>\n      <td>t001</td>\n      <td>EMU</td>\n      <td>EMU</td>\n      <td>...</td>\n      <td>NaN</td>\n      <td>NaN</td>\n      <td>NaN</td>\n      <td>NaN</td>\n      <td>NaN</td>\n      <td>NaN</td>\n      <td>NaN</td>\n      <td>NaN</td>\n      <td>NaN</td>\n      <td>./dev/01_tcp_ar/098/00009866/s003_2013_07_24/0...</td>\n    </tr>\n    <tr>\n      <th>4738</th>\n      <td>./train/01_tcp_ar/065/00006546/s034_2014_03_17...</td>\n      <td>[256, 256, 256, 256, 256, 256, 256, 256, 256, ...</td>\n      <td>[EEG FP1-REF, EEG FP2-REF, EEG F3-REF, EEG F4-...</td>\n      <td>1112.0</td>\n      <td>763.0</td>\n      <td>NaN</td>\n      <td>NaN</td>\n      <td>NaN</td>\n      <td>NaN</td>\n      <td>NaN</td>\n      <td>...</td>\n      <td>NaN</td>\n      <td>NaN</td>\n      <td>NaN</td>\n      <td>NaN</td>\n      <td>NaN</td>\n      <td>NaN</td>\n      <td>NaN</td>\n      <td>NaN</td>\n      <td>NaN</td>\n      <td>./train/01_tcp_ar/065/00006546/s034_2014_03_17...</td>\n    </tr>\n  </tbody>\n</table>\n<p>10 rows × 35 columns</p>\n</div>"
     },
     "execution_count": 9,
     "metadata": {},
     "output_type": "execute_result"
    }
   ],
   "source": [
    "fs_df_merged = pd.merge(left=fs_df, right=df, left_on='filename', right_on='Filename', how='right')\n",
    "fs_df_merged.sample(10)"
   ],
   "metadata": {
    "collapsed": false,
    "pycharm": {
     "name": "#%%\n"
    }
   }
  },
  {
   "cell_type": "code",
   "execution_count": 10,
   "outputs": [
    {
     "data": {
      "text/plain": "filename                                     7513\nfs                                           7513\nch                                           7513\nIndex_Unnamed: 0_level_1                     7513\nFile No._Unnamed: 1_level_1                  7513\nPatient_Unnamed: 2_level_1                   1423\nSession_Unnamed: 3_level_1                   1423\nFile_Unnamed: 4_level_1                      5612\nEEG Type_Unnamed: 5_level_1                  1423\nEEG SubType_Unnamed: 6_level_1               1423\nLTM -or- Routine_Unnamed: 7_level_1          1423\nNormal/ Abnormal_Unnamed: 8_level_1          1423\nNo. Seizures/ File_Unnamed: 9_level_1        5612\nNo. Seizures/ Session_Unnamed: 10_level_1    1423\nNo. Seizures/ Session_Filename               7513\nSeizure Time_Start                           3050\nSeizure Time_Stop                            3050\nSeizure Type_Unnamed: 14_level_1             3050\nSeizure Type_Unnamed: 15_level_1                0\nSummary_EEG Type                               32\nSummary_Sessions                               50\nSummary_Freq.                                  36\nSummary_Cum.                                   16\nSummary_Cum..1                                 40\nSummary_EEG SubType                            38\nSummary_Sessions.1                             38\nSummary_Freq..1                                38\nSummary_Cum..2                                 34\nSummary_Cum..3                                  0\nSummary_Seizure Type                           22\nSummary_Events                                 22\nSummary_Freq..2                                22\nSummary_Cum..4                                 20\nSummary_Cum..5                                  0\nFilename                                     7513\ndtype: int64"
     },
     "execution_count": 10,
     "metadata": {},
     "output_type": "execute_result"
    }
   ],
   "source": [
    "fs_df_merged.count()"
   ],
   "metadata": {
    "collapsed": false,
    "pycharm": {
     "name": "#%%\n"
    }
   }
  },
  {
   "cell_type": "code",
   "execution_count": 11,
   "outputs": [
    {
     "data": {
      "text/plain": "filename                                     False\nfs                                           False\nch                                           False\nIndex_Unnamed: 0_level_1                     False\nFile No._Unnamed: 1_level_1                  False\nPatient_Unnamed: 2_level_1                    True\nSession_Unnamed: 3_level_1                    True\nFile_Unnamed: 4_level_1                       True\nEEG Type_Unnamed: 5_level_1                   True\nEEG SubType_Unnamed: 6_level_1                True\nLTM -or- Routine_Unnamed: 7_level_1           True\nNormal/ Abnormal_Unnamed: 8_level_1           True\nNo. Seizures/ File_Unnamed: 9_level_1         True\nNo. Seizures/ Session_Unnamed: 10_level_1     True\nNo. Seizures/ Session_Filename               False\nSeizure Time_Start                            True\nSeizure Time_Stop                             True\nSeizure Type_Unnamed: 14_level_1              True\nSeizure Type_Unnamed: 15_level_1              True\nSummary_EEG Type                              True\nSummary_Sessions                              True\nSummary_Freq.                                 True\nSummary_Cum.                                  True\nSummary_Cum..1                                True\nSummary_EEG SubType                           True\nSummary_Sessions.1                            True\nSummary_Freq..1                               True\nSummary_Cum..2                                True\nSummary_Cum..3                                True\nSummary_Seizure Type                          True\nSummary_Events                                True\nSummary_Freq..2                               True\nSummary_Cum..4                                True\nSummary_Cum..5                                True\nFilename                                     False\ndtype: bool"
     },
     "execution_count": 11,
     "metadata": {},
     "output_type": "execute_result"
    }
   ],
   "source": [
    "fs_df_merged.isna().any()"
   ],
   "metadata": {
    "collapsed": false,
    "pycharm": {
     "name": "#%%\n"
    }
   }
  },
  {
   "cell_type": "code",
   "execution_count": 12,
   "outputs": [],
   "source": [
    "def get_index(x):\n",
    "    if 'EEG FP1-REF' in x:\n",
    "        return x.index('EEG FP1-REF')\n",
    "    elif 'EEG FP1-LE' in x:\n",
    "        return x.index('EEG FP1-LE')\n",
    "    else:\n",
    "        return pd.NA\n",
    "fs_df_merged['FP1_index'] = fs_df_merged['ch'].apply(get_index)"
   ],
   "metadata": {
    "collapsed": false,
    "pycharm": {
     "name": "#%%\n"
    }
   }
  },
  {
   "cell_type": "code",
   "execution_count": 13,
   "outputs": [
    {
     "data": {
      "text/plain": "                                               filename  \\\n990   ./dev/01_tcp_ar/065/00006546/s018_2012_01_30/0...   \n5826  ./train/02_tcp_le/011/00001113/s001_2004_01_16...   \n7232  ./train/03_tcp_ar_a/062/00006230/s006_2010_09_...   \n917   ./dev/01_tcp_ar/065/00006546/s022_2012_02_23/0...   \n1621  ./train/01_tcp_ar/069/00006904/s005_2010_08_21...   \n\n                                                     fs  \\\n990   [250, 250, 250, 250, 250, 250, 250, 250, 250, ...   \n5826  [250, 250, 250, 250, 250, 250, 250, 250, 250, ...   \n7232  [400, 400, 400, 400, 400, 400, 400, 400, 400, ...   \n917   [256, 256, 256, 256, 256, 256, 256, 256, 256, ...   \n1621  [256, 256, 256, 256, 256, 256, 256, 256, 256, ...   \n\n                                                     ch  \\\n990   [EEG FP1-REF, EEG FP2-REF, EEG F3-REF, EEG F4-...   \n5826  [EEG FP1-LE, EEG FP2-LE, EEG F3-LE, EEG F4-LE,...   \n7232  [EEG FP1-REF, EEG FP2-REF, EEG F3-REF, EEG F4-...   \n917   [EEG FP1-REF, EEG FP2-REF, EEG F3-REF, EEG F4-...   \n1621  [EEG FP1-REF, EEG FP2-REF, EEG F3-REF, EEG F4-...   \n\n      Index_Unnamed: 0_level_1  File No._Unnamed: 1_level_1  \\\n990                      153.0                         97.0   \n5826                     644.0                        388.0   \n7232                    5369.0                       4114.0   \n917                      198.0                        124.0   \n1621                    3332.0                       2481.0   \n\n      Patient_Unnamed: 2_level_1 Session_Unnamed: 3_level_1  \\\n990                          NaN                        NaN   \n5826                         NaN                        NaN   \n7232                         NaN                        NaN   \n917                          NaN                        NaN   \n1621                      6904.0                       s005   \n\n     File_Unnamed: 4_level_1 EEG Type_Unnamed: 5_level_1  \\\n990                      NaN                         NaN   \n5826                     NaN                         NaN   \n7232                    t001                         NaN   \n917                     t010                         NaN   \n1621                    t002                   Inpatient   \n\n     EEG SubType_Unnamed: 6_level_1  ... Summary_Cum..3 Summary_Seizure Type  \\\n990                             NaN  ...            NaN                  NaN   \n5826                            NaN  ...            NaN                  NaN   \n7232                            NaN  ...            NaN                  NaN   \n917                             NaN  ...            NaN                  NaN   \n1621                        General  ...            NaN                  NaN   \n\n      Summary_Events  Summary_Freq..2 Summary_Cum..4  Summary_Cum..5  \\\n990              NaN              NaN            NaN             NaN   \n5826             NaN              NaN            NaN             NaN   \n7232             NaN              NaN            NaN             NaN   \n917              NaN              NaN            NaN             NaN   \n1621             NaN              NaN            NaN             NaN   \n\n                                               Filename FP1_index  \\\n990   ./dev/01_tcp_ar/065/00006546/s018_2012_01_30/0...         0   \n5826  ./train/02_tcp_le/011/00001113/s001_2004_01_16...         0   \n7232  ./train/03_tcp_ar_a/062/00006230/s006_2010_09_...         0   \n917   ./dev/01_tcp_ar/065/00006546/s022_2012_02_23/0...         0   \n1621  ./train/01_tcp_ar/069/00006904/s005_2010_08_21...         0   \n\n      Seizure_Start Seizure_Stop  \n990      [[267981]]   [[278445]]  \n5826      [[71504]]    [[73396]]  \n7232          [[0]]        [[0]]  \n917      [[105920]]   [[113734]]  \n1621        [[256]]    [[25619]]  \n\n[5 rows x 38 columns]",
      "text/html": "<div>\n<style scoped>\n    .dataframe tbody tr th:only-of-type {\n        vertical-align: middle;\n    }\n\n    .dataframe tbody tr th {\n        vertical-align: top;\n    }\n\n    .dataframe thead th {\n        text-align: right;\n    }\n</style>\n<table border=\"1\" class=\"dataframe\">\n  <thead>\n    <tr style=\"text-align: right;\">\n      <th></th>\n      <th>filename</th>\n      <th>fs</th>\n      <th>ch</th>\n      <th>Index_Unnamed: 0_level_1</th>\n      <th>File No._Unnamed: 1_level_1</th>\n      <th>Patient_Unnamed: 2_level_1</th>\n      <th>Session_Unnamed: 3_level_1</th>\n      <th>File_Unnamed: 4_level_1</th>\n      <th>EEG Type_Unnamed: 5_level_1</th>\n      <th>EEG SubType_Unnamed: 6_level_1</th>\n      <th>...</th>\n      <th>Summary_Cum..3</th>\n      <th>Summary_Seizure Type</th>\n      <th>Summary_Events</th>\n      <th>Summary_Freq..2</th>\n      <th>Summary_Cum..4</th>\n      <th>Summary_Cum..5</th>\n      <th>Filename</th>\n      <th>FP1_index</th>\n      <th>Seizure_Start</th>\n      <th>Seizure_Stop</th>\n    </tr>\n  </thead>\n  <tbody>\n    <tr>\n      <th>990</th>\n      <td>./dev/01_tcp_ar/065/00006546/s018_2012_01_30/0...</td>\n      <td>[250, 250, 250, 250, 250, 250, 250, 250, 250, ...</td>\n      <td>[EEG FP1-REF, EEG FP2-REF, EEG F3-REF, EEG F4-...</td>\n      <td>153.0</td>\n      <td>97.0</td>\n      <td>NaN</td>\n      <td>NaN</td>\n      <td>NaN</td>\n      <td>NaN</td>\n      <td>NaN</td>\n      <td>...</td>\n      <td>NaN</td>\n      <td>NaN</td>\n      <td>NaN</td>\n      <td>NaN</td>\n      <td>NaN</td>\n      <td>NaN</td>\n      <td>./dev/01_tcp_ar/065/00006546/s018_2012_01_30/0...</td>\n      <td>0</td>\n      <td>[[267981]]</td>\n      <td>[[278445]]</td>\n    </tr>\n    <tr>\n      <th>5826</th>\n      <td>./train/02_tcp_le/011/00001113/s001_2004_01_16...</td>\n      <td>[250, 250, 250, 250, 250, 250, 250, 250, 250, ...</td>\n      <td>[EEG FP1-LE, EEG FP2-LE, EEG F3-LE, EEG F4-LE,...</td>\n      <td>644.0</td>\n      <td>388.0</td>\n      <td>NaN</td>\n      <td>NaN</td>\n      <td>NaN</td>\n      <td>NaN</td>\n      <td>NaN</td>\n      <td>...</td>\n      <td>NaN</td>\n      <td>NaN</td>\n      <td>NaN</td>\n      <td>NaN</td>\n      <td>NaN</td>\n      <td>NaN</td>\n      <td>./train/02_tcp_le/011/00001113/s001_2004_01_16...</td>\n      <td>0</td>\n      <td>[[71504]]</td>\n      <td>[[73396]]</td>\n    </tr>\n    <tr>\n      <th>7232</th>\n      <td>./train/03_tcp_ar_a/062/00006230/s006_2010_09_...</td>\n      <td>[400, 400, 400, 400, 400, 400, 400, 400, 400, ...</td>\n      <td>[EEG FP1-REF, EEG FP2-REF, EEG F3-REF, EEG F4-...</td>\n      <td>5369.0</td>\n      <td>4114.0</td>\n      <td>NaN</td>\n      <td>NaN</td>\n      <td>t001</td>\n      <td>NaN</td>\n      <td>NaN</td>\n      <td>...</td>\n      <td>NaN</td>\n      <td>NaN</td>\n      <td>NaN</td>\n      <td>NaN</td>\n      <td>NaN</td>\n      <td>NaN</td>\n      <td>./train/03_tcp_ar_a/062/00006230/s006_2010_09_...</td>\n      <td>0</td>\n      <td>[[0]]</td>\n      <td>[[0]]</td>\n    </tr>\n    <tr>\n      <th>917</th>\n      <td>./dev/01_tcp_ar/065/00006546/s022_2012_02_23/0...</td>\n      <td>[256, 256, 256, 256, 256, 256, 256, 256, 256, ...</td>\n      <td>[EEG FP1-REF, EEG FP2-REF, EEG F3-REF, EEG F4-...</td>\n      <td>198.0</td>\n      <td>124.0</td>\n      <td>NaN</td>\n      <td>NaN</td>\n      <td>t010</td>\n      <td>NaN</td>\n      <td>NaN</td>\n      <td>...</td>\n      <td>NaN</td>\n      <td>NaN</td>\n      <td>NaN</td>\n      <td>NaN</td>\n      <td>NaN</td>\n      <td>NaN</td>\n      <td>./dev/01_tcp_ar/065/00006546/s022_2012_02_23/0...</td>\n      <td>0</td>\n      <td>[[105920]]</td>\n      <td>[[113734]]</td>\n    </tr>\n    <tr>\n      <th>1621</th>\n      <td>./train/01_tcp_ar/069/00006904/s005_2010_08_21...</td>\n      <td>[256, 256, 256, 256, 256, 256, 256, 256, 256, ...</td>\n      <td>[EEG FP1-REF, EEG FP2-REF, EEG F3-REF, EEG F4-...</td>\n      <td>3332.0</td>\n      <td>2481.0</td>\n      <td>6904.0</td>\n      <td>s005</td>\n      <td>t002</td>\n      <td>Inpatient</td>\n      <td>General</td>\n      <td>...</td>\n      <td>NaN</td>\n      <td>NaN</td>\n      <td>NaN</td>\n      <td>NaN</td>\n      <td>NaN</td>\n      <td>NaN</td>\n      <td>./train/01_tcp_ar/069/00006904/s005_2010_08_21...</td>\n      <td>0</td>\n      <td>[[256]]</td>\n      <td>[[25619]]</td>\n    </tr>\n  </tbody>\n</table>\n<p>5 rows × 38 columns</p>\n</div>"
     },
     "execution_count": 13,
     "metadata": {},
     "output_type": "execute_result"
    }
   ],
   "source": [
    "fs_df = fs_df_merged\n",
    "fs_df['Seizure_Start'] = fs_df['Seizure Time_Start'].fillna(0)\n",
    "fs_df['Seizure_Start'] = fs_df['Seizure_Start'] * (fs_df['fs'].map(lambda x: x[0]))\n",
    "fs_df['Seizure_Start'] = fs_df['Seizure_Start'].apply(lambda x: [[int(x)]])\n",
    "fs_df['Seizure_Stop'] = fs_df['Seizure Time_Stop'].fillna(0)\n",
    "fs_df['Seizure_Stop'] = fs_df['Seizure_Stop'] * (fs_df['fs'].map(lambda x: x[0]))\n",
    "fs_df['Seizure_Stop'] = fs_df['Seizure_Stop'].apply(lambda x: [[int(x)]])\n",
    "fs_df.sample(5)"
   ],
   "metadata": {
    "collapsed": false,
    "pycharm": {
     "name": "#%%\n"
    }
   }
  },
  {
   "cell_type": "code",
   "execution_count": 14,
   "outputs": [
    {
     "data": {
      "text/plain": "                                               Filename  fs_FP1 Seizure_Start  \\\n537   ./dev/01_tcp_ar/095/00009578/s020_2013_08_18/0...     256         [[0]]   \n1889  ./train/01_tcp_ar/081/00008156/s014_2015_08_31...     256         [[0]]   \n3554  ./train/01_tcp_ar/113/00011333/s021_2014_03_24...     256         [[0]]   \n3918  ./train/01_tcp_ar/127/00012742/s007_2015_04_07...     256         [[0]]   \n4994  ./train/03_tcp_ar_a/051/00005101/s003_2008_10_...     400         [[0]]   \n\n     Seizure_Stop  \n537         [[0]]  \n1889        [[0]]  \n3554        [[0]]  \n3918        [[0]]  \n4994        [[0]]  ",
      "text/html": "<div>\n<style scoped>\n    .dataframe tbody tr th:only-of-type {\n        vertical-align: middle;\n    }\n\n    .dataframe tbody tr th {\n        vertical-align: top;\n    }\n\n    .dataframe thead th {\n        text-align: right;\n    }\n</style>\n<table border=\"1\" class=\"dataframe\">\n  <thead>\n    <tr style=\"text-align: right;\">\n      <th></th>\n      <th>Filename</th>\n      <th>fs_FP1</th>\n      <th>Seizure_Start</th>\n      <th>Seizure_Stop</th>\n    </tr>\n  </thead>\n  <tbody>\n    <tr>\n      <th>537</th>\n      <td>./dev/01_tcp_ar/095/00009578/s020_2013_08_18/0...</td>\n      <td>256</td>\n      <td>[[0]]</td>\n      <td>[[0]]</td>\n    </tr>\n    <tr>\n      <th>1889</th>\n      <td>./train/01_tcp_ar/081/00008156/s014_2015_08_31...</td>\n      <td>256</td>\n      <td>[[0]]</td>\n      <td>[[0]]</td>\n    </tr>\n    <tr>\n      <th>3554</th>\n      <td>./train/01_tcp_ar/113/00011333/s021_2014_03_24...</td>\n      <td>256</td>\n      <td>[[0]]</td>\n      <td>[[0]]</td>\n    </tr>\n    <tr>\n      <th>3918</th>\n      <td>./train/01_tcp_ar/127/00012742/s007_2015_04_07...</td>\n      <td>256</td>\n      <td>[[0]]</td>\n      <td>[[0]]</td>\n    </tr>\n    <tr>\n      <th>4994</th>\n      <td>./train/03_tcp_ar_a/051/00005101/s003_2008_10_...</td>\n      <td>400</td>\n      <td>[[0]]</td>\n      <td>[[0]]</td>\n    </tr>\n  </tbody>\n</table>\n</div>"
     },
     "execution_count": 14,
     "metadata": {},
     "output_type": "execute_result"
    }
   ],
   "source": [
    "fs_df['fs_FP1'] = fs_df['fs'].map(lambda x: x[0])\n",
    "df_tusz = fs_df.groupby(['Filename', 'fs_FP1'])['Seizure_Start'].agg(sum).reset_index()\n",
    "df_tusz = df_tusz.merge(fs_df.groupby('Filename')['Seizure_Stop'].agg(sum).reset_index(), on='Filename')\n",
    "df_tusz.sample(5)\n"
   ],
   "metadata": {
    "collapsed": false,
    "pycharm": {
     "name": "#%%\n"
    }
   }
  },
  {
   "cell_type": "code",
   "execution_count": 15,
   "outputs": [],
   "source": [
    "df = df.fillna(method=\"ffill\")"
   ],
   "metadata": {
    "collapsed": false,
    "pycharm": {
     "name": "#%%\n"
    }
   }
  },
  {
   "cell_type": "code",
   "execution_count": 16,
   "outputs": [
    {
     "data": {
      "text/plain": "Filename         5612\nfs_FP1           5612\nSeizure_Start    5612\nSeizure_Stop     5612\npatient          5612\ndtype: int64"
     },
     "execution_count": 16,
     "metadata": {},
     "output_type": "execute_result"
    }
   ],
   "source": [
    "df['patient'] = df['Patient_Unnamed: 2_level_1']\n",
    "df_pat_filename = df[['patient', 'Filename']].drop_duplicates()\n",
    "# df = df.dropna(subset=['patient'])\n",
    "# # df.head()\n",
    "df_tusz = pd.merge(df_tusz, df_pat_filename, how='left', on='Filename')\n",
    "df_tusz.count()"
   ],
   "metadata": {
    "collapsed": false,
    "pycharm": {
     "name": "#%%\n"
    }
   }
  },
  {
   "cell_type": "code",
   "execution_count": 17,
   "outputs": [
    {
     "data": {
      "text/plain": "                                               Filename  fs_FP1  \\\n1278  ./train/01_tcp_ar/044/00004456/s015_2014_06_19...     256   \n882   ./dev/01_tcp_ar/101/00010106/s004_2013_08_06/0...     250   \n462   ./dev/01_tcp_ar/095/00009578/s006_2013_03_02/0...     256   \n5362  ./train/03_tcp_ar_a/091/00009162/s002_2012_04_...     250   \n3052  ./train/01_tcp_ar/104/00010427/s002_2013_12_14...     256   \n727   ./dev/01_tcp_ar/098/00009839/s005_2013_07_21/0...     256   \n2270  ./train/01_tcp_ar/087/00008738/s004_2013_06_04...     256   \n3732  ./train/01_tcp_ar/119/00011915/s001_2014_07_10...     256   \n4216  ./train/02_tcp_le/002/00000244/s003_2004_01_08...     250   \n701   ./dev/01_tcp_ar/098/00009839/s002_2013_04_15/0...     256   \n\n                          Seizure_Start                         Seizure_Stop  \\\n1278                              [[0]]                                [[0]]   \n882                               [[0]]                                [[0]]   \n462                               [[0]]                                [[0]]   \n5362                              [[0]]                                [[0]]   \n3052                              [[0]]                                [[0]]   \n727                           [[68100]]                            [[82180]]   \n2270                              [[0]]                                [[0]]   \n3732  [[348], [9936], [23796], [69112]]  [[4092], [19459], [41220], [88532]]   \n4216                              [[0]]                                [[0]]   \n701                               [[0]]                                [[0]]   \n\n      patient  \n1278   4456.0  \n882   10106.0  \n462    9578.0  \n5362   9162.0  \n3052  10427.0  \n727    9839.0  \n2270   8738.0  \n3732  11915.0  \n4216    244.0  \n701    9839.0  ",
      "text/html": "<div>\n<style scoped>\n    .dataframe tbody tr th:only-of-type {\n        vertical-align: middle;\n    }\n\n    .dataframe tbody tr th {\n        vertical-align: top;\n    }\n\n    .dataframe thead th {\n        text-align: right;\n    }\n</style>\n<table border=\"1\" class=\"dataframe\">\n  <thead>\n    <tr style=\"text-align: right;\">\n      <th></th>\n      <th>Filename</th>\n      <th>fs_FP1</th>\n      <th>Seizure_Start</th>\n      <th>Seizure_Stop</th>\n      <th>patient</th>\n    </tr>\n  </thead>\n  <tbody>\n    <tr>\n      <th>1278</th>\n      <td>./train/01_tcp_ar/044/00004456/s015_2014_06_19...</td>\n      <td>256</td>\n      <td>[[0]]</td>\n      <td>[[0]]</td>\n      <td>4456.0</td>\n    </tr>\n    <tr>\n      <th>882</th>\n      <td>./dev/01_tcp_ar/101/00010106/s004_2013_08_06/0...</td>\n      <td>250</td>\n      <td>[[0]]</td>\n      <td>[[0]]</td>\n      <td>10106.0</td>\n    </tr>\n    <tr>\n      <th>462</th>\n      <td>./dev/01_tcp_ar/095/00009578/s006_2013_03_02/0...</td>\n      <td>256</td>\n      <td>[[0]]</td>\n      <td>[[0]]</td>\n      <td>9578.0</td>\n    </tr>\n    <tr>\n      <th>5362</th>\n      <td>./train/03_tcp_ar_a/091/00009162/s002_2012_04_...</td>\n      <td>250</td>\n      <td>[[0]]</td>\n      <td>[[0]]</td>\n      <td>9162.0</td>\n    </tr>\n    <tr>\n      <th>3052</th>\n      <td>./train/01_tcp_ar/104/00010427/s002_2013_12_14...</td>\n      <td>256</td>\n      <td>[[0]]</td>\n      <td>[[0]]</td>\n      <td>10427.0</td>\n    </tr>\n    <tr>\n      <th>727</th>\n      <td>./dev/01_tcp_ar/098/00009839/s005_2013_07_21/0...</td>\n      <td>256</td>\n      <td>[[68100]]</td>\n      <td>[[82180]]</td>\n      <td>9839.0</td>\n    </tr>\n    <tr>\n      <th>2270</th>\n      <td>./train/01_tcp_ar/087/00008738/s004_2013_06_04...</td>\n      <td>256</td>\n      <td>[[0]]</td>\n      <td>[[0]]</td>\n      <td>8738.0</td>\n    </tr>\n    <tr>\n      <th>3732</th>\n      <td>./train/01_tcp_ar/119/00011915/s001_2014_07_10...</td>\n      <td>256</td>\n      <td>[[348], [9936], [23796], [69112]]</td>\n      <td>[[4092], [19459], [41220], [88532]]</td>\n      <td>11915.0</td>\n    </tr>\n    <tr>\n      <th>4216</th>\n      <td>./train/02_tcp_le/002/00000244/s003_2004_01_08...</td>\n      <td>250</td>\n      <td>[[0]]</td>\n      <td>[[0]]</td>\n      <td>244.0</td>\n    </tr>\n    <tr>\n      <th>701</th>\n      <td>./dev/01_tcp_ar/098/00009839/s002_2013_04_15/0...</td>\n      <td>256</td>\n      <td>[[0]]</td>\n      <td>[[0]]</td>\n      <td>9839.0</td>\n    </tr>\n  </tbody>\n</table>\n</div>"
     },
     "execution_count": 17,
     "metadata": {},
     "output_type": "execute_result"
    }
   ],
   "source": [
    "df_tusz.sample(10)"
   ],
   "metadata": {
    "collapsed": false,
    "pycharm": {
     "name": "#%%\n"
    }
   }
  },
  {
   "cell_type": "code",
   "execution_count": 18,
   "outputs": [
    {
     "data": {
      "text/plain": "                                            Filename  fs_FP1 Seizure_Start  \\\n0  ./dev/01_tcp_ar/002/00000258/s002_2003_07_21/0...     400         [[0]]   \n1  ./dev/01_tcp_ar/002/00000258/s002_2003_07_21/0...     400         [[0]]   \n2  ./dev/01_tcp_ar/002/00000258/s003_2003_07_22/0...     400         [[0]]   \n3  ./dev/01_tcp_ar/002/00000258/s003_2003_07_22/0...     400         [[0]]   \n4  ./dev/01_tcp_ar/002/00000258/s003_2003_07_22/0...     400      [[3531]]   \n\n  Seizure_Stop  patient      shortname  \n0        [[0]]    258.0  258_s002_t000  \n1        [[0]]    258.0  258_s002_t002  \n2        [[0]]    258.0  258_s003_t000  \n3        [[0]]    258.0  258_s003_t001  \n4    [[69351]]    258.0  258_s003_t002  ",
      "text/html": "<div>\n<style scoped>\n    .dataframe tbody tr th:only-of-type {\n        vertical-align: middle;\n    }\n\n    .dataframe tbody tr th {\n        vertical-align: top;\n    }\n\n    .dataframe thead th {\n        text-align: right;\n    }\n</style>\n<table border=\"1\" class=\"dataframe\">\n  <thead>\n    <tr style=\"text-align: right;\">\n      <th></th>\n      <th>Filename</th>\n      <th>fs_FP1</th>\n      <th>Seizure_Start</th>\n      <th>Seizure_Stop</th>\n      <th>patient</th>\n      <th>shortname</th>\n    </tr>\n  </thead>\n  <tbody>\n    <tr>\n      <th>0</th>\n      <td>./dev/01_tcp_ar/002/00000258/s002_2003_07_21/0...</td>\n      <td>400</td>\n      <td>[[0]]</td>\n      <td>[[0]]</td>\n      <td>258.0</td>\n      <td>258_s002_t000</td>\n    </tr>\n    <tr>\n      <th>1</th>\n      <td>./dev/01_tcp_ar/002/00000258/s002_2003_07_21/0...</td>\n      <td>400</td>\n      <td>[[0]]</td>\n      <td>[[0]]</td>\n      <td>258.0</td>\n      <td>258_s002_t002</td>\n    </tr>\n    <tr>\n      <th>2</th>\n      <td>./dev/01_tcp_ar/002/00000258/s003_2003_07_22/0...</td>\n      <td>400</td>\n      <td>[[0]]</td>\n      <td>[[0]]</td>\n      <td>258.0</td>\n      <td>258_s003_t000</td>\n    </tr>\n    <tr>\n      <th>3</th>\n      <td>./dev/01_tcp_ar/002/00000258/s003_2003_07_22/0...</td>\n      <td>400</td>\n      <td>[[0]]</td>\n      <td>[[0]]</td>\n      <td>258.0</td>\n      <td>258_s003_t001</td>\n    </tr>\n    <tr>\n      <th>4</th>\n      <td>./dev/01_tcp_ar/002/00000258/s003_2003_07_22/0...</td>\n      <td>400</td>\n      <td>[[3531]]</td>\n      <td>[[69351]]</td>\n      <td>258.0</td>\n      <td>258_s003_t002</td>\n    </tr>\n  </tbody>\n</table>\n</div>"
     },
     "execution_count": 18,
     "metadata": {},
     "output_type": "execute_result"
    }
   ],
   "source": [
    "# df_tusz.rename(columns={'(patient, )': 'patient'})\n",
    "def get_shortname(x):\n",
    "    short_filename = (x.split('/')[-1]).split('.tse')[0]\n",
    "    pat_num = int(short_filename.split('_')[0])\n",
    "    session = short_filename.split('_')[1]\n",
    "    t = short_filename.split('_')[2]\n",
    "    return \"{}_{}_{}\".format(pat_num, session, t)\n",
    "df_tusz['shortname'] = df_tusz['Filename'].apply(get_shortname)\n",
    "df_tusz.head()"
   ],
   "metadata": {
    "collapsed": false,
    "pycharm": {
     "name": "#%%\n"
    }
   }
  },
  {
   "cell_type": "code",
   "execution_count": 19,
   "outputs": [
    {
     "data": {
      "text/plain": "             Filename      start        end if_seizure  n/a\n5445   9934_s002_t005     0.0000   601.0000       bckg  1.0\n777    6514_s008_t000   151.9720   154.0000       bckg  1.0\n1919  10106_s002_t004     0.0000   328.1211       bckg  1.0\n7730   4671_s020_t004     0.0000   300.0000       bckg  1.0\n1069   5452_s002_t000     9.7160   122.1477       seiz  1.0\n5197  11914_s001_t000  1884.0100  2697.0000       bckg  1.0\n1360   9578_s037_t003     0.0000   601.0000       bckg  1.0\n5147  11927_s003_t001   550.5014   599.6385       seiz  1.0\n9104    883_s003_t003   370.1100   378.0000       bckg  1.0\n2757   9104_s003_t001   923.8145   947.3203       bckg  1.0",
      "text/html": "<div>\n<style scoped>\n    .dataframe tbody tr th:only-of-type {\n        vertical-align: middle;\n    }\n\n    .dataframe tbody tr th {\n        vertical-align: top;\n    }\n\n    .dataframe thead th {\n        text-align: right;\n    }\n</style>\n<table border=\"1\" class=\"dataframe\">\n  <thead>\n    <tr style=\"text-align: right;\">\n      <th></th>\n      <th>Filename</th>\n      <th>start</th>\n      <th>end</th>\n      <th>if_seizure</th>\n      <th>n/a</th>\n    </tr>\n  </thead>\n  <tbody>\n    <tr>\n      <th>5445</th>\n      <td>9934_s002_t005</td>\n      <td>0.0000</td>\n      <td>601.0000</td>\n      <td>bckg</td>\n      <td>1.0</td>\n    </tr>\n    <tr>\n      <th>777</th>\n      <td>6514_s008_t000</td>\n      <td>151.9720</td>\n      <td>154.0000</td>\n      <td>bckg</td>\n      <td>1.0</td>\n    </tr>\n    <tr>\n      <th>1919</th>\n      <td>10106_s002_t004</td>\n      <td>0.0000</td>\n      <td>328.1211</td>\n      <td>bckg</td>\n      <td>1.0</td>\n    </tr>\n    <tr>\n      <th>7730</th>\n      <td>4671_s020_t004</td>\n      <td>0.0000</td>\n      <td>300.0000</td>\n      <td>bckg</td>\n      <td>1.0</td>\n    </tr>\n    <tr>\n      <th>1069</th>\n      <td>5452_s002_t000</td>\n      <td>9.7160</td>\n      <td>122.1477</td>\n      <td>seiz</td>\n      <td>1.0</td>\n    </tr>\n    <tr>\n      <th>5197</th>\n      <td>11914_s001_t000</td>\n      <td>1884.0100</td>\n      <td>2697.0000</td>\n      <td>bckg</td>\n      <td>1.0</td>\n    </tr>\n    <tr>\n      <th>1360</th>\n      <td>9578_s037_t003</td>\n      <td>0.0000</td>\n      <td>601.0000</td>\n      <td>bckg</td>\n      <td>1.0</td>\n    </tr>\n    <tr>\n      <th>5147</th>\n      <td>11927_s003_t001</td>\n      <td>550.5014</td>\n      <td>599.6385</td>\n      <td>seiz</td>\n      <td>1.0</td>\n    </tr>\n    <tr>\n      <th>9104</th>\n      <td>883_s003_t003</td>\n      <td>370.1100</td>\n      <td>378.0000</td>\n      <td>bckg</td>\n      <td>1.0</td>\n    </tr>\n    <tr>\n      <th>2757</th>\n      <td>9104_s003_t001</td>\n      <td>923.8145</td>\n      <td>947.3203</td>\n      <td>bckg</td>\n      <td>1.0</td>\n    </tr>\n  </tbody>\n</table>\n</div>"
     },
     "execution_count": 19,
     "metadata": {},
     "output_type": "execute_result"
    }
   ],
   "source": [
    "ref_df = pd.read_csv('./input/TUSZ/_DOCS/ref_train.txt',sep=' ', header=None,  names=['Filename', 'start', 'end', 'if_seizure', 'n/a'])\n",
    "dev_df = pd.read_csv('./input/TUSZ/_DOCS/ref_dev.txt',sep=' ', header=None,  names=['Filename', 'start', 'end', 'if_seizure', 'n/a'])\n",
    "ref_df = pd.concat([ref_df, dev_df])\n",
    "ref_df['Filename'] = ref_df['Filename'].apply(lambda x: x.lstrip(\"0\"))\n",
    "ref_df.sample(10)"
   ],
   "metadata": {
    "collapsed": false,
    "pycharm": {
     "name": "#%%\n"
    }
   }
  },
  {
   "cell_type": "code",
   "execution_count": 20,
   "outputs": [
    {
     "data": {
      "text/plain": "Filename      5612\nstart         5850\nend           6983\nif_seizure       2\nn/a              1\ndtype: int64"
     },
     "execution_count": 20,
     "metadata": {},
     "output_type": "execute_result"
    }
   ],
   "source": [
    "ref_df.nunique()"
   ],
   "metadata": {
    "collapsed": false,
    "pycharm": {
     "name": "#%%\n"
    }
   }
  },
  {
   "cell_type": "code",
   "execution_count": 21,
   "outputs": [
    {
     "data": {
      "text/plain": "Filename\n10418_s012_t001    105\n11333_s012_t007     95\n10020_s001_t001     87\n10489_s002_t001     83\n8616_s001_t000      83\n                  ... \n7446_s003_t007       1\n7446_s003_t008       1\n7446_s003_t009       1\n7446_s007_t000       1\n5427_s012_t003       1\nName: start, Length: 5612, dtype: int64"
     },
     "execution_count": 21,
     "metadata": {},
     "output_type": "execute_result"
    }
   ],
   "source": [
    "ref_df.groupby('Filename')['start'].count().sort_values(ascending=False)"
   ],
   "metadata": {
    "collapsed": false,
    "pycharm": {
     "name": "#%%\n"
    }
   }
  },
  {
   "cell_type": "code",
   "execution_count": 22,
   "outputs": [],
   "source": [
    "length_df = ref_df.drop_duplicates(subset=['Filename'], keep='last')[['Filename', 'end']]\n",
    "length_df = length_df.rename(columns={'end': 'length'})"
   ],
   "metadata": {
    "collapsed": false,
    "pycharm": {
     "name": "#%%\n"
    }
   }
  },
  {
   "cell_type": "code",
   "execution_count": 23,
   "outputs": [
    {
     "data": {
      "text/plain": "                                               Filename  fs_FP1 Seizure_Start  \\\n190   ./dev/01_tcp_ar/084/00008453/s005_2012_03_05/0...     250         [[0]]   \n2390  ./train/01_tcp_ar/091/00009104/s008_2014_09_25...     256         [[0]]   \n2789  ./train/01_tcp_ar/100/00010023/s002_2013_02_21...     256         [[0]]   \n661   ./dev/01_tcp_ar/095/00009578/s037_2013_08_30/0...     256         [[0]]   \n2112  ./train/01_tcp_ar/084/00008480/s009_2012_11_23...     256         [[0]]   \n643   ./dev/01_tcp_ar/095/00009578/s034_2013_08_27/0...     256         [[0]]   \n3488  ./train/01_tcp_ar/112/00011272/s003_2014_02_19...     256         [[0]]   \n52    ./dev/01_tcp_ar/022/00002289/s008_2012_03_16/0...     512         [[0]]   \n4917  ./train/03_tcp_ar_a/045/00004552/s001_2007_11_...     400         [[0]]   \n5569  ./train/03_tcp_ar_a/129/00012957/s004_2015_07_...     256         [[0]]   \n\n     Seizure_Stop  patient        shortname       Filename_y  length  \n190         [[0]]   8453.0   8453_s005_t001   8453_s005_t001  173250  \n2390        [[0]]   9104.0   9104_s008_t001   9104_s008_t001  149504  \n2789        [[0]]  10023.0  10023_s002_t005  10023_s002_t005  153856  \n661         [[0]]   9578.0   9578_s037_t006   9578_s037_t006   57856  \n2112        [[0]]   8480.0   8480_s009_t001   8480_s009_t001  236544  \n643         [[0]]   9578.0   9578_s034_t009   9578_s034_t009  153856  \n3488        [[0]]  11272.0  11272_s003_t005  11272_s003_t005   76800  \n52          [[0]]   2289.0   2289_s008_t000   2289_s008_t000   17408  \n4917        [[0]]   4552.0   4552_s001_t002   4552_s001_t002  130000  \n5569        [[0]]  12957.0  12957_s004_t010  12957_s004_t010  153856  ",
      "text/html": "<div>\n<style scoped>\n    .dataframe tbody tr th:only-of-type {\n        vertical-align: middle;\n    }\n\n    .dataframe tbody tr th {\n        vertical-align: top;\n    }\n\n    .dataframe thead th {\n        text-align: right;\n    }\n</style>\n<table border=\"1\" class=\"dataframe\">\n  <thead>\n    <tr style=\"text-align: right;\">\n      <th></th>\n      <th>Filename</th>\n      <th>fs_FP1</th>\n      <th>Seizure_Start</th>\n      <th>Seizure_Stop</th>\n      <th>patient</th>\n      <th>shortname</th>\n      <th>Filename_y</th>\n      <th>length</th>\n    </tr>\n  </thead>\n  <tbody>\n    <tr>\n      <th>190</th>\n      <td>./dev/01_tcp_ar/084/00008453/s005_2012_03_05/0...</td>\n      <td>250</td>\n      <td>[[0]]</td>\n      <td>[[0]]</td>\n      <td>8453.0</td>\n      <td>8453_s005_t001</td>\n      <td>8453_s005_t001</td>\n      <td>173250</td>\n    </tr>\n    <tr>\n      <th>2390</th>\n      <td>./train/01_tcp_ar/091/00009104/s008_2014_09_25...</td>\n      <td>256</td>\n      <td>[[0]]</td>\n      <td>[[0]]</td>\n      <td>9104.0</td>\n      <td>9104_s008_t001</td>\n      <td>9104_s008_t001</td>\n      <td>149504</td>\n    </tr>\n    <tr>\n      <th>2789</th>\n      <td>./train/01_tcp_ar/100/00010023/s002_2013_02_21...</td>\n      <td>256</td>\n      <td>[[0]]</td>\n      <td>[[0]]</td>\n      <td>10023.0</td>\n      <td>10023_s002_t005</td>\n      <td>10023_s002_t005</td>\n      <td>153856</td>\n    </tr>\n    <tr>\n      <th>661</th>\n      <td>./dev/01_tcp_ar/095/00009578/s037_2013_08_30/0...</td>\n      <td>256</td>\n      <td>[[0]]</td>\n      <td>[[0]]</td>\n      <td>9578.0</td>\n      <td>9578_s037_t006</td>\n      <td>9578_s037_t006</td>\n      <td>57856</td>\n    </tr>\n    <tr>\n      <th>2112</th>\n      <td>./train/01_tcp_ar/084/00008480/s009_2012_11_23...</td>\n      <td>256</td>\n      <td>[[0]]</td>\n      <td>[[0]]</td>\n      <td>8480.0</td>\n      <td>8480_s009_t001</td>\n      <td>8480_s009_t001</td>\n      <td>236544</td>\n    </tr>\n    <tr>\n      <th>643</th>\n      <td>./dev/01_tcp_ar/095/00009578/s034_2013_08_27/0...</td>\n      <td>256</td>\n      <td>[[0]]</td>\n      <td>[[0]]</td>\n      <td>9578.0</td>\n      <td>9578_s034_t009</td>\n      <td>9578_s034_t009</td>\n      <td>153856</td>\n    </tr>\n    <tr>\n      <th>3488</th>\n      <td>./train/01_tcp_ar/112/00011272/s003_2014_02_19...</td>\n      <td>256</td>\n      <td>[[0]]</td>\n      <td>[[0]]</td>\n      <td>11272.0</td>\n      <td>11272_s003_t005</td>\n      <td>11272_s003_t005</td>\n      <td>76800</td>\n    </tr>\n    <tr>\n      <th>52</th>\n      <td>./dev/01_tcp_ar/022/00002289/s008_2012_03_16/0...</td>\n      <td>512</td>\n      <td>[[0]]</td>\n      <td>[[0]]</td>\n      <td>2289.0</td>\n      <td>2289_s008_t000</td>\n      <td>2289_s008_t000</td>\n      <td>17408</td>\n    </tr>\n    <tr>\n      <th>4917</th>\n      <td>./train/03_tcp_ar_a/045/00004552/s001_2007_11_...</td>\n      <td>400</td>\n      <td>[[0]]</td>\n      <td>[[0]]</td>\n      <td>4552.0</td>\n      <td>4552_s001_t002</td>\n      <td>4552_s001_t002</td>\n      <td>130000</td>\n    </tr>\n    <tr>\n      <th>5569</th>\n      <td>./train/03_tcp_ar_a/129/00012957/s004_2015_07_...</td>\n      <td>256</td>\n      <td>[[0]]</td>\n      <td>[[0]]</td>\n      <td>12957.0</td>\n      <td>12957_s004_t010</td>\n      <td>12957_s004_t010</td>\n      <td>153856</td>\n    </tr>\n  </tbody>\n</table>\n</div>"
     },
     "execution_count": 23,
     "metadata": {},
     "output_type": "execute_result"
    }
   ],
   "source": [
    "df_tusz = pd.merge(df_tusz, length_df, left_on='shortname', right_on='Filename', how='left',suffixes=(\"\", \"_y\"))\n",
    "df_tusz['length'] = (df_tusz['length'] * df_tusz['fs_FP1']).astype('int')\n",
    "df_tusz.sample(10)"
   ],
   "metadata": {
    "collapsed": false,
    "pycharm": {
     "name": "#%%\n"
    }
   }
  },
  {
   "cell_type": "code",
   "execution_count": 24,
   "outputs": [],
   "source": [
    "df_tusz = df_tusz.rename(columns={'Seizure_Start': 'onsets', 'Seizure_Stop': 'offsets', 'Filename': 'file_name'})\n",
    "df_tusz = df_tusz.drop(columns=['shortname', 'Filename_y'])"
   ],
   "metadata": {
    "collapsed": false,
    "pycharm": {
     "name": "#%%\n"
    }
   }
  },
  {
   "cell_type": "code",
   "execution_count": 25,
   "outputs": [
    {
     "data": {
      "text/plain": "                                              file_name  fs_FP1  \\\n594   ./dev/01_tcp_ar/095/00009578/s029_2013_08_23/0...     256   \n3677  ./train/01_tcp_ar/118/00011869/s005_2014_08_13...     256   \n2716  ./train/01_tcp_ar/099/00009932/s006_2014_10_02...     256   \n1100  ./train/01_tcp_ar/009/00000906/s007_2003_04_28...     400   \n3025  ./train/01_tcp_ar/104/00010418/s006_2013_06_10...     256   \n33    ./dev/01_tcp_ar/022/00002289/s003_2012_03_12/0...     512   \n3990  ./train/01_tcp_ar/129/00012960/s003_2015_06_18...     256   \n1280  ./train/01_tcp_ar/044/00004456/s015_2014_06_19...     256   \n1598  ./train/01_tcp_ar/070/00007032/s008_2011_02_22...     250   \n4361  ./train/02_tcp_le/019/00001986/s002_2006_09_18...     250   \n\n                                                 onsets  \\\n594             [[65701], [131937], [209792], [301012]]   \n3677                                          [[77079]]   \n2716                                              [[0]]   \n1100                                              [[0]]   \n3025                                              [[0]]   \n33                                                [[0]]   \n3990                                              [[0]]   \n1280  [[83205], [116256], [124679], [133927], [177720]]   \n1598                                            [[250]]   \n4361                                              [[0]]   \n\n                                                offsets  patient  length  \n594             [[87728], [162058], [226674], [322332]]     9578  395008  \n3677                                         [[122663]]    11869  250624  \n2716                                              [[0]]     9932  153856  \n1100                                              [[0]]      906  128400  \n3025                                              [[0]]    10418  153856  \n33                                                [[0]]     2289  307712  \n3990                                              [[0]]    12960  153856  \n1280  [[90615], [120351], [128272], [140826], [181781]]     4456  284928  \n1598                                         [[612250]]     7032  612500  \n4361                                              [[0]]     1986   40500  ",
      "text/html": "<div>\n<style scoped>\n    .dataframe tbody tr th:only-of-type {\n        vertical-align: middle;\n    }\n\n    .dataframe tbody tr th {\n        vertical-align: top;\n    }\n\n    .dataframe thead th {\n        text-align: right;\n    }\n</style>\n<table border=\"1\" class=\"dataframe\">\n  <thead>\n    <tr style=\"text-align: right;\">\n      <th></th>\n      <th>file_name</th>\n      <th>fs_FP1</th>\n      <th>onsets</th>\n      <th>offsets</th>\n      <th>patient</th>\n      <th>length</th>\n    </tr>\n  </thead>\n  <tbody>\n    <tr>\n      <th>594</th>\n      <td>./dev/01_tcp_ar/095/00009578/s029_2013_08_23/0...</td>\n      <td>256</td>\n      <td>[[65701], [131937], [209792], [301012]]</td>\n      <td>[[87728], [162058], [226674], [322332]]</td>\n      <td>9578</td>\n      <td>395008</td>\n    </tr>\n    <tr>\n      <th>3677</th>\n      <td>./train/01_tcp_ar/118/00011869/s005_2014_08_13...</td>\n      <td>256</td>\n      <td>[[77079]]</td>\n      <td>[[122663]]</td>\n      <td>11869</td>\n      <td>250624</td>\n    </tr>\n    <tr>\n      <th>2716</th>\n      <td>./train/01_tcp_ar/099/00009932/s006_2014_10_02...</td>\n      <td>256</td>\n      <td>[[0]]</td>\n      <td>[[0]]</td>\n      <td>9932</td>\n      <td>153856</td>\n    </tr>\n    <tr>\n      <th>1100</th>\n      <td>./train/01_tcp_ar/009/00000906/s007_2003_04_28...</td>\n      <td>400</td>\n      <td>[[0]]</td>\n      <td>[[0]]</td>\n      <td>906</td>\n      <td>128400</td>\n    </tr>\n    <tr>\n      <th>3025</th>\n      <td>./train/01_tcp_ar/104/00010418/s006_2013_06_10...</td>\n      <td>256</td>\n      <td>[[0]]</td>\n      <td>[[0]]</td>\n      <td>10418</td>\n      <td>153856</td>\n    </tr>\n    <tr>\n      <th>33</th>\n      <td>./dev/01_tcp_ar/022/00002289/s003_2012_03_12/0...</td>\n      <td>512</td>\n      <td>[[0]]</td>\n      <td>[[0]]</td>\n      <td>2289</td>\n      <td>307712</td>\n    </tr>\n    <tr>\n      <th>3990</th>\n      <td>./train/01_tcp_ar/129/00012960/s003_2015_06_18...</td>\n      <td>256</td>\n      <td>[[0]]</td>\n      <td>[[0]]</td>\n      <td>12960</td>\n      <td>153856</td>\n    </tr>\n    <tr>\n      <th>1280</th>\n      <td>./train/01_tcp_ar/044/00004456/s015_2014_06_19...</td>\n      <td>256</td>\n      <td>[[83205], [116256], [124679], [133927], [177720]]</td>\n      <td>[[90615], [120351], [128272], [140826], [181781]]</td>\n      <td>4456</td>\n      <td>284928</td>\n    </tr>\n    <tr>\n      <th>1598</th>\n      <td>./train/01_tcp_ar/070/00007032/s008_2011_02_22...</td>\n      <td>250</td>\n      <td>[[250]]</td>\n      <td>[[612250]]</td>\n      <td>7032</td>\n      <td>612500</td>\n    </tr>\n    <tr>\n      <th>4361</th>\n      <td>./train/02_tcp_le/019/00001986/s002_2006_09_18...</td>\n      <td>250</td>\n      <td>[[0]]</td>\n      <td>[[0]]</td>\n      <td>1986</td>\n      <td>40500</td>\n    </tr>\n  </tbody>\n</table>\n</div>"
     },
     "execution_count": 25,
     "metadata": {},
     "output_type": "execute_result"
    }
   ],
   "source": [
    "df_tusz[\"patient\"] = df_tusz[\"patient\"].astype(\"int\")\n",
    "df_tusz.sample(10)"
   ],
   "metadata": {
    "collapsed": false,
    "pycharm": {
     "name": "#%%\n"
    }
   }
  },
  {
   "cell_type": "code",
   "execution_count": 26,
   "outputs": [
    {
     "data": {
      "text/plain": "                                  file_name  fs_FP1    onsets    offsets  \\\n0  dev/01_tcp_ar/002/00000258_s002_t000.edf     400     [[0]]      [[0]]   \n1  dev/01_tcp_ar/002/00000258_s002_t002.edf     400     [[0]]      [[0]]   \n2  dev/01_tcp_ar/002/00000258_s003_t000.edf     400     [[0]]      [[0]]   \n3  dev/01_tcp_ar/002/00000258_s003_t001.edf     400     [[0]]      [[0]]   \n4  dev/01_tcp_ar/002/00000258_s003_t002.edf     400  [[3531]]  [[69351]]   \n\n   patient  length  \n0      258    8000  \n1      258  108800  \n2      258   93600  \n3      258   89600  \n4      258   81200  ",
      "text/html": "<div>\n<style scoped>\n    .dataframe tbody tr th:only-of-type {\n        vertical-align: middle;\n    }\n\n    .dataframe tbody tr th {\n        vertical-align: top;\n    }\n\n    .dataframe thead th {\n        text-align: right;\n    }\n</style>\n<table border=\"1\" class=\"dataframe\">\n  <thead>\n    <tr style=\"text-align: right;\">\n      <th></th>\n      <th>file_name</th>\n      <th>fs_FP1</th>\n      <th>onsets</th>\n      <th>offsets</th>\n      <th>patient</th>\n      <th>length</th>\n    </tr>\n  </thead>\n  <tbody>\n    <tr>\n      <th>0</th>\n      <td>dev/01_tcp_ar/002/00000258_s002_t000.edf</td>\n      <td>400</td>\n      <td>[[0]]</td>\n      <td>[[0]]</td>\n      <td>258</td>\n      <td>8000</td>\n    </tr>\n    <tr>\n      <th>1</th>\n      <td>dev/01_tcp_ar/002/00000258_s002_t002.edf</td>\n      <td>400</td>\n      <td>[[0]]</td>\n      <td>[[0]]</td>\n      <td>258</td>\n      <td>108800</td>\n    </tr>\n    <tr>\n      <th>2</th>\n      <td>dev/01_tcp_ar/002/00000258_s003_t000.edf</td>\n      <td>400</td>\n      <td>[[0]]</td>\n      <td>[[0]]</td>\n      <td>258</td>\n      <td>93600</td>\n    </tr>\n    <tr>\n      <th>3</th>\n      <td>dev/01_tcp_ar/002/00000258_s003_t001.edf</td>\n      <td>400</td>\n      <td>[[0]]</td>\n      <td>[[0]]</td>\n      <td>258</td>\n      <td>89600</td>\n    </tr>\n    <tr>\n      <th>4</th>\n      <td>dev/01_tcp_ar/002/00000258_s003_t002.edf</td>\n      <td>400</td>\n      <td>[[3531]]</td>\n      <td>[[69351]]</td>\n      <td>258</td>\n      <td>81200</td>\n    </tr>\n  </tbody>\n</table>\n</div>"
     },
     "execution_count": 26,
     "metadata": {},
     "output_type": "execute_result"
    }
   ],
   "source": [
    "def get_file_name_compatible(x):\n",
    "    split = x.split('/')\n",
    "    _,mode,tcp, directory, _, _, filename = split\n",
    "    filename = filename.split('.tse')[0]\n",
    "    return \"{}/{}/{}/{}.edf\".format(mode, tcp, directory, filename)\n",
    "\n",
    "df_tusz[\"file_name\"] = df_tusz[\"file_name\"].apply(get_file_name_compatible)\n",
    "df_tusz.head()\n"
   ],
   "metadata": {
    "collapsed": false,
    "pycharm": {
     "name": "#%%\n"
    }
   }
  },
  {
   "cell_type": "code",
   "execution_count": 27,
   "outputs": [
    {
     "data": {
      "text/plain": "<matplotlib.axes._subplots.AxesSubplot at 0x7f3e28ddd4f0>"
     },
     "execution_count": 27,
     "metadata": {},
     "output_type": "execute_result"
    },
    {
     "data": {
      "text/plain": "<Figure size 432x288 with 1 Axes>",
      "image/png": "[encoded data removed]"
     },
     "metadata": {},
     "output_type": "display_data"
    }
   ],
   "source": [
    "(df_tusz['length']/ df_tusz['fs_FP1']).hist(bins = 50)\n"
   ],
   "metadata": {
    "collapsed": false,
    "pycharm": {
     "name": "#%%\n"
    }
   }
  },
  {
   "cell_type": "code",
   "execution_count": 28,
   "outputs": [
    {
     "data": {
      "text/plain": "673"
     },
     "execution_count": 28,
     "metadata": {},
     "output_type": "execute_result"
    }
   ],
   "source": [
    "testset = (df_tusz[df_tusz['file_name'].apply(lambda x: x.startswith('dev'))])\n",
    "cond = testset['onsets'].apply(lambda x: x[0][0] if x[0][0] != 0 else pd.NA) <= testset['fs_FP1']\n",
    "len(testset['onsets'].apply(lambda x: x if x[0][0] != 0 else []).sum())\n",
    "\n",
    "# df_tusz[df_tusz['file_name'].apply(lambda x: x.startswith('dev'))]"
   ],
   "metadata": {
    "collapsed": false,
    "pycharm": {
     "name": "#%%\n"
    }
   }
  },
  {
   "cell_type": "code",
   "execution_count": 29,
   "outputs": [],
   "source": [
    "df_tusz.to_csv('./output/TUSZ_labels.csv')"
   ],
   "metadata": {
    "collapsed": false,
    "pycharm": {
     "name": "#%%\n"
    }
   }
  },
  {
   "cell_type": "markdown",
   "source": [
    "## eeg-gnn-ssl labels"
   ],
   "metadata": {
    "collapsed": false,
    "pycharm": {
     "name": "#%% md\n"
    }
   }
  },
  {
   "cell_type": "code",
   "execution_count": 30,
   "outputs": [
    {
     "data": {
      "text/plain": "                               File label      mode\n29526   00012229_s007_t007.edf_1.h5     0  trainSet\n3734    00013085_s002_t016.edf_3.h5     0    devSet\n12356   00001204_s002_t001.edf_9.h5     0  trainSet\n6993    00005427_s002_t000.edf_4.h5     0  trainSet\n10152   00009162_s002_t008.edf_7.h5     0  trainSet\n13557   00000883_s007_t001.edf_9.h5     0  trainSet\n7159    00009697_s006_t007.edf_3.h5     0   testSet\n32715   00009352_s007_t000.edf_1.h5     0  trainSet\n18087  00011596_s002_t001.edf_12.h5     0  trainSet\n2224    00011077_s003_t001.edf_7.h5     1  trainSet",
      "text/html": "<div>\n<style scoped>\n    .dataframe tbody tr th:only-of-type {\n        vertical-align: middle;\n    }\n\n    .dataframe tbody tr th {\n        vertical-align: top;\n    }\n\n    .dataframe thead th {\n        text-align: right;\n    }\n</style>\n<table border=\"1\" class=\"dataframe\">\n  <thead>\n    <tr style=\"text-align: right;\">\n      <th></th>\n      <th>File</th>\n      <th>label</th>\n      <th>mode</th>\n    </tr>\n  </thead>\n  <tbody>\n    <tr>\n      <th>29526</th>\n      <td>00012229_s007_t007.edf_1.h5</td>\n      <td>0</td>\n      <td>trainSet</td>\n    </tr>\n    <tr>\n      <th>3734</th>\n      <td>00013085_s002_t016.edf_3.h5</td>\n      <td>0</td>\n      <td>devSet</td>\n    </tr>\n    <tr>\n      <th>12356</th>\n      <td>00001204_s002_t001.edf_9.h5</td>\n      <td>0</td>\n      <td>trainSet</td>\n    </tr>\n    <tr>\n      <th>6993</th>\n      <td>00005427_s002_t000.edf_4.h5</td>\n      <td>0</td>\n      <td>trainSet</td>\n    </tr>\n    <tr>\n      <th>10152</th>\n      <td>00009162_s002_t008.edf_7.h5</td>\n      <td>0</td>\n      <td>trainSet</td>\n    </tr>\n    <tr>\n      <th>13557</th>\n      <td>00000883_s007_t001.edf_9.h5</td>\n      <td>0</td>\n      <td>trainSet</td>\n    </tr>\n    <tr>\n      <th>7159</th>\n      <td>00009697_s006_t007.edf_3.h5</td>\n      <td>0</td>\n      <td>testSet</td>\n    </tr>\n    <tr>\n      <th>32715</th>\n      <td>00009352_s007_t000.edf_1.h5</td>\n      <td>0</td>\n      <td>trainSet</td>\n    </tr>\n    <tr>\n      <th>18087</th>\n      <td>00011596_s002_t001.edf_12.h5</td>\n      <td>0</td>\n      <td>trainSet</td>\n    </tr>\n    <tr>\n      <th>2224</th>\n      <td>00011077_s003_t001.edf_7.h5</td>\n      <td>1</td>\n      <td>trainSet</td>\n    </tr>\n  </tbody>\n</table>\n</div>"
     },
     "execution_count": 30,
     "metadata": {},
     "output_type": "execute_result"
    }
   ],
   "source": [
    "df_gnn = pd.DataFrame(columns=[\"File\", \"label\", \"mode\"])\n",
    "for mode in [\"trainSet\", \"testSet\", \"devSet\"]:\n",
    "    for sz_nosz in [\"sz\", \"nosz\"]:\n",
    "        df_gnn_mode = pd.read_csv('./input/TUSZ/file_markers_detection/{}_seq2seq_60s_{}.txt'.format(mode, sz_nosz),\n",
    "                             sep=',',\n",
    "                             names=[\"File\", \"label\"])\n",
    "        df_gnn_mode[\"mode\"] = mode\n",
    "        df_gnn = pd.concat((df_gnn, df_gnn_mode))\n",
    "df_gnn.sample(n=10)"
   ],
   "metadata": {
    "collapsed": false,
    "pycharm": {
     "name": "#%%\n"
    }
   }
  },
  {
   "cell_type": "code",
   "execution_count": 31,
   "outputs": [
    {
     "data": {
      "text/plain": "                           File label      mode  file_index  \\\n0  00004892_s001_t001.edf_23.h5     1  trainSet          23   \n1   00011580_s001_t008.edf_5.h5     1  trainSet           5   \n2   00010418_s016_t001.edf_5.h5     1  trainSet           5   \n3   00007793_s001_t001.edf_1.h5     1  trainSet           1   \n4   00006440_s004_t000.edf_2.h5     1  trainSet           2   \n\n            file_name  \n0  00004892_s001_t001  \n1  00011580_s001_t008  \n2  00010418_s016_t001  \n3  00007793_s001_t001  \n4  00006440_s004_t000  ",
      "text/html": "<div>\n<style scoped>\n    .dataframe tbody tr th:only-of-type {\n        vertical-align: middle;\n    }\n\n    .dataframe tbody tr th {\n        vertical-align: top;\n    }\n\n    .dataframe thead th {\n        text-align: right;\n    }\n</style>\n<table border=\"1\" class=\"dataframe\">\n  <thead>\n    <tr style=\"text-align: right;\">\n      <th></th>\n      <th>File</th>\n      <th>label</th>\n      <th>mode</th>\n      <th>file_index</th>\n      <th>file_name</th>\n    </tr>\n  </thead>\n  <tbody>\n    <tr>\n      <th>0</th>\n      <td>00004892_s001_t001.edf_23.h5</td>\n      <td>1</td>\n      <td>trainSet</td>\n      <td>23</td>\n      <td>00004892_s001_t001</td>\n    </tr>\n    <tr>\n      <th>1</th>\n      <td>00011580_s001_t008.edf_5.h5</td>\n      <td>1</td>\n      <td>trainSet</td>\n      <td>5</td>\n      <td>00011580_s001_t008</td>\n    </tr>\n    <tr>\n      <th>2</th>\n      <td>00010418_s016_t001.edf_5.h5</td>\n      <td>1</td>\n      <td>trainSet</td>\n      <td>5</td>\n      <td>00010418_s016_t001</td>\n    </tr>\n    <tr>\n      <th>3</th>\n      <td>00007793_s001_t001.edf_1.h5</td>\n      <td>1</td>\n      <td>trainSet</td>\n      <td>1</td>\n      <td>00007793_s001_t001</td>\n    </tr>\n    <tr>\n      <th>4</th>\n      <td>00006440_s004_t000.edf_2.h5</td>\n      <td>1</td>\n      <td>trainSet</td>\n      <td>2</td>\n      <td>00006440_s004_t000</td>\n    </tr>\n  </tbody>\n</table>\n</div>"
     },
     "execution_count": 31,
     "metadata": {},
     "output_type": "execute_result"
    }
   ],
   "source": [
    "df_gnn['file_index'] = df_gnn[\"File\"].apply(lambda x: int(x.split('.h5')[0].split('_')[-1]))\n",
    "df_gnn['file_name'] = df_gnn[\"File\"].apply(lambda x: x.split('.edf')[0])\n",
    "df_gnn.head()"
   ],
   "metadata": {
    "collapsed": false,
    "pycharm": {
     "name": "#%%\n"
    }
   }
  },
  {
   "cell_type": "code",
   "execution_count": 32,
   "outputs": [
    {
     "data": {
      "text/plain": "mode      label\ndevSet    0         4878\n          1          625\ntestSet   0         7550\n          1         1298\ntrainSet  0        35019\n          1         3594\nName: label, dtype: int64"
     },
     "execution_count": 32,
     "metadata": {},
     "output_type": "execute_result"
    }
   ],
   "source": [
    "df_gnn.groupby('mode')['label'].value_counts()"
   ],
   "metadata": {
    "collapsed": false,
    "pycharm": {
     "name": "#%%\n"
    }
   }
  },
  {
   "cell_type": "code",
   "execution_count": 33,
   "outputs": [
    {
     "data": {
      "text/plain": "file_name\n00000258_s001_t000    29\n00000258_s002_t002     4\n00000258_s003_t000     3\n00000258_s003_t001     3\n00000258_s003_t002     3\n                      ..\n00010639_s008_t001    10\n00010639_s008_t002     5\n00010639_s008_t003    10\n00010639_s008_t004    10\n00010861_s001_t000    20\nName: file_index, Length: 879, dtype: int64"
     },
     "execution_count": 33,
     "metadata": {},
     "output_type": "execute_result"
    }
   ],
   "source": [
    "df_gnn[df_gnn['mode']=='testSet'].groupby('file_name')['file_index'].count()"
   ],
   "metadata": {
    "collapsed": false,
    "pycharm": {
     "name": "#%%\n"
    }
   }
  },
  {
   "cell_type": "code",
   "execution_count": 34,
   "outputs": [
    {
     "data": {
      "text/plain": "                                    file_name  fs_FP1 onsets offsets  patient  \\\n894  dev/01_tcp_ar/106/00010639_s008_t003.edf     256  [[0]]   [[0]]    10639   \n\n     length  \n894  153856  ",
      "text/html": "<div>\n<style scoped>\n    .dataframe tbody tr th:only-of-type {\n        vertical-align: middle;\n    }\n\n    .dataframe tbody tr th {\n        vertical-align: top;\n    }\n\n    .dataframe thead th {\n        text-align: right;\n    }\n</style>\n<table border=\"1\" class=\"dataframe\">\n  <thead>\n    <tr style=\"text-align: right;\">\n      <th></th>\n      <th>file_name</th>\n      <th>fs_FP1</th>\n      <th>onsets</th>\n      <th>offsets</th>\n      <th>patient</th>\n      <th>length</th>\n    </tr>\n  </thead>\n  <tbody>\n    <tr>\n      <th>894</th>\n      <td>dev/01_tcp_ar/106/00010639_s008_t003.edf</td>\n      <td>256</td>\n      <td>[[0]]</td>\n      <td>[[0]]</td>\n      <td>10639</td>\n      <td>153856</td>\n    </tr>\n  </tbody>\n</table>\n</div>"
     },
     "execution_count": 34,
     "metadata": {},
     "output_type": "execute_result"
    }
   ],
   "source": [
    "df_tusz[df_tusz['file_name'].apply(lambda x: '00010639_s008_t003' in x)]"
   ],
   "metadata": {
    "collapsed": false,
    "pycharm": {
     "name": "#%%\n"
    }
   }
  },
  {
   "cell_type": "code",
   "execution_count": 35,
   "outputs": [
    {
     "data": {
      "text/plain": "[trainSet]    3896\n[testSet]      879\n[devSet]       582\nName: mode, dtype: int64"
     },
     "execution_count": 35,
     "metadata": {},
     "output_type": "execute_result"
    }
   ],
   "source": [
    "unique_df = df_gnn.groupby('file_name')['mode'].unique().reset_index(name='mode')\n",
    "unique_df['mode'].value_counts()"
   ],
   "metadata": {
    "collapsed": false,
    "pycharm": {
     "name": "#%%\n"
    }
   }
  },
  {
   "cell_type": "code",
   "execution_count": 36,
   "outputs": [
    {
     "data": {
      "text/plain": "                                  file_name  fs_FP1    onsets    offsets  \\\n0  dev/01_tcp_ar/002/00000258_s002_t000.edf     400     [[0]]      [[0]]   \n1  dev/01_tcp_ar/002/00000258_s002_t002.edf     400     [[0]]      [[0]]   \n2  dev/01_tcp_ar/002/00000258_s003_t000.edf     400     [[0]]      [[0]]   \n3  dev/01_tcp_ar/002/00000258_s003_t001.edf     400     [[0]]      [[0]]   \n4  dev/01_tcp_ar/002/00000258_s003_t002.edf     400  [[3531]]  [[69351]]   \n\n   patient  length       file_name_edf  \n0      258    8000  00000258_s002_t000  \n1      258  108800  00000258_s002_t002  \n2      258   93600  00000258_s003_t000  \n3      258   89600  00000258_s003_t001  \n4      258   81200  00000258_s003_t002  ",
      "text/html": "<div>\n<style scoped>\n    .dataframe tbody tr th:only-of-type {\n        vertical-align: middle;\n    }\n\n    .dataframe tbody tr th {\n        vertical-align: top;\n    }\n\n    .dataframe thead th {\n        text-align: right;\n    }\n</style>\n<table border=\"1\" class=\"dataframe\">\n  <thead>\n    <tr style=\"text-align: right;\">\n      <th></th>\n      <th>file_name</th>\n      <th>fs_FP1</th>\n      <th>onsets</th>\n      <th>offsets</th>\n      <th>patient</th>\n      <th>length</th>\n      <th>file_name_edf</th>\n    </tr>\n  </thead>\n  <tbody>\n    <tr>\n      <th>0</th>\n      <td>dev/01_tcp_ar/002/00000258_s002_t000.edf</td>\n      <td>400</td>\n      <td>[[0]]</td>\n      <td>[[0]]</td>\n      <td>258</td>\n      <td>8000</td>\n      <td>00000258_s002_t000</td>\n    </tr>\n    <tr>\n      <th>1</th>\n      <td>dev/01_tcp_ar/002/00000258_s002_t002.edf</td>\n      <td>400</td>\n      <td>[[0]]</td>\n      <td>[[0]]</td>\n      <td>258</td>\n      <td>108800</td>\n      <td>00000258_s002_t002</td>\n    </tr>\n    <tr>\n      <th>2</th>\n      <td>dev/01_tcp_ar/002/00000258_s003_t000.edf</td>\n      <td>400</td>\n      <td>[[0]]</td>\n      <td>[[0]]</td>\n      <td>258</td>\n      <td>93600</td>\n      <td>00000258_s003_t000</td>\n    </tr>\n    <tr>\n      <th>3</th>\n      <td>dev/01_tcp_ar/002/00000258_s003_t001.edf</td>\n      <td>400</td>\n      <td>[[0]]</td>\n      <td>[[0]]</td>\n      <td>258</td>\n      <td>89600</td>\n      <td>00000258_s003_t001</td>\n    </tr>\n    <tr>\n      <th>4</th>\n      <td>dev/01_tcp_ar/002/00000258_s003_t002.edf</td>\n      <td>400</td>\n      <td>[[3531]]</td>\n      <td>[[69351]]</td>\n      <td>258</td>\n      <td>81200</td>\n      <td>00000258_s003_t002</td>\n    </tr>\n  </tbody>\n</table>\n</div>"
     },
     "execution_count": 36,
     "metadata": {},
     "output_type": "execute_result"
    }
   ],
   "source": [
    "df_tusz['file_name_edf'] = df_tusz['file_name'].apply(lambda x: x.split('/')[-1].split('.edf')[0])\n",
    "df_tusz.head()"
   ],
   "metadata": {
    "collapsed": false,
    "pycharm": {
     "name": "#%%\n"
    }
   }
  },
  {
   "cell_type": "code",
   "execution_count": 37,
   "outputs": [
    {
     "data": {
      "text/plain": "5612"
     },
     "execution_count": 37,
     "metadata": {},
     "output_type": "execute_result"
    }
   ],
   "source": [
    "df_tusz['file_name_edf'].nunique()"
   ],
   "metadata": {
    "collapsed": false,
    "pycharm": {
     "name": "#%%\n"
    }
   }
  },
  {
   "cell_type": "code",
   "execution_count": 38,
   "outputs": [],
   "source": [
    "df_gnn_single_index = df_gnn.drop_duplicates(subset=['file_name'], keep='last')\n",
    "df_merged = pd.merge(left=df_tusz, right=df_gnn_single_index, how=\"outer\", left_on='file_name_edf', right_on=\"file_name\",suffixes=(\"\", \"_y\"))\n",
    "df_merged.sample(n=15)\n",
    "df_merged.to_csv('./output/TUSZ_gnn_labels.csv')"
   ],
   "metadata": {
    "collapsed": false,
    "pycharm": {
     "name": "#%%\n"
    }
   }
  },
  {
   "cell_type": "code",
   "execution_count": 39,
   "outputs": [
    {
     "data": {
      "text/plain": "                                         file_name  fs_FP1     onsets  \\\n0         dev/01_tcp_ar/002/00000258_s002_t000.edf     400      [[0]]   \n13        dev/01_tcp_ar/010/00001027_s003_t000.edf     400      [[0]]   \n14        dev/01_tcp_ar/010/00001027_s003_t001.edf     400      [[0]]   \n15        dev/01_tcp_ar/010/00001027_s004_t000.edf     400  [[13622]]   \n16        dev/01_tcp_ar/010/00001027_s004_t001.edf     400  [[34935]]   \n...                                            ...     ...        ...   \n5506  train/03_tcp_ar_a/122/00012262_s002_t002.edf     256      [[0]]   \n5536  train/03_tcp_ar_a/124/00012418_s004_t003.edf     256      [[0]]   \n5566  train/03_tcp_ar_a/129/00012957_s004_t006.edf     256      [[0]]   \n5588  train/03_tcp_ar_a/130/00013085_s002_t013.edf     256      [[0]]   \n5599  train/03_tcp_ar_a/131/00013145_s001_t002.edf     256    [[987]]   \n\n        offsets  patient  length       file_name_edf File label mode  \\\n0         [[0]]      258    8000  00000258_s002_t000  NaN   NaN  NaN   \n13        [[0]]     1027  185600  00001027_s003_t000  NaN   NaN  NaN   \n14        [[0]]     1027  177200  00001027_s003_t001  NaN   NaN  NaN   \n15    [[64924]]     1027  133600  00001027_s004_t000  NaN   NaN  NaN   \n16    [[89203]]     1027  141200  00001027_s004_t001  NaN   NaN  NaN   \n...         ...      ...     ...                 ...  ...   ...  ...   \n5506      [[0]]    12262    6656  00012262_s002_t002  NaN   NaN  NaN   \n5536      [[0]]    12418    5888  00012418_s004_t003  NaN   NaN  NaN   \n5566      [[0]]    12957   10496  00012957_s004_t006  NaN   NaN  NaN   \n5588      [[0]]    13085    6400  00013085_s002_t013  NaN   NaN  NaN   \n5599  [[11382]]    13145   12800  00013145_s001_t002  NaN   NaN  NaN   \n\n      file_index file_name_y  \n0            NaN         NaN  \n13           NaN         NaN  \n14           NaN         NaN  \n15           NaN         NaN  \n16           NaN         NaN  \n...          ...         ...  \n5506         NaN         NaN  \n5536         NaN         NaN  \n5566         NaN         NaN  \n5588         NaN         NaN  \n5599         NaN         NaN  \n\n[255 rows x 12 columns]",
      "text/html": "<div>\n<style scoped>\n    .dataframe tbody tr th:only-of-type {\n        vertical-align: middle;\n    }\n\n    .dataframe tbody tr th {\n        vertical-align: top;\n    }\n\n    .dataframe thead th {\n        text-align: right;\n    }\n</style>\n<table border=\"1\" class=\"dataframe\">\n  <thead>\n    <tr style=\"text-align: right;\">\n      <th></th>\n      <th>file_name</th>\n      <th>fs_FP1</th>\n      <th>onsets</th>\n      <th>offsets</th>\n      <th>patient</th>\n      <th>length</th>\n      <th>file_name_edf</th>\n      <th>File</th>\n      <th>label</th>\n      <th>mode</th>\n      <th>file_index</th>\n      <th>file_name_y</th>\n    </tr>\n  </thead>\n  <tbody>\n    <tr>\n      <th>0</th>\n      <td>dev/01_tcp_ar/002/00000258_s002_t000.edf</td>\n      <td>400</td>\n      <td>[[0]]</td>\n      <td>[[0]]</td>\n      <td>258</td>\n      <td>8000</td>\n      <td>00000258_s002_t000</td>\n      <td>NaN</td>\n      <td>NaN</td>\n      <td>NaN</td>\n      <td>NaN</td>\n      <td>NaN</td>\n    </tr>\n    <tr>\n      <th>13</th>\n      <td>dev/01_tcp_ar/010/00001027_s003_t000.edf</td>\n      <td>400</td>\n      <td>[[0]]</td>\n      <td>[[0]]</td>\n      <td>1027</td>\n      <td>185600</td>\n      <td>00001027_s003_t000</td>\n      <td>NaN</td>\n      <td>NaN</td>\n      <td>NaN</td>\n      <td>NaN</td>\n      <td>NaN</td>\n    </tr>\n    <tr>\n      <th>14</th>\n      <td>dev/01_tcp_ar/010/00001027_s003_t001.edf</td>\n      <td>400</td>\n      <td>[[0]]</td>\n      <td>[[0]]</td>\n      <td>1027</td>\n      <td>177200</td>\n      <td>00001027_s003_t001</td>\n      <td>NaN</td>\n      <td>NaN</td>\n      <td>NaN</td>\n      <td>NaN</td>\n      <td>NaN</td>\n    </tr>\n    <tr>\n      <th>15</th>\n      <td>dev/01_tcp_ar/010/00001027_s004_t000.edf</td>\n      <td>400</td>\n      <td>[[13622]]</td>\n      <td>[[64924]]</td>\n      <td>1027</td>\n      <td>133600</td>\n      <td>00001027_s004_t000</td>\n      <td>NaN</td>\n      <td>NaN</td>\n      <td>NaN</td>\n      <td>NaN</td>\n      <td>NaN</td>\n    </tr>\n    <tr>\n      <th>16</th>\n      <td>dev/01_tcp_ar/010/00001027_s004_t001.edf</td>\n      <td>400</td>\n      <td>[[34935]]</td>\n      <td>[[89203]]</td>\n      <td>1027</td>\n      <td>141200</td>\n      <td>00001027_s004_t001</td>\n      <td>NaN</td>\n      <td>NaN</td>\n      <td>NaN</td>\n      <td>NaN</td>\n      <td>NaN</td>\n    </tr>\n    <tr>\n      <th>...</th>\n      <td>...</td>\n      <td>...</td>\n      <td>...</td>\n      <td>...</td>\n      <td>...</td>\n      <td>...</td>\n      <td>...</td>\n      <td>...</td>\n      <td>...</td>\n      <td>...</td>\n      <td>...</td>\n      <td>...</td>\n    </tr>\n    <tr>\n      <th>5506</th>\n      <td>train/03_tcp_ar_a/122/00012262_s002_t002.edf</td>\n      <td>256</td>\n      <td>[[0]]</td>\n      <td>[[0]]</td>\n      <td>12262</td>\n      <td>6656</td>\n      <td>00012262_s002_t002</td>\n      <td>NaN</td>\n      <td>NaN</td>\n      <td>NaN</td>\n      <td>NaN</td>\n      <td>NaN</td>\n    </tr>\n    <tr>\n      <th>5536</th>\n      <td>train/03_tcp_ar_a/124/00012418_s004_t003.edf</td>\n      <td>256</td>\n      <td>[[0]]</td>\n      <td>[[0]]</td>\n      <td>12418</td>\n      <td>5888</td>\n      <td>00012418_s004_t003</td>\n      <td>NaN</td>\n      <td>NaN</td>\n      <td>NaN</td>\n      <td>NaN</td>\n      <td>NaN</td>\n    </tr>\n    <tr>\n      <th>5566</th>\n      <td>train/03_tcp_ar_a/129/00012957_s004_t006.edf</td>\n      <td>256</td>\n      <td>[[0]]</td>\n      <td>[[0]]</td>\n      <td>12957</td>\n      <td>10496</td>\n      <td>00012957_s004_t006</td>\n      <td>NaN</td>\n      <td>NaN</td>\n      <td>NaN</td>\n      <td>NaN</td>\n      <td>NaN</td>\n    </tr>\n    <tr>\n      <th>5588</th>\n      <td>train/03_tcp_ar_a/130/00013085_s002_t013.edf</td>\n      <td>256</td>\n      <td>[[0]]</td>\n      <td>[[0]]</td>\n      <td>13085</td>\n      <td>6400</td>\n      <td>00013085_s002_t013</td>\n      <td>NaN</td>\n      <td>NaN</td>\n      <td>NaN</td>\n      <td>NaN</td>\n      <td>NaN</td>\n    </tr>\n    <tr>\n      <th>5599</th>\n      <td>train/03_tcp_ar_a/131/00013145_s001_t002.edf</td>\n      <td>256</td>\n      <td>[[987]]</td>\n      <td>[[11382]]</td>\n      <td>13145</td>\n      <td>12800</td>\n      <td>00013145_s001_t002</td>\n      <td>NaN</td>\n      <td>NaN</td>\n      <td>NaN</td>\n      <td>NaN</td>\n      <td>NaN</td>\n    </tr>\n  </tbody>\n</table>\n<p>255 rows × 12 columns</p>\n</div>"
     },
     "execution_count": 39,
     "metadata": {},
     "output_type": "execute_result"
    }
   ],
   "source": [
    "df_merged[df_merged.isna().any(axis=1)]"
   ],
   "metadata": {
    "collapsed": false,
    "pycharm": {
     "name": "#%%\n"
    }
   }
  },
  {
   "cell_type": "code",
   "execution_count": 40,
   "outputs": [
    {
     "data": {
      "text/plain": "                                         file_name  fs_FP1  \\\n3662    train/01_tcp_ar/118/00011869_s001_t004.edf     256   \n5272  train/03_tcp_ar_a/075/00007584_s002_t002.edf     256   \n5478  train/03_tcp_ar_a/115/00011580_s006_t004.edf     256   \n3378    train/01_tcp_ar/108/00010843_s010_t000.edf     256   \n411       dev/01_tcp_ar/088/00008889_s004_t015.edf     256   \n\n                                                onsets  \\\n3662                               [[76962], [376323]]   \n5272  [[18441], [64582], [100898], [127666], [151510]]   \n5478                                         [[85018]]   \n3378                                         [[22516]]   \n411                                [[36368], [103186]]   \n\n                                               offsets  patient  length  \\\n3662                              [[112851], [415306]]    11869  539136   \n5272  [[28112], [76465], [109523], [130374], [153600]]     7584  153856   \n5478                                        [[100909]]    11580  194560   \n3378                                         [[36657]]    10843   46848   \n411                                [[40110], [108665]]     8889  153856   \n\n           file_name_edf                          File label      mode  \\\n3662  00011869_s001_t004  00011869_s001_t004.edf_13.h5     0    devSet   \n5272  00007584_s002_t002   00007584_s002_t002.edf_5.h5     0  trainSet   \n5478  00011580_s006_t004   00011580_s006_t004.edf_7.h5     0  trainSet   \n3378  00010843_s010_t000   00010843_s010_t000.edf_0.h5     0  trainSet   \n411   00008889_s004_t015   00008889_s004_t015.edf_5.h5     0   testSet   \n\n      file_index         file_name_y  \n3662        13.0  00011869_s001_t004  \n5272         5.0  00007584_s002_t002  \n5478         7.0  00011580_s006_t004  \n3378         0.0  00010843_s010_t000  \n411          5.0  00008889_s004_t015  ",
      "text/html": "<div>\n<style scoped>\n    .dataframe tbody tr th:only-of-type {\n        vertical-align: middle;\n    }\n\n    .dataframe tbody tr th {\n        vertical-align: top;\n    }\n\n    .dataframe thead th {\n        text-align: right;\n    }\n</style>\n<table border=\"1\" class=\"dataframe\">\n  <thead>\n    <tr style=\"text-align: right;\">\n      <th></th>\n      <th>file_name</th>\n      <th>fs_FP1</th>\n      <th>onsets</th>\n      <th>offsets</th>\n      <th>patient</th>\n      <th>length</th>\n      <th>file_name_edf</th>\n      <th>File</th>\n      <th>label</th>\n      <th>mode</th>\n      <th>file_index</th>\n      <th>file_name_y</th>\n    </tr>\n  </thead>\n  <tbody>\n    <tr>\n      <th>3662</th>\n      <td>train/01_tcp_ar/118/00011869_s001_t004.edf</td>\n      <td>256</td>\n      <td>[[76962], [376323]]</td>\n      <td>[[112851], [415306]]</td>\n      <td>11869</td>\n      <td>539136</td>\n      <td>00011869_s001_t004</td>\n      <td>00011869_s001_t004.edf_13.h5</td>\n      <td>0</td>\n      <td>devSet</td>\n      <td>13.0</td>\n      <td>00011869_s001_t004</td>\n    </tr>\n    <tr>\n      <th>5272</th>\n      <td>train/03_tcp_ar_a/075/00007584_s002_t002.edf</td>\n      <td>256</td>\n      <td>[[18441], [64582], [100898], [127666], [151510]]</td>\n      <td>[[28112], [76465], [109523], [130374], [153600]]</td>\n      <td>7584</td>\n      <td>153856</td>\n      <td>00007584_s002_t002</td>\n      <td>00007584_s002_t002.edf_5.h5</td>\n      <td>0</td>\n      <td>trainSet</td>\n      <td>5.0</td>\n      <td>00007584_s002_t002</td>\n    </tr>\n    <tr>\n      <th>5478</th>\n      <td>train/03_tcp_ar_a/115/00011580_s006_t004.edf</td>\n      <td>256</td>\n      <td>[[85018]]</td>\n      <td>[[100909]]</td>\n      <td>11580</td>\n      <td>194560</td>\n      <td>00011580_s006_t004</td>\n      <td>00011580_s006_t004.edf_7.h5</td>\n      <td>0</td>\n      <td>trainSet</td>\n      <td>7.0</td>\n      <td>00011580_s006_t004</td>\n    </tr>\n    <tr>\n      <th>3378</th>\n      <td>train/01_tcp_ar/108/00010843_s010_t000.edf</td>\n      <td>256</td>\n      <td>[[22516]]</td>\n      <td>[[36657]]</td>\n      <td>10843</td>\n      <td>46848</td>\n      <td>00010843_s010_t000</td>\n      <td>00010843_s010_t000.edf_0.h5</td>\n      <td>0</td>\n      <td>trainSet</td>\n      <td>0.0</td>\n      <td>00010843_s010_t000</td>\n    </tr>\n    <tr>\n      <th>411</th>\n      <td>dev/01_tcp_ar/088/00008889_s004_t015.edf</td>\n      <td>256</td>\n      <td>[[36368], [103186]]</td>\n      <td>[[40110], [108665]]</td>\n      <td>8889</td>\n      <td>153856</td>\n      <td>00008889_s004_t015</td>\n      <td>00008889_s004_t015.edf_5.h5</td>\n      <td>0</td>\n      <td>testSet</td>\n      <td>5.0</td>\n      <td>00008889_s004_t015</td>\n    </tr>\n  </tbody>\n</table>\n</div>"
     },
     "execution_count": 40,
     "metadata": {},
     "output_type": "execute_result"
    }
   ],
   "source": [
    "df_merged[df_merged['onsets'].apply(lambda x: x[0][0] != 0)].sample(n=5)"
   ],
   "metadata": {
    "collapsed": false,
    "pycharm": {
     "name": "#%%\n"
    }
   }
  },
  {
   "cell_type": "markdown",
   "source": [],
   "metadata": {
    "collapsed": false,
    "pycharm": {
     "name": "#%% md\n"
    }
   }
  },
  {
   "cell_type": "code",
   "execution_count": 65,
   "outputs": [
    {
     "data": {
      "text/plain": "     patient  count   seconds\n379     7771      1      42.0\n576    11575      1      79.0\n624    12978      1     140.0\n152     2568      2     504.0\n77      1246      3     512.0\n..       ...    ...       ...\n236     4671     77   48002.0\n530    10418     92   51109.0\n327     6546    121   62489.0\n459     9104     96   68344.0\n482     9578    215  116097.0\n\n[637 rows x 3 columns]",
      "text/html": "<div>\n<style scoped>\n    .dataframe tbody tr th:only-of-type {\n        vertical-align: middle;\n    }\n\n    .dataframe tbody tr th {\n        vertical-align: top;\n    }\n\n    .dataframe thead th {\n        text-align: right;\n    }\n</style>\n<table border=\"1\" class=\"dataframe\">\n  <thead>\n    <tr style=\"text-align: right;\">\n      <th></th>\n      <th>patient</th>\n      <th>count</th>\n      <th>seconds</th>\n    </tr>\n  </thead>\n  <tbody>\n    <tr>\n      <th>379</th>\n      <td>7771</td>\n      <td>1</td>\n      <td>42.0</td>\n    </tr>\n    <tr>\n      <th>576</th>\n      <td>11575</td>\n      <td>1</td>\n      <td>79.0</td>\n    </tr>\n    <tr>\n      <th>624</th>\n      <td>12978</td>\n      <td>1</td>\n      <td>140.0</td>\n    </tr>\n    <tr>\n      <th>152</th>\n      <td>2568</td>\n      <td>2</td>\n      <td>504.0</td>\n    </tr>\n    <tr>\n      <th>77</th>\n      <td>1246</td>\n      <td>3</td>\n      <td>512.0</td>\n    </tr>\n    <tr>\n      <th>...</th>\n      <td>...</td>\n      <td>...</td>\n      <td>...</td>\n    </tr>\n    <tr>\n      <th>236</th>\n      <td>4671</td>\n      <td>77</td>\n      <td>48002.0</td>\n    </tr>\n    <tr>\n      <th>530</th>\n      <td>10418</td>\n      <td>92</td>\n      <td>51109.0</td>\n    </tr>\n    <tr>\n      <th>327</th>\n      <td>6546</td>\n      <td>121</td>\n      <td>62489.0</td>\n    </tr>\n    <tr>\n      <th>459</th>\n      <td>9104</td>\n      <td>96</td>\n      <td>68344.0</td>\n    </tr>\n    <tr>\n      <th>482</th>\n      <td>9578</td>\n      <td>215</td>\n      <td>116097.0</td>\n    </tr>\n  </tbody>\n</table>\n<p>637 rows × 3 columns</p>\n</div>"
     },
     "execution_count": 65,
     "metadata": {},
     "output_type": "execute_result"
    }
   ],
   "source": [
    "df_tusz['seconds'] = df_tusz['length'] / df_tusz['fs_FP1']\n",
    "# df_tusz.groupby('patient')['seconds'].sum().reset_index().sort_values('patient')\n",
    "df_tusz_validation_choose = df_tusz.groupby('patient').size().reset_index(name='count')\n",
    "pd.merge(df_tusz_validation_choose,\n",
    "df_tusz.groupby('patient')['seconds'].sum().reset_index(name='seconds'), on='patient').sort_values('seconds')"
   ],
   "metadata": {
    "collapsed": false,
    "pycharm": {
     "name": "#%%\n"
    }
   }
  },
  {
   "cell_type": "markdown",
   "source": [
    "## Channels"
   ],
   "metadata": {
    "collapsed": false,
    "pycharm": {
     "name": "#%% md\n"
    }
   }
  },
  {
   "cell_type": "code",
   "execution_count": 41,
   "outputs": [
    {
     "data": {
      "text/plain": "                                               filename  \\\n5928  ./train/02_tcp_le/065/00006514/s020_2010_05_17...   \n1629  ./train/01_tcp_ar/068/00006811/s002_2010_02_12...   \n5360  ./train/02_tcp_le/009/00000922/s001_2003_06_17...   \n\n                                                     fs  \\\n5928  [250, 250, 250, 250, 250, 250, 250, 250, 250, ...   \n1629  [250, 250, 250, 250, 250, 250, 250, 250, 250, ...   \n5360  [250, 250, 250, 250, 250, 250, 250, 250, 250, ...   \n\n                                                     ch  \\\n5928  [EEG FP1-LE, EEG FP2-LE, EEG F3-LE, EEG F4-LE,...   \n1629  [EEG FP1-REF, EEG FP2-REF, EEG F3-REF, EEG F4-...   \n5360  [EEG FP1-LE, EEG FP2-LE, EEG F3-LE, EEG F4-LE,...   \n\n      Index_Unnamed: 0_level_1  File No._Unnamed: 1_level_1  \\\n5928                     466.0                        306.0   \n1629                    1608.0                       1149.0   \n5360                     346.0                        227.0   \n\n      Patient_Unnamed: 2_level_1 Session_Unnamed: 3_level_1  \\\n5928                         NaN                        NaN   \n1629                      6811.0                       s002   \n5360                       922.0                       s001   \n\n     File_Unnamed: 4_level_1 EEG Type_Unnamed: 5_level_1  \\\n5928                     NaN                         NaN   \n1629                    t000                     Unknown   \n5360                    t001                   Inpatient   \n\n     EEG SubType_Unnamed: 6_level_1  ... Summary_Seizure Type Summary_Events  \\\n5928                            NaN  ...                  NaN            NaN   \n1629                        Unknown  ...                  NaN            NaN   \n5360                        General  ...                  NaN            NaN   \n\n      Summary_Freq..2  Summary_Cum..4 Summary_Cum..5  \\\n5928              NaN             NaN            NaN   \n1629              NaN             NaN            NaN   \n5360              NaN             NaN            NaN   \n\n                                               Filename  FP1_index  \\\n5928  ./train/02_tcp_le/065/00006514/s020_2010_05_17...          0   \n1629  ./train/01_tcp_ar/068/00006811/s002_2010_02_12...          0   \n5360  ./train/02_tcp_le/009/00000922/s001_2003_06_17...          0   \n\n     Seizure_Start  Seizure_Stop fs_FP1  \n5928     [[66762]]     [[73594]]    250  \n1629     [[15963]]     [[58756]]    250  \n5360         [[0]]         [[0]]    250  \n\n[3 rows x 39 columns]",
      "text/html": "<div>\n<style scoped>\n    .dataframe tbody tr th:only-of-type {\n        vertical-align: middle;\n    }\n\n    .dataframe tbody tr th {\n        vertical-align: top;\n    }\n\n    .dataframe thead th {\n        text-align: right;\n    }\n</style>\n<table border=\"1\" class=\"dataframe\">\n  <thead>\n    <tr style=\"text-align: right;\">\n      <th></th>\n      <th>filename</th>\n      <th>fs</th>\n      <th>ch</th>\n      <th>Index_Unnamed: 0_level_1</th>\n      <th>File No._Unnamed: 1_level_1</th>\n      <th>Patient_Unnamed: 2_level_1</th>\n      <th>Session_Unnamed: 3_level_1</th>\n      <th>File_Unnamed: 4_level_1</th>\n      <th>EEG Type_Unnamed: 5_level_1</th>\n      <th>EEG SubType_Unnamed: 6_level_1</th>\n      <th>...</th>\n      <th>Summary_Seizure Type</th>\n      <th>Summary_Events</th>\n      <th>Summary_Freq..2</th>\n      <th>Summary_Cum..4</th>\n      <th>Summary_Cum..5</th>\n      <th>Filename</th>\n      <th>FP1_index</th>\n      <th>Seizure_Start</th>\n      <th>Seizure_Stop</th>\n      <th>fs_FP1</th>\n    </tr>\n  </thead>\n  <tbody>\n    <tr>\n      <th>5928</th>\n      <td>./train/02_tcp_le/065/00006514/s020_2010_05_17...</td>\n      <td>[250, 250, 250, 250, 250, 250, 250, 250, 250, ...</td>\n      <td>[EEG FP1-LE, EEG FP2-LE, EEG F3-LE, EEG F4-LE,...</td>\n      <td>466.0</td>\n      <td>306.0</td>\n      <td>NaN</td>\n      <td>NaN</td>\n      <td>NaN</td>\n      <td>NaN</td>\n      <td>NaN</td>\n      <td>...</td>\n      <td>NaN</td>\n      <td>NaN</td>\n      <td>NaN</td>\n      <td>NaN</td>\n      <td>NaN</td>\n      <td>./train/02_tcp_le/065/00006514/s020_2010_05_17...</td>\n      <td>0</td>\n      <td>[[66762]]</td>\n      <td>[[73594]]</td>\n      <td>250</td>\n    </tr>\n    <tr>\n      <th>1629</th>\n      <td>./train/01_tcp_ar/068/00006811/s002_2010_02_12...</td>\n      <td>[250, 250, 250, 250, 250, 250, 250, 250, 250, ...</td>\n      <td>[EEG FP1-REF, EEG FP2-REF, EEG F3-REF, EEG F4-...</td>\n      <td>1608.0</td>\n      <td>1149.0</td>\n      <td>6811.0</td>\n      <td>s002</td>\n      <td>t000</td>\n      <td>Unknown</td>\n      <td>Unknown</td>\n      <td>...</td>\n      <td>NaN</td>\n      <td>NaN</td>\n      <td>NaN</td>\n      <td>NaN</td>\n      <td>NaN</td>\n      <td>./train/01_tcp_ar/068/00006811/s002_2010_02_12...</td>\n      <td>0</td>\n      <td>[[15963]]</td>\n      <td>[[58756]]</td>\n      <td>250</td>\n    </tr>\n    <tr>\n      <th>5360</th>\n      <td>./train/02_tcp_le/009/00000922/s001_2003_06_17...</td>\n      <td>[250, 250, 250, 250, 250, 250, 250, 250, 250, ...</td>\n      <td>[EEG FP1-LE, EEG FP2-LE, EEG F3-LE, EEG F4-LE,...</td>\n      <td>346.0</td>\n      <td>227.0</td>\n      <td>922.0</td>\n      <td>s001</td>\n      <td>t001</td>\n      <td>Inpatient</td>\n      <td>General</td>\n      <td>...</td>\n      <td>NaN</td>\n      <td>NaN</td>\n      <td>NaN</td>\n      <td>NaN</td>\n      <td>NaN</td>\n      <td>./train/02_tcp_le/009/00000922/s001_2003_06_17...</td>\n      <td>0</td>\n      <td>[[0]]</td>\n      <td>[[0]]</td>\n      <td>250</td>\n    </tr>\n  </tbody>\n</table>\n<p>3 rows × 39 columns</p>\n</div>"
     },
     "execution_count": 41,
     "metadata": {},
     "output_type": "execute_result"
    }
   ],
   "source": [
    "EEG_channels = ['EEG FP1-REF', 'EEG FP2-REF', 'EEG F3-REF', 'EEG F4-REF', 'EEG C3-REF', 'EEG C4-REF', 'EEG P3-REF',\n",
    "                'EEG P4-REF', 'EEG O1-REF', 'EEG O2-REF', 'EEG F7-REF', 'EEG F8-REF', 'EEG T3-REF', 'EEG T4-REF',\n",
    "                'EEG T5-REF', 'EEG T6-REF', 'EEG A1-REF', 'EEG A2-REF', 'EEG FZ-REF', 'EEG CZ-REF', 'EEG PZ-REF']\n",
    "\n",
    "fs_df.sample(3)"
   ],
   "metadata": {
    "collapsed": false,
    "pycharm": {
     "name": "#%%\n"
    }
   }
  },
  {
   "cell_type": "code",
   "execution_count": 42,
   "outputs": [
    {
     "data": {
      "text/plain": "                                               filename  \\\n2104  ./train/01_tcp_ar/054/00005427/s012_2012_10_26...   \n470   ./dev/01_tcp_ar/098/00009839/s005_2013_07_21/0...   \n954   ./dev/01_tcp_ar/065/00006546/s026_2013_09_05/0...   \n7426  ./train/03_tcp_ar_a/071/00007128/s004_2010_10_...   \n7087  ./train/03_tcp_ar_a/061/00006175/s003_2011_04_...   \n\n                                                     fs  \\\n2104  [256, 256, 256, 256, 256, 256, 256, 256, 256, ...   \n470   [256, 256, 256, 256, 256, 256, 256, 256, 256, ...   \n954   [250, 250, 250, 250, 250, 250, 250, 250, 250, ...   \n7426  [256, 256, 256, 256, 256, 256, 256, 256, 256, ...   \n7087  [256, 256, 256, 256, 256, 256, 256, 256, 256, ...   \n\n                                                     ch  \\\n2104  [EEG FP1-REF, EEG FP2-REF, EEG F3-REF, EEG F4-...   \n470   [EEG FP1-REF, EEG FP2-REF, EEG F3-REF, EEG F4-...   \n954   [EEG FP1-REF, EEG FP2-REF, EEG F3-REF, EEG F4-...   \n7426  [EEG FP1-REF, EEG FP2-REF, EEG F3-REF, EEG F4-...   \n7087  [EEG FP1-REF, EEG FP2-REF, EEG F3-REF, EEG F4-...   \n\n      Index_Unnamed: 0_level_1  File No._Unnamed: 1_level_1  \\\n2104                    2241.0                       1677.0   \n470                      931.0                        719.0   \n954                      223.0                        140.0   \n7426                    5429.0                       4164.0   \n7087                    5744.0                       4373.0   \n\n      Patient_Unnamed: 2_level_1 Session_Unnamed: 3_level_1  \\\n2104                         NaN                        NaN   \n470                          NaN                        NaN   \n954                       6546.0                       s026   \n7426                         NaN                        NaN   \n7087                         NaN                        NaN   \n\n     File_Unnamed: 4_level_1 EEG Type_Unnamed: 5_level_1  \\\n2104                    t005                         NaN   \n470                      NaN                         NaN   \n954                     t000                   Inpatient   \n7426                     NaN                         NaN   \n7087                     NaN                         NaN   \n\n     EEG SubType_Unnamed: 6_level_1  ... Summary_Events Summary_Freq..2  \\\n2104                            NaN  ...            NaN             NaN   \n470                             NaN  ...            NaN             NaN   \n954                         General  ...            NaN             NaN   \n7426                            NaN  ...            NaN             NaN   \n7087                            NaN  ...            NaN             NaN   \n\n      Summary_Cum..4  Summary_Cum..5  \\\n2104             NaN             NaN   \n470              NaN             NaN   \n954              NaN             NaN   \n7426             NaN             NaN   \n7087             NaN             NaN   \n\n                                               Filename  FP1_index  \\\n2104  ./train/01_tcp_ar/054/00005427/s012_2012_10_26...          0   \n470   ./dev/01_tcp_ar/098/00009839/s005_2013_07_21/0...          0   \n954   ./dev/01_tcp_ar/065/00006546/s026_2013_09_05/0...          0   \n7426  ./train/03_tcp_ar_a/071/00007128/s004_2010_10_...          0   \n7087  ./train/03_tcp_ar_a/061/00006175/s003_2011_04_...          0   \n\n      Seizure_Start Seizure_Stop  fs_FP1 ref_ch_num  \n2104          [[0]]        [[0]]     256         21  \n470      [[152108]]   [[161062]]     256         21  \n954           [[0]]        [[0]]     250         21  \n7426     [[871165]]   [[889453]]     256         19  \n7087      [[49602]]    [[55688]]     256         19  \n\n[5 rows x 40 columns]",
      "text/html": "<div>\n<style scoped>\n    .dataframe tbody tr th:only-of-type {\n        vertical-align: middle;\n    }\n\n    .dataframe tbody tr th {\n        vertical-align: top;\n    }\n\n    .dataframe thead th {\n        text-align: right;\n    }\n</style>\n<table border=\"1\" class=\"dataframe\">\n  <thead>\n    <tr style=\"text-align: right;\">\n      <th></th>\n      <th>filename</th>\n      <th>fs</th>\n      <th>ch</th>\n      <th>Index_Unnamed: 0_level_1</th>\n      <th>File No._Unnamed: 1_level_1</th>\n      <th>Patient_Unnamed: 2_level_1</th>\n      <th>Session_Unnamed: 3_level_1</th>\n      <th>File_Unnamed: 4_level_1</th>\n      <th>EEG Type_Unnamed: 5_level_1</th>\n      <th>EEG SubType_Unnamed: 6_level_1</th>\n      <th>...</th>\n      <th>Summary_Events</th>\n      <th>Summary_Freq..2</th>\n      <th>Summary_Cum..4</th>\n      <th>Summary_Cum..5</th>\n      <th>Filename</th>\n      <th>FP1_index</th>\n      <th>Seizure_Start</th>\n      <th>Seizure_Stop</th>\n      <th>fs_FP1</th>\n      <th>ref_ch_num</th>\n    </tr>\n  </thead>\n  <tbody>\n    <tr>\n      <th>2104</th>\n      <td>./train/01_tcp_ar/054/00005427/s012_2012_10_26...</td>\n      <td>[256, 256, 256, 256, 256, 256, 256, 256, 256, ...</td>\n      <td>[EEG FP1-REF, EEG FP2-REF, EEG F3-REF, EEG F4-...</td>\n      <td>2241.0</td>\n      <td>1677.0</td>\n      <td>NaN</td>\n      <td>NaN</td>\n      <td>t005</td>\n      <td>NaN</td>\n      <td>NaN</td>\n      <td>...</td>\n      <td>NaN</td>\n      <td>NaN</td>\n      <td>NaN</td>\n      <td>NaN</td>\n      <td>./train/01_tcp_ar/054/00005427/s012_2012_10_26...</td>\n      <td>0</td>\n      <td>[[0]]</td>\n      <td>[[0]]</td>\n      <td>256</td>\n      <td>21</td>\n    </tr>\n    <tr>\n      <th>470</th>\n      <td>./dev/01_tcp_ar/098/00009839/s005_2013_07_21/0...</td>\n      <td>[256, 256, 256, 256, 256, 256, 256, 256, 256, ...</td>\n      <td>[EEG FP1-REF, EEG FP2-REF, EEG F3-REF, EEG F4-...</td>\n      <td>931.0</td>\n      <td>719.0</td>\n      <td>NaN</td>\n      <td>NaN</td>\n      <td>NaN</td>\n      <td>NaN</td>\n      <td>NaN</td>\n      <td>...</td>\n      <td>NaN</td>\n      <td>NaN</td>\n      <td>NaN</td>\n      <td>NaN</td>\n      <td>./dev/01_tcp_ar/098/00009839/s005_2013_07_21/0...</td>\n      <td>0</td>\n      <td>[[152108]]</td>\n      <td>[[161062]]</td>\n      <td>256</td>\n      <td>21</td>\n    </tr>\n    <tr>\n      <th>954</th>\n      <td>./dev/01_tcp_ar/065/00006546/s026_2013_09_05/0...</td>\n      <td>[250, 250, 250, 250, 250, 250, 250, 250, 250, ...</td>\n      <td>[EEG FP1-REF, EEG FP2-REF, EEG F3-REF, EEG F4-...</td>\n      <td>223.0</td>\n      <td>140.0</td>\n      <td>6546.0</td>\n      <td>s026</td>\n      <td>t000</td>\n      <td>Inpatient</td>\n      <td>General</td>\n      <td>...</td>\n      <td>NaN</td>\n      <td>NaN</td>\n      <td>NaN</td>\n      <td>NaN</td>\n      <td>./dev/01_tcp_ar/065/00006546/s026_2013_09_05/0...</td>\n      <td>0</td>\n      <td>[[0]]</td>\n      <td>[[0]]</td>\n      <td>250</td>\n      <td>21</td>\n    </tr>\n    <tr>\n      <th>7426</th>\n      <td>./train/03_tcp_ar_a/071/00007128/s004_2010_10_...</td>\n      <td>[256, 256, 256, 256, 256, 256, 256, 256, 256, ...</td>\n      <td>[EEG FP1-REF, EEG FP2-REF, EEG F3-REF, EEG F4-...</td>\n      <td>5429.0</td>\n      <td>4164.0</td>\n      <td>NaN</td>\n      <td>NaN</td>\n      <td>NaN</td>\n      <td>NaN</td>\n      <td>NaN</td>\n      <td>...</td>\n      <td>NaN</td>\n      <td>NaN</td>\n      <td>NaN</td>\n      <td>NaN</td>\n      <td>./train/03_tcp_ar_a/071/00007128/s004_2010_10_...</td>\n      <td>0</td>\n      <td>[[871165]]</td>\n      <td>[[889453]]</td>\n      <td>256</td>\n      <td>19</td>\n    </tr>\n    <tr>\n      <th>7087</th>\n      <td>./train/03_tcp_ar_a/061/00006175/s003_2011_04_...</td>\n      <td>[256, 256, 256, 256, 256, 256, 256, 256, 256, ...</td>\n      <td>[EEG FP1-REF, EEG FP2-REF, EEG F3-REF, EEG F4-...</td>\n      <td>5744.0</td>\n      <td>4373.0</td>\n      <td>NaN</td>\n      <td>NaN</td>\n      <td>NaN</td>\n      <td>NaN</td>\n      <td>NaN</td>\n      <td>...</td>\n      <td>NaN</td>\n      <td>NaN</td>\n      <td>NaN</td>\n      <td>NaN</td>\n      <td>./train/03_tcp_ar_a/061/00006175/s003_2011_04_...</td>\n      <td>0</td>\n      <td>[[49602]]</td>\n      <td>[[55688]]</td>\n      <td>256</td>\n      <td>19</td>\n    </tr>\n  </tbody>\n</table>\n<p>5 rows × 40 columns</p>\n</div>"
     },
     "execution_count": 42,
     "metadata": {},
     "output_type": "execute_result"
    }
   ],
   "source": [
    "fs_df['ref_ch_num'] = fs_df['ch'].apply(lambda x: sum([(a in EEG_channels) for a in x]))\n",
    "fs_df.sample(5)"
   ],
   "metadata": {
    "collapsed": false,
    "pycharm": {
     "name": "#%%\n"
    }
   }
  },
  {
   "cell_type": "code",
   "execution_count": 43,
   "outputs": [
    {
     "data": {
      "text/plain": "21    5156\n19    1441\n0      916\nName: ref_ch_num, dtype: int64"
     },
     "execution_count": 43,
     "metadata": {},
     "output_type": "execute_result"
    }
   ],
   "source": [
    "fs_df['ref_ch_num'].value_counts()"
   ],
   "metadata": {
    "collapsed": false,
    "pycharm": {
     "name": "#%%\n"
    }
   }
  },
  {
   "cell_type": "code",
   "execution_count": 44,
   "outputs": [
    {
     "data": {
      "text/plain": "array([\"['dev', '02_tcp_le']\", \"['train', '02_tcp_le']\"], dtype=object)"
     },
     "execution_count": 44,
     "metadata": {},
     "output_type": "execute_result"
    }
   ],
   "source": [
    "fs_df[fs_df['ref_ch_num'] == 0]['filename'].apply(lambda x: str(x.split('/')[1:3])).unique()\n"
   ],
   "metadata": {
    "collapsed": false,
    "pycharm": {
     "name": "#%%\n"
    }
   }
  },
  {
   "cell_type": "code",
   "execution_count": 45,
   "outputs": [
    {
     "data": {
      "text/plain": "                                               filename  \\\n1207  ./dev/02_tcp_le/036/00003635/s001_2006_07_20/0...   \n1208  ./dev/02_tcp_le/036/00003635/s001_2006_07_20/0...   \n1209  ./dev/02_tcp_le/036/00003635/s001_2006_07_20/0...   \n1210  ./dev/02_tcp_le/036/00003635/s001_2006_07_20/0...   \n1211  ./dev/02_tcp_le/036/00003635/s001_2006_07_20/0...   \n...                                                 ...   \n1323  ./dev/02_tcp_le/022/00002297/s002_2007_10_22/0...   \n1324  ./dev/02_tcp_le/022/00002297/s002_2007_10_22/0...   \n1325  ./dev/02_tcp_le/022/00002297/s002_2007_10_22/0...   \n1326  ./dev/02_tcp_le/010/00001027/s001_2004_01_27/0...   \n1327  ./dev/02_tcp_le/050/00005031/s001_2008_07_22/0...   \n\n                                                     fs  \\\n1207  [250, 250, 250, 250, 250, 250, 250, 250, 250, ...   \n1208  [250, 250, 250, 250, 250, 250, 250, 250, 250, ...   \n1209  [250, 250, 250, 250, 250, 250, 250, 250, 250, ...   \n1210  [250, 250, 250, 250, 250, 250, 250, 250, 250, ...   \n1211  [250, 250, 250, 250, 250, 250, 250, 250, 250, ...   \n...                                                 ...   \n1323  [250, 250, 250, 250, 250, 250, 250, 250, 250, ...   \n1324  [250, 250, 250, 250, 250, 250, 250, 250, 250, ...   \n1325  [250, 250, 250, 250, 250, 250, 250, 250, 250, ...   \n1326  [250, 250, 250, 250, 250, 250, 250, 250, 250, ...   \n1327  [250, 250, 250, 250, 250, 250, 250, 250, 250, ...   \n\n                                                     ch  \\\n1207  [EEG FP1-LE, EEG FP2-LE, EEG F3-LE, EEG F4-LE,...   \n1208  [EEG FP1-LE, EEG FP2-LE, EEG F3-LE, EEG F4-LE,...   \n1209  [EEG FP1-LE, EEG FP2-LE, EEG F3-LE, EEG F4-LE,...   \n1210  [EEG FP1-LE, EEG FP2-LE, EEG F3-LE, EEG F4-LE,...   \n1211  [EEG FP1-LE, EEG FP2-LE, EEG F3-LE, EEG F4-LE,...   \n...                                                 ...   \n1323  [EEG FP1-LE, EEG FP2-LE, EEG F3-LE, EEG F4-LE,...   \n1324  [EEG FP1-LE, EEG FP2-LE, EEG F3-LE, EEG F4-LE,...   \n1325  [EEG FP1-LE, EEG FP2-LE, EEG F3-LE, EEG F4-LE,...   \n1326  [EEG FP1-LE, EEG FP2-LE, EEG F3-LE, EEG F4-LE,...   \n1327  [EEG FP1-LE, EEG FP2-LE, EEG F3-LE, EEG F4-LE,...   \n\n      Index_Unnamed: 0_level_1  File No._Unnamed: 1_level_1  \\\n1207                    1287.0                        924.0   \n1208                    1288.0                        924.0   \n1209                    1289.0                        924.0   \n1210                    1290.0                        924.0   \n1211                    1291.0                        924.0   \n...                        ...                          ...   \n1323                    1278.0                        921.0   \n1324                    1279.0                        921.0   \n1325                    1280.0                        921.0   \n1326                    1249.0                        906.0   \n1327                    1307.0                        936.0   \n\n      Patient_Unnamed: 2_level_1 Session_Unnamed: 3_level_1  \\\n1207                      3635.0                       s001   \n1208                         NaN                        NaN   \n1209                         NaN                        NaN   \n1210                         NaN                        NaN   \n1211                         NaN                        NaN   \n...                          ...                        ...   \n1323                         NaN                        NaN   \n1324                         NaN                        NaN   \n1325                         NaN                        NaN   \n1326                      1027.0                       s001   \n1327                      5031.0                       s001   \n\n     File_Unnamed: 4_level_1 EEG Type_Unnamed: 5_level_1  \\\n1207                    t001                  Outpatient   \n1208                     NaN                         NaN   \n1209                     NaN                         NaN   \n1210                     NaN                         NaN   \n1211                     NaN                         NaN   \n...                      ...                         ...   \n1323                     NaN                         NaN   \n1324                     NaN                         NaN   \n1325                     NaN                         NaN   \n1326                    t001                   Inpatient   \n1327                    t000                         ICU   \n\n     EEG SubType_Unnamed: 6_level_1  ... Summary_Events Summary_Freq..2  \\\n1207                     Outpatient  ...            NaN             NaN   \n1208                            NaN  ...            NaN             NaN   \n1209                            NaN  ...            NaN             NaN   \n1210                            NaN  ...            NaN             NaN   \n1211                            NaN  ...            NaN             NaN   \n...                             ...  ...            ...             ...   \n1323                            NaN  ...            NaN             NaN   \n1324                            NaN  ...            NaN             NaN   \n1325                            NaN  ...            NaN             NaN   \n1326                        General  ...            NaN             NaN   \n1327                           NICU  ...            NaN             NaN   \n\n      Summary_Cum..4  Summary_Cum..5  \\\n1207             NaN             NaN   \n1208             NaN             NaN   \n1209             NaN             NaN   \n1210             NaN             NaN   \n1211             NaN             NaN   \n...              ...             ...   \n1323             NaN             NaN   \n1324             NaN             NaN   \n1325             NaN             NaN   \n1326             NaN             NaN   \n1327             NaN             NaN   \n\n                                               Filename  FP1_index  \\\n1207  ./dev/02_tcp_le/036/00003635/s001_2006_07_20/0...          0   \n1208  ./dev/02_tcp_le/036/00003635/s001_2006_07_20/0...          0   \n1209  ./dev/02_tcp_le/036/00003635/s001_2006_07_20/0...          0   \n1210  ./dev/02_tcp_le/036/00003635/s001_2006_07_20/0...          0   \n1211  ./dev/02_tcp_le/036/00003635/s001_2006_07_20/0...          0   \n...                                                 ...        ...   \n1323  ./dev/02_tcp_le/022/00002297/s002_2007_10_22/0...          0   \n1324  ./dev/02_tcp_le/022/00002297/s002_2007_10_22/0...          0   \n1325  ./dev/02_tcp_le/022/00002297/s002_2007_10_22/0...          0   \n1326  ./dev/02_tcp_le/010/00001027/s001_2004_01_27/0...          0   \n1327  ./dev/02_tcp_le/050/00005031/s001_2008_07_22/0...          0   \n\n      Seizure_Start Seizure_Stop  fs_FP1 ref_ch_num  \n1207      [[49760]]    [[50615]]     250          0  \n1208      [[78005]]    [[78766]]     250          0  \n1209     [[152529]]   [[153039]]     250          0  \n1210     [[189231]]   [[190028]]     250          0  \n1211     [[215928]]   [[216426]]     250          0  \n...             ...          ...     ...        ...  \n1323     [[201644]]   [[214247]]     250          0  \n1324     [[227223]]   [[257410]]     250          0  \n1325     [[267624]]   [[303109]]     250          0  \n1326     [[139171]]   [[169729]]     250          0  \n1327          [[0]]        [[0]]     250          0  \n\n[121 rows x 40 columns]",
      "text/html": "<div>\n<style scoped>\n    .dataframe tbody tr th:only-of-type {\n        vertical-align: middle;\n    }\n\n    .dataframe tbody tr th {\n        vertical-align: top;\n    }\n\n    .dataframe thead th {\n        text-align: right;\n    }\n</style>\n<table border=\"1\" class=\"dataframe\">\n  <thead>\n    <tr style=\"text-align: right;\">\n      <th></th>\n      <th>filename</th>\n      <th>fs</th>\n      <th>ch</th>\n      <th>Index_Unnamed: 0_level_1</th>\n      <th>File No._Unnamed: 1_level_1</th>\n      <th>Patient_Unnamed: 2_level_1</th>\n      <th>Session_Unnamed: 3_level_1</th>\n      <th>File_Unnamed: 4_level_1</th>\n      <th>EEG Type_Unnamed: 5_level_1</th>\n      <th>EEG SubType_Unnamed: 6_level_1</th>\n      <th>...</th>\n      <th>Summary_Events</th>\n      <th>Summary_Freq..2</th>\n      <th>Summary_Cum..4</th>\n      <th>Summary_Cum..5</th>\n      <th>Filename</th>\n      <th>FP1_index</th>\n      <th>Seizure_Start</th>\n      <th>Seizure_Stop</th>\n      <th>fs_FP1</th>\n      <th>ref_ch_num</th>\n    </tr>\n  </thead>\n  <tbody>\n    <tr>\n      <th>1207</th>\n      <td>./dev/02_tcp_le/036/00003635/s001_2006_07_20/0...</td>\n      <td>[250, 250, 250, 250, 250, 250, 250, 250, 250, ...</td>\n      <td>[EEG FP1-LE, EEG FP2-LE, EEG F3-LE, EEG F4-LE,...</td>\n      <td>1287.0</td>\n      <td>924.0</td>\n      <td>3635.0</td>\n      <td>s001</td>\n      <td>t001</td>\n      <td>Outpatient</td>\n      <td>Outpatient</td>\n      <td>...</td>\n      <td>NaN</td>\n      <td>NaN</td>\n      <td>NaN</td>\n      <td>NaN</td>\n      <td>./dev/02_tcp_le/036/00003635/s001_2006_07_20/0...</td>\n      <td>0</td>\n      <td>[[49760]]</td>\n      <td>[[50615]]</td>\n      <td>250</td>\n      <td>0</td>\n    </tr>\n    <tr>\n      <th>1208</th>\n      <td>./dev/02_tcp_le/036/00003635/s001_2006_07_20/0...</td>\n      <td>[250, 250, 250, 250, 250, 250, 250, 250, 250, ...</td>\n      <td>[EEG FP1-LE, EEG FP2-LE, EEG F3-LE, EEG F4-LE,...</td>\n      <td>1288.0</td>\n      <td>924.0</td>\n      <td>NaN</td>\n      <td>NaN</td>\n      <td>NaN</td>\n      <td>NaN</td>\n      <td>NaN</td>\n      <td>...</td>\n      <td>NaN</td>\n      <td>NaN</td>\n      <td>NaN</td>\n      <td>NaN</td>\n      <td>./dev/02_tcp_le/036/00003635/s001_2006_07_20/0...</td>\n      <td>0</td>\n      <td>[[78005]]</td>\n      <td>[[78766]]</td>\n      <td>250</td>\n      <td>0</td>\n    </tr>\n    <tr>\n      <th>1209</th>\n      <td>./dev/02_tcp_le/036/00003635/s001_2006_07_20/0...</td>\n      <td>[250, 250, 250, 250, 250, 250, 250, 250, 250, ...</td>\n      <td>[EEG FP1-LE, EEG FP2-LE, EEG F3-LE, EEG F4-LE,...</td>\n      <td>1289.0</td>\n      <td>924.0</td>\n      <td>NaN</td>\n      <td>NaN</td>\n      <td>NaN</td>\n      <td>NaN</td>\n      <td>NaN</td>\n      <td>...</td>\n      <td>NaN</td>\n      <td>NaN</td>\n      <td>NaN</td>\n      <td>NaN</td>\n      <td>./dev/02_tcp_le/036/00003635/s001_2006_07_20/0...</td>\n      <td>0</td>\n      <td>[[152529]]</td>\n      <td>[[153039]]</td>\n      <td>250</td>\n      <td>0</td>\n    </tr>\n    <tr>\n      <th>1210</th>\n      <td>./dev/02_tcp_le/036/00003635/s001_2006_07_20/0...</td>\n      <td>[250, 250, 250, 250, 250, 250, 250, 250, 250, ...</td>\n      <td>[EEG FP1-LE, EEG FP2-LE, EEG F3-LE, EEG F4-LE,...</td>\n      <td>1290.0</td>\n      <td>924.0</td>\n      <td>NaN</td>\n      <td>NaN</td>\n      <td>NaN</td>\n      <td>NaN</td>\n      <td>NaN</td>\n      <td>...</td>\n      <td>NaN</td>\n      <td>NaN</td>\n      <td>NaN</td>\n      <td>NaN</td>\n      <td>./dev/02_tcp_le/036/00003635/s001_2006_07_20/0...</td>\n      <td>0</td>\n      <td>[[189231]]</td>\n      <td>[[190028]]</td>\n      <td>250</td>\n      <td>0</td>\n    </tr>\n    <tr>\n      <th>1211</th>\n      <td>./dev/02_tcp_le/036/00003635/s001_2006_07_20/0...</td>\n      <td>[250, 250, 250, 250, 250, 250, 250, 250, 250, ...</td>\n      <td>[EEG FP1-LE, EEG FP2-LE, EEG F3-LE, EEG F4-LE,...</td>\n      <td>1291.0</td>\n      <td>924.0</td>\n      <td>NaN</td>\n      <td>NaN</td>\n      <td>NaN</td>\n      <td>NaN</td>\n      <td>NaN</td>\n      <td>...</td>\n      <td>NaN</td>\n      <td>NaN</td>\n      <td>NaN</td>\n      <td>NaN</td>\n      <td>./dev/02_tcp_le/036/00003635/s001_2006_07_20/0...</td>\n      <td>0</td>\n      <td>[[215928]]</td>\n      <td>[[216426]]</td>\n      <td>250</td>\n      <td>0</td>\n    </tr>\n    <tr>\n      <th>...</th>\n      <td>...</td>\n      <td>...</td>\n      <td>...</td>\n      <td>...</td>\n      <td>...</td>\n      <td>...</td>\n      <td>...</td>\n      <td>...</td>\n      <td>...</td>\n      <td>...</td>\n      <td>...</td>\n      <td>...</td>\n      <td>...</td>\n      <td>...</td>\n      <td>...</td>\n      <td>...</td>\n      <td>...</td>\n      <td>...</td>\n      <td>...</td>\n      <td>...</td>\n      <td>...</td>\n    </tr>\n    <tr>\n      <th>1323</th>\n      <td>./dev/02_tcp_le/022/00002297/s002_2007_10_22/0...</td>\n      <td>[250, 250, 250, 250, 250, 250, 250, 250, 250, ...</td>\n      <td>[EEG FP1-LE, EEG FP2-LE, EEG F3-LE, EEG F4-LE,...</td>\n      <td>1278.0</td>\n      <td>921.0</td>\n      <td>NaN</td>\n      <td>NaN</td>\n      <td>NaN</td>\n      <td>NaN</td>\n      <td>NaN</td>\n      <td>...</td>\n      <td>NaN</td>\n      <td>NaN</td>\n      <td>NaN</td>\n      <td>NaN</td>\n      <td>./dev/02_tcp_le/022/00002297/s002_2007_10_22/0...</td>\n      <td>0</td>\n      <td>[[201644]]</td>\n      <td>[[214247]]</td>\n      <td>250</td>\n      <td>0</td>\n    </tr>\n    <tr>\n      <th>1324</th>\n      <td>./dev/02_tcp_le/022/00002297/s002_2007_10_22/0...</td>\n      <td>[250, 250, 250, 250, 250, 250, 250, 250, 250, ...</td>\n      <td>[EEG FP1-LE, EEG FP2-LE, EEG F3-LE, EEG F4-LE,...</td>\n      <td>1279.0</td>\n      <td>921.0</td>\n      <td>NaN</td>\n      <td>NaN</td>\n      <td>NaN</td>\n      <td>NaN</td>\n      <td>NaN</td>\n      <td>...</td>\n      <td>NaN</td>\n      <td>NaN</td>\n      <td>NaN</td>\n      <td>NaN</td>\n      <td>./dev/02_tcp_le/022/00002297/s002_2007_10_22/0...</td>\n      <td>0</td>\n      <td>[[227223]]</td>\n      <td>[[257410]]</td>\n      <td>250</td>\n      <td>0</td>\n    </tr>\n    <tr>\n      <th>1325</th>\n      <td>./dev/02_tcp_le/022/00002297/s002_2007_10_22/0...</td>\n      <td>[250, 250, 250, 250, 250, 250, 250, 250, 250, ...</td>\n      <td>[EEG FP1-LE, EEG FP2-LE, EEG F3-LE, EEG F4-LE,...</td>\n      <td>1280.0</td>\n      <td>921.0</td>\n      <td>NaN</td>\n      <td>NaN</td>\n      <td>NaN</td>\n      <td>NaN</td>\n      <td>NaN</td>\n      <td>...</td>\n      <td>NaN</td>\n      <td>NaN</td>\n      <td>NaN</td>\n      <td>NaN</td>\n      <td>./dev/02_tcp_le/022/00002297/s002_2007_10_22/0...</td>\n      <td>0</td>\n      <td>[[267624]]</td>\n      <td>[[303109]]</td>\n      <td>250</td>\n      <td>0</td>\n    </tr>\n    <tr>\n      <th>1326</th>\n      <td>./dev/02_tcp_le/010/00001027/s001_2004_01_27/0...</td>\n      <td>[250, 250, 250, 250, 250, 250, 250, 250, 250, ...</td>\n      <td>[EEG FP1-LE, EEG FP2-LE, EEG F3-LE, EEG F4-LE,...</td>\n      <td>1249.0</td>\n      <td>906.0</td>\n      <td>1027.0</td>\n      <td>s001</td>\n      <td>t001</td>\n      <td>Inpatient</td>\n      <td>General</td>\n      <td>...</td>\n      <td>NaN</td>\n      <td>NaN</td>\n      <td>NaN</td>\n      <td>NaN</td>\n      <td>./dev/02_tcp_le/010/00001027/s001_2004_01_27/0...</td>\n      <td>0</td>\n      <td>[[139171]]</td>\n      <td>[[169729]]</td>\n      <td>250</td>\n      <td>0</td>\n    </tr>\n    <tr>\n      <th>1327</th>\n      <td>./dev/02_tcp_le/050/00005031/s001_2008_07_22/0...</td>\n      <td>[250, 250, 250, 250, 250, 250, 250, 250, 250, ...</td>\n      <td>[EEG FP1-LE, EEG FP2-LE, EEG F3-LE, EEG F4-LE,...</td>\n      <td>1307.0</td>\n      <td>936.0</td>\n      <td>5031.0</td>\n      <td>s001</td>\n      <td>t000</td>\n      <td>ICU</td>\n      <td>NICU</td>\n      <td>...</td>\n      <td>NaN</td>\n      <td>NaN</td>\n      <td>NaN</td>\n      <td>NaN</td>\n      <td>./dev/02_tcp_le/050/00005031/s001_2008_07_22/0...</td>\n      <td>0</td>\n      <td>[[0]]</td>\n      <td>[[0]]</td>\n      <td>250</td>\n      <td>0</td>\n    </tr>\n  </tbody>\n</table>\n<p>121 rows × 40 columns</p>\n</div>"
     },
     "execution_count": 45,
     "metadata": {},
     "output_type": "execute_result"
    }
   ],
   "source": [
    "fs_df[fs_df['filename'].apply(lambda x: x.startswith('./dev/02'))]"
   ],
   "metadata": {
    "collapsed": false,
    "pycharm": {
     "name": "#%%\n"
    }
   }
  },
  {
   "cell_type": "code",
   "execution_count": 46,
   "outputs": [
    {
     "data": {
      "text/plain": "array(['[0, 1, 2, 3, 4, 5, 6, 7, 8, 9, 10, 11, 12, 13, 14, 15, 16, 17, 18, 19, 20]',\n       '[0, 1, 2, 3, 4, 5, 6, 7, 8, 9, 10, 11, 12, 13, 14, 15, 27, 28, 18, 19, 20]',\n       '[0, 1, 2, 3, 4, 5, 6, 7, 8, 9, 10, 11, 12, 13, 14, 15, 26, 27, 18, 19, 20]',\n       '[0, 1, 2, 3, 4, 5, 6, 7, 8, 9, 10, 11, 12, 13, 14, 15, 20, 21, 16, 17, 18]',\n       '[0, 1, 2, 3, 4, 5, 6, 7, 8, 9, 10, 11, 12, 13, 14, 15, 24, 25, 18, 19, 20]',\n       '[0, 1, 2, 3, 4, 5, 6, 7, 8, 9, 10, 11, 12, 13, 14, 15, 23, 24, 18, 19, 20]',\n       '[0, 1, 2, 3, 4, 5, 6, 7, 8, 9, 10, 11, 12, 13, 14, 15, 22, 23, 18, 19, 20]',\n       '[0, 1, 2, 3, 4, 5, 8, 9, 10, 11, 12, 13, 14, 15, 16, 17, 6, 7, 18, 19, 20]',\n       '[0, 1, 2, 3, 4, 5, 6, 7, 8, 9, 10, 11, 12, 13, 14, 15, -1, -1, 16, 17, 18]',\n       '[0, 1, 2, 3, 4, 5, 6, 7, 8, 9, 10, 11, 12, 13, 14, 15, -1, -1, 18, 19, 20]',\n       '[0, 1, 2, 3, 4, 5, 6, 7, 8, 9, 10, 11, 12, 13, 14, 15, 25, 26, 18, 19, 20]'],\n      dtype=object)"
     },
     "execution_count": 46,
     "metadata": {},
     "output_type": "execute_result"
    }
   ],
   "source": [
    "EEG_channels_LE = ['EEG FP1-LE', 'EEG FP2-LE', 'EEG F3-LE', 'EEG F4-LE', 'EEG C3-LE', 'EEG C4-LE', 'EEG P3-LE',\n",
    "                'EEG P4-LE', 'EEG O1-LE', 'EEG O2-LE', 'EEG F7-LE', 'EEG F8-LE', 'EEG T3-LE', 'EEG T4-LE',\n",
    "                'EEG T5-LE', 'EEG T6-LE', 'EEG A1-LE', 'EEG A2-LE', 'EEG FZ-LE', 'EEG CZ-LE', 'EEG PZ-LE']\n",
    "\n",
    "def get_EEG_index(eeg_labels):\n",
    "    indices = []\n",
    "    for label, label_le in zip(EEG_channels, EEG_channels_LE):\n",
    "        if label in eeg_labels:\n",
    "            indices.append(eeg_labels.index(label))\n",
    "        elif label_le in eeg_labels:\n",
    "            indices.append(eeg_labels.index(label_le))\n",
    "        else:\n",
    "            indices.append(-1)\n",
    "    return indices\n",
    "\n",
    "fs_df['ref_ch'] = fs_df['ch'].apply(get_EEG_index)\n",
    "fs_df['ref_ch'].astype(str).unique()"
   ],
   "metadata": {
    "collapsed": false,
    "pycharm": {
     "name": "#%%\n"
    }
   }
  },
  {
   "cell_type": "code",
   "execution_count": 46,
   "outputs": [],
   "source": [],
   "metadata": {
    "collapsed": false,
    "pycharm": {
     "name": "#%%\n"
    }
   }
  }
 ],
 "metadata": {
  "kernelspec": {
   "display_name": "Python 3",
   "language": "python",
   "name": "python3"
  },
  "language_info": {
   "codemirror_mode": {
    "name": "ipython",
    "version": 2
   },
   "file_extension": ".py",
   "mimetype": "text/x-python",
   "name": "python",
   "nbconvert_exporter": "python",
   "pygments_lexer": "ipython2",
   "version": "2.7.6"
  }
 },
 "nbformat": 4,
 "nbformat_minor": 0
}