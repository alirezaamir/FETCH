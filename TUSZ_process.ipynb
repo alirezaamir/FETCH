{
 "cells": [
  {
   "cell_type": "code",
   "execution_count": 1,
   "metadata": {
    "collapsed": true,
    "pycharm": {
     "name": "#%%\n"
    }
   },
   "outputs": [],
   "source": [
    "import pandas as pd\n"
   ]
  },
  {
   "cell_type": "code",
   "execution_count": 2,
   "outputs": [],
   "source": [
    "df = pd.read_excel('./input/TUSZ/_DOCS/seizures_v36r.xlsx', engine='openpyxl', sheet_name='train', header=[0,1]).dropna(how='all')\n",
    "df_dev = pd.read_excel('./input/TUSZ/_DOCS/seizures_v36r.xlsx', engine='openpyxl', sheet_name='dev', header=[0,1]).dropna(how='all')\n",
    "df = pd.concat([df, df_dev], axis=0)"
   ],
   "metadata": {
    "collapsed": false,
    "pycharm": {
     "name": "#%%\n"
    }
   }
  },
  {
   "cell_type": "code",
   "execution_count": 3,
   "outputs": [],
   "source": [
    "df.columns  = ['_'.join(col) for col in df.columns.values]"
   ],
   "metadata": {
    "collapsed": false,
    "pycharm": {
     "name": "#%%\n"
    }
   }
  },
  {
   "cell_type": "code",
   "execution_count": 4,
   "outputs": [
    {
     "data": {
      "text/plain": "Index(['Index_Unnamed: 0_level_1', 'File No._Unnamed: 1_level_1',\n       'Patient_Unnamed: 2_level_1', 'Session_Unnamed: 3_level_1',\n       'File_Unnamed: 4_level_1', 'EEG Type_Unnamed: 5_level_1',\n       'EEG SubType_Unnamed: 6_level_1', 'LTM -or- Routine_Unnamed: 7_level_1',\n       'Normal/ Abnormal_Unnamed: 8_level_1',\n       'No. Seizures/ File_Unnamed: 9_level_1',\n       'No. Seizures/ Session_Unnamed: 10_level_1',\n       'No. Seizures/ Session_Filename', 'Seizure Time_Start',\n       'Seizure Time_Stop', 'Seizure Type_Unnamed: 14_level_1',\n       'Seizure Type_Unnamed: 15_level_1', 'Summary_EEG Type',\n       'Summary_Sessions', 'Summary_Freq.', 'Summary_Cum.', 'Summary_Cum..1',\n       'Summary_EEG SubType', 'Summary_Sessions.1', 'Summary_Freq..1',\n       'Summary_Cum..2', 'Summary_Cum..3', 'Summary_Seizure Type',\n       'Summary_Events', 'Summary_Freq..2', 'Summary_Cum..4',\n       'Summary_Cum..5'],\n      dtype='object')"
     },
     "execution_count": 4,
     "metadata": {},
     "output_type": "execute_result"
    }
   ],
   "source": [
    "df.columns"
   ],
   "metadata": {
    "collapsed": false,
    "pycharm": {
     "name": "#%%\n"
    }
   }
  },
  {
   "cell_type": "code",
   "execution_count": 5,
   "outputs": [
    {
     "data": {
      "text/plain": "Index_Unnamed: 0_level_1                     7513\nFile No._Unnamed: 1_level_1                  7513\nPatient_Unnamed: 2_level_1                   1423\nSession_Unnamed: 3_level_1                   1423\nFile_Unnamed: 4_level_1                      5612\nEEG Type_Unnamed: 5_level_1                  1423\nEEG SubType_Unnamed: 6_level_1               1423\nLTM -or- Routine_Unnamed: 7_level_1          1423\nNormal/ Abnormal_Unnamed: 8_level_1          1423\nNo. Seizures/ File_Unnamed: 9_level_1        5612\nNo. Seizures/ Session_Unnamed: 10_level_1    1423\nNo. Seizures/ Session_Filename               7513\nSeizure Time_Start                           3050\nSeizure Time_Stop                            3050\nSeizure Type_Unnamed: 14_level_1             3050\nSeizure Type_Unnamed: 15_level_1                0\nSummary_EEG Type                               32\nSummary_Sessions                               50\nSummary_Freq.                                  36\nSummary_Cum.                                   16\nSummary_Cum..1                                 40\nSummary_EEG SubType                            38\nSummary_Sessions.1                             38\nSummary_Freq..1                                38\nSummary_Cum..2                                 34\nSummary_Cum..3                                  0\nSummary_Seizure Type                           22\nSummary_Events                                 22\nSummary_Freq..2                                22\nSummary_Cum..4                                 20\nSummary_Cum..5                                  0\ndtype: int64"
     },
     "execution_count": 5,
     "metadata": {},
     "output_type": "execute_result"
    }
   ],
   "source": [
    "df.count()"
   ],
   "metadata": {
    "collapsed": false,
    "pycharm": {
     "name": "#%%\n"
    }
   }
  },
  {
   "cell_type": "code",
   "execution_count": 6,
   "outputs": [
    {
     "data": {
      "text/plain": "                                               filename  \\\n1720  ./train/01_tcp_ar/076/00007617/s003_2011_02_02...   \n790   ./dev/01_tcp_ar/022/00002289/s005_2012_03_14/0...   \n3835  ./train/01_tcp_ar/034/00003437/s006_2014_10_20...   \n5604  ./train/03_tcp_ar_a/023/00002365/s001_2005_10_...   \n2259  ./train/01_tcp_ar/104/00010412/s007_2013_08_08...   \n\n                                                     fs  \\\n1720  [250, 250, 250, 250, 250, 250, 250, 250, 250, ...   \n790   [512, 512, 512, 512, 512, 512, 512, 512, 512, ...   \n3835  [256, 256, 256, 256, 256, 256, 256, 256, 256, ...   \n5604  [400, 400, 400, 400, 400, 400, 400, 400, 400, ...   \n2259  [256, 256, 256, 256, 256, 256, 256, 256, 256, ...   \n\n                                                     ch  \n1720  [EEG FP1-REF, EEG FP2-REF, EEG F3-REF, EEG F4-...  \n790   [EEG FP1-REF, EEG FP2-REF, EEG F3-REF, EEG F4-...  \n3835  [EEG FP1-REF, EEG FP2-REF, EEG F3-REF, EEG F4-...  \n5604  [EEG FP1-REF, EEG FP2-REF, EEG F3-REF, EEG F4-...  \n2259  [EEG FP1-REF, EEG FP2-REF, EEG F3-REF, EEG F4-...  ",
      "text/html": "<div>\n<style scoped>\n    .dataframe tbody tr th:only-of-type {\n        vertical-align: middle;\n    }\n\n    .dataframe tbody tr th {\n        vertical-align: top;\n    }\n\n    .dataframe thead th {\n        text-align: right;\n    }\n</style>\n<table border=\"1\" class=\"dataframe\">\n  <thead>\n    <tr style=\"text-align: right;\">\n      <th></th>\n      <th>filename</th>\n      <th>fs</th>\n      <th>ch</th>\n    </tr>\n  </thead>\n  <tbody>\n    <tr>\n      <th>1720</th>\n      <td>./train/01_tcp_ar/076/00007617/s003_2011_02_02...</td>\n      <td>[250, 250, 250, 250, 250, 250, 250, 250, 250, ...</td>\n      <td>[EEG FP1-REF, EEG FP2-REF, EEG F3-REF, EEG F4-...</td>\n    </tr>\n    <tr>\n      <th>790</th>\n      <td>./dev/01_tcp_ar/022/00002289/s005_2012_03_14/0...</td>\n      <td>[512, 512, 512, 512, 512, 512, 512, 512, 512, ...</td>\n      <td>[EEG FP1-REF, EEG FP2-REF, EEG F3-REF, EEG F4-...</td>\n    </tr>\n    <tr>\n      <th>3835</th>\n      <td>./train/01_tcp_ar/034/00003437/s006_2014_10_20...</td>\n      <td>[256, 256, 256, 256, 256, 256, 256, 256, 256, ...</td>\n      <td>[EEG FP1-REF, EEG FP2-REF, EEG F3-REF, EEG F4-...</td>\n    </tr>\n    <tr>\n      <th>5604</th>\n      <td>./train/03_tcp_ar_a/023/00002365/s001_2005_10_...</td>\n      <td>[400, 400, 400, 400, 400, 400, 400, 400, 400, ...</td>\n      <td>[EEG FP1-REF, EEG FP2-REF, EEG F3-REF, EEG F4-...</td>\n    </tr>\n    <tr>\n      <th>2259</th>\n      <td>./train/01_tcp_ar/104/00010412/s007_2013_08_08...</td>\n      <td>[256, 256, 256, 256, 256, 256, 256, 256, 256, ...</td>\n      <td>[EEG FP1-REF, EEG FP2-REF, EEG F3-REF, EEG F4-...</td>\n    </tr>\n  </tbody>\n</table>\n</div>"
     },
     "execution_count": 6,
     "metadata": {},
     "output_type": "execute_result"
    }
   ],
   "source": [
    "fs_df =  pd.DataFrame.from_dict(pd.read_pickle('./input/TUSZ/_DOCS/fs.pickle'), orient='index')\n",
    "fs_df = fs_df.reset_index().rename(columns={\"index\": \"filename\"})\n",
    "fs_df['filename'] = fs_df['filename'].apply(\n",
    "    lambda x: './{}'.format(x.split('TUSZ/edf/')[1].split('.edf')[0]))\n",
    "fs_df.sample(n=5)"
   ],
   "metadata": {
    "collapsed": false,
    "pycharm": {
     "name": "#%%\n"
    }
   }
  },
  {
   "cell_type": "code",
   "execution_count": 7,
   "outputs": [
    {
     "data": {
      "text/plain": "array([\"['EEG FP1-REF', 'EEG FP2-REF', 'EEG F3-REF', 'EEG F4-REF', 'EEG C3-REF', 'EEG C4-REF', 'EEG P3-REF', 'EEG P4-REF', 'EEG O1-REF', 'EEG O2-REF', 'EEG F7-REF', 'EEG F8-REF', 'EEG T3-REF', 'EEG T4-REF', 'EEG T5-REF', 'EEG T6-REF', 'EEG A1-REF', 'EEG A2-REF', 'EEG FZ-REF', 'EEG CZ-REF', 'EEG PZ-REF', 'EEG ROC-REF', 'EEG LOC-REF', 'EEG EKG1-REF', 'EMG-REF', 'EEG 26-REF', 'EEG 27-REF', 'EEG 28-REF', 'EEG 29-REF', 'EEG 30-REF', 'EEG T1-REF', 'EEG T2-REF', 'PHOTIC-REF', 'IBI', 'BURSTS', 'SUPPR']\",\n       \"['EEG FP1-REF', 'EEG FP2-REF', 'EEG F3-REF', 'EEG F4-REF', 'EEG C3-REF', 'EEG C4-REF', 'EEG P3-REF', 'EEG P4-REF', 'EEG O1-REF', 'EEG O2-REF', 'EEG F7-REF', 'EEG F8-REF', 'EEG T3-REF', 'EEG T4-REF', 'EEG T5-REF', 'EEG T6-REF', 'EEG A1-REF', 'EEG A2-REF', 'EEG FZ-REF', 'EEG CZ-REF', 'EEG PZ-REF', 'EEG ROC-REF', 'EEG LOC-REF', 'EEG EKG1-REF', 'EEG T1-REF', 'EEG T2-REF', 'PHOTIC-REF', 'IBI', 'BURSTS', 'SUPPR']\",\n       \"['EEG FP1-REF', 'EEG FP2-REF', 'EEG F3-REF', 'EEG F4-REF', 'EEG C3-REF', 'EEG C4-REF', 'EEG P3-REF', 'EEG P4-REF', 'EEG O1-REF', 'EEG O2-REF', 'EEG F7-REF', 'EEG F8-REF', 'EEG T3-REF', 'EEG T4-REF', 'EEG T5-REF', 'EEG T6-REF', 'EEG T1-REF', 'EEG T2-REF', 'EEG FZ-REF', 'EEG CZ-REF', 'EEG PZ-REF', 'EEG EKG1-REF', 'EEG C3P-REF', 'EEG C4P-REF', 'EEG SP1-REF', 'EEG SP2-REF', 'EMG-REF', 'EEG A1-REF', 'EEG A2-REF', 'EEG 31-REF', 'EEG 32-REF', 'IBI', 'BURSTS', 'SUPPR']\",\n       \"['EEG FP1-REF', 'EEG FP2-REF', 'EEG F3-REF', 'EEG F4-REF', 'EEG C3-REF', 'EEG C4-REF', 'EEG P3-REF', 'EEG P4-REF', 'EEG O1-REF', 'EEG O2-REF', 'EEG F7-REF', 'EEG F8-REF', 'EEG T3-REF', 'EEG T4-REF', 'EEG T5-REF', 'EEG T6-REF', 'EEG T1-REF', 'EEG T2-REF', 'EEG FZ-REF', 'EEG CZ-REF', 'EEG PZ-REF', 'EEG EKG1-REF', 'EEG C3P-REF', 'EEG C4P-REF', 'EEG SP1-REF', 'EEG SP2-REF', 'EEG A1-REF', 'EEG A2-REF', 'EEG 31-REF', 'EEG 32-REF', 'PHOTIC-REF', 'IBI', 'BURSTS', 'SUPPR']\",\n       \"['EEG FP1-REF', 'EEG FP2-REF', 'EEG F3-REF', 'EEG F4-REF', 'EEG C3-REF', 'EEG C4-REF', 'EEG P3-REF', 'EEG P4-REF', 'EEG O1-REF', 'EEG O2-REF', 'EEG F7-REF', 'EEG F8-REF', 'EEG T3-REF', 'EEG T4-REF', 'EEG T5-REF', 'EEG T6-REF', 'EEG FZ-REF', 'EEG CZ-REF', 'EEG PZ-REF', 'EEG EKG-REF', 'EEG A1-REF', 'EEG A2-REF', 'EEG T1-REF', 'EEG T2-REF', 'EEG SP1-REF', 'EEG SP2-REF', 'EEG LUC-REF', 'EEG RLC-REF', 'EEG RESP1-REF', 'EEG RESP2-REF', 'EEG 31-REF', 'EEG 32-REF']\",\n       \"['EEG FP1-REF', 'EEG FP2-REF', 'EEG F3-REF', 'EEG F4-REF', 'EEG C3-REF', 'EEG C4-REF', 'EEG P3-REF', 'EEG P4-REF', 'EEG O1-REF', 'EEG O2-REF', 'EEG F7-REF', 'EEG F8-REF', 'EEG T3-REF', 'EEG T4-REF', 'EEG T5-REF', 'EEG T6-REF', 'EEG T1-REF', 'EEG T2-REF', 'EEG FZ-REF', 'EEG CZ-REF', 'EEG PZ-REF', 'EEG EKG1-REF', 'EEG C3P-REF', 'EEG C4P-REF', 'EEG SP1-REF', 'EEG SP2-REF', 'EEG A1-REF', 'EEG A2-REF', 'EEG 31-REF', 'EEG 32-REF', 'IBI', 'BURSTS', 'SUPPR']\",\n       \"['EEG FP1-REF', 'EEG FP2-REF', 'EEG F3-REF', 'EEG F4-REF', 'EEG C3-REF', 'EEG C4-REF', 'EEG P3-REF', 'EEG P4-REF', 'EEG O1-REF', 'EEG O2-REF', 'EEG F7-REF', 'EEG F8-REF', 'EEG T3-REF', 'EEG T4-REF', 'EEG T5-REF', 'EEG T6-REF', 'EEG A1-REF', 'EEG A2-REF', 'EEG FZ-REF', 'EEG CZ-REF', 'EEG PZ-REF', 'EEG ROC-REF', 'EEG LOC-REF', 'EEG EKG1-REF', 'EMG-REF', 'EEG T1-REF', 'EEG T2-REF', 'PHOTIC-REF', 'IBI', 'BURSTS', 'SUPPR']\",\n       \"['EEG FP1-REF', 'EEG FP2-REF', 'EEG F3-REF', 'EEG F4-REF', 'EEG C3-REF', 'EEG C4-REF', 'EEG P3-REF', 'EEG P4-REF', 'EEG O1-REF', 'EEG O2-REF', 'EEG F7-REF', 'EEG F8-REF', 'EEG T3-REF', 'EEG T4-REF', 'EEG T5-REF', 'EEG T6-REF', 'EEG T1-REF', 'EEG T2-REF', 'EEG FZ-REF', 'EEG CZ-REF', 'EEG PZ-REF', 'EEG EKG1-REF', 'EEG C3P-REF', 'EEG C4P-REF', 'EEG A1-REF', 'EEG A2-REF', 'IBI', 'BURSTS', 'SUPPR']\",\n       \"['EEG FP1-REF', 'EEG FP2-REF', 'EEG F3-REF', 'EEG F4-REF', 'EEG C3-REF', 'EEG C4-REF', 'EEG P3-REF', 'EEG P4-REF', 'EEG O1-REF', 'EEG O2-REF', 'EEG F7-REF', 'EEG F8-REF', 'EEG T3-REF', 'EEG T4-REF', 'EEG T5-REF', 'EEG T6-REF', 'EEG T1-REF', 'EEG T2-REF', 'EEG FZ-REF', 'EEG CZ-REF', 'EEG PZ-REF', 'EEG EKG1-REF', 'EMG-REF', 'EEG A1-REF', 'EEG A2-REF', 'EEG 31-REF', 'EEG 32-REF', 'IBI', 'BURSTS', 'SUPPR']\",\n       \"['EEG FP1-REF', 'EEG FP2-REF', 'EEG F3-REF', 'EEG F4-REF', 'EEG C3-REF', 'EEG C4-REF', 'EEG P3-REF', 'EEG P4-REF', 'EEG O1-REF', 'EEG O2-REF', 'EEG F7-REF', 'EEG F8-REF', 'EEG T3-REF', 'EEG T4-REF', 'EEG T5-REF', 'EEG T6-REF', 'EEG T1-REF', 'EEG T2-REF', 'EEG FZ-REF', 'EEG CZ-REF', 'EEG PZ-REF', 'EEG EKG1-REF', 'EEG A1-REF', 'EEG A2-REF', 'PHOTIC-REF', 'IBI', 'BURSTS', 'SUPPR']\",\n       \"['EEG FP1-REF', 'EEG FP2-REF', 'EEG F3-REF', 'EEG F4-REF', 'EEG C3-REF', 'EEG C4-REF', 'EEG P3-REF', 'EEG P4-REF', 'EEG O1-REF', 'EEG O2-REF', 'EEG F7-REF', 'EEG F8-REF', 'EEG T3-REF', 'EEG T4-REF', 'EEG T5-REF', 'EEG T6-REF', 'EEG T1-REF', 'EEG T2-REF', 'EEG FZ-REF', 'EEG CZ-REF', 'EEG PZ-REF', 'EEG EKG1-REF', 'EEG A1-REF', 'EEG A2-REF', 'IBI', 'BURSTS', 'SUPPR']\",\n       \"['EEG FP1-REF', 'EEG FP2-REF', 'EEG F3-REF', 'EEG F4-REF', 'EEG C3-REF', 'EEG C4-REF', 'EEG P3-REF', 'EEG P4-REF', 'EEG O1-REF', 'EEG O2-REF', 'EEG F7-REF', 'EEG F8-REF', 'EEG T3-REF', 'EEG T4-REF', 'EEG T5-REF', 'EEG T6-REF', 'EEG A1-REF', 'EEG A2-REF', 'EEG FZ-REF', 'EEG CZ-REF', 'EEG PZ-REF', 'EEG EKG1-REF', 'EEG T1-REF', 'EEG T2-REF', 'PHOTIC-REF', 'IBI', 'BURSTS', 'SUPPR']\",\n       \"['EEG FP1-LE', 'EEG FP2-LE', 'EEG F3-LE', 'EEG F4-LE', 'EEG C3-LE', 'EEG C4-LE', 'EEG A1-LE', 'EEG A2-LE', 'EEG P3-LE', 'EEG P4-LE', 'EEG O1-LE', 'EEG O2-LE', 'EEG F7-LE', 'EEG F8-LE', 'EEG T3-LE', 'EEG T4-LE', 'EEG T5-LE', 'EEG T6-LE', 'EEG FZ-LE', 'EEG CZ-LE', 'EEG PZ-LE', 'EEG OZ-LE', 'EEG PG1-LE', 'EEG PG2-LE', 'EEG EKG-LE', 'EEG 26-LE', 'EEG 27-LE', 'EEG 28-LE', 'EEG 29-LE', 'EEG 30-LE', 'EEG 31-LE', 'EEG 32-LE', 'PHOTIC PH']\",\n       \"['EEG FP1-LE', 'EEG FP2-LE', 'EEG F3-LE', 'EEG F4-LE', 'EEG C3-LE', 'EEG C4-LE', 'EEG A1-LE', 'EEG A2-LE', 'EEG P3-LE', 'EEG P4-LE', 'EEG O1-LE', 'EEG O2-LE', 'EEG F7-LE', 'EEG F8-LE', 'EEG T3-LE', 'EEG T4-LE', 'EEG T5-LE', 'EEG T6-LE', 'EEG FZ-LE', 'EEG CZ-LE', 'EEG PZ-LE', 'EEG OZ-LE', 'EEG PG1-LE', 'EEG PG2-LE', 'EEG EKG-LE', 'EEG 26-LE', 'EEG 27-LE', 'EEG 28-LE', 'EEG 29-LE', 'EEG 30-LE', 'EEG 31-LE', 'EEG 32-LE', 'PHOTIC PH', 'DC1-DC', 'DC2-DC', 'DC3-DC', 'DC4-DC', 'DC5-DC', 'DC6-DC', 'DC7-DC', 'DC8-DC']\",\n       \"['EEG FP1-LE', 'EEG FP2-LE', 'EEG F3-LE', 'EEG F4-LE', 'EEG C3-LE', 'EEG C4-LE', 'EEG A1-LE', 'EEG A2-LE', 'EEG P3-LE', 'EEG P4-LE', 'EEG O1-LE', 'EEG O2-LE', 'EEG F7-LE', 'EEG F8-LE', 'EEG T3-LE', 'EEG T4-LE', 'EEG T5-LE', 'EEG T6-LE', 'EEG FZ-LE', 'EEG CZ-LE', 'EEG PZ-LE', 'EEG OZ-LE', 'EEG PG1-LE', 'EEG PG2-LE', 'EEG EKG-LE', 'EEG SP2-LE', 'EEG SP1-LE', 'EEG 28-LE', 'EEG 29-LE', 'EEG 30-LE', 'EEG T1-LE', 'EEG T2-LE', 'PHOTIC PH']\",\n       \"['EEG FP1-LE', 'EEG FP2-LE', 'EEG F3-LE', 'EEG F4-LE', 'EEG C3-LE', 'EEG C4-LE', 'EEG A1-LE', 'EEG A2-LE', 'EEG P3-LE', 'EEG P4-LE', 'EEG O1-LE', 'EEG O2-LE', 'EEG F7-LE', 'EEG F8-LE', 'EEG T3-LE', 'EEG T4-LE', 'EEG T5-LE', 'EEG T6-LE', 'EEG FZ-LE', 'EEG CZ-LE', 'EEG PZ-LE', 'EEG OZ-LE', 'EEG PG1-LE', 'EEG PG2-LE', 'EEG EKG-LE', 'EEG SP2-LE', 'EEG SP1-LE', 'EEG RLC-LE', 'EEG LUC-LE', 'EEG 30-LE', 'EEG T1-LE', 'EEG T2-LE', 'PHOTIC PH']\",\n       \"['EEG FP1-LE', 'EEG FP2-LE', 'EEG F3-LE', 'EEG F4-LE', 'EEG C3-LE', 'EEG C4-LE', 'EEG A1-LE', 'EEG A2-LE', 'EEG P3-LE', 'EEG P4-LE', 'EEG O1-LE', 'EEG O2-LE', 'EEG F7-LE', 'EEG F8-LE', 'EEG T3-LE', 'EEG T4-LE', 'EEG T5-LE', 'EEG T6-LE', 'EEG FZ-LE', 'EEG CZ-LE', 'EEG PZ-LE', 'EEG OZ-LE', 'EEG 23-LE', 'EEG 24-LE', 'EEG EKG-LE', 'EEG 26-LE', 'EEG 27-LE', 'EEG 28-LE', 'EEG 29-LE', 'EEG 30-LE', 'EEG T1-LE', 'EEG T2-LE']\",\n       \"['EEG FP1-REF', 'EEG FP2-REF', 'EEG F3-REF', 'EEG F4-REF', 'EEG C3-REF', 'EEG C4-REF', 'EEG P3-REF', 'EEG P4-REF', 'EEG O1-REF', 'EEG O2-REF', 'EEG F7-REF', 'EEG F8-REF', 'EEG T3-REF', 'EEG T4-REF', 'EEG T5-REF', 'EEG T6-REF', 'EEG FZ-REF', 'EEG CZ-REF', 'EEG PZ-REF', 'EEG 20-REF', 'EEG 21-REF', 'EEG 22-REF', 'EEG 23-REF', 'EEG 24-REF', 'EEG 25-REF', 'EEG 26-REF', 'EEG 27-REF', 'EEG 28-REF', 'EEG 29-REF', 'EEG 30-REF', 'EEG 31-REF', 'EEG 32-REF']\",\n       \"['EEG FP1-REF', 'EEG FP2-REF', 'EEG F3-REF', 'EEG F4-REF', 'EEG C3-REF', 'EEG C4-REF', 'EEG P3-REF', 'EEG P4-REF', 'EEG O1-REF', 'EEG O2-REF', 'EEG F7-REF', 'EEG F8-REF', 'EEG T3-REF', 'EEG T4-REF', 'EEG T5-REF', 'EEG T6-REF', 'EEG T1-REF', 'EEG T2-REF', 'EEG FZ-REF', 'EEG CZ-REF', 'EEG PZ-REF', 'EEG EKG1-REF', 'EEG C3P-REF', 'EEG C4P-REF', 'EEG SP1-REF', 'EEG SP2-REF', 'EMG-REF', 'EEG 29-REF', 'EEG 30-REF', 'EEG 31-REF', 'EEG 32-REF', 'IBI', 'BURSTS', 'SUPPR']\",\n       \"['EEG FP1-REF', 'EEG FP2-REF', 'EEG F3-REF', 'EEG F4-REF', 'EEG C3-REF', 'EEG C4-REF', 'EEG P3-REF', 'EEG P4-REF', 'EEG O1-REF', 'EEG O2-REF', 'EEG F7-REF', 'EEG F8-REF', 'EEG T3-REF', 'EEG T4-REF', 'EEG T5-REF', 'EEG T6-REF', 'EEG T1-REF', 'EEG T2-REF', 'EEG FZ-REF', 'EEG CZ-REF', 'EEG PZ-REF', 'EEG EKG1-REF', 'EEG LOC-REF', 'EEG ROC-REF', 'EEG SP1-REF', 'EEG SP2-REF', 'EMG-REF', 'EEG A1-REF', 'EEG A2-REF', 'EEG 31-REF', 'EEG 32-REF', 'IBI', 'BURSTS', 'SUPPR']\",\n       \"['EEG FP1-REF', 'EEG FP2-REF', 'EEG F3-REF', 'EEG F4-REF', 'EEG C3-REF', 'EEG C4-REF', 'EEG P3-REF', 'EEG P4-REF', 'EEG O1-REF', 'EEG O2-REF', 'EEG F7-REF', 'EEG F8-REF', 'EEG T3-REF', 'EEG T4-REF', 'EEG T5-REF', 'EEG T6-REF', 'EEG T1-REF', 'EEG T2-REF', 'EEG FZ-REF', 'EEG CZ-REF', 'EEG PZ-REF', 'EEG EKG1-REF', 'EEG LOC-REF', 'EEG ROC-REF', 'EEG A1-REF', 'EEG A2-REF', 'IBI', 'BURSTS', 'SUPPR']\",\n       \"['EEG FP1-REF', 'EEG FP2-REF', 'EEG F3-REF', 'EEG F4-REF', 'EEG C3-REF', 'EEG C4-REF', 'EEG P3-REF', 'EEG P4-REF', 'EEG O1-REF', 'EEG O2-REF', 'EEG F7-REF', 'EEG F8-REF', 'EEG T3-REF', 'EEG T4-REF', 'EEG T5-REF', 'EEG T6-REF', 'EEG T1-REF', 'EEG T2-REF', 'EEG FZ-REF', 'EEG CZ-REF', 'EEG PZ-REF', 'EEG EKG1-REF', 'EEG A1-REF', 'EEG A2-REF', 'EEG 31-REF', 'EEG 32-REF', 'IBI', 'BURSTS', 'SUPPR']\",\n       \"['EEG FP1-REF', 'EEG FP2-REF', 'EEG F3-REF', 'EEG F4-REF', 'EEG C3-REF', 'EEG C4-REF', 'EEG P3-REF', 'EEG P4-REF', 'EEG O1-REF', 'EEG O2-REF', 'EEG F7-REF', 'EEG F8-REF', 'EEG T3-REF', 'EEG T4-REF', 'EEG T5-REF', 'EEG T6-REF', 'EEG A1-REF', 'EEG A2-REF', 'EEG FZ-REF', 'EEG CZ-REF', 'EEG PZ-REF', 'EEG OZ-REF', 'ECG EKG-REF', 'PULSE RATE', 'IBI', 'BURSTS', 'SUPPR']\",\n       \"['EEG FP1-REF', 'EEG FP2-REF', 'EEG F3-REF', 'EEG F4-REF', 'EEG C3-REF', 'EEG C4-REF', 'EEG P3-REF', 'EEG P4-REF', 'EEG O1-REF', 'EEG O2-REF', 'EEG F7-REF', 'EEG F8-REF', 'EEG T3-REF', 'EEG T4-REF', 'EEG T5-REF', 'EEG T6-REF', 'EEG T1-REF', 'EEG T2-REF', 'EEG FZ-REF', 'EEG CZ-REF', 'EEG PZ-REF', 'EEG EKG1-REF', 'EEG C3P-REF', 'EEG C4P-REF', 'EEG SP1-REF', 'EEG SP2-REF', 'EMG-REF', 'EEG A1-REF', 'EEG A2-REF', 'IBI', 'BURSTS', 'SUPPR']\",\n       \"['EEG FP1-REF', 'EEG FP2-REF', 'EEG F3-REF', 'EEG F4-REF', 'EEG C3-REF', 'EEG C4-REF', 'EEG P3-REF', 'EEG P4-REF', 'EEG O1-REF', 'EEG O2-REF', 'EEG F7-REF', 'EEG F8-REF', 'EEG T3-REF', 'EEG T4-REF', 'EEG T5-REF', 'EEG T6-REF', 'EEG T1-REF', 'EEG T2-REF', 'EEG FZ-REF', 'EEG CZ-REF', 'EEG PZ-REF', 'EEG EKG1-REF', 'EEG A1-REF', 'EEG A2-REF', 'EEG LOC-REF', 'EEG ROC-REF', 'IBI', 'BURSTS', 'SUPPR']\",\n       \"['EEG FP1-REF', 'EEG FP2-REF', 'EEG F3-REF', 'EEG F4-REF', 'EEG C3-REF', 'EEG C4-REF', 'EEG P3-REF', 'EEG P4-REF', 'EEG O1-REF', 'EEG O2-REF', 'EEG F7-REF', 'EEG F8-REF', 'EEG T3-REF', 'EEG T4-REF', 'EEG T5-REF', 'EEG T6-REF', 'EEG T1-REF', 'EEG T2-REF', 'EEG FZ-REF', 'EEG CZ-REF', 'EEG PZ-REF', 'EEG EKG1-REF', 'EEG C3P-REF', 'EEG C4P-REF', 'EEG A1-REF', 'EEG A2-REF', 'EEG LOC-REF', 'EEG ROC-REF', 'IBI', 'BURSTS', 'SUPPR']\",\n       \"['EEG FP1-REF', 'EEG FP2-REF', 'EEG F3-REF', 'EEG F4-REF', 'EEG C3-REF', 'EEG C4-REF', 'EEG P3-REF', 'EEG P4-REF', 'EEG O1-REF', 'EEG O2-REF', 'EEG F7-REF', 'EEG F8-REF', 'EEG T3-REF', 'EEG T4-REF', 'EEG T5-REF', 'EEG T6-REF', 'EEG T1-REF', 'EEG T2-REF', 'EEG FZ-REF', 'EEG CZ-REF', 'EEG PZ-REF', 'EEG EKG1-REF', 'EEG C3P-REF', 'EEG C4P-REF', 'EEG SP1-REF', 'EEG SP2-REF', 'EMG-REF', 'EEG A1-REF', 'EEG A2-REF', 'EEG 31-REF', 'EEG 32-REF', 'PHOTIC-REF', 'IBI', 'BURSTS', 'SUPPR']\",\n       \"['EEG FP1-REF', 'EEG FP2-REF', 'EEG F3-REF', 'EEG F4-REF', 'EEG C3-REF', 'EEG C4-REF', 'EEG P3-REF', 'EEG P4-REF', 'EEG O1-REF', 'EEG O2-REF', 'EEG F7-REF', 'EEG F8-REF', 'EEG T3-REF', 'EEG T4-REF', 'EEG T5-REF', 'EEG T6-REF', 'EEG T1-REF', 'EEG T2-REF', 'EEG FZ-REF', 'EEG CZ-REF', 'EEG PZ-REF', 'EEG EKG1-REF', 'EEG SP1-REF', 'EEG SP2-REF', 'EMG-REF', 'EEG A1-REF', 'EEG A2-REF', 'IBI', 'BURSTS', 'SUPPR']\",\n       \"['EEG FP1-REF', 'EEG FP2-REF', 'EEG F3-REF', 'EEG F4-REF', 'EEG C3-REF', 'EEG C4-REF', 'EEG P3-REF', 'EEG P4-REF', 'EEG O1-REF', 'EEG O2-REF', 'EEG F7-REF', 'EEG F8-REF', 'EEG T3-REF', 'EEG T4-REF', 'EEG T5-REF', 'EEG T6-REF', 'EEG T1-REF', 'EEG T2-REF', 'EEG FZ-REF', 'EEG CZ-REF', 'EEG PZ-REF', 'EEG EKG1-REF', 'EEG C3P-REF', 'EEG C4P-REF', 'EEG A1-REF', 'EEG A2-REF', 'EEG 31-REF', 'EEG 32-REF', 'IBI', 'BURSTS', 'SUPPR']\",\n       \"['EEG FP1-REF', 'EEG FP2-REF', 'EEG F3-REF', 'EEG F4-REF', 'EEG C3-REF', 'EEG C4-REF', 'EEG P3-REF', 'EEG P4-REF', 'EEG O1-REF', 'EEG O2-REF', 'EEG F7-REF', 'EEG F8-REF', 'EEG T3-REF', 'EEG T4-REF', 'EEG T5-REF', 'EEG T6-REF', 'EEG T1-REF', 'EEG T2-REF', 'EEG FZ-REF', 'EEG CZ-REF', 'EEG PZ-REF', 'EEG EKG1-REF', 'EEG C3P-REF', 'EEG C4P-REF', 'EEG SP1-REF', 'EEG SP2-REF', 'EEG A1-REF', 'EEG A2-REF', 'IBI', 'BURSTS', 'SUPPR']\",\n       \"['EEG FP1-REF', 'EEG FP2-REF', 'EEG F3-REF', 'EEG F4-REF', 'EEG C3-REF', 'EEG C4-REF', 'EEG P3-REF', 'EEG P4-REF', 'EEG O1-REF', 'EEG O2-REF', 'EEG F7-REF', 'EEG F8-REF', 'EEG T3-REF', 'EEG T4-REF', 'EEG T5-REF', 'EEG T6-REF', 'EEG T1-REF', 'EEG T2-REF', 'EEG FZ-REF', 'EEG CZ-REF', 'EEG PZ-REF', 'EEG EKG1-REF', 'EEG LOC-REF', 'EEG ROC-REF', 'EEG SP1-REF', 'EMG-REF', 'EEG A1-REF', 'EEG A2-REF', 'RESP ABDOMEN-REF', 'IBI', 'BURSTS', 'SUPPR']\",\n       \"['EEG FP1-REF', 'EEG FP2-REF', 'EEG F3-REF', 'EEG F4-REF', 'EEG C3-REF', 'EEG C4-REF', 'EEG P3-REF', 'EEG P4-REF', 'EEG O1-REF', 'EEG O2-REF', 'EEG F7-REF', 'EEG F8-REF', 'EEG T3-REF', 'EEG T4-REF', 'EEG T5-REF', 'EEG T6-REF', 'EEG T1-REF', 'EEG T2-REF', 'EEG FZ-REF', 'EEG CZ-REF', 'EEG PZ-REF', 'EEG EKG1-REF', 'EEG C3P-REF', 'EEG C4P-REF', 'EEG SP1-REF', 'EMG-REF', 'EEG A1-REF', 'EEG A2-REF', 'RESP ABDOMEN-REF', 'IBI', 'BURSTS', 'SUPPR']\",\n       \"['EEG FP1-REF', 'EEG FP2-REF', 'EEG F3-REF', 'EEG F4-REF', 'EEG C3-REF', 'EEG C4-REF', 'EEG P3-REF', 'EEG P4-REF', 'EEG O1-REF', 'EEG O2-REF', 'EEG F7-REF', 'EEG F8-REF', 'EEG T3-REF', 'EEG T4-REF', 'EEG T5-REF', 'EEG T6-REF', 'EEG T1-REF', 'EEG T2-REF', 'EEG FZ-REF', 'EEG CZ-REF', 'EEG PZ-REF', 'EEG EKG1-REF', 'EEG C3P-REF', 'EEG C4P-REF', 'EEG A1-REF', 'EEG A2-REF', 'RESP ABDOMEN-REF', 'IBI', 'BURSTS', 'SUPPR']\",\n       \"['EEG FP1-REF', 'EEG FP2-REF', 'EEG F3-REF', 'EEG F4-REF', 'EEG C3-REF', 'EEG C4-REF', 'EEG P3-REF', 'EEG P4-REF', 'EEG O1-REF', 'EEG O2-REF', 'EEG F7-REF', 'EEG F8-REF', 'EEG T3-REF', 'EEG T4-REF', 'EEG T5-REF', 'EEG T6-REF', 'EEG T1-REF', 'EEG T2-REF', 'EEG FZ-REF', 'EEG CZ-REF', 'EEG PZ-REF', 'EEG EKG1-REF', 'EEG SP1-REF', 'EEG A1-REF', 'EEG A2-REF', 'IBI', 'BURSTS', 'SUPPR']\",\n       \"['EEG FP1-REF', 'EEG FP2-REF', 'EEG F3-REF', 'EEG F4-REF', 'EEG C3-REF', 'EEG C4-REF', 'EEG P3-REF', 'EEG P4-REF', 'EEG O1-REF', 'EEG O2-REF', 'EEG F7-REF', 'EEG F8-REF', 'EEG T3-REF', 'EEG T4-REF', 'EEG T5-REF', 'EEG T6-REF', 'EEG T1-REF', 'EEG T2-REF', 'EEG FZ-REF', 'EEG CZ-REF', 'EEG PZ-REF', 'EEG EKG1-REF', 'EEG SP1-REF', 'EEG SP2-REF', 'EMG-REF', 'EEG A1-REF', 'EEG A2-REF', 'EEG 31-REF', 'EEG 32-REF', 'IBI', 'BURSTS', 'SUPPR']\",\n       \"['EEG FP1-REF', 'EEG FP2-REF', 'EEG F3-REF', 'EEG F4-REF', 'EEG C3-REF', 'EEG C4-REF', 'EEG P3-REF', 'EEG P4-REF', 'EEG O1-REF', 'EEG O2-REF', 'EEG F7-REF', 'EEG F8-REF', 'EEG T3-REF', 'EEG T4-REF', 'EEG T5-REF', 'EEG T6-REF', 'EEG T1-REF', 'EEG T2-REF', 'EEG FZ-REF', 'EEG CZ-REF', 'EEG PZ-REF', 'EEG EKG1-REF', 'EMG-REF', 'EEG A1-REF', 'EEG A2-REF', 'PHOTIC-REF', 'IBI', 'BURSTS', 'SUPPR']\",\n       \"['EEG FP1-REF', 'EEG FP2-REF', 'EEG F3-REF', 'EEG F4-REF', 'EEG C3-REF', 'EEG C4-REF', 'EEG P3-REF', 'EEG P4-REF', 'EEG O1-REF', 'EEG O2-REF', 'EEG F7-REF', 'EEG F8-REF', 'EEG T3-REF', 'EEG T4-REF', 'EEG T5-REF', 'EEG T6-REF', 'EEG T1-REF', 'EEG T2-REF', 'EEG FZ-REF', 'EEG CZ-REF', 'EEG PZ-REF', 'EEG EKG1-REF', 'EEG SP1-REF', 'EEG SP2-REF', 'EEG A1-REF', 'EEG A2-REF', 'EEG 31-REF', 'EEG 32-REF', 'IBI', 'BURSTS', 'SUPPR']\",\n       \"['EEG FP1-REF', 'EEG FP2-REF', 'EEG F3-REF', 'EEG F4-REF', 'EEG C3-REF', 'EEG C4-REF', 'EEG P3-REF', 'EEG P4-REF', 'EEG O1-REF', 'EEG O2-REF', 'EEG F7-REF', 'EEG F8-REF', 'EEG T3-REF', 'EEG T4-REF', 'EEG T5-REF', 'EEG T6-REF', 'EEG T1-REF', 'EEG T2-REF', 'EEG FZ-REF', 'EEG CZ-REF', 'EEG PZ-REF', 'EEG EKG1-REF', 'EMG-REF', 'EEG A1-REF', 'EEG A2-REF', 'IBI', 'BURSTS', 'SUPPR']\",\n       \"['EEG FP1-REF', 'EEG FP2-REF', 'EEG F3-REF', 'EEG F4-REF', 'EEG C3-REF', 'EEG C4-REF', 'EEG P3-REF', 'EEG P4-REF', 'EEG O1-REF', 'EEG O2-REF', 'EEG F7-REF', 'EEG F8-REF', 'EEG T3-REF', 'EEG T4-REF', 'EEG T5-REF', 'EEG T6-REF', 'EEG A1-REF', 'EEG A2-REF', 'EEG FZ-REF', 'EEG CZ-REF', 'EEG PZ-REF', 'EEG ROC-REF', 'EEG LOC-REF', 'EEG EKG1-REF', 'PHOTIC-REF', 'IBI', 'BURSTS', 'SUPPR']\",\n       \"['EEG FP1-REF', 'EEG FP2-REF', 'EEG F3-REF', 'EEG F4-REF', 'EEG C3-REF', 'EEG C4-REF', 'EEG P3-REF', 'EEG P4-REF', 'EEG O1-REF', 'EEG O2-REF', 'EEG F7-REF', 'EEG F8-REF', 'EEG T3-REF', 'EEG T4-REF', 'EEG T5-REF', 'EEG T6-REF', 'EEG FZ-REF', 'EEG CZ-REF', 'EEG PZ-REF', 'EEG 20-REF', 'EEG 21-REF', 'EEG 22-REF', 'EEG 23-REF', 'EEG 24-REF', 'EEG 25-REF', 'EEG 26-REF', 'EEG 27-REF', 'EEG 28-REF', 'EEG 29-REF', 'EEG 30-REF', 'EEG 31-REF', 'EEG 32-REF', 'EEG 33-REF', 'EEG 34-REF', 'EEG 35-REF', 'EEG 36-REF', 'EEG 37-REF', 'EEG 38-REF', 'EEG 39-REF', 'EEG 40-REF', 'EEG 41-REF', 'EEG 42-REF', 'EEG 43-REF', 'EEG 44-REF', 'EEG 45-REF', 'EEG 46-REF', 'EEG 47-REF', 'EEG 48-REF', 'EEG 49-REF', 'EEG 50-REF', 'EEG 51-REF', 'EEG 52-REF', 'EEG 53-REF', 'EEG 54-REF', 'EEG 55-REF', 'EEG 56-REF', 'EEG 57-REF', 'EEG 58-REF', 'EEG 59-REF', 'EEG 60-REF', 'EEG 61-REF', 'EEG 62-REF', 'EEG 63-REF', 'EEG 64-REF', 'EEG 65-REF', 'EEG 66-REF', 'EEG 67-REF', 'EEG 68-REF', 'EEG 69-REF', 'EEG 70-REF', 'EEG 71-REF', 'EEG 72-REF', 'EEG 73-REF', 'EEG 74-REF', 'EEG 75-REF', 'EEG 76-REF', 'EEG 77-REF', 'EEG 78-REF', 'EEG 79-REF', 'EEG 80-REF', 'EEG 81-REF', 'EEG 82-REF', 'EEG 83-REF', 'EEG 84-REF', 'EEG 85-REF', 'EEG 86-REF', 'EEG 87-REF', 'EEG 88-REF', 'EEG 89-REF', 'EEG 90-REF', 'EEG 91-REF', 'EEG 92-REF', 'EEG 93-REF', 'EEG 94-REF', 'EEG 95-REF', 'EEG 96-REF', 'EEG 97-REF', 'EEG 98-REF', 'EEG 99-REF', 'EEG 100-REF', 'EEG 101-REF', 'EEG 102-REF', 'EEG 103-REF', 'EEG 104-REF', 'EEG 105-REF', 'EEG 106-REF', 'EEG 107-REF', 'EEG 108-REF', 'EEG 109-REF', 'EEG 110-REF', 'EEG 111-REF', 'EEG 112-REF', 'EEG 113-REF', 'EEG 114-REF', 'EEG 115-REF', 'EEG 116-REF', 'EEG 117-REF', 'EEG 118-REF', 'EEG 119-REF', 'EEG 120-REF', 'EEG 121-REF', 'EEG 122-REF', 'EEG 123-REF', 'EEG 124-REF', 'EEG 125-REF', 'EEG 126-REF', 'EEG 127-REF', 'EEG 128-REF', 'EDF ANNOTATIONS']\",\n       \"['EEG FP1-REF', 'EEG FP2-REF', 'EEG F3-REF', 'EEG F4-REF', 'EEG C3-REF', 'EEG C4-REF', 'EEG P3-REF', 'EEG P4-REF', 'EEG O1-REF', 'EEG O2-REF', 'EEG F7-REF', 'EEG F8-REF', 'EEG T3-REF', 'EEG T4-REF', 'EEG T5-REF', 'EEG T6-REF', 'EEG T1-REF', 'EEG T2-REF', 'EEG FZ-REF', 'EEG CZ-REF', 'EEG PZ-REF', 'EEG EKG1-REF', 'EEG C3P-REF', 'EEG C4P-REF', 'EEG 29-REF', 'EEG 30-REF', 'EEG 31-REF', 'EEG 32-REF', 'IBI', 'BURSTS', 'SUPPR']\",\n       \"['EEG FP1-REF', 'EEG FP2-REF', 'EEG F3-REF', 'EEG F4-REF', 'EEG C3-REF', 'EEG C4-REF', 'EEG P3-REF', 'EEG P4-REF', 'EEG O1-REF', 'EEG O2-REF', 'EEG F7-REF', 'EEG F8-REF', 'EEG T3-REF', 'EEG T4-REF', 'EEG T5-REF', 'EEG T6-REF', 'EEG T1-REF', 'EEG T2-REF', 'EEG FZ-REF', 'EEG CZ-REF', 'EEG PZ-REF', 'EEG EKG1-REF', 'EEG C3P-REF', 'EEG C4P-REF', 'EEG SP1-REF', 'EEG SP2-REF', 'EEG 29-REF', 'EEG 30-REF', 'EEG 31-REF', 'EEG 32-REF', 'IBI', 'BURSTS', 'SUPPR']\",\n       \"['EEG FP1-REF', 'EEG FP2-REF', 'EEG F3-REF', 'EEG F4-REF', 'EEG C3-REF', 'EEG C4-REF', 'EEG P3-REF', 'EEG P4-REF', 'EEG O1-REF', 'EEG O2-REF', 'EEG F7-REF', 'EEG F8-REF', 'EEG T3-REF', 'EEG T4-REF', 'EEG T5-REF', 'EEG T6-REF', 'EEG T1-REF', 'EEG T2-REF', 'EEG FZ-REF', 'EEG CZ-REF', 'EEG PZ-REF', 'EEG EKG1-REF', 'EEG C3P-REF', 'EEG C4P-REF', 'EEG SP1-REF', 'EEG SP2-REF', 'EMG-REF', 'EEG 29-REF', 'EEG 30-REF', 'EEG 31-REF', 'EEG 32-REF', 'IBI', 'BURSTS', 'SUPPR', 'EDF ANNOTATIONS']\",\n       \"['EEG FP1-REF', 'EEG FP2-REF', 'EEG F3-REF', 'EEG F4-REF', 'EEG C3-REF', 'EEG C4-REF', 'EEG P3-REF', 'EEG P4-REF', 'EEG O1-REF', 'EEG O2-REF', 'EEG F7-REF', 'EEG F8-REF', 'EEG T3-REF', 'EEG T4-REF', 'EEG T5-REF', 'EEG T6-REF', 'EEG T1-REF', 'EEG T2-REF', 'EEG FZ-REF', 'EEG CZ-REF', 'EEG PZ-REF', 'EEG EKG1-REF', 'EEG LOC-REF', 'EEG ROC-REF', 'EEG SP1-REF', 'EEG SP2-REF', 'EMG-REF', 'EEG 29-REF', 'EEG 30-REF', 'EEG 31-REF', 'EEG 32-REF', 'IBI', 'BURSTS', 'SUPPR']\",\n       \"['EEG FP1-REF', 'EEG FP2-REF', 'EEG F3-REF', 'EEG F4-REF', 'EEG C3-REF', 'EEG C4-REF', 'EEG P3-REF', 'EEG P4-REF', 'EEG O1-REF', 'EEG O2-REF', 'EEG F7-REF', 'EEG F8-REF', 'EEG T3-REF', 'EEG T4-REF', 'EEG T5-REF', 'EEG T6-REF', 'EEG T1-REF', 'EEG T2-REF', 'EEG FZ-REF', 'EEG CZ-REF', 'EEG PZ-REF', 'EEG EKG1-REF', 'EEG SP1-REF', 'EEG SP2-REF', 'EMG-REF', 'EEG 29-REF', 'EEG 30-REF', 'EEG 31-REF', 'EEG 32-REF', 'IBI', 'BURSTS', 'SUPPR']\",\n       \"['EEG FP1-REF', 'EEG FP2-REF', 'EEG F3-REF', 'EEG F4-REF', 'EEG C3-REF', 'EEG C4-REF', 'EEG P3-REF', 'EEG P4-REF', 'EEG O1-REF', 'EEG O2-REF', 'EEG F7-REF', 'EEG F8-REF', 'EEG T3-REF', 'EEG T4-REF', 'EEG T5-REF', 'EEG T6-REF', 'EEG T1-REF', 'EEG T2-REF', 'EEG FZ-REF', 'EEG CZ-REF', 'EEG PZ-REF', 'EEG EKG1-REF', 'EEG 29-REF', 'EEG 30-REF', 'EEG 31-REF', 'EEG 32-REF', 'IBI', 'BURSTS', 'SUPPR']\",\n       \"['EEG FP1-REF', 'EEG FP2-REF', 'EEG F3-REF', 'EEG F4-REF', 'EEG C3-REF', 'EEG C4-REF', 'EEG P3-REF', 'EEG P4-REF', 'EEG O1-REF', 'EEG O2-REF', 'EEG F7-REF', 'EEG F8-REF', 'EEG T3-REF', 'EEG T4-REF', 'EEG T5-REF', 'EEG T6-REF', 'EEG T1-REF', 'EEG T2-REF', 'EEG FZ-REF', 'EEG CZ-REF', 'EEG PZ-REF', 'EEG EKG1-REF', 'EMG-REF', 'IBI', 'BURSTS', 'SUPPR']\",\n       \"['EEG FP1-REF', 'EEG FP2-REF', 'EEG F3-REF', 'EEG F4-REF', 'EEG C3-REF', 'EEG C4-REF', 'EEG P3-REF', 'EEG P4-REF', 'EEG O1-REF', 'EEG O2-REF', 'EEG F7-REF', 'EEG F8-REF', 'EEG T3-REF', 'EEG T4-REF', 'EEG T5-REF', 'EEG T6-REF', 'EEG T1-REF', 'EEG T2-REF', 'EEG FZ-REF', 'EEG CZ-REF', 'EEG PZ-REF', 'EEG EKG1-REF', 'IBI', 'BURSTS', 'SUPPR']\",\n       \"['EEG FP1-REF', 'EEG FP2-REF', 'EEG F3-REF', 'EEG F4-REF', 'EEG C3-REF', 'EEG C4-REF', 'EEG P3-REF', 'EEG P4-REF', 'EEG O1-REF', 'EEG O2-REF', 'EEG F7-REF', 'EEG F8-REF', 'EEG T3-REF', 'EEG T4-REF', 'EEG T5-REF', 'EEG T6-REF', 'EEG FZ-REF', 'EEG CZ-REF', 'EEG PZ-REF', 'EEG EKG-REF', 'EEG 21-REF', 'EEG 22-REF', 'EEG T1-REF', 'EEG T2-REF', 'EEG 25-REF', 'EEG 26-REF', 'EEG 27-REF', 'EEG 28-REF', 'EEG 29-REF', 'EEG 30-REF', 'EEG 31-REF', 'EEG 32-REF', 'EEG 33-REF', 'EEG 34-REF', 'EEG 35-REF', 'EEG 36-REF', 'EEG 37-REF', 'EEG 38-REF', 'EEG 39-REF', 'EEG 40-REF', 'EEG 41-REF', 'EEG 42-REF', 'EEG 43-REF', 'EEG 44-REF', 'EEG 45-REF', 'EEG 46-REF', 'EEG 47-REF', 'EEG 48-REF', 'EEG 49-REF', 'EEG 50-REF', 'EEG 51-REF', 'EEG 52-REF', 'EEG 53-REF', 'EEG 54-REF', 'EEG 55-REF', 'EEG 56-REF', 'EEG 57-REF', 'EEG 58-REF', 'EEG 59-REF', 'EEG 60-REF', 'EEG 61-REF', 'EEG 62-REF', 'EEG 63-REF', 'EEG 64-REF', 'EEG 65-REF', 'EEG 66-REF', 'EEG 67-REF', 'EEG 68-REF', 'EEG 69-REF', 'EEG 70-REF', 'EEG 71-REF', 'EEG 72-REF', 'EEG 73-REF', 'EEG 74-REF', 'EEG 75-REF', 'EEG 76-REF', 'EEG 77-REF', 'EEG 78-REF', 'EEG 79-REF', 'EEG 80-REF', 'EEG 81-REF', 'EEG 82-REF', 'EEG 83-REF', 'EEG 84-REF', 'EEG 85-REF', 'EEG 86-REF', 'EEG 87-REF', 'EEG 88-REF', 'EEG 89-REF', 'EEG 90-REF', 'EEG 91-REF', 'EEG 92-REF', 'EEG 93-REF', 'EEG 94-REF', 'EEG 95-REF', 'EEG 96-REF', 'EEG 97-REF', 'EEG 98-REF', 'EEG 99-REF', 'EEG 100-REF', 'EEG 101-REF', 'EEG 102-REF', 'EEG 103-REF', 'EEG 104-REF', 'EEG 105-REF', 'EEG 106-REF', 'EEG 107-REF', 'EEG 108-REF', 'EEG 109-REF', 'EEG 110-REF', 'EEG 111-REF', 'EEG 112-REF', 'EEG 113-REF', 'EEG 114-REF', 'EEG 115-REF', 'EEG 116-REF', 'EEG 117-REF', 'EEG 118-REF', 'EEG 119-REF', 'EEG 120-REF', 'EEG 121-REF', 'EEG 122-REF', 'EEG 123-REF', 'EEG 124-REF', 'EEG 125-REF', 'EEG 126-REF', 'EEG 127-REF', 'EEG 128-REF']\"],\n      dtype=object)"
     },
     "execution_count": 7,
     "metadata": {},
     "output_type": "execute_result"
    }
   ],
   "source": [
    "fs_df.astype({'filename': str, 'fs': str, 'ch': str})['ch'].unique()"
   ],
   "metadata": {
    "collapsed": false,
    "pycharm": {
     "name": "#%%\n"
    }
   }
  },
  {
   "cell_type": "code",
   "execution_count": 8,
   "outputs": [
    {
     "data": {
      "text/plain": "7513"
     },
     "execution_count": 8,
     "metadata": {},
     "output_type": "execute_result"
    }
   ],
   "source": [
    "# df =\n",
    "df['Filename'] = df['No. Seizures/ Session_Filename'].apply(lambda x: x.split('.tse')[0])\n",
    "len(df)\n"
   ],
   "metadata": {
    "collapsed": false,
    "pycharm": {
     "name": "#%%\n"
    }
   }
  },
  {
   "cell_type": "code",
   "execution_count": 9,
   "outputs": [
    {
     "data": {
      "text/plain": "                                               filename  \\\n6464  ./train/03_tcp_ar_a/053/00005371/s003_2009_01_...   \n2477  ./train/01_tcp_ar/129/00012966/s002_2015_09_02...   \n7148  ./train/03_tcp_ar_a/046/00004671/s020_2015_03_...   \n4793  ./train/01_tcp_ar/065/00006546/s039_2014_03_21...   \n6469  ./train/03_tcp_ar_a/053/00005371/s003_2009_01_...   \n5056  ./train/01_tcp_ar/071/00007122/s008_2013_03_07...   \n1546  ./train/01_tcp_ar/064/00006440/s002_2010_04_17...   \n2777  ./train/01_tcp_ar/131/00013145/s006_2015_09_03...   \n5970  ./train/02_tcp_le/065/00006514/s007_2010_05_03...   \n1577  ./train/01_tcp_ar/089/00008980/s001_2012_08_09...   \n\n                                                     fs  \\\n6464  [400, 400, 400, 400, 400, 400, 400, 400, 400, ...   \n2477  [256, 256, 256, 256, 256, 256, 256, 256, 256, ...   \n7148  [256, 256, 256, 256, 256, 256, 256, 256, 256, ...   \n4793  [256, 256, 256, 256, 256, 256, 256, 256, 256, ...   \n6469  [400, 400, 400, 400, 400, 400, 400, 400, 400, ...   \n5056  [256, 256, 256, 256, 256, 256, 256, 256, 256, ...   \n1546  [250, 250, 250, 250, 250, 250, 250, 250, 250, ...   \n2777  [256, 256, 256, 256, 256, 256, 256, 256, 256, ...   \n5970  [250, 250, 250, 250, 250, 250, 250, 250, 250, ...   \n1577  [250, 250, 250, 250, 250, 250, 250, 250, 250, ...   \n\n                                                     ch  \\\n6464  [EEG FP1-REF, EEG FP2-REF, EEG F3-REF, EEG F4-...   \n2477  [EEG FP1-REF, EEG FP2-REF, EEG F3-REF, EEG F4-...   \n7148  [EEG FP1-REF, EEG FP2-REF, EEG F3-REF, EEG F4-...   \n4793  [EEG FP1-REF, EEG FP2-REF, EEG F3-REF, EEG F4-...   \n6469  [EEG FP1-REF, EEG FP2-REF, EEG F3-REF, EEG F4-...   \n5056  [EEG FP1-REF, EEG FP2-REF, EEG F3-REF, EEG F4-...   \n1546  [EEG FP1-REF, EEG FP2-REF, EEG F3-REF, EEG F4-...   \n2777  [EEG FP1-REF, EEG FP2-REF, EEG F3-REF, EEG F4-...   \n5970  [EEG FP1-LE, EEG FP2-LE, EEG F3-LE, EEG F4-LE,...   \n1577  [EEG FP1-REF, EEG FP2-REF, EEG F3-REF, EEG F4-...   \n\n      Index_Unnamed: 0_level_1  File No._Unnamed: 1_level_1  \\\n6464                    5695.0                       4357.0   \n2477                    2396.0                       1819.0   \n7148                    5199.0                       3965.0   \n4793                    1095.0                        753.0   \n6469                    5700.0                       4357.0   \n5056                    1727.0                       1256.0   \n1546                    3526.0                       2655.0   \n2777                    3826.0                       2916.0   \n5970                     440.0                        295.0   \n1577                    4250.0                       3299.0   \n\n      Patient_Unnamed: 2_level_1 Session_Unnamed: 3_level_1  \\\n6464                         NaN                        NaN   \n2477                         NaN                        NaN   \n7148                         NaN                        NaN   \n4793                         NaN                        NaN   \n6469                         NaN                        NaN   \n5056                         NaN                        NaN   \n1546                         NaN                        NaN   \n2777                         NaN                        NaN   \n5970                         NaN                        NaN   \n1577                      8980.0                       s001   \n\n     File_Unnamed: 4_level_1 EEG Type_Unnamed: 5_level_1  \\\n6464                     NaN                         NaN   \n2477                     NaN                         NaN   \n7148                    t006                         NaN   \n4793                    t004                         NaN   \n6469                     NaN                         NaN   \n5056                    t001                         NaN   \n1546                     NaN                         NaN   \n2777                    t000                         NaN   \n5970                     NaN                         NaN   \n1577                    t000                   Inpatient   \n\n     EEG SubType_Unnamed: 6_level_1  ... Summary_Sessions.1 Summary_Freq..1  \\\n6464                            NaN  ...                NaN             NaN   \n2477                            NaN  ...                NaN             NaN   \n7148                            NaN  ...                NaN             NaN   \n4793                            NaN  ...                NaN             NaN   \n6469                            NaN  ...                NaN             NaN   \n5056                            NaN  ...                NaN             NaN   \n1546                            NaN  ...                NaN             NaN   \n2777                            NaN  ...                NaN             NaN   \n5970                            NaN  ...                NaN             NaN   \n1577                        General  ...                NaN             NaN   \n\n      Summary_Cum..2  Summary_Cum..3 Summary_Seizure Type  Summary_Events  \\\n6464             NaN             NaN                  NaN             NaN   \n2477             NaN             NaN                  NaN             NaN   \n7148             NaN             NaN                  NaN             NaN   \n4793             NaN             NaN                  NaN             NaN   \n6469             NaN             NaN                  NaN             NaN   \n5056             NaN             NaN                  NaN             NaN   \n1546             NaN             NaN                  NaN             NaN   \n2777             NaN             NaN                  NaN             NaN   \n5970             NaN             NaN                  NaN             NaN   \n1577             NaN             NaN                  NaN             NaN   \n\n      Summary_Freq..2 Summary_Cum..4  Summary_Cum..5  \\\n6464              NaN            NaN             NaN   \n2477              NaN            NaN             NaN   \n7148              NaN            NaN             NaN   \n4793              NaN            NaN             NaN   \n6469              NaN            NaN             NaN   \n5056              NaN            NaN             NaN   \n1546              NaN            NaN             NaN   \n2777              NaN            NaN             NaN   \n5970              NaN            NaN             NaN   \n1577              NaN            NaN             NaN   \n\n                                               Filename  \n6464  ./train/03_tcp_ar_a/053/00005371/s003_2009_01_...  \n2477  ./train/01_tcp_ar/129/00012966/s002_2015_09_02...  \n7148  ./train/03_tcp_ar_a/046/00004671/s020_2015_03_...  \n4793  ./train/01_tcp_ar/065/00006546/s039_2014_03_21...  \n6469  ./train/03_tcp_ar_a/053/00005371/s003_2009_01_...  \n5056  ./train/01_tcp_ar/071/00007122/s008_2013_03_07...  \n1546  ./train/01_tcp_ar/064/00006440/s002_2010_04_17...  \n2777  ./train/01_tcp_ar/131/00013145/s006_2015_09_03...  \n5970  ./train/02_tcp_le/065/00006514/s007_2010_05_03...  \n1577  ./train/01_tcp_ar/089/00008980/s001_2012_08_09...  \n\n[10 rows x 35 columns]",
      "text/html": "<div>\n<style scoped>\n    .dataframe tbody tr th:only-of-type {\n        vertical-align: middle;\n    }\n\n    .dataframe tbody tr th {\n        vertical-align: top;\n    }\n\n    .dataframe thead th {\n        text-align: right;\n    }\n</style>\n<table border=\"1\" class=\"dataframe\">\n  <thead>\n    <tr style=\"text-align: right;\">\n      <th></th>\n      <th>filename</th>\n      <th>fs</th>\n      <th>ch</th>\n      <th>Index_Unnamed: 0_level_1</th>\n      <th>File No._Unnamed: 1_level_1</th>\n      <th>Patient_Unnamed: 2_level_1</th>\n      <th>Session_Unnamed: 3_level_1</th>\n      <th>File_Unnamed: 4_level_1</th>\n      <th>EEG Type_Unnamed: 5_level_1</th>\n      <th>EEG SubType_Unnamed: 6_level_1</th>\n      <th>...</th>\n      <th>Summary_Sessions.1</th>\n      <th>Summary_Freq..1</th>\n      <th>Summary_Cum..2</th>\n      <th>Summary_Cum..3</th>\n      <th>Summary_Seizure Type</th>\n      <th>Summary_Events</th>\n      <th>Summary_Freq..2</th>\n      <th>Summary_Cum..4</th>\n      <th>Summary_Cum..5</th>\n      <th>Filename</th>\n    </tr>\n  </thead>\n  <tbody>\n    <tr>\n      <th>6464</th>\n      <td>./train/03_tcp_ar_a/053/00005371/s003_2009_01_...</td>\n      <td>[400, 400, 400, 400, 400, 400, 400, 400, 400, ...</td>\n      <td>[EEG FP1-REF, EEG FP2-REF, EEG F3-REF, EEG F4-...</td>\n      <td>5695.0</td>\n      <td>4357.0</td>\n      <td>NaN</td>\n      <td>NaN</td>\n      <td>NaN</td>\n      <td>NaN</td>\n      <td>NaN</td>\n      <td>...</td>\n      <td>NaN</td>\n      <td>NaN</td>\n      <td>NaN</td>\n      <td>NaN</td>\n      <td>NaN</td>\n      <td>NaN</td>\n      <td>NaN</td>\n      <td>NaN</td>\n      <td>NaN</td>\n      <td>./train/03_tcp_ar_a/053/00005371/s003_2009_01_...</td>\n    </tr>\n    <tr>\n      <th>2477</th>\n      <td>./train/01_tcp_ar/129/00012966/s002_2015_09_02...</td>\n      <td>[256, 256, 256, 256, 256, 256, 256, 256, 256, ...</td>\n      <td>[EEG FP1-REF, EEG FP2-REF, EEG F3-REF, EEG F4-...</td>\n      <td>2396.0</td>\n      <td>1819.0</td>\n      <td>NaN</td>\n      <td>NaN</td>\n      <td>NaN</td>\n      <td>NaN</td>\n      <td>NaN</td>\n      <td>...</td>\n      <td>NaN</td>\n      <td>NaN</td>\n      <td>NaN</td>\n      <td>NaN</td>\n      <td>NaN</td>\n      <td>NaN</td>\n      <td>NaN</td>\n      <td>NaN</td>\n      <td>NaN</td>\n      <td>./train/01_tcp_ar/129/00012966/s002_2015_09_02...</td>\n    </tr>\n    <tr>\n      <th>7148</th>\n      <td>./train/03_tcp_ar_a/046/00004671/s020_2015_03_...</td>\n      <td>[256, 256, 256, 256, 256, 256, 256, 256, 256, ...</td>\n      <td>[EEG FP1-REF, EEG FP2-REF, EEG F3-REF, EEG F4-...</td>\n      <td>5199.0</td>\n      <td>3965.0</td>\n      <td>NaN</td>\n      <td>NaN</td>\n      <td>t006</td>\n      <td>NaN</td>\n      <td>NaN</td>\n      <td>...</td>\n      <td>NaN</td>\n      <td>NaN</td>\n      <td>NaN</td>\n      <td>NaN</td>\n      <td>NaN</td>\n      <td>NaN</td>\n      <td>NaN</td>\n      <td>NaN</td>\n      <td>NaN</td>\n      <td>./train/03_tcp_ar_a/046/00004671/s020_2015_03_...</td>\n    </tr>\n    <tr>\n      <th>4793</th>\n      <td>./train/01_tcp_ar/065/00006546/s039_2014_03_21...</td>\n      <td>[256, 256, 256, 256, 256, 256, 256, 256, 256, ...</td>\n      <td>[EEG FP1-REF, EEG FP2-REF, EEG F3-REF, EEG F4-...</td>\n      <td>1095.0</td>\n      <td>753.0</td>\n      <td>NaN</td>\n      <td>NaN</td>\n      <td>t004</td>\n      <td>NaN</td>\n      <td>NaN</td>\n      <td>...</td>\n      <td>NaN</td>\n      <td>NaN</td>\n      <td>NaN</td>\n      <td>NaN</td>\n      <td>NaN</td>\n      <td>NaN</td>\n      <td>NaN</td>\n      <td>NaN</td>\n      <td>NaN</td>\n      <td>./train/01_tcp_ar/065/00006546/s039_2014_03_21...</td>\n    </tr>\n    <tr>\n      <th>6469</th>\n      <td>./train/03_tcp_ar_a/053/00005371/s003_2009_01_...</td>\n      <td>[400, 400, 400, 400, 400, 400, 400, 400, 400, ...</td>\n      <td>[EEG FP1-REF, EEG FP2-REF, EEG F3-REF, EEG F4-...</td>\n      <td>5700.0</td>\n      <td>4357.0</td>\n      <td>NaN</td>\n      <td>NaN</td>\n      <td>NaN</td>\n      <td>NaN</td>\n      <td>NaN</td>\n      <td>...</td>\n      <td>NaN</td>\n      <td>NaN</td>\n      <td>NaN</td>\n      <td>NaN</td>\n      <td>NaN</td>\n      <td>NaN</td>\n      <td>NaN</td>\n      <td>NaN</td>\n      <td>NaN</td>\n      <td>./train/03_tcp_ar_a/053/00005371/s003_2009_01_...</td>\n    </tr>\n    <tr>\n      <th>5056</th>\n      <td>./train/01_tcp_ar/071/00007122/s008_2013_03_07...</td>\n      <td>[256, 256, 256, 256, 256, 256, 256, 256, 256, ...</td>\n      <td>[EEG FP1-REF, EEG FP2-REF, EEG F3-REF, EEG F4-...</td>\n      <td>1727.0</td>\n      <td>1256.0</td>\n      <td>NaN</td>\n      <td>NaN</td>\n      <td>t001</td>\n      <td>NaN</td>\n      <td>NaN</td>\n      <td>...</td>\n      <td>NaN</td>\n      <td>NaN</td>\n      <td>NaN</td>\n      <td>NaN</td>\n      <td>NaN</td>\n      <td>NaN</td>\n      <td>NaN</td>\n      <td>NaN</td>\n      <td>NaN</td>\n      <td>./train/01_tcp_ar/071/00007122/s008_2013_03_07...</td>\n    </tr>\n    <tr>\n      <th>1546</th>\n      <td>./train/01_tcp_ar/064/00006440/s002_2010_04_17...</td>\n      <td>[250, 250, 250, 250, 250, 250, 250, 250, 250, ...</td>\n      <td>[EEG FP1-REF, EEG FP2-REF, EEG F3-REF, EEG F4-...</td>\n      <td>3526.0</td>\n      <td>2655.0</td>\n      <td>NaN</td>\n      <td>NaN</td>\n      <td>NaN</td>\n      <td>NaN</td>\n      <td>NaN</td>\n      <td>...</td>\n      <td>NaN</td>\n      <td>NaN</td>\n      <td>NaN</td>\n      <td>NaN</td>\n      <td>NaN</td>\n      <td>NaN</td>\n      <td>NaN</td>\n      <td>NaN</td>\n      <td>NaN</td>\n      <td>./train/01_tcp_ar/064/00006440/s002_2010_04_17...</td>\n    </tr>\n    <tr>\n      <th>2777</th>\n      <td>./train/01_tcp_ar/131/00013145/s006_2015_09_03...</td>\n      <td>[256, 256, 256, 256, 256, 256, 256, 256, 256, ...</td>\n      <td>[EEG FP1-REF, EEG FP2-REF, EEG F3-REF, EEG F4-...</td>\n      <td>3826.0</td>\n      <td>2916.0</td>\n      <td>NaN</td>\n      <td>NaN</td>\n      <td>t000</td>\n      <td>NaN</td>\n      <td>NaN</td>\n      <td>...</td>\n      <td>NaN</td>\n      <td>NaN</td>\n      <td>NaN</td>\n      <td>NaN</td>\n      <td>NaN</td>\n      <td>NaN</td>\n      <td>NaN</td>\n      <td>NaN</td>\n      <td>NaN</td>\n      <td>./train/01_tcp_ar/131/00013145/s006_2015_09_03...</td>\n    </tr>\n    <tr>\n      <th>5970</th>\n      <td>./train/02_tcp_le/065/00006514/s007_2010_05_03...</td>\n      <td>[250, 250, 250, 250, 250, 250, 250, 250, 250, ...</td>\n      <td>[EEG FP1-LE, EEG FP2-LE, EEG F3-LE, EEG F4-LE,...</td>\n      <td>440.0</td>\n      <td>295.0</td>\n      <td>NaN</td>\n      <td>NaN</td>\n      <td>NaN</td>\n      <td>NaN</td>\n      <td>NaN</td>\n      <td>...</td>\n      <td>NaN</td>\n      <td>NaN</td>\n      <td>NaN</td>\n      <td>NaN</td>\n      <td>NaN</td>\n      <td>NaN</td>\n      <td>NaN</td>\n      <td>NaN</td>\n      <td>NaN</td>\n      <td>./train/02_tcp_le/065/00006514/s007_2010_05_03...</td>\n    </tr>\n    <tr>\n      <th>1577</th>\n      <td>./train/01_tcp_ar/089/00008980/s001_2012_08_09...</td>\n      <td>[250, 250, 250, 250, 250, 250, 250, 250, 250, ...</td>\n      <td>[EEG FP1-REF, EEG FP2-REF, EEG F3-REF, EEG F4-...</td>\n      <td>4250.0</td>\n      <td>3299.0</td>\n      <td>8980.0</td>\n      <td>s001</td>\n      <td>t000</td>\n      <td>Inpatient</td>\n      <td>General</td>\n      <td>...</td>\n      <td>NaN</td>\n      <td>NaN</td>\n      <td>NaN</td>\n      <td>NaN</td>\n      <td>NaN</td>\n      <td>NaN</td>\n      <td>NaN</td>\n      <td>NaN</td>\n      <td>NaN</td>\n      <td>./train/01_tcp_ar/089/00008980/s001_2012_08_09...</td>\n    </tr>\n  </tbody>\n</table>\n<p>10 rows × 35 columns</p>\n</div>"
     },
     "execution_count": 9,
     "metadata": {},
     "output_type": "execute_result"
    }
   ],
   "source": [
    "fs_df_merged = pd.merge(left=fs_df, right=df, left_on='filename', right_on='Filename', how='right')\n",
    "fs_df_merged.sample(10)"
   ],
   "metadata": {
    "collapsed": false,
    "pycharm": {
     "name": "#%%\n"
    }
   }
  },
  {
   "cell_type": "code",
   "execution_count": 10,
   "outputs": [
    {
     "data": {
      "text/plain": "filename                                     7513\nfs                                           7513\nch                                           7513\nIndex_Unnamed: 0_level_1                     7513\nFile No._Unnamed: 1_level_1                  7513\nPatient_Unnamed: 2_level_1                   1423\nSession_Unnamed: 3_level_1                   1423\nFile_Unnamed: 4_level_1                      5612\nEEG Type_Unnamed: 5_level_1                  1423\nEEG SubType_Unnamed: 6_level_1               1423\nLTM -or- Routine_Unnamed: 7_level_1          1423\nNormal/ Abnormal_Unnamed: 8_level_1          1423\nNo. Seizures/ File_Unnamed: 9_level_1        5612\nNo. Seizures/ Session_Unnamed: 10_level_1    1423\nNo. Seizures/ Session_Filename               7513\nSeizure Time_Start                           3050\nSeizure Time_Stop                            3050\nSeizure Type_Unnamed: 14_level_1             3050\nSeizure Type_Unnamed: 15_level_1                0\nSummary_EEG Type                               32\nSummary_Sessions                               50\nSummary_Freq.                                  36\nSummary_Cum.                                   16\nSummary_Cum..1                                 40\nSummary_EEG SubType                            38\nSummary_Sessions.1                             38\nSummary_Freq..1                                38\nSummary_Cum..2                                 34\nSummary_Cum..3                                  0\nSummary_Seizure Type                           22\nSummary_Events                                 22\nSummary_Freq..2                                22\nSummary_Cum..4                                 20\nSummary_Cum..5                                  0\nFilename                                     7513\ndtype: int64"
     },
     "execution_count": 10,
     "metadata": {},
     "output_type": "execute_result"
    }
   ],
   "source": [
    "fs_df_merged.count()"
   ],
   "metadata": {
    "collapsed": false,
    "pycharm": {
     "name": "#%%\n"
    }
   }
  },
  {
   "cell_type": "code",
   "execution_count": 11,
   "outputs": [
    {
     "data": {
      "text/plain": "filename                                     False\nfs                                           False\nch                                           False\nIndex_Unnamed: 0_level_1                     False\nFile No._Unnamed: 1_level_1                  False\nPatient_Unnamed: 2_level_1                    True\nSession_Unnamed: 3_level_1                    True\nFile_Unnamed: 4_level_1                       True\nEEG Type_Unnamed: 5_level_1                   True\nEEG SubType_Unnamed: 6_level_1                True\nLTM -or- Routine_Unnamed: 7_level_1           True\nNormal/ Abnormal_Unnamed: 8_level_1           True\nNo. Seizures/ File_Unnamed: 9_level_1         True\nNo. Seizures/ Session_Unnamed: 10_level_1     True\nNo. Seizures/ Session_Filename               False\nSeizure Time_Start                            True\nSeizure Time_Stop                             True\nSeizure Type_Unnamed: 14_level_1              True\nSeizure Type_Unnamed: 15_level_1              True\nSummary_EEG Type                              True\nSummary_Sessions                              True\nSummary_Freq.                                 True\nSummary_Cum.                                  True\nSummary_Cum..1                                True\nSummary_EEG SubType                           True\nSummary_Sessions.1                            True\nSummary_Freq..1                               True\nSummary_Cum..2                                True\nSummary_Cum..3                                True\nSummary_Seizure Type                          True\nSummary_Events                                True\nSummary_Freq..2                               True\nSummary_Cum..4                                True\nSummary_Cum..5                                True\nFilename                                     False\ndtype: bool"
     },
     "execution_count": 11,
     "metadata": {},
     "output_type": "execute_result"
    }
   ],
   "source": [
    "fs_df_merged.isna().any()"
   ],
   "metadata": {
    "collapsed": false,
    "pycharm": {
     "name": "#%%\n"
    }
   }
  },
  {
   "cell_type": "code",
   "execution_count": 12,
   "outputs": [],
   "source": [
    "def get_index(x):\n",
    "    if 'EEG FP1-REF' in x:\n",
    "        return x.index('EEG FP1-REF')\n",
    "    elif 'EEG FP1-LE' in x:\n",
    "        return x.index('EEG FP1-LE')\n",
    "    else:\n",
    "        return pd.NA\n",
    "fs_df_merged['FP1_index'] = fs_df_merged['ch'].apply(get_index)"
   ],
   "metadata": {
    "collapsed": false,
    "pycharm": {
     "name": "#%%\n"
    }
   }
  },
  {
   "cell_type": "code",
   "execution_count": 13,
   "outputs": [
    {
     "data": {
      "text/plain": "                                               filename  \\\n7182  ./train/03_tcp_ar_a/080/00008053/s003_2011_03_...   \n1711  ./train/01_tcp_ar/113/00011333/s012_2014_03_05...   \n7491  ./train/03_tcp_ar_a/023/00002380/s003_2006_01_...   \n978   ./dev/01_tcp_ar/065/00006546/s024_2012_02_25/0...   \n3076  ./train/01_tcp_ar/104/00010418/s012_2014_05_30...   \n\n                                                     fs  \\\n7182  [256, 256, 256, 256, 256, 256, 256, 256, 256, ...   \n1711  [256, 256, 256, 256, 256, 256, 256, 256, 256, ...   \n7491  [400, 400, 400, 400, 400, 400, 400, 400, 400, ...   \n978   [256, 256, 256, 256, 256, 256, 256, 256, 256, ...   \n3076  [250, 250, 250, 250, 250, 250, 250, 250, 250, ...   \n\n                                                     ch  \\\n7182  [EEG FP1-REF, EEG FP2-REF, EEG F3-REF, EEG F4-...   \n1711  [EEG FP1-REF, EEG FP2-REF, EEG F3-REF, EEG F4-...   \n7491  [EEG FP1-REF, EEG FP2-REF, EEG F3-REF, EEG F4-...   \n978   [EEG FP1-REF, EEG FP2-REF, EEG F3-REF, EEG F4-...   \n3076  [EEG FP1-REF, EEG FP2-REF, EEG F3-REF, EEG F4-...   \n\n      Index_Unnamed: 0_level_1  File No._Unnamed: 1_level_1  \\\n7182                    4776.0                       3697.0   \n1711                    3043.0                       2324.0   \n7491                    6093.0                       4586.0   \n978                      210.0                        132.0   \n3076                    4567.0                       3538.0   \n\n      Patient_Unnamed: 2_level_1 Session_Unnamed: 3_level_1  \\\n7182                         NaN                        NaN   \n1711                         NaN                        NaN   \n7491                         NaN                        NaN   \n978                          NaN                        NaN   \n3076                         NaN                        NaN   \n\n     File_Unnamed: 4_level_1 EEG Type_Unnamed: 5_level_1  \\\n7182                    t002                         NaN   \n1711                     NaN                         NaN   \n7491                    t005                         NaN   \n978                      NaN                         NaN   \n3076                     NaN                         NaN   \n\n     EEG SubType_Unnamed: 6_level_1  ... Summary_Cum..3 Summary_Seizure Type  \\\n7182                            NaN  ...            NaN                  NaN   \n1711                            NaN  ...            NaN                  NaN   \n7491                            NaN  ...            NaN                  NaN   \n978                             NaN  ...            NaN                  NaN   \n3076                            NaN  ...            NaN                  NaN   \n\n      Summary_Events  Summary_Freq..2 Summary_Cum..4  Summary_Cum..5  \\\n7182             NaN              NaN            NaN             NaN   \n1711             NaN              NaN            NaN             NaN   \n7491             NaN              NaN            NaN             NaN   \n978              NaN              NaN            NaN             NaN   \n3076             NaN              NaN            NaN             NaN   \n\n                                               Filename FP1_index  \\\n7182  ./train/03_tcp_ar_a/080/00008053/s003_2011_03_...         0   \n1711  ./train/01_tcp_ar/113/00011333/s012_2014_03_05...         0   \n7491  ./train/03_tcp_ar_a/023/00002380/s003_2006_01_...         0   \n978   ./dev/01_tcp_ar/065/00006546/s024_2012_02_25/0...         0   \n3076  ./train/01_tcp_ar/104/00010418/s012_2014_05_30...         0   \n\n      Seizure_Start Seizure_Stop  \n7182          [[0]]        [[0]]  \n1711      [[83856]]    [[85661]]  \n7491          [[0]]        [[0]]  \n978       [[75353]]    [[82009]]  \n3076      [[77013]]    [[79674]]  \n\n[5 rows x 38 columns]",
      "text/html": "<div>\n<style scoped>\n    .dataframe tbody tr th:only-of-type {\n        vertical-align: middle;\n    }\n\n    .dataframe tbody tr th {\n        vertical-align: top;\n    }\n\n    .dataframe thead th {\n        text-align: right;\n    }\n</style>\n<table border=\"1\" class=\"dataframe\">\n  <thead>\n    <tr style=\"text-align: right;\">\n      <th></th>\n      <th>filename</th>\n      <th>fs</th>\n      <th>ch</th>\n      <th>Index_Unnamed: 0_level_1</th>\n      <th>File No._Unnamed: 1_level_1</th>\n      <th>Patient_Unnamed: 2_level_1</th>\n      <th>Session_Unnamed: 3_level_1</th>\n      <th>File_Unnamed: 4_level_1</th>\n      <th>EEG Type_Unnamed: 5_level_1</th>\n      <th>EEG SubType_Unnamed: 6_level_1</th>\n      <th>...</th>\n      <th>Summary_Cum..3</th>\n      <th>Summary_Seizure Type</th>\n      <th>Summary_Events</th>\n      <th>Summary_Freq..2</th>\n      <th>Summary_Cum..4</th>\n      <th>Summary_Cum..5</th>\n      <th>Filename</th>\n      <th>FP1_index</th>\n      <th>Seizure_Start</th>\n      <th>Seizure_Stop</th>\n    </tr>\n  </thead>\n  <tbody>\n    <tr>\n      <th>7182</th>\n      <td>./train/03_tcp_ar_a/080/00008053/s003_2011_03_...</td>\n      <td>[256, 256, 256, 256, 256, 256, 256, 256, 256, ...</td>\n      <td>[EEG FP1-REF, EEG FP2-REF, EEG F3-REF, EEG F4-...</td>\n      <td>4776.0</td>\n      <td>3697.0</td>\n      <td>NaN</td>\n      <td>NaN</td>\n      <td>t002</td>\n      <td>NaN</td>\n      <td>NaN</td>\n      <td>...</td>\n      <td>NaN</td>\n      <td>NaN</td>\n      <td>NaN</td>\n      <td>NaN</td>\n      <td>NaN</td>\n      <td>NaN</td>\n      <td>./train/03_tcp_ar_a/080/00008053/s003_2011_03_...</td>\n      <td>0</td>\n      <td>[[0]]</td>\n      <td>[[0]]</td>\n    </tr>\n    <tr>\n      <th>1711</th>\n      <td>./train/01_tcp_ar/113/00011333/s012_2014_03_05...</td>\n      <td>[256, 256, 256, 256, 256, 256, 256, 256, 256, ...</td>\n      <td>[EEG FP1-REF, EEG FP2-REF, EEG F3-REF, EEG F4-...</td>\n      <td>3043.0</td>\n      <td>2324.0</td>\n      <td>NaN</td>\n      <td>NaN</td>\n      <td>NaN</td>\n      <td>NaN</td>\n      <td>NaN</td>\n      <td>...</td>\n      <td>NaN</td>\n      <td>NaN</td>\n      <td>NaN</td>\n      <td>NaN</td>\n      <td>NaN</td>\n      <td>NaN</td>\n      <td>./train/01_tcp_ar/113/00011333/s012_2014_03_05...</td>\n      <td>0</td>\n      <td>[[83856]]</td>\n      <td>[[85661]]</td>\n    </tr>\n    <tr>\n      <th>7491</th>\n      <td>./train/03_tcp_ar_a/023/00002380/s003_2006_01_...</td>\n      <td>[400, 400, 400, 400, 400, 400, 400, 400, 400, ...</td>\n      <td>[EEG FP1-REF, EEG FP2-REF, EEG F3-REF, EEG F4-...</td>\n      <td>6093.0</td>\n      <td>4586.0</td>\n      <td>NaN</td>\n      <td>NaN</td>\n      <td>t005</td>\n      <td>NaN</td>\n      <td>NaN</td>\n      <td>...</td>\n      <td>NaN</td>\n      <td>NaN</td>\n      <td>NaN</td>\n      <td>NaN</td>\n      <td>NaN</td>\n      <td>NaN</td>\n      <td>./train/03_tcp_ar_a/023/00002380/s003_2006_01_...</td>\n      <td>0</td>\n      <td>[[0]]</td>\n      <td>[[0]]</td>\n    </tr>\n    <tr>\n      <th>978</th>\n      <td>./dev/01_tcp_ar/065/00006546/s024_2012_02_25/0...</td>\n      <td>[256, 256, 256, 256, 256, 256, 256, 256, 256, ...</td>\n      <td>[EEG FP1-REF, EEG FP2-REF, EEG F3-REF, EEG F4-...</td>\n      <td>210.0</td>\n      <td>132.0</td>\n      <td>NaN</td>\n      <td>NaN</td>\n      <td>NaN</td>\n      <td>NaN</td>\n      <td>NaN</td>\n      <td>...</td>\n      <td>NaN</td>\n      <td>NaN</td>\n      <td>NaN</td>\n      <td>NaN</td>\n      <td>NaN</td>\n      <td>NaN</td>\n      <td>./dev/01_tcp_ar/065/00006546/s024_2012_02_25/0...</td>\n      <td>0</td>\n      <td>[[75353]]</td>\n      <td>[[82009]]</td>\n    </tr>\n    <tr>\n      <th>3076</th>\n      <td>./train/01_tcp_ar/104/00010418/s012_2014_05_30...</td>\n      <td>[250, 250, 250, 250, 250, 250, 250, 250, 250, ...</td>\n      <td>[EEG FP1-REF, EEG FP2-REF, EEG F3-REF, EEG F4-...</td>\n      <td>4567.0</td>\n      <td>3538.0</td>\n      <td>NaN</td>\n      <td>NaN</td>\n      <td>NaN</td>\n      <td>NaN</td>\n      <td>NaN</td>\n      <td>...</td>\n      <td>NaN</td>\n      <td>NaN</td>\n      <td>NaN</td>\n      <td>NaN</td>\n      <td>NaN</td>\n      <td>NaN</td>\n      <td>./train/01_tcp_ar/104/00010418/s012_2014_05_30...</td>\n      <td>0</td>\n      <td>[[77013]]</td>\n      <td>[[79674]]</td>\n    </tr>\n  </tbody>\n</table>\n<p>5 rows × 38 columns</p>\n</div>"
     },
     "execution_count": 13,
     "metadata": {},
     "output_type": "execute_result"
    }
   ],
   "source": [
    "fs_df = fs_df_merged\n",
    "fs_df['Seizure_Start'] = fs_df['Seizure Time_Start'].fillna(0)\n",
    "fs_df['Seizure_Start'] = fs_df['Seizure_Start'] * (fs_df['fs'].map(lambda x: x[0]))\n",
    "fs_df['Seizure_Start'] = fs_df['Seizure_Start'].apply(lambda x: [[int(x)]])\n",
    "fs_df['Seizure_Stop'] = fs_df['Seizure Time_Stop'].fillna(0)\n",
    "fs_df['Seizure_Stop'] = fs_df['Seizure_Stop'] * (fs_df['fs'].map(lambda x: x[0]))\n",
    "fs_df['Seizure_Stop'] = fs_df['Seizure_Stop'].apply(lambda x: [[int(x)]])\n",
    "fs_df.sample(5)"
   ],
   "metadata": {
    "collapsed": false,
    "pycharm": {
     "name": "#%%\n"
    }
   }
  },
  {
   "cell_type": "code",
   "execution_count": 14,
   "outputs": [
    {
     "data": {
      "text/plain": "                                               Filename  fs_FP1 Seizure_Start  \\\n3283  ./train/01_tcp_ar/105/00010591/s002_2013_08_08...     256     [[40492]]   \n2403  ./train/01_tcp_ar/091/00009104/s010_2014_09_26...     256     [[78310]]   \n1819  ./train/01_tcp_ar/080/00008092/s006_2013_06_01...     256         [[0]]   \n1221  ./train/01_tcp_ar/025/00002521/s002_2006_03_01...     400       [[400]]   \n3921  ./train/01_tcp_ar/127/00012742/s008_2015_04_08...     256         [[0]]   \n\n     Seizure_Stop  \n3283    [[44199]]  \n2403   [[106382]]  \n1819        [[0]]  \n1221    [[80000]]  \n3921        [[0]]  ",
      "text/html": "<div>\n<style scoped>\n    .dataframe tbody tr th:only-of-type {\n        vertical-align: middle;\n    }\n\n    .dataframe tbody tr th {\n        vertical-align: top;\n    }\n\n    .dataframe thead th {\n        text-align: right;\n    }\n</style>\n<table border=\"1\" class=\"dataframe\">\n  <thead>\n    <tr style=\"text-align: right;\">\n      <th></th>\n      <th>Filename</th>\n      <th>fs_FP1</th>\n      <th>Seizure_Start</th>\n      <th>Seizure_Stop</th>\n    </tr>\n  </thead>\n  <tbody>\n    <tr>\n      <th>3283</th>\n      <td>./train/01_tcp_ar/105/00010591/s002_2013_08_08...</td>\n      <td>256</td>\n      <td>[[40492]]</td>\n      <td>[[44199]]</td>\n    </tr>\n    <tr>\n      <th>2403</th>\n      <td>./train/01_tcp_ar/091/00009104/s010_2014_09_26...</td>\n      <td>256</td>\n      <td>[[78310]]</td>\n      <td>[[106382]]</td>\n    </tr>\n    <tr>\n      <th>1819</th>\n      <td>./train/01_tcp_ar/080/00008092/s006_2013_06_01...</td>\n      <td>256</td>\n      <td>[[0]]</td>\n      <td>[[0]]</td>\n    </tr>\n    <tr>\n      <th>1221</th>\n      <td>./train/01_tcp_ar/025/00002521/s002_2006_03_01...</td>\n      <td>400</td>\n      <td>[[400]]</td>\n      <td>[[80000]]</td>\n    </tr>\n    <tr>\n      <th>3921</th>\n      <td>./train/01_tcp_ar/127/00012742/s008_2015_04_08...</td>\n      <td>256</td>\n      <td>[[0]]</td>\n      <td>[[0]]</td>\n    </tr>\n  </tbody>\n</table>\n</div>"
     },
     "execution_count": 14,
     "metadata": {},
     "output_type": "execute_result"
    }
   ],
   "source": [
    "fs_df['fs_FP1'] = fs_df['fs'].map(lambda x: x[0])\n",
    "df_tusz = fs_df.groupby(['Filename', 'fs_FP1'])['Seizure_Start'].agg(sum).reset_index()\n",
    "df_tusz = df_tusz.merge(fs_df.groupby('Filename')['Seizure_Stop'].agg(sum).reset_index(), on='Filename')\n",
    "df_tusz.sample(5)\n"
   ],
   "metadata": {
    "collapsed": false,
    "pycharm": {
     "name": "#%%\n"
    }
   }
  },
  {
   "cell_type": "code",
   "execution_count": 15,
   "outputs": [],
   "source": [
    "df = df.fillna(method=\"ffill\")"
   ],
   "metadata": {
    "collapsed": false,
    "pycharm": {
     "name": "#%%\n"
    }
   }
  },
  {
   "cell_type": "code",
   "execution_count": 16,
   "outputs": [
    {
     "data": {
      "text/plain": "Filename         5612\nfs_FP1           5612\nSeizure_Start    5612\nSeizure_Stop     5612\npatient          5612\ndtype: int64"
     },
     "execution_count": 16,
     "metadata": {},
     "output_type": "execute_result"
    }
   ],
   "source": [
    "df['patient'] = df['Patient_Unnamed: 2_level_1']\n",
    "df_pat_filename = df[['patient', 'Filename']].drop_duplicates()\n",
    "# df = df.dropna(subset=['patient'])\n",
    "# # df.head()\n",
    "df_tusz = pd.merge(df_tusz, df_pat_filename, how='left', on='Filename')\n",
    "df_tusz.count()"
   ],
   "metadata": {
    "collapsed": false,
    "pycharm": {
     "name": "#%%\n"
    }
   }
  },
  {
   "cell_type": "code",
   "execution_count": 17,
   "outputs": [
    {
     "data": {
      "text/plain": "                                               Filename  fs_FP1 Seizure_Start  \\\n2529  ./train/01_tcp_ar/092/00009245/s004_2013_08_05...     256         [[0]]   \n899   ./dev/02_tcp_le/006/00000629/s001_2003_07_22/0...     250         [[0]]   \n3317  ./train/01_tcp_ar/106/00010659/s002_2014_01_27...     256         [[0]]   \n2423  ./train/01_tcp_ar/091/00009152/s002_2012_05_13...     250         [[0]]   \n817   ./dev/01_tcp_ar/100/00010022/s003_2013_02_11/0...     256         [[0]]   \n1884  ./train/01_tcp_ar/081/00008156/s013_2015_08_30...     256         [[0]]   \n4647  ./train/02_tcp_le/065/00006514/s022_2010_05_26...     250         [[0]]   \n1211  ./train/01_tcp_ar/023/00002348/s013_2015_07_26...     256         [[0]]   \n129   ./dev/01_tcp_ar/065/00006546/s023_2012_02_24/0...     256         [[0]]   \n1250  ./train/01_tcp_ar/034/00003437/s007_2014_10_21...     256         [[0]]   \n\n     Seizure_Stop  patient  \n2529        [[0]]   9245.0  \n899         [[0]]    629.0  \n3317        [[0]]  10659.0  \n2423        [[0]]   9152.0  \n817         [[0]]  10022.0  \n1884        [[0]]   8156.0  \n4647        [[0]]   6514.0  \n1211        [[0]]   2348.0  \n129         [[0]]   6546.0  \n1250        [[0]]   3437.0  ",
      "text/html": "<div>\n<style scoped>\n    .dataframe tbody tr th:only-of-type {\n        vertical-align: middle;\n    }\n\n    .dataframe tbody tr th {\n        vertical-align: top;\n    }\n\n    .dataframe thead th {\n        text-align: right;\n    }\n</style>\n<table border=\"1\" class=\"dataframe\">\n  <thead>\n    <tr style=\"text-align: right;\">\n      <th></th>\n      <th>Filename</th>\n      <th>fs_FP1</th>\n      <th>Seizure_Start</th>\n      <th>Seizure_Stop</th>\n      <th>patient</th>\n    </tr>\n  </thead>\n  <tbody>\n    <tr>\n      <th>2529</th>\n      <td>./train/01_tcp_ar/092/00009245/s004_2013_08_05...</td>\n      <td>256</td>\n      <td>[[0]]</td>\n      <td>[[0]]</td>\n      <td>9245.0</td>\n    </tr>\n    <tr>\n      <th>899</th>\n      <td>./dev/02_tcp_le/006/00000629/s001_2003_07_22/0...</td>\n      <td>250</td>\n      <td>[[0]]</td>\n      <td>[[0]]</td>\n      <td>629.0</td>\n    </tr>\n    <tr>\n      <th>3317</th>\n      <td>./train/01_tcp_ar/106/00010659/s002_2014_01_27...</td>\n      <td>256</td>\n      <td>[[0]]</td>\n      <td>[[0]]</td>\n      <td>10659.0</td>\n    </tr>\n    <tr>\n      <th>2423</th>\n      <td>./train/01_tcp_ar/091/00009152/s002_2012_05_13...</td>\n      <td>250</td>\n      <td>[[0]]</td>\n      <td>[[0]]</td>\n      <td>9152.0</td>\n    </tr>\n    <tr>\n      <th>817</th>\n      <td>./dev/01_tcp_ar/100/00010022/s003_2013_02_11/0...</td>\n      <td>256</td>\n      <td>[[0]]</td>\n      <td>[[0]]</td>\n      <td>10022.0</td>\n    </tr>\n    <tr>\n      <th>1884</th>\n      <td>./train/01_tcp_ar/081/00008156/s013_2015_08_30...</td>\n      <td>256</td>\n      <td>[[0]]</td>\n      <td>[[0]]</td>\n      <td>8156.0</td>\n    </tr>\n    <tr>\n      <th>4647</th>\n      <td>./train/02_tcp_le/065/00006514/s022_2010_05_26...</td>\n      <td>250</td>\n      <td>[[0]]</td>\n      <td>[[0]]</td>\n      <td>6514.0</td>\n    </tr>\n    <tr>\n      <th>1211</th>\n      <td>./train/01_tcp_ar/023/00002348/s013_2015_07_26...</td>\n      <td>256</td>\n      <td>[[0]]</td>\n      <td>[[0]]</td>\n      <td>2348.0</td>\n    </tr>\n    <tr>\n      <th>129</th>\n      <td>./dev/01_tcp_ar/065/00006546/s023_2012_02_24/0...</td>\n      <td>256</td>\n      <td>[[0]]</td>\n      <td>[[0]]</td>\n      <td>6546.0</td>\n    </tr>\n    <tr>\n      <th>1250</th>\n      <td>./train/01_tcp_ar/034/00003437/s007_2014_10_21...</td>\n      <td>256</td>\n      <td>[[0]]</td>\n      <td>[[0]]</td>\n      <td>3437.0</td>\n    </tr>\n  </tbody>\n</table>\n</div>"
     },
     "execution_count": 17,
     "metadata": {},
     "output_type": "execute_result"
    }
   ],
   "source": [
    "df_tusz.sample(10)"
   ],
   "metadata": {
    "collapsed": false,
    "pycharm": {
     "name": "#%%\n"
    }
   }
  },
  {
   "cell_type": "code",
   "execution_count": 18,
   "outputs": [
    {
     "data": {
      "text/plain": "                                            Filename  fs_FP1 Seizure_Start  \\\n0  ./dev/01_tcp_ar/002/00000258/s002_2003_07_21/0...     400         [[0]]   \n1  ./dev/01_tcp_ar/002/00000258/s002_2003_07_21/0...     400         [[0]]   \n2  ./dev/01_tcp_ar/002/00000258/s003_2003_07_22/0...     400         [[0]]   \n3  ./dev/01_tcp_ar/002/00000258/s003_2003_07_22/0...     400         [[0]]   \n4  ./dev/01_tcp_ar/002/00000258/s003_2003_07_22/0...     400      [[3531]]   \n\n  Seizure_Stop  patient      shortname  \n0        [[0]]    258.0  258_s002_t000  \n1        [[0]]    258.0  258_s002_t002  \n2        [[0]]    258.0  258_s003_t000  \n3        [[0]]    258.0  258_s003_t001  \n4    [[69351]]    258.0  258_s003_t002  ",
      "text/html": "<div>\n<style scoped>\n    .dataframe tbody tr th:only-of-type {\n        vertical-align: middle;\n    }\n\n    .dataframe tbody tr th {\n        vertical-align: top;\n    }\n\n    .dataframe thead th {\n        text-align: right;\n    }\n</style>\n<table border=\"1\" class=\"dataframe\">\n  <thead>\n    <tr style=\"text-align: right;\">\n      <th></th>\n      <th>Filename</th>\n      <th>fs_FP1</th>\n      <th>Seizure_Start</th>\n      <th>Seizure_Stop</th>\n      <th>patient</th>\n      <th>shortname</th>\n    </tr>\n  </thead>\n  <tbody>\n    <tr>\n      <th>0</th>\n      <td>./dev/01_tcp_ar/002/00000258/s002_2003_07_21/0...</td>\n      <td>400</td>\n      <td>[[0]]</td>\n      <td>[[0]]</td>\n      <td>258.0</td>\n      <td>258_s002_t000</td>\n    </tr>\n    <tr>\n      <th>1</th>\n      <td>./dev/01_tcp_ar/002/00000258/s002_2003_07_21/0...</td>\n      <td>400</td>\n      <td>[[0]]</td>\n      <td>[[0]]</td>\n      <td>258.0</td>\n      <td>258_s002_t002</td>\n    </tr>\n    <tr>\n      <th>2</th>\n      <td>./dev/01_tcp_ar/002/00000258/s003_2003_07_22/0...</td>\n      <td>400</td>\n      <td>[[0]]</td>\n      <td>[[0]]</td>\n      <td>258.0</td>\n      <td>258_s003_t000</td>\n    </tr>\n    <tr>\n      <th>3</th>\n      <td>./dev/01_tcp_ar/002/00000258/s003_2003_07_22/0...</td>\n      <td>400</td>\n      <td>[[0]]</td>\n      <td>[[0]]</td>\n      <td>258.0</td>\n      <td>258_s003_t001</td>\n    </tr>\n    <tr>\n      <th>4</th>\n      <td>./dev/01_tcp_ar/002/00000258/s003_2003_07_22/0...</td>\n      <td>400</td>\n      <td>[[3531]]</td>\n      <td>[[69351]]</td>\n      <td>258.0</td>\n      <td>258_s003_t002</td>\n    </tr>\n  </tbody>\n</table>\n</div>"
     },
     "execution_count": 18,
     "metadata": {},
     "output_type": "execute_result"
    }
   ],
   "source": [
    "# df_tusz.rename(columns={'(patient, )': 'patient'})\n",
    "def get_shortname(x):\n",
    "    short_filename = (x.split('/')[-1]).split('.tse')[0]\n",
    "    pat_num = int(short_filename.split('_')[0])\n",
    "    session = short_filename.split('_')[1]\n",
    "    t = short_filename.split('_')[2]\n",
    "    return \"{}_{}_{}\".format(pat_num, session, t)\n",
    "df_tusz['shortname'] = df_tusz['Filename'].apply(get_shortname)\n",
    "df_tusz.head()"
   ],
   "metadata": {
    "collapsed": false,
    "pycharm": {
     "name": "#%%\n"
    }
   }
  },
  {
   "cell_type": "code",
   "execution_count": 19,
   "outputs": [
    {
     "data": {
      "text/plain": "             Filename      start        end if_seizure  n/a\n2209  11870_s007_t007     0.0000   300.0000       bckg  1.0\n7174   4569_s005_t002   169.9975   301.6975       seiz  1.0\n1605   9842_s002_t001     0.0000   393.0616       bckg  1.0\n1702   6546_s033_t005   895.0000   896.0000       bckg  1.0\n1827  10062_s003_t000     0.0000   161.0323       bckg  1.0\n4037   9630_s001_t002  1469.2265  1565.1934       seiz  1.0\n2834   9104_s007_t013     0.0000   300.0000       bckg  1.0\n9311   5426_s009_t002   753.9900   809.0000       bckg  1.0\n1768   6546_s034_t004    65.0446   176.1773       bckg  1.0\n6708  10418_s012_t001   275.6906   284.9061       bckg  1.0",
      "text/html": "<div>\n<style scoped>\n    .dataframe tbody tr th:only-of-type {\n        vertical-align: middle;\n    }\n\n    .dataframe tbody tr th {\n        vertical-align: top;\n    }\n\n    .dataframe thead th {\n        text-align: right;\n    }\n</style>\n<table border=\"1\" class=\"dataframe\">\n  <thead>\n    <tr style=\"text-align: right;\">\n      <th></th>\n      <th>Filename</th>\n      <th>start</th>\n      <th>end</th>\n      <th>if_seizure</th>\n      <th>n/a</th>\n    </tr>\n  </thead>\n  <tbody>\n    <tr>\n      <th>2209</th>\n      <td>11870_s007_t007</td>\n      <td>0.0000</td>\n      <td>300.0000</td>\n      <td>bckg</td>\n      <td>1.0</td>\n    </tr>\n    <tr>\n      <th>7174</th>\n      <td>4569_s005_t002</td>\n      <td>169.9975</td>\n      <td>301.6975</td>\n      <td>seiz</td>\n      <td>1.0</td>\n    </tr>\n    <tr>\n      <th>1605</th>\n      <td>9842_s002_t001</td>\n      <td>0.0000</td>\n      <td>393.0616</td>\n      <td>bckg</td>\n      <td>1.0</td>\n    </tr>\n    <tr>\n      <th>1702</th>\n      <td>6546_s033_t005</td>\n      <td>895.0000</td>\n      <td>896.0000</td>\n      <td>bckg</td>\n      <td>1.0</td>\n    </tr>\n    <tr>\n      <th>1827</th>\n      <td>10062_s003_t000</td>\n      <td>0.0000</td>\n      <td>161.0323</td>\n      <td>bckg</td>\n      <td>1.0</td>\n    </tr>\n    <tr>\n      <th>4037</th>\n      <td>9630_s001_t002</td>\n      <td>1469.2265</td>\n      <td>1565.1934</td>\n      <td>seiz</td>\n      <td>1.0</td>\n    </tr>\n    <tr>\n      <th>2834</th>\n      <td>9104_s007_t013</td>\n      <td>0.0000</td>\n      <td>300.0000</td>\n      <td>bckg</td>\n      <td>1.0</td>\n    </tr>\n    <tr>\n      <th>9311</th>\n      <td>5426_s009_t002</td>\n      <td>753.9900</td>\n      <td>809.0000</td>\n      <td>bckg</td>\n      <td>1.0</td>\n    </tr>\n    <tr>\n      <th>1768</th>\n      <td>6546_s034_t004</td>\n      <td>65.0446</td>\n      <td>176.1773</td>\n      <td>bckg</td>\n      <td>1.0</td>\n    </tr>\n    <tr>\n      <th>6708</th>\n      <td>10418_s012_t001</td>\n      <td>275.6906</td>\n      <td>284.9061</td>\n      <td>bckg</td>\n      <td>1.0</td>\n    </tr>\n  </tbody>\n</table>\n</div>"
     },
     "execution_count": 19,
     "metadata": {},
     "output_type": "execute_result"
    }
   ],
   "source": [
    "ref_df = pd.read_csv('./input/TUSZ/_DOCS/ref_train.txt',sep=' ', header=None,  names=['Filename', 'start', 'end', 'if_seizure', 'n/a'])\n",
    "dev_df = pd.read_csv('./input/TUSZ/_DOCS/ref_dev.txt',sep=' ', header=None,  names=['Filename', 'start', 'end', 'if_seizure', 'n/a'])\n",
    "ref_df = pd.concat([ref_df, dev_df])\n",
    "ref_df['Filename'] = ref_df['Filename'].apply(lambda x: x.lstrip(\"0\"))\n",
    "ref_df.sample(10)"
   ],
   "metadata": {
    "collapsed": false,
    "pycharm": {
     "name": "#%%\n"
    }
   }
  },
  {
   "cell_type": "code",
   "execution_count": 20,
   "outputs": [
    {
     "data": {
      "text/plain": "Filename      5612\nstart         5850\nend           6983\nif_seizure       2\nn/a              1\ndtype: int64"
     },
     "execution_count": 20,
     "metadata": {},
     "output_type": "execute_result"
    }
   ],
   "source": [
    "ref_df.nunique()"
   ],
   "metadata": {
    "collapsed": false,
    "pycharm": {
     "name": "#%%\n"
    }
   }
  },
  {
   "cell_type": "code",
   "execution_count": 21,
   "outputs": [
    {
     "data": {
      "text/plain": "Filename\n10418_s012_t001    105\n11333_s012_t007     95\n10020_s001_t001     87\n10489_s002_t001     83\n8616_s001_t000      83\n                  ... \n7446_s003_t007       1\n7446_s003_t008       1\n7446_s003_t009       1\n7446_s007_t000       1\n5427_s012_t003       1\nName: start, Length: 5612, dtype: int64"
     },
     "execution_count": 21,
     "metadata": {},
     "output_type": "execute_result"
    }
   ],
   "source": [
    "ref_df.groupby('Filename')['start'].count().sort_values(ascending=False)"
   ],
   "metadata": {
    "collapsed": false,
    "pycharm": {
     "name": "#%%\n"
    }
   }
  },
  {
   "cell_type": "code",
   "execution_count": 22,
   "outputs": [],
   "source": [
    "length_df = ref_df.drop_duplicates(subset=['Filename'], keep='last')[['Filename', 'end']]\n",
    "length_df = length_df.rename(columns={'end': 'length'})"
   ],
   "metadata": {
    "collapsed": false,
    "pycharm": {
     "name": "#%%\n"
    }
   }
  },
  {
   "cell_type": "code",
   "execution_count": 23,
   "outputs": [
    {
     "data": {
      "text/plain": "                                               Filename  fs_FP1  \\\n669   ./dev/01_tcp_ar/096/00009697/s003_2013_05_15/0...     256   \n2990  ./train/01_tcp_ar/104/00010418/s002_2013_06_07...     256   \n227   ./dev/01_tcp_ar/084/00008453/s011_2013_08_29/0...     256   \n3760  ./train/01_tcp_ar/119/00011972/s002_2014_09_16...     256   \n5223  ./train/03_tcp_ar_a/071/00007128/s002_2010_10_...     256   \n1023  ./train/01_tcp_ar/002/00000272/s008_2003_07_03...     400   \n4930  ./train/03_tcp_ar_a/045/00004569/s006_2008_07_...     400   \n5424  ./train/03_tcp_ar_a/115/00011580/s001_2014_05_...     256   \n807   ./dev/01_tcp_ar/100/00010022/s003_2013_02_11/0...     256   \n3055  ./train/01_tcp_ar/104/00010427/s002_2013_12_14...     256   \n\n            Seizure_Start          Seizure_Stop  patient        shortname  \\\n669   [[94470], [119289]]  [[101058], [126203]]   9697.0   9697_s003_t004   \n2990                [[0]]                 [[0]]  10418.0  10418_s002_t002   \n227                 [[0]]                 [[0]]   8453.0   8453_s011_t006   \n3760            [[23601]]             [[49922]]  11972.0  11972_s002_t003   \n5223                [[0]]                 [[0]]   7128.0   7128_s002_t005   \n1023                [[0]]                 [[0]]    272.0    272_s008_t000   \n4930   [[12384], [82412]]    [[67736], [98600]]   4569.0   4569_s006_t001   \n5424           [[128264]]            [[139771]]  11580.0  11580_s001_t001   \n807                 [[0]]                 [[0]]  10022.0  10022_s003_t004   \n3055                [[0]]                 [[0]]  10427.0  10427_s002_t017   \n\n           Filename_y  length  \n669    9697_s003_t004  252672  \n2990  10418_s002_t002  153856  \n227    8453_s011_t006   66816  \n3760  11972_s002_t003   74496  \n5223   7128_s002_t005   76800  \n1023    272_s008_t000  122000  \n4930   4569_s006_t001  122000  \n5424  11580_s001_t001  228864  \n807   10022_s003_t004  153856  \n3055  10427_s002_t017  160768  ",
      "text/html": "<div>\n<style scoped>\n    .dataframe tbody tr th:only-of-type {\n        vertical-align: middle;\n    }\n\n    .dataframe tbody tr th {\n        vertical-align: top;\n    }\n\n    .dataframe thead th {\n        text-align: right;\n    }\n</style>\n<table border=\"1\" class=\"dataframe\">\n  <thead>\n    <tr style=\"text-align: right;\">\n      <th></th>\n      <th>Filename</th>\n      <th>fs_FP1</th>\n      <th>Seizure_Start</th>\n      <th>Seizure_Stop</th>\n      <th>patient</th>\n      <th>shortname</th>\n      <th>Filename_y</th>\n      <th>length</th>\n    </tr>\n  </thead>\n  <tbody>\n    <tr>\n      <th>669</th>\n      <td>./dev/01_tcp_ar/096/00009697/s003_2013_05_15/0...</td>\n      <td>256</td>\n      <td>[[94470], [119289]]</td>\n      <td>[[101058], [126203]]</td>\n      <td>9697.0</td>\n      <td>9697_s003_t004</td>\n      <td>9697_s003_t004</td>\n      <td>252672</td>\n    </tr>\n    <tr>\n      <th>2990</th>\n      <td>./train/01_tcp_ar/104/00010418/s002_2013_06_07...</td>\n      <td>256</td>\n      <td>[[0]]</td>\n      <td>[[0]]</td>\n      <td>10418.0</td>\n      <td>10418_s002_t002</td>\n      <td>10418_s002_t002</td>\n      <td>153856</td>\n    </tr>\n    <tr>\n      <th>227</th>\n      <td>./dev/01_tcp_ar/084/00008453/s011_2013_08_29/0...</td>\n      <td>256</td>\n      <td>[[0]]</td>\n      <td>[[0]]</td>\n      <td>8453.0</td>\n      <td>8453_s011_t006</td>\n      <td>8453_s011_t006</td>\n      <td>66816</td>\n    </tr>\n    <tr>\n      <th>3760</th>\n      <td>./train/01_tcp_ar/119/00011972/s002_2014_09_16...</td>\n      <td>256</td>\n      <td>[[23601]]</td>\n      <td>[[49922]]</td>\n      <td>11972.0</td>\n      <td>11972_s002_t003</td>\n      <td>11972_s002_t003</td>\n      <td>74496</td>\n    </tr>\n    <tr>\n      <th>5223</th>\n      <td>./train/03_tcp_ar_a/071/00007128/s002_2010_10_...</td>\n      <td>256</td>\n      <td>[[0]]</td>\n      <td>[[0]]</td>\n      <td>7128.0</td>\n      <td>7128_s002_t005</td>\n      <td>7128_s002_t005</td>\n      <td>76800</td>\n    </tr>\n    <tr>\n      <th>1023</th>\n      <td>./train/01_tcp_ar/002/00000272/s008_2003_07_03...</td>\n      <td>400</td>\n      <td>[[0]]</td>\n      <td>[[0]]</td>\n      <td>272.0</td>\n      <td>272_s008_t000</td>\n      <td>272_s008_t000</td>\n      <td>122000</td>\n    </tr>\n    <tr>\n      <th>4930</th>\n      <td>./train/03_tcp_ar_a/045/00004569/s006_2008_07_...</td>\n      <td>400</td>\n      <td>[[12384], [82412]]</td>\n      <td>[[67736], [98600]]</td>\n      <td>4569.0</td>\n      <td>4569_s006_t001</td>\n      <td>4569_s006_t001</td>\n      <td>122000</td>\n    </tr>\n    <tr>\n      <th>5424</th>\n      <td>./train/03_tcp_ar_a/115/00011580/s001_2014_05_...</td>\n      <td>256</td>\n      <td>[[128264]]</td>\n      <td>[[139771]]</td>\n      <td>11580.0</td>\n      <td>11580_s001_t001</td>\n      <td>11580_s001_t001</td>\n      <td>228864</td>\n    </tr>\n    <tr>\n      <th>807</th>\n      <td>./dev/01_tcp_ar/100/00010022/s003_2013_02_11/0...</td>\n      <td>256</td>\n      <td>[[0]]</td>\n      <td>[[0]]</td>\n      <td>10022.0</td>\n      <td>10022_s003_t004</td>\n      <td>10022_s003_t004</td>\n      <td>153856</td>\n    </tr>\n    <tr>\n      <th>3055</th>\n      <td>./train/01_tcp_ar/104/00010427/s002_2013_12_14...</td>\n      <td>256</td>\n      <td>[[0]]</td>\n      <td>[[0]]</td>\n      <td>10427.0</td>\n      <td>10427_s002_t017</td>\n      <td>10427_s002_t017</td>\n      <td>160768</td>\n    </tr>\n  </tbody>\n</table>\n</div>"
     },
     "execution_count": 23,
     "metadata": {},
     "output_type": "execute_result"
    }
   ],
   "source": [
    "df_tusz = pd.merge(df_tusz, length_df, left_on='shortname', right_on='Filename', how='left',suffixes=(\"\", \"_y\"))\n",
    "df_tusz['length'] = (df_tusz['length'] * df_tusz['fs_FP1']).astype('int')\n",
    "df_tusz.sample(10)"
   ],
   "metadata": {
    "collapsed": false,
    "pycharm": {
     "name": "#%%\n"
    }
   }
  },
  {
   "cell_type": "code",
   "execution_count": 24,
   "outputs": [],
   "source": [
    "df_tusz = df_tusz.rename(columns={'Seizure_Start': 'onsets', 'Seizure_Stop': 'offsets', 'Filename': 'file_name'})\n",
    "df_tusz = df_tusz.drop(columns=['shortname', 'Filename_y'])"
   ],
   "metadata": {
    "collapsed": false,
    "pycharm": {
     "name": "#%%\n"
    }
   }
  },
  {
   "cell_type": "code",
   "execution_count": 25,
   "outputs": [
    {
     "data": {
      "text/plain": "                                              file_name  fs_FP1 onsets  \\\n817   ./dev/01_tcp_ar/100/00010022/s003_2013_02_11/0...     256  [[0]]   \n5232  ./train/03_tcp_ar_a/071/00007170/s002_2010_02_...     400  [[0]]   \n4179  ./train/01_tcp_ar/134/00013407/s004_2015_10_01...     256  [[0]]   \n796   ./dev/01_tcp_ar/098/00009866/s005_2013_07_30/0...     250  [[0]]   \n2357  ./train/01_tcp_ar/091/00009104/s006_2014_09_23...     256  [[0]]   \n2785  ./train/01_tcp_ar/100/00010023/s002_2013_02_21...     256  [[0]]   \n4536  ./train/02_tcp_le/048/00004801/s001_2008_10_22...     250  [[0]]   \n2255  ./train/01_tcp_ar/087/00008738/s003_2013_06_03...     256  [[0]]   \n3743  ./train/01_tcp_ar/119/00011915/s003_2014_07_11...     256  [[0]]   \n5330  ./train/03_tcp_ar_a/080/00008029/s003_2011_05_...     400  [[0]]   \n\n     offsets  patient  length  \n817    [[0]]    10022  153856  \n5232   [[0]]     7170  122000  \n4179   [[0]]    13407   77056  \n796    [[0]]     9866  336250  \n2357   [[0]]     9104  232192  \n2785   [[0]]    10023  153856  \n4536   [[0]]     4801  302000  \n2255   [[0]]     8738   73216  \n3743   [[0]]    11915   76800  \n5330   [[0]]     8029  309600  ",
      "text/html": "<div>\n<style scoped>\n    .dataframe tbody tr th:only-of-type {\n        vertical-align: middle;\n    }\n\n    .dataframe tbody tr th {\n        vertical-align: top;\n    }\n\n    .dataframe thead th {\n        text-align: right;\n    }\n</style>\n<table border=\"1\" class=\"dataframe\">\n  <thead>\n    <tr style=\"text-align: right;\">\n      <th></th>\n      <th>file_name</th>\n      <th>fs_FP1</th>\n      <th>onsets</th>\n      <th>offsets</th>\n      <th>patient</th>\n      <th>length</th>\n    </tr>\n  </thead>\n  <tbody>\n    <tr>\n      <th>817</th>\n      <td>./dev/01_tcp_ar/100/00010022/s003_2013_02_11/0...</td>\n      <td>256</td>\n      <td>[[0]]</td>\n      <td>[[0]]</td>\n      <td>10022</td>\n      <td>153856</td>\n    </tr>\n    <tr>\n      <th>5232</th>\n      <td>./train/03_tcp_ar_a/071/00007170/s002_2010_02_...</td>\n      <td>400</td>\n      <td>[[0]]</td>\n      <td>[[0]]</td>\n      <td>7170</td>\n      <td>122000</td>\n    </tr>\n    <tr>\n      <th>4179</th>\n      <td>./train/01_tcp_ar/134/00013407/s004_2015_10_01...</td>\n      <td>256</td>\n      <td>[[0]]</td>\n      <td>[[0]]</td>\n      <td>13407</td>\n      <td>77056</td>\n    </tr>\n    <tr>\n      <th>796</th>\n      <td>./dev/01_tcp_ar/098/00009866/s005_2013_07_30/0...</td>\n      <td>250</td>\n      <td>[[0]]</td>\n      <td>[[0]]</td>\n      <td>9866</td>\n      <td>336250</td>\n    </tr>\n    <tr>\n      <th>2357</th>\n      <td>./train/01_tcp_ar/091/00009104/s006_2014_09_23...</td>\n      <td>256</td>\n      <td>[[0]]</td>\n      <td>[[0]]</td>\n      <td>9104</td>\n      <td>232192</td>\n    </tr>\n    <tr>\n      <th>2785</th>\n      <td>./train/01_tcp_ar/100/00010023/s002_2013_02_21...</td>\n      <td>256</td>\n      <td>[[0]]</td>\n      <td>[[0]]</td>\n      <td>10023</td>\n      <td>153856</td>\n    </tr>\n    <tr>\n      <th>4536</th>\n      <td>./train/02_tcp_le/048/00004801/s001_2008_10_22...</td>\n      <td>250</td>\n      <td>[[0]]</td>\n      <td>[[0]]</td>\n      <td>4801</td>\n      <td>302000</td>\n    </tr>\n    <tr>\n      <th>2255</th>\n      <td>./train/01_tcp_ar/087/00008738/s003_2013_06_03...</td>\n      <td>256</td>\n      <td>[[0]]</td>\n      <td>[[0]]</td>\n      <td>8738</td>\n      <td>73216</td>\n    </tr>\n    <tr>\n      <th>3743</th>\n      <td>./train/01_tcp_ar/119/00011915/s003_2014_07_11...</td>\n      <td>256</td>\n      <td>[[0]]</td>\n      <td>[[0]]</td>\n      <td>11915</td>\n      <td>76800</td>\n    </tr>\n    <tr>\n      <th>5330</th>\n      <td>./train/03_tcp_ar_a/080/00008029/s003_2011_05_...</td>\n      <td>400</td>\n      <td>[[0]]</td>\n      <td>[[0]]</td>\n      <td>8029</td>\n      <td>309600</td>\n    </tr>\n  </tbody>\n</table>\n</div>"
     },
     "execution_count": 25,
     "metadata": {},
     "output_type": "execute_result"
    }
   ],
   "source": [
    "df_tusz[\"patient\"] = df_tusz[\"patient\"].astype(\"int\")\n",
    "df_tusz.sample(10)"
   ],
   "metadata": {
    "collapsed": false,
    "pycharm": {
     "name": "#%%\n"
    }
   }
  },
  {
   "cell_type": "code",
   "execution_count": 26,
   "outputs": [
    {
     "data": {
      "text/plain": "                                  file_name  fs_FP1    onsets    offsets  \\\n0  dev/01_tcp_ar/002/00000258_s002_t000.edf     400     [[0]]      [[0]]   \n1  dev/01_tcp_ar/002/00000258_s002_t002.edf     400     [[0]]      [[0]]   \n2  dev/01_tcp_ar/002/00000258_s003_t000.edf     400     [[0]]      [[0]]   \n3  dev/01_tcp_ar/002/00000258_s003_t001.edf     400     [[0]]      [[0]]   \n4  dev/01_tcp_ar/002/00000258_s003_t002.edf     400  [[3531]]  [[69351]]   \n\n   patient  length  \n0      258    8000  \n1      258  108800  \n2      258   93600  \n3      258   89600  \n4      258   81200  ",
      "text/html": "<div>\n<style scoped>\n    .dataframe tbody tr th:only-of-type {\n        vertical-align: middle;\n    }\n\n    .dataframe tbody tr th {\n        vertical-align: top;\n    }\n\n    .dataframe thead th {\n        text-align: right;\n    }\n</style>\n<table border=\"1\" class=\"dataframe\">\n  <thead>\n    <tr style=\"text-align: right;\">\n      <th></th>\n      <th>file_name</th>\n      <th>fs_FP1</th>\n      <th>onsets</th>\n      <th>offsets</th>\n      <th>patient</th>\n      <th>length</th>\n    </tr>\n  </thead>\n  <tbody>\n    <tr>\n      <th>0</th>\n      <td>dev/01_tcp_ar/002/00000258_s002_t000.edf</td>\n      <td>400</td>\n      <td>[[0]]</td>\n      <td>[[0]]</td>\n      <td>258</td>\n      <td>8000</td>\n    </tr>\n    <tr>\n      <th>1</th>\n      <td>dev/01_tcp_ar/002/00000258_s002_t002.edf</td>\n      <td>400</td>\n      <td>[[0]]</td>\n      <td>[[0]]</td>\n      <td>258</td>\n      <td>108800</td>\n    </tr>\n    <tr>\n      <th>2</th>\n      <td>dev/01_tcp_ar/002/00000258_s003_t000.edf</td>\n      <td>400</td>\n      <td>[[0]]</td>\n      <td>[[0]]</td>\n      <td>258</td>\n      <td>93600</td>\n    </tr>\n    <tr>\n      <th>3</th>\n      <td>dev/01_tcp_ar/002/00000258_s003_t001.edf</td>\n      <td>400</td>\n      <td>[[0]]</td>\n      <td>[[0]]</td>\n      <td>258</td>\n      <td>89600</td>\n    </tr>\n    <tr>\n      <th>4</th>\n      <td>dev/01_tcp_ar/002/00000258_s003_t002.edf</td>\n      <td>400</td>\n      <td>[[3531]]</td>\n      <td>[[69351]]</td>\n      <td>258</td>\n      <td>81200</td>\n    </tr>\n  </tbody>\n</table>\n</div>"
     },
     "execution_count": 26,
     "metadata": {},
     "output_type": "execute_result"
    }
   ],
   "source": [
    "def get_file_name_compatible(x):\n",
    "    split = x.split('/')\n",
    "    _,mode,tcp, directory, _, _, filename = split\n",
    "    filename = filename.split('.tse')[0]\n",
    "    return \"{}/{}/{}/{}.edf\".format(mode, tcp, directory, filename)\n",
    "\n",
    "df_tusz[\"file_name\"] = df_tusz[\"file_name\"].apply(get_file_name_compatible)\n",
    "df_tusz.head()\n"
   ],
   "metadata": {
    "collapsed": false,
    "pycharm": {
     "name": "#%%\n"
    }
   }
  },
  {
   "cell_type": "code",
   "execution_count": 27,
   "outputs": [
    {
     "data": {
      "text/plain": "<matplotlib.axes._subplots.AxesSubplot at 0x7ff5eb342460>"
     },
     "execution_count": 27,
     "metadata": {},
     "output_type": "execute_result"
    },
    {
     "data": {
      "text/plain": "<Figure size 432x288 with 1 Axes>",
      "image/png": "[encoded data removed]"
     },
     "metadata": {},
     "output_type": "display_data"
    }
   ],
   "source": [
    "(df_tusz['length']/ df_tusz['fs_FP1']).hist(bins = 50)\n"
   ],
   "metadata": {
    "collapsed": false,
    "pycharm": {
     "name": "#%%\n"
    }
   }
  },
  {
   "cell_type": "code",
   "execution_count": 28,
   "outputs": [
    {
     "data": {
      "text/plain": "673"
     },
     "execution_count": 28,
     "metadata": {},
     "output_type": "execute_result"
    }
   ],
   "source": [
    "testset = (df_tusz[df_tusz['file_name'].apply(lambda x: x.startswith('dev'))])\n",
    "cond = testset['onsets'].apply(lambda x: x[0][0] if x[0][0] != 0 else pd.NA) <= testset['fs_FP1']\n",
    "len(testset['onsets'].apply(lambda x: x if x[0][0] != 0 else []).sum())\n",
    "\n",
    "# df_tusz[df_tusz['file_name'].apply(lambda x: x.startswith('dev'))]"
   ],
   "metadata": {
    "collapsed": false,
    "pycharm": {
     "name": "#%%\n"
    }
   }
  },
  {
   "cell_type": "code",
   "execution_count": 29,
   "outputs": [],
   "source": [
    "df_tusz.to_csv('./output/TUSZ_labels.csv')"
   ],
   "metadata": {
    "collapsed": false,
    "pycharm": {
     "name": "#%%\n"
    }
   }
  },
  {
   "cell_type": "markdown",
   "source": [
    "## eeg-gnn-ssl labels"
   ],
   "metadata": {
    "collapsed": false,
    "pycharm": {
     "name": "#%% md\n"
    }
   }
  },
  {
   "cell_type": "code",
   "execution_count": 30,
   "outputs": [
    {
     "data": {
      "text/plain": "                               File label      mode\n20013  00009734_s001_t000.edf_15.h5     0  trainSet\n2266    00007094_s003_t008.edf_0.h5     0  trainSet\n24717  00000906_s018_t000.edf_23.h5     0  trainSet\n1142    00010591_s002_t001.edf_4.h5     1  trainSet\n20387   00009232_s001_t002.edf_9.h5     0  trainSet\n16800   00012418_s004_t005.edf_5.h5     0  trainSet\n6978    00009578_s026_t004.edf_0.h5     0   testSet\n2710    00008303_s002_t005.edf_0.h5     0    devSet\n2942    00001864_s001_t001.edf_8.h5     0  trainSet\n366     00005371_s001_t000.edf_5.h5     1    devSet",
      "text/html": "<div>\n<style scoped>\n    .dataframe tbody tr th:only-of-type {\n        vertical-align: middle;\n    }\n\n    .dataframe tbody tr th {\n        vertical-align: top;\n    }\n\n    .dataframe thead th {\n        text-align: right;\n    }\n</style>\n<table border=\"1\" class=\"dataframe\">\n  <thead>\n    <tr style=\"text-align: right;\">\n      <th></th>\n      <th>File</th>\n      <th>label</th>\n      <th>mode</th>\n    </tr>\n  </thead>\n  <tbody>\n    <tr>\n      <th>20013</th>\n      <td>00009734_s001_t000.edf_15.h5</td>\n      <td>0</td>\n      <td>trainSet</td>\n    </tr>\n    <tr>\n      <th>2266</th>\n      <td>00007094_s003_t008.edf_0.h5</td>\n      <td>0</td>\n      <td>trainSet</td>\n    </tr>\n    <tr>\n      <th>24717</th>\n      <td>00000906_s018_t000.edf_23.h5</td>\n      <td>0</td>\n      <td>trainSet</td>\n    </tr>\n    <tr>\n      <th>1142</th>\n      <td>00010591_s002_t001.edf_4.h5</td>\n      <td>1</td>\n      <td>trainSet</td>\n    </tr>\n    <tr>\n      <th>20387</th>\n      <td>00009232_s001_t002.edf_9.h5</td>\n      <td>0</td>\n      <td>trainSet</td>\n    </tr>\n    <tr>\n      <th>16800</th>\n      <td>00012418_s004_t005.edf_5.h5</td>\n      <td>0</td>\n      <td>trainSet</td>\n    </tr>\n    <tr>\n      <th>6978</th>\n      <td>00009578_s026_t004.edf_0.h5</td>\n      <td>0</td>\n      <td>testSet</td>\n    </tr>\n    <tr>\n      <th>2710</th>\n      <td>00008303_s002_t005.edf_0.h5</td>\n      <td>0</td>\n      <td>devSet</td>\n    </tr>\n    <tr>\n      <th>2942</th>\n      <td>00001864_s001_t001.edf_8.h5</td>\n      <td>0</td>\n      <td>trainSet</td>\n    </tr>\n    <tr>\n      <th>366</th>\n      <td>00005371_s001_t000.edf_5.h5</td>\n      <td>1</td>\n      <td>devSet</td>\n    </tr>\n  </tbody>\n</table>\n</div>"
     },
     "execution_count": 30,
     "metadata": {},
     "output_type": "execute_result"
    }
   ],
   "source": [
    "df_gnn = pd.DataFrame(columns=[\"File\", \"label\", \"mode\"])\n",
    "for mode in [\"trainSet\", \"testSet\", \"devSet\"]:\n",
    "    for sz_nosz in [\"sz\", \"nosz\"]:\n",
    "        df_gnn_mode = pd.read_csv('./input/TUSZ/file_markers_detection/{}_seq2seq_60s_{}.txt'.format(mode, sz_nosz),\n",
    "                             sep=',',\n",
    "                             names=[\"File\", \"label\"])\n",
    "        df_gnn_mode[\"mode\"] = mode\n",
    "        df_gnn = pd.concat((df_gnn, df_gnn_mode))\n",
    "df_gnn.sample(n=10)"
   ],
   "metadata": {
    "collapsed": false,
    "pycharm": {
     "name": "#%%\n"
    }
   }
  },
  {
   "cell_type": "code",
   "execution_count": 31,
   "outputs": [
    {
     "data": {
      "text/plain": "                           File label     mode\n0  00010062_s004_t002.edf_11.h5     1  testSet\n1  00008544_s007_t000.edf_12.h5     1  testSet\n2  00009578_s011_t008.edf_37.h5     1  testSet\n3  00000675_s001_t001.edf_10.h5     1  testSet\n4   00008174_s002_t003.edf_1.h5     1  testSet",
      "text/html": "<div>\n<style scoped>\n    .dataframe tbody tr th:only-of-type {\n        vertical-align: middle;\n    }\n\n    .dataframe tbody tr th {\n        vertical-align: top;\n    }\n\n    .dataframe thead th {\n        text-align: right;\n    }\n</style>\n<table border=\"1\" class=\"dataframe\">\n  <thead>\n    <tr style=\"text-align: right;\">\n      <th></th>\n      <th>File</th>\n      <th>label</th>\n      <th>mode</th>\n    </tr>\n  </thead>\n  <tbody>\n    <tr>\n      <th>0</th>\n      <td>00010062_s004_t002.edf_11.h5</td>\n      <td>1</td>\n      <td>testSet</td>\n    </tr>\n    <tr>\n      <th>1</th>\n      <td>00008544_s007_t000.edf_12.h5</td>\n      <td>1</td>\n      <td>testSet</td>\n    </tr>\n    <tr>\n      <th>2</th>\n      <td>00009578_s011_t008.edf_37.h5</td>\n      <td>1</td>\n      <td>testSet</td>\n    </tr>\n    <tr>\n      <th>3</th>\n      <td>00000675_s001_t001.edf_10.h5</td>\n      <td>1</td>\n      <td>testSet</td>\n    </tr>\n    <tr>\n      <th>4</th>\n      <td>00008174_s002_t003.edf_1.h5</td>\n      <td>1</td>\n      <td>testSet</td>\n    </tr>\n  </tbody>\n</table>\n</div>"
     },
     "execution_count": 31,
     "metadata": {},
     "output_type": "execute_result"
    }
   ],
   "source": [
    "df_gnn[df_gnn['mode'] == 'testSet'].head()"
   ],
   "metadata": {
    "collapsed": false,
    "pycharm": {
     "name": "#%%\n"
    }
   }
  },
  {
   "cell_type": "code",
   "execution_count": 32,
   "outputs": [
    {
     "data": {
      "text/plain": "                           File label      mode  file_index  \\\n0  00004892_s001_t001.edf_23.h5     1  trainSet          23   \n1   00011580_s001_t008.edf_5.h5     1  trainSet           5   \n2   00010418_s016_t001.edf_5.h5     1  trainSet           5   \n3   00007793_s001_t001.edf_1.h5     1  trainSet           1   \n4   00006440_s004_t000.edf_2.h5     1  trainSet           2   \n\n            file_name  \n0  00004892_s001_t001  \n1  00011580_s001_t008  \n2  00010418_s016_t001  \n3  00007793_s001_t001  \n4  00006440_s004_t000  ",
      "text/html": "<div>\n<style scoped>\n    .dataframe tbody tr th:only-of-type {\n        vertical-align: middle;\n    }\n\n    .dataframe tbody tr th {\n        vertical-align: top;\n    }\n\n    .dataframe thead th {\n        text-align: right;\n    }\n</style>\n<table border=\"1\" class=\"dataframe\">\n  <thead>\n    <tr style=\"text-align: right;\">\n      <th></th>\n      <th>File</th>\n      <th>label</th>\n      <th>mode</th>\n      <th>file_index</th>\n      <th>file_name</th>\n    </tr>\n  </thead>\n  <tbody>\n    <tr>\n      <th>0</th>\n      <td>00004892_s001_t001.edf_23.h5</td>\n      <td>1</td>\n      <td>trainSet</td>\n      <td>23</td>\n      <td>00004892_s001_t001</td>\n    </tr>\n    <tr>\n      <th>1</th>\n      <td>00011580_s001_t008.edf_5.h5</td>\n      <td>1</td>\n      <td>trainSet</td>\n      <td>5</td>\n      <td>00011580_s001_t008</td>\n    </tr>\n    <tr>\n      <th>2</th>\n      <td>00010418_s016_t001.edf_5.h5</td>\n      <td>1</td>\n      <td>trainSet</td>\n      <td>5</td>\n      <td>00010418_s016_t001</td>\n    </tr>\n    <tr>\n      <th>3</th>\n      <td>00007793_s001_t001.edf_1.h5</td>\n      <td>1</td>\n      <td>trainSet</td>\n      <td>1</td>\n      <td>00007793_s001_t001</td>\n    </tr>\n    <tr>\n      <th>4</th>\n      <td>00006440_s004_t000.edf_2.h5</td>\n      <td>1</td>\n      <td>trainSet</td>\n      <td>2</td>\n      <td>00006440_s004_t000</td>\n    </tr>\n  </tbody>\n</table>\n</div>"
     },
     "execution_count": 32,
     "metadata": {},
     "output_type": "execute_result"
    }
   ],
   "source": [
    "df_gnn['file_index'] = df_gnn[\"File\"].apply(lambda x: int(x.split('.h5')[0].split('_')[-1]))\n",
    "df_gnn['file_name'] = df_gnn[\"File\"].apply(lambda x: x.split('.edf')[0])\n",
    "df_gnn.head()"
   ],
   "metadata": {
    "collapsed": false,
    "pycharm": {
     "name": "#%%\n"
    }
   }
  },
  {
   "cell_type": "code",
   "execution_count": 33,
   "outputs": [
    {
     "data": {
      "text/plain": "mode      label\ndevSet    0         4878\n          1          625\ntestSet   0         7550\n          1         1298\ntrainSet  0        35019\n          1         3594\nName: label, dtype: int64"
     },
     "execution_count": 33,
     "metadata": {},
     "output_type": "execute_result"
    }
   ],
   "source": [
    "df_gnn.groupby('mode')['label'].value_counts()"
   ],
   "metadata": {
    "collapsed": false,
    "pycharm": {
     "name": "#%%\n"
    }
   }
  },
  {
   "cell_type": "code",
   "execution_count": 50,
   "outputs": [
    {
     "data": {
      "text/plain": "                              File label     mode  file_index  \\\n0     00010062_s004_t002.edf_11.h5     1  testSet          11   \n1     00008544_s007_t000.edf_12.h5     1  testSet          12   \n2     00009578_s011_t008.edf_37.h5     1  testSet          37   \n3     00000675_s001_t001.edf_10.h5     1  testSet          10   \n4      00008174_s002_t003.edf_1.h5     1  testSet           1   \n...                            ...   ...      ...         ...   \n7545   00009578_s011_t003.edf_3.h5     0  testSet           3   \n7546   00008460_s007_t003.edf_8.h5     0  testSet           8   \n7547   00010022_s004_t001.edf_5.h5     0  testSet           5   \n7548   00009578_s027_t008.edf_2.h5     0  testSet           2   \n7549   00009578_s027_t005.edf_4.h5     0  testSet           4   \n\n               file_name  \n0     00010062_s004_t002  \n1     00008544_s007_t000  \n2     00009578_s011_t008  \n3     00000675_s001_t001  \n4     00008174_s002_t003  \n...                  ...  \n7545  00009578_s011_t003  \n7546  00008460_s007_t003  \n7547  00010022_s004_t001  \n7548  00009578_s027_t008  \n7549  00009578_s027_t005  \n\n[8848 rows x 5 columns]",
      "text/html": "<div>\n<style scoped>\n    .dataframe tbody tr th:only-of-type {\n        vertical-align: middle;\n    }\n\n    .dataframe tbody tr th {\n        vertical-align: top;\n    }\n\n    .dataframe thead th {\n        text-align: right;\n    }\n</style>\n<table border=\"1\" class=\"dataframe\">\n  <thead>\n    <tr style=\"text-align: right;\">\n      <th></th>\n      <th>File</th>\n      <th>label</th>\n      <th>mode</th>\n      <th>file_index</th>\n      <th>file_name</th>\n    </tr>\n  </thead>\n  <tbody>\n    <tr>\n      <th>0</th>\n      <td>00010062_s004_t002.edf_11.h5</td>\n      <td>1</td>\n      <td>testSet</td>\n      <td>11</td>\n      <td>00010062_s004_t002</td>\n    </tr>\n    <tr>\n      <th>1</th>\n      <td>00008544_s007_t000.edf_12.h5</td>\n      <td>1</td>\n      <td>testSet</td>\n      <td>12</td>\n      <td>00008544_s007_t000</td>\n    </tr>\n    <tr>\n      <th>2</th>\n      <td>00009578_s011_t008.edf_37.h5</td>\n      <td>1</td>\n      <td>testSet</td>\n      <td>37</td>\n      <td>00009578_s011_t008</td>\n    </tr>\n    <tr>\n      <th>3</th>\n      <td>00000675_s001_t001.edf_10.h5</td>\n      <td>1</td>\n      <td>testSet</td>\n      <td>10</td>\n      <td>00000675_s001_t001</td>\n    </tr>\n    <tr>\n      <th>4</th>\n      <td>00008174_s002_t003.edf_1.h5</td>\n      <td>1</td>\n      <td>testSet</td>\n      <td>1</td>\n      <td>00008174_s002_t003</td>\n    </tr>\n    <tr>\n      <th>...</th>\n      <td>...</td>\n      <td>...</td>\n      <td>...</td>\n      <td>...</td>\n      <td>...</td>\n    </tr>\n    <tr>\n      <th>7545</th>\n      <td>00009578_s011_t003.edf_3.h5</td>\n      <td>0</td>\n      <td>testSet</td>\n      <td>3</td>\n      <td>00009578_s011_t003</td>\n    </tr>\n    <tr>\n      <th>7546</th>\n      <td>00008460_s007_t003.edf_8.h5</td>\n      <td>0</td>\n      <td>testSet</td>\n      <td>8</td>\n      <td>00008460_s007_t003</td>\n    </tr>\n    <tr>\n      <th>7547</th>\n      <td>00010022_s004_t001.edf_5.h5</td>\n      <td>0</td>\n      <td>testSet</td>\n      <td>5</td>\n      <td>00010022_s004_t001</td>\n    </tr>\n    <tr>\n      <th>7548</th>\n      <td>00009578_s027_t008.edf_2.h5</td>\n      <td>0</td>\n      <td>testSet</td>\n      <td>2</td>\n      <td>00009578_s027_t008</td>\n    </tr>\n    <tr>\n      <th>7549</th>\n      <td>00009578_s027_t005.edf_4.h5</td>\n      <td>0</td>\n      <td>testSet</td>\n      <td>4</td>\n      <td>00009578_s027_t005</td>\n    </tr>\n  </tbody>\n</table>\n<p>8848 rows × 5 columns</p>\n</div>"
     },
     "execution_count": 50,
     "metadata": {},
     "output_type": "execute_result"
    }
   ],
   "source": [
    "df_gnn[df_gnn['mode']=='testSet']"
   ],
   "metadata": {
    "collapsed": false,
    "pycharm": {
     "name": "#%%\n"
    }
   }
  },
  {
   "cell_type": "code",
   "execution_count": 49,
   "outputs": [
    {
     "data": {
      "text/plain": "                                       file_name  fs_FP1    onsets    offsets  \\\n4191  train/02_tcp_le/000/00000002_s001_t000.edf     250  [[9221]]  [[59302]]   \n\n      patient  length       file_name_edf  seconds  \n4191        2   75250  00000002_s001_t000    301.0  ",
      "text/html": "<div>\n<style scoped>\n    .dataframe tbody tr th:only-of-type {\n        vertical-align: middle;\n    }\n\n    .dataframe tbody tr th {\n        vertical-align: top;\n    }\n\n    .dataframe thead th {\n        text-align: right;\n    }\n</style>\n<table border=\"1\" class=\"dataframe\">\n  <thead>\n    <tr style=\"text-align: right;\">\n      <th></th>\n      <th>file_name</th>\n      <th>fs_FP1</th>\n      <th>onsets</th>\n      <th>offsets</th>\n      <th>patient</th>\n      <th>length</th>\n      <th>file_name_edf</th>\n      <th>seconds</th>\n    </tr>\n  </thead>\n  <tbody>\n    <tr>\n      <th>4191</th>\n      <td>train/02_tcp_le/000/00000002_s001_t000.edf</td>\n      <td>250</td>\n      <td>[[9221]]</td>\n      <td>[[59302]]</td>\n      <td>2</td>\n      <td>75250</td>\n      <td>00000002_s001_t000</td>\n      <td>301.0</td>\n    </tr>\n  </tbody>\n</table>\n</div>"
     },
     "execution_count": 49,
     "metadata": {},
     "output_type": "execute_result"
    }
   ],
   "source": [
    "df_tusz[df_tusz['file_name'].apply(lambda x: '000002_s001_t000.edf' in x)]"
   ],
   "metadata": {
    "collapsed": false,
    "pycharm": {
     "name": "#%%\n"
    }
   }
  },
  {
   "cell_type": "code",
   "execution_count": 35,
   "outputs": [],
   "source": [],
   "metadata": {
    "collapsed": false,
    "pycharm": {
     "name": "#%%\n"
    }
   }
  },
  {
   "cell_type": "code",
   "execution_count": 36,
   "outputs": [
    {
     "data": {
      "text/plain": "[trainSet]    3896\n[testSet]      879\n[devSet]       582\nName: mode, dtype: int64"
     },
     "execution_count": 36,
     "metadata": {},
     "output_type": "execute_result"
    }
   ],
   "source": [
    "unique_df = df_gnn.groupby('file_name')['mode'].unique().reset_index(name='mode')\n",
    "unique_df['mode'].value_counts()"
   ],
   "metadata": {
    "collapsed": false,
    "pycharm": {
     "name": "#%%\n"
    }
   }
  },
  {
   "cell_type": "code",
   "execution_count": 37,
   "outputs": [
    {
     "data": {
      "text/plain": "                                  file_name  fs_FP1    onsets    offsets  \\\n0  dev/01_tcp_ar/002/00000258_s002_t000.edf     400     [[0]]      [[0]]   \n1  dev/01_tcp_ar/002/00000258_s002_t002.edf     400     [[0]]      [[0]]   \n2  dev/01_tcp_ar/002/00000258_s003_t000.edf     400     [[0]]      [[0]]   \n3  dev/01_tcp_ar/002/00000258_s003_t001.edf     400     [[0]]      [[0]]   \n4  dev/01_tcp_ar/002/00000258_s003_t002.edf     400  [[3531]]  [[69351]]   \n\n   patient  length       file_name_edf  \n0      258    8000  00000258_s002_t000  \n1      258  108800  00000258_s002_t002  \n2      258   93600  00000258_s003_t000  \n3      258   89600  00000258_s003_t001  \n4      258   81200  00000258_s003_t002  ",
      "text/html": "<div>\n<style scoped>\n    .dataframe tbody tr th:only-of-type {\n        vertical-align: middle;\n    }\n\n    .dataframe tbody tr th {\n        vertical-align: top;\n    }\n\n    .dataframe thead th {\n        text-align: right;\n    }\n</style>\n<table border=\"1\" class=\"dataframe\">\n  <thead>\n    <tr style=\"text-align: right;\">\n      <th></th>\n      <th>file_name</th>\n      <th>fs_FP1</th>\n      <th>onsets</th>\n      <th>offsets</th>\n      <th>patient</th>\n      <th>length</th>\n      <th>file_name_edf</th>\n    </tr>\n  </thead>\n  <tbody>\n    <tr>\n      <th>0</th>\n      <td>dev/01_tcp_ar/002/00000258_s002_t000.edf</td>\n      <td>400</td>\n      <td>[[0]]</td>\n      <td>[[0]]</td>\n      <td>258</td>\n      <td>8000</td>\n      <td>00000258_s002_t000</td>\n    </tr>\n    <tr>\n      <th>1</th>\n      <td>dev/01_tcp_ar/002/00000258_s002_t002.edf</td>\n      <td>400</td>\n      <td>[[0]]</td>\n      <td>[[0]]</td>\n      <td>258</td>\n      <td>108800</td>\n      <td>00000258_s002_t002</td>\n    </tr>\n    <tr>\n      <th>2</th>\n      <td>dev/01_tcp_ar/002/00000258_s003_t000.edf</td>\n      <td>400</td>\n      <td>[[0]]</td>\n      <td>[[0]]</td>\n      <td>258</td>\n      <td>93600</td>\n      <td>00000258_s003_t000</td>\n    </tr>\n    <tr>\n      <th>3</th>\n      <td>dev/01_tcp_ar/002/00000258_s003_t001.edf</td>\n      <td>400</td>\n      <td>[[0]]</td>\n      <td>[[0]]</td>\n      <td>258</td>\n      <td>89600</td>\n      <td>00000258_s003_t001</td>\n    </tr>\n    <tr>\n      <th>4</th>\n      <td>dev/01_tcp_ar/002/00000258_s003_t002.edf</td>\n      <td>400</td>\n      <td>[[3531]]</td>\n      <td>[[69351]]</td>\n      <td>258</td>\n      <td>81200</td>\n      <td>00000258_s003_t002</td>\n    </tr>\n  </tbody>\n</table>\n</div>"
     },
     "execution_count": 37,
     "metadata": {},
     "output_type": "execute_result"
    }
   ],
   "source": [
    "df_tusz['file_name_edf'] = df_tusz['file_name'].apply(lambda x: x.split('/')[-1].split('.edf')[0])\n",
    "df_tusz.head()"
   ],
   "metadata": {
    "collapsed": false,
    "pycharm": {
     "name": "#%%\n"
    }
   }
  },
  {
   "cell_type": "code",
   "execution_count": 38,
   "outputs": [
    {
     "data": {
      "text/plain": "5612"
     },
     "execution_count": 38,
     "metadata": {},
     "output_type": "execute_result"
    }
   ],
   "source": [
    "df_tusz['file_name_edf'].nunique()"
   ],
   "metadata": {
    "collapsed": false,
    "pycharm": {
     "name": "#%%\n"
    }
   }
  },
  {
   "cell_type": "code",
   "execution_count": 39,
   "outputs": [],
   "source": [
    "df_gnn_single_index = df_gnn.drop_duplicates(subset=['file_name'], keep='last')\n",
    "df_merged = pd.merge(left=df_tusz, right=df_gnn_single_index, how=\"outer\", left_on='file_name_edf', right_on=\"file_name\",suffixes=(\"\", \"_y\"))\n",
    "df_merged.sample(n=15)\n",
    "df_merged.to_csv('./output/TUSZ_gnn_labels.csv')"
   ],
   "metadata": {
    "collapsed": false,
    "pycharm": {
     "name": "#%%\n"
    }
   }
  },
  {
   "cell_type": "code",
   "execution_count": 40,
   "outputs": [
    {
     "data": {
      "text/plain": "                                         file_name  fs_FP1     onsets  \\\n0         dev/01_tcp_ar/002/00000258_s002_t000.edf     400      [[0]]   \n13        dev/01_tcp_ar/010/00001027_s003_t000.edf     400      [[0]]   \n14        dev/01_tcp_ar/010/00001027_s003_t001.edf     400      [[0]]   \n15        dev/01_tcp_ar/010/00001027_s004_t000.edf     400  [[13622]]   \n16        dev/01_tcp_ar/010/00001027_s004_t001.edf     400  [[34935]]   \n...                                            ...     ...        ...   \n5506  train/03_tcp_ar_a/122/00012262_s002_t002.edf     256      [[0]]   \n5536  train/03_tcp_ar_a/124/00012418_s004_t003.edf     256      [[0]]   \n5566  train/03_tcp_ar_a/129/00012957_s004_t006.edf     256      [[0]]   \n5588  train/03_tcp_ar_a/130/00013085_s002_t013.edf     256      [[0]]   \n5599  train/03_tcp_ar_a/131/00013145_s001_t002.edf     256    [[987]]   \n\n        offsets  patient  length       file_name_edf File label mode  \\\n0         [[0]]      258    8000  00000258_s002_t000  NaN   NaN  NaN   \n13        [[0]]     1027  185600  00001027_s003_t000  NaN   NaN  NaN   \n14        [[0]]     1027  177200  00001027_s003_t001  NaN   NaN  NaN   \n15    [[64924]]     1027  133600  00001027_s004_t000  NaN   NaN  NaN   \n16    [[89203]]     1027  141200  00001027_s004_t001  NaN   NaN  NaN   \n...         ...      ...     ...                 ...  ...   ...  ...   \n5506      [[0]]    12262    6656  00012262_s002_t002  NaN   NaN  NaN   \n5536      [[0]]    12418    5888  00012418_s004_t003  NaN   NaN  NaN   \n5566      [[0]]    12957   10496  00012957_s004_t006  NaN   NaN  NaN   \n5588      [[0]]    13085    6400  00013085_s002_t013  NaN   NaN  NaN   \n5599  [[11382]]    13145   12800  00013145_s001_t002  NaN   NaN  NaN   \n\n      file_index file_name_y  \n0            NaN         NaN  \n13           NaN         NaN  \n14           NaN         NaN  \n15           NaN         NaN  \n16           NaN         NaN  \n...          ...         ...  \n5506         NaN         NaN  \n5536         NaN         NaN  \n5566         NaN         NaN  \n5588         NaN         NaN  \n5599         NaN         NaN  \n\n[255 rows x 12 columns]",
      "text/html": "<div>\n<style scoped>\n    .dataframe tbody tr th:only-of-type {\n        vertical-align: middle;\n    }\n\n    .dataframe tbody tr th {\n        vertical-align: top;\n    }\n\n    .dataframe thead th {\n        text-align: right;\n    }\n</style>\n<table border=\"1\" class=\"dataframe\">\n  <thead>\n    <tr style=\"text-align: right;\">\n      <th></th>\n      <th>file_name</th>\n      <th>fs_FP1</th>\n      <th>onsets</th>\n      <th>offsets</th>\n      <th>patient</th>\n      <th>length</th>\n      <th>file_name_edf</th>\n      <th>File</th>\n      <th>label</th>\n      <th>mode</th>\n      <th>file_index</th>\n      <th>file_name_y</th>\n    </tr>\n  </thead>\n  <tbody>\n    <tr>\n      <th>0</th>\n      <td>dev/01_tcp_ar/002/00000258_s002_t000.edf</td>\n      <td>400</td>\n      <td>[[0]]</td>\n      <td>[[0]]</td>\n      <td>258</td>\n      <td>8000</td>\n      <td>00000258_s002_t000</td>\n      <td>NaN</td>\n      <td>NaN</td>\n      <td>NaN</td>\n      <td>NaN</td>\n      <td>NaN</td>\n    </tr>\n    <tr>\n      <th>13</th>\n      <td>dev/01_tcp_ar/010/00001027_s003_t000.edf</td>\n      <td>400</td>\n      <td>[[0]]</td>\n      <td>[[0]]</td>\n      <td>1027</td>\n      <td>185600</td>\n      <td>00001027_s003_t000</td>\n      <td>NaN</td>\n      <td>NaN</td>\n      <td>NaN</td>\n      <td>NaN</td>\n      <td>NaN</td>\n    </tr>\n    <tr>\n      <th>14</th>\n      <td>dev/01_tcp_ar/010/00001027_s003_t001.edf</td>\n      <td>400</td>\n      <td>[[0]]</td>\n      <td>[[0]]</td>\n      <td>1027</td>\n      <td>177200</td>\n      <td>00001027_s003_t001</td>\n      <td>NaN</td>\n      <td>NaN</td>\n      <td>NaN</td>\n      <td>NaN</td>\n      <td>NaN</td>\n    </tr>\n    <tr>\n      <th>15</th>\n      <td>dev/01_tcp_ar/010/00001027_s004_t000.edf</td>\n      <td>400</td>\n      <td>[[13622]]</td>\n      <td>[[64924]]</td>\n      <td>1027</td>\n      <td>133600</td>\n      <td>00001027_s004_t000</td>\n      <td>NaN</td>\n      <td>NaN</td>\n      <td>NaN</td>\n      <td>NaN</td>\n      <td>NaN</td>\n    </tr>\n    <tr>\n      <th>16</th>\n      <td>dev/01_tcp_ar/010/00001027_s004_t001.edf</td>\n      <td>400</td>\n      <td>[[34935]]</td>\n      <td>[[89203]]</td>\n      <td>1027</td>\n      <td>141200</td>\n      <td>00001027_s004_t001</td>\n      <td>NaN</td>\n      <td>NaN</td>\n      <td>NaN</td>\n      <td>NaN</td>\n      <td>NaN</td>\n    </tr>\n    <tr>\n      <th>...</th>\n      <td>...</td>\n      <td>...</td>\n      <td>...</td>\n      <td>...</td>\n      <td>...</td>\n      <td>...</td>\n      <td>...</td>\n      <td>...</td>\n      <td>...</td>\n      <td>...</td>\n      <td>...</td>\n      <td>...</td>\n    </tr>\n    <tr>\n      <th>5506</th>\n      <td>train/03_tcp_ar_a/122/00012262_s002_t002.edf</td>\n      <td>256</td>\n      <td>[[0]]</td>\n      <td>[[0]]</td>\n      <td>12262</td>\n      <td>6656</td>\n      <td>00012262_s002_t002</td>\n      <td>NaN</td>\n      <td>NaN</td>\n      <td>NaN</td>\n      <td>NaN</td>\n      <td>NaN</td>\n    </tr>\n    <tr>\n      <th>5536</th>\n      <td>train/03_tcp_ar_a/124/00012418_s004_t003.edf</td>\n      <td>256</td>\n      <td>[[0]]</td>\n      <td>[[0]]</td>\n      <td>12418</td>\n      <td>5888</td>\n      <td>00012418_s004_t003</td>\n      <td>NaN</td>\n      <td>NaN</td>\n      <td>NaN</td>\n      <td>NaN</td>\n      <td>NaN</td>\n    </tr>\n    <tr>\n      <th>5566</th>\n      <td>train/03_tcp_ar_a/129/00012957_s004_t006.edf</td>\n      <td>256</td>\n      <td>[[0]]</td>\n      <td>[[0]]</td>\n      <td>12957</td>\n      <td>10496</td>\n      <td>00012957_s004_t006</td>\n      <td>NaN</td>\n      <td>NaN</td>\n      <td>NaN</td>\n      <td>NaN</td>\n      <td>NaN</td>\n    </tr>\n    <tr>\n      <th>5588</th>\n      <td>train/03_tcp_ar_a/130/00013085_s002_t013.edf</td>\n      <td>256</td>\n      <td>[[0]]</td>\n      <td>[[0]]</td>\n      <td>13085</td>\n      <td>6400</td>\n      <td>00013085_s002_t013</td>\n      <td>NaN</td>\n      <td>NaN</td>\n      <td>NaN</td>\n      <td>NaN</td>\n      <td>NaN</td>\n    </tr>\n    <tr>\n      <th>5599</th>\n      <td>train/03_tcp_ar_a/131/00013145_s001_t002.edf</td>\n      <td>256</td>\n      <td>[[987]]</td>\n      <td>[[11382]]</td>\n      <td>13145</td>\n      <td>12800</td>\n      <td>00013145_s001_t002</td>\n      <td>NaN</td>\n      <td>NaN</td>\n      <td>NaN</td>\n      <td>NaN</td>\n      <td>NaN</td>\n    </tr>\n  </tbody>\n</table>\n<p>255 rows × 12 columns</p>\n</div>"
     },
     "execution_count": 40,
     "metadata": {},
     "output_type": "execute_result"
    }
   ],
   "source": [
    "df_merged[df_merged.isna().any(axis=1)]"
   ],
   "metadata": {
    "collapsed": false,
    "pycharm": {
     "name": "#%%\n"
    }
   }
  },
  {
   "cell_type": "code",
   "execution_count": 51,
   "outputs": [
    {
     "data": {
      "text/plain": "                                         file_name  fs_FP1  \\\n1803    train/01_tcp_ar/079/00007936_s007_t001.edf     256   \n116       dev/01_tcp_ar/065/00006546_s022_t000.edf     256   \n1220    train/01_tcp_ar/025/00002521_s002_t000.edf     400   \n4862  train/03_tcp_ar_a/036/00003636_s001_t002.edf     400   \n4054    train/01_tcp_ar/129/00012973_s006_t002.edf     256   \n\n                  onsets              offsets  patient  length  \\\n1803           [[25072]]            [[45692]]     7936   69120   \n116            [[44488]]            [[50963]]     6546   76800   \n1220             [[400]]            [[88400]]     2521   88800   \n4862             [[400]]            [[27799]]     3636   60400   \n4054  [[8742], [119590]]  [[31286], [134221]]    12973  153856   \n\n           file_name_edf                         File label      mode  \\\n1803  00007936_s007_t001  00007936_s007_t001.edf_0.h5     0  trainSet   \n116   00006546_s022_t000                          NaN   NaN       NaN   \n1220  00002521_s002_t000  00002521_s002_t000.edf_0.h5     1  trainSet   \n4862  00003636_s001_t002  00003636_s001_t002.edf_0.h5     1  trainSet   \n4054  00012973_s006_t002  00012973_s006_t002.edf_5.h5     0  trainSet   \n\n      file_index         file_name_y  \n1803         0.0  00007936_s007_t001  \n116          NaN                 NaN  \n1220         0.0  00002521_s002_t000  \n4862         0.0  00003636_s001_t002  \n4054         5.0  00012973_s006_t002  ",
      "text/html": "<div>\n<style scoped>\n    .dataframe tbody tr th:only-of-type {\n        vertical-align: middle;\n    }\n\n    .dataframe tbody tr th {\n        vertical-align: top;\n    }\n\n    .dataframe thead th {\n        text-align: right;\n    }\n</style>\n<table border=\"1\" class=\"dataframe\">\n  <thead>\n    <tr style=\"text-align: right;\">\n      <th></th>\n      <th>file_name</th>\n      <th>fs_FP1</th>\n      <th>onsets</th>\n      <th>offsets</th>\n      <th>patient</th>\n      <th>length</th>\n      <th>file_name_edf</th>\n      <th>File</th>\n      <th>label</th>\n      <th>mode</th>\n      <th>file_index</th>\n      <th>file_name_y</th>\n    </tr>\n  </thead>\n  <tbody>\n    <tr>\n      <th>1803</th>\n      <td>train/01_tcp_ar/079/00007936_s007_t001.edf</td>\n      <td>256</td>\n      <td>[[25072]]</td>\n      <td>[[45692]]</td>\n      <td>7936</td>\n      <td>69120</td>\n      <td>00007936_s007_t001</td>\n      <td>00007936_s007_t001.edf_0.h5</td>\n      <td>0</td>\n      <td>trainSet</td>\n      <td>0.0</td>\n      <td>00007936_s007_t001</td>\n    </tr>\n    <tr>\n      <th>116</th>\n      <td>dev/01_tcp_ar/065/00006546_s022_t000.edf</td>\n      <td>256</td>\n      <td>[[44488]]</td>\n      <td>[[50963]]</td>\n      <td>6546</td>\n      <td>76800</td>\n      <td>00006546_s022_t000</td>\n      <td>NaN</td>\n      <td>NaN</td>\n      <td>NaN</td>\n      <td>NaN</td>\n      <td>NaN</td>\n    </tr>\n    <tr>\n      <th>1220</th>\n      <td>train/01_tcp_ar/025/00002521_s002_t000.edf</td>\n      <td>400</td>\n      <td>[[400]]</td>\n      <td>[[88400]]</td>\n      <td>2521</td>\n      <td>88800</td>\n      <td>00002521_s002_t000</td>\n      <td>00002521_s002_t000.edf_0.h5</td>\n      <td>1</td>\n      <td>trainSet</td>\n      <td>0.0</td>\n      <td>00002521_s002_t000</td>\n    </tr>\n    <tr>\n      <th>4862</th>\n      <td>train/03_tcp_ar_a/036/00003636_s001_t002.edf</td>\n      <td>400</td>\n      <td>[[400]]</td>\n      <td>[[27799]]</td>\n      <td>3636</td>\n      <td>60400</td>\n      <td>00003636_s001_t002</td>\n      <td>00003636_s001_t002.edf_0.h5</td>\n      <td>1</td>\n      <td>trainSet</td>\n      <td>0.0</td>\n      <td>00003636_s001_t002</td>\n    </tr>\n    <tr>\n      <th>4054</th>\n      <td>train/01_tcp_ar/129/00012973_s006_t002.edf</td>\n      <td>256</td>\n      <td>[[8742], [119590]]</td>\n      <td>[[31286], [134221]]</td>\n      <td>12973</td>\n      <td>153856</td>\n      <td>00012973_s006_t002</td>\n      <td>00012973_s006_t002.edf_5.h5</td>\n      <td>0</td>\n      <td>trainSet</td>\n      <td>5.0</td>\n      <td>00012973_s006_t002</td>\n    </tr>\n  </tbody>\n</table>\n</div>"
     },
     "execution_count": 51,
     "metadata": {},
     "output_type": "execute_result"
    }
   ],
   "source": [
    "df_merged[df_merged['onsets'].apply(lambda x: x[0][0] != 0)].sample(n=5)"
   ],
   "metadata": {
    "collapsed": false,
    "pycharm": {
     "name": "#%%\n"
    }
   }
  },
  {
   "cell_type": "code",
   "execution_count": 61,
   "outputs": [
    {
     "data": {
      "text/plain": "mode      tcp              \ndevSet    train 01_tcp_ar       392\n          train 03_tcp_ar_a     108\n          train 02_tcp_le        82\ntestSet   dev 01_tcp_ar         800\n          dev 03_tcp_ar_a        41\n          dev 02_tcp_le          38\ntrainSet  train 01_tcp_ar      2707\n          train 03_tcp_ar_a     797\n          train 02_tcp_le       392\nName: tcp, dtype: int64"
     },
     "execution_count": 61,
     "metadata": {},
     "output_type": "execute_result"
    }
   ],
   "source": [
    "df_merged['tcp']=df_merged['file_name'].apply(lambda x: ' '.join(x.split('/')[:2]))\n",
    "df_merged.groupby('mode')['tcp'].value_counts()"
   ],
   "metadata": {
    "collapsed": false,
    "pycharm": {
     "name": "#%%\n"
    }
   }
  },
  {
   "cell_type": "markdown",
   "source": [],
   "metadata": {
    "collapsed": false,
    "pycharm": {
     "name": "#%% md\n"
    }
   }
  },
  {
   "cell_type": "code",
   "execution_count": 42,
   "outputs": [
    {
     "data": {
      "text/plain": "     patient  count   seconds\n379     7771      1      42.0\n576    11575      1      79.0\n624    12978      1     140.0\n152     2568      2     504.0\n77      1246      3     512.0\n..       ...    ...       ...\n236     4671     77   48002.0\n530    10418     92   51109.0\n327     6546    121   62489.0\n459     9104     96   68344.0\n482     9578    215  116097.0\n\n[637 rows x 3 columns]",
      "text/html": "<div>\n<style scoped>\n    .dataframe tbody tr th:only-of-type {\n        vertical-align: middle;\n    }\n\n    .dataframe tbody tr th {\n        vertical-align: top;\n    }\n\n    .dataframe thead th {\n        text-align: right;\n    }\n</style>\n<table border=\"1\" class=\"dataframe\">\n  <thead>\n    <tr style=\"text-align: right;\">\n      <th></th>\n      <th>patient</th>\n      <th>count</th>\n      <th>seconds</th>\n    </tr>\n  </thead>\n  <tbody>\n    <tr>\n      <th>379</th>\n      <td>7771</td>\n      <td>1</td>\n      <td>42.0</td>\n    </tr>\n    <tr>\n      <th>576</th>\n      <td>11575</td>\n      <td>1</td>\n      <td>79.0</td>\n    </tr>\n    <tr>\n      <th>624</th>\n      <td>12978</td>\n      <td>1</td>\n      <td>140.0</td>\n    </tr>\n    <tr>\n      <th>152</th>\n      <td>2568</td>\n      <td>2</td>\n      <td>504.0</td>\n    </tr>\n    <tr>\n      <th>77</th>\n      <td>1246</td>\n      <td>3</td>\n      <td>512.0</td>\n    </tr>\n    <tr>\n      <th>...</th>\n      <td>...</td>\n      <td>...</td>\n      <td>...</td>\n    </tr>\n    <tr>\n      <th>236</th>\n      <td>4671</td>\n      <td>77</td>\n      <td>48002.0</td>\n    </tr>\n    <tr>\n      <th>530</th>\n      <td>10418</td>\n      <td>92</td>\n      <td>51109.0</td>\n    </tr>\n    <tr>\n      <th>327</th>\n      <td>6546</td>\n      <td>121</td>\n      <td>62489.0</td>\n    </tr>\n    <tr>\n      <th>459</th>\n      <td>9104</td>\n      <td>96</td>\n      <td>68344.0</td>\n    </tr>\n    <tr>\n      <th>482</th>\n      <td>9578</td>\n      <td>215</td>\n      <td>116097.0</td>\n    </tr>\n  </tbody>\n</table>\n<p>637 rows × 3 columns</p>\n</div>"
     },
     "execution_count": 42,
     "metadata": {},
     "output_type": "execute_result"
    }
   ],
   "source": [
    "df_tusz['seconds'] = df_tusz['length'] / df_tusz['fs_FP1']\n",
    "# df_tusz.groupby('patient')['seconds'].sum().reset_index().sort_values('patient')\n",
    "df_tusz_validation_choose = df_tusz.groupby('patient').size().reset_index(name='count')\n",
    "pd.merge(df_tusz_validation_choose,\n",
    "df_tusz.groupby('patient')['seconds'].sum().reset_index(name='seconds'), on='patient').sort_values('seconds')"
   ],
   "metadata": {
    "collapsed": false,
    "pycharm": {
     "name": "#%%\n"
    }
   }
  },
  {
   "cell_type": "markdown",
   "source": [
    "## Channels"
   ],
   "metadata": {
    "collapsed": false,
    "pycharm": {
     "name": "#%% md\n"
    }
   }
  },
  {
   "cell_type": "code",
   "execution_count": 43,
   "outputs": [
    {
     "data": {
      "text/plain": "                                               filename  \\\n3534  ./train/01_tcp_ar/119/00011915/s002_2014_07_10...   \n5408  ./train/02_tcp_le/064/00006413/s004_2010_02_15...   \n5680  ./train/02_tcp_le/003/00000302/s002_2003_09_25...   \n\n                                                     fs  \\\n3534  [256, 256, 256, 256, 256, 256, 256, 256, 256, ...   \n5408  [250, 250, 250, 250, 250, 250, 250, 250, 250, ...   \n5680  [250, 250, 250, 250, 250, 250, 250, 250, 250, ...   \n\n                                                     ch  \\\n3534  [EEG FP1-REF, EEG FP2-REF, EEG F3-REF, EEG F4-...   \n5408  [EEG FP1-LE, EEG FP2-LE, EEG F3-LE, EEG F4-LE,...   \n5680  [EEG FP1-LE, EEG FP2-LE, EEG F3-LE, EEG F4-LE,...   \n\n      Index_Unnamed: 0_level_1  File No._Unnamed: 1_level_1  \\\n3534                    3416.0                       2550.0   \n5408                     132.0                         82.0   \n5680                     333.0                        214.0   \n\n      Patient_Unnamed: 2_level_1 Session_Unnamed: 3_level_1  \\\n3534                     11915.0                       s002   \n5408                         NaN                        NaN   \n5680                         NaN                        NaN   \n\n     File_Unnamed: 4_level_1 EEG Type_Unnamed: 5_level_1  \\\n3534                    t003                         ICU   \n5408                     NaN                         NaN   \n5680                    t000                         NaN   \n\n     EEG SubType_Unnamed: 6_level_1  ... Summary_Seizure Type Summary_Events  \\\n3534                           RICU  ...                  NaN            NaN   \n5408                            NaN  ...                  NaN            NaN   \n5680                            NaN  ...                  NaN            NaN   \n\n      Summary_Freq..2  Summary_Cum..4 Summary_Cum..5  \\\n3534              NaN             NaN            NaN   \n5408              NaN             NaN            NaN   \n5680              NaN             NaN            NaN   \n\n                                               Filename  FP1_index  \\\n3534  ./train/01_tcp_ar/119/00011915/s002_2014_07_10...          0   \n5408  ./train/02_tcp_le/064/00006413/s004_2010_02_15...          0   \n5680  ./train/02_tcp_le/003/00000302/s002_2003_09_25...          0   \n\n     Seizure_Start  Seizure_Stop fs_FP1  \n3534         [[0]]         [[0]]    256  \n5408    [[280000]]    [[292638]]    250  \n5680         [[0]]         [[0]]    250  \n\n[3 rows x 39 columns]",
      "text/html": "<div>\n<style scoped>\n    .dataframe tbody tr th:only-of-type {\n        vertical-align: middle;\n    }\n\n    .dataframe tbody tr th {\n        vertical-align: top;\n    }\n\n    .dataframe thead th {\n        text-align: right;\n    }\n</style>\n<table border=\"1\" class=\"dataframe\">\n  <thead>\n    <tr style=\"text-align: right;\">\n      <th></th>\n      <th>filename</th>\n      <th>fs</th>\n      <th>ch</th>\n      <th>Index_Unnamed: 0_level_1</th>\n      <th>File No._Unnamed: 1_level_1</th>\n      <th>Patient_Unnamed: 2_level_1</th>\n      <th>Session_Unnamed: 3_level_1</th>\n      <th>File_Unnamed: 4_level_1</th>\n      <th>EEG Type_Unnamed: 5_level_1</th>\n      <th>EEG SubType_Unnamed: 6_level_1</th>\n      <th>...</th>\n      <th>Summary_Seizure Type</th>\n      <th>Summary_Events</th>\n      <th>Summary_Freq..2</th>\n      <th>Summary_Cum..4</th>\n      <th>Summary_Cum..5</th>\n      <th>Filename</th>\n      <th>FP1_index</th>\n      <th>Seizure_Start</th>\n      <th>Seizure_Stop</th>\n      <th>fs_FP1</th>\n    </tr>\n  </thead>\n  <tbody>\n    <tr>\n      <th>3534</th>\n      <td>./train/01_tcp_ar/119/00011915/s002_2014_07_10...</td>\n      <td>[256, 256, 256, 256, 256, 256, 256, 256, 256, ...</td>\n      <td>[EEG FP1-REF, EEG FP2-REF, EEG F3-REF, EEG F4-...</td>\n      <td>3416.0</td>\n      <td>2550.0</td>\n      <td>11915.0</td>\n      <td>s002</td>\n      <td>t003</td>\n      <td>ICU</td>\n      <td>RICU</td>\n      <td>...</td>\n      <td>NaN</td>\n      <td>NaN</td>\n      <td>NaN</td>\n      <td>NaN</td>\n      <td>NaN</td>\n      <td>./train/01_tcp_ar/119/00011915/s002_2014_07_10...</td>\n      <td>0</td>\n      <td>[[0]]</td>\n      <td>[[0]]</td>\n      <td>256</td>\n    </tr>\n    <tr>\n      <th>5408</th>\n      <td>./train/02_tcp_le/064/00006413/s004_2010_02_15...</td>\n      <td>[250, 250, 250, 250, 250, 250, 250, 250, 250, ...</td>\n      <td>[EEG FP1-LE, EEG FP2-LE, EEG F3-LE, EEG F4-LE,...</td>\n      <td>132.0</td>\n      <td>82.0</td>\n      <td>NaN</td>\n      <td>NaN</td>\n      <td>NaN</td>\n      <td>NaN</td>\n      <td>NaN</td>\n      <td>...</td>\n      <td>NaN</td>\n      <td>NaN</td>\n      <td>NaN</td>\n      <td>NaN</td>\n      <td>NaN</td>\n      <td>./train/02_tcp_le/064/00006413/s004_2010_02_15...</td>\n      <td>0</td>\n      <td>[[280000]]</td>\n      <td>[[292638]]</td>\n      <td>250</td>\n    </tr>\n    <tr>\n      <th>5680</th>\n      <td>./train/02_tcp_le/003/00000302/s002_2003_09_25...</td>\n      <td>[250, 250, 250, 250, 250, 250, 250, 250, 250, ...</td>\n      <td>[EEG FP1-LE, EEG FP2-LE, EEG F3-LE, EEG F4-LE,...</td>\n      <td>333.0</td>\n      <td>214.0</td>\n      <td>NaN</td>\n      <td>NaN</td>\n      <td>t000</td>\n      <td>NaN</td>\n      <td>NaN</td>\n      <td>...</td>\n      <td>NaN</td>\n      <td>NaN</td>\n      <td>NaN</td>\n      <td>NaN</td>\n      <td>NaN</td>\n      <td>./train/02_tcp_le/003/00000302/s002_2003_09_25...</td>\n      <td>0</td>\n      <td>[[0]]</td>\n      <td>[[0]]</td>\n      <td>250</td>\n    </tr>\n  </tbody>\n</table>\n<p>3 rows × 39 columns</p>\n</div>"
     },
     "execution_count": 43,
     "metadata": {},
     "output_type": "execute_result"
    }
   ],
   "source": [
    "EEG_channels = ['EEG FP1-REF', 'EEG FP2-REF', 'EEG F3-REF', 'EEG F4-REF', 'EEG C3-REF', 'EEG C4-REF', 'EEG P3-REF',\n",
    "                'EEG P4-REF', 'EEG O1-REF', 'EEG O2-REF', 'EEG F7-REF', 'EEG F8-REF', 'EEG T3-REF', 'EEG T4-REF',\n",
    "                'EEG T5-REF', 'EEG T6-REF', 'EEG A1-REF', 'EEG A2-REF', 'EEG FZ-REF', 'EEG CZ-REF', 'EEG PZ-REF']\n",
    "\n",
    "fs_df.sample(3)"
   ],
   "metadata": {
    "collapsed": false,
    "pycharm": {
     "name": "#%%\n"
    }
   }
  },
  {
   "cell_type": "code",
   "execution_count": 44,
   "outputs": [
    {
     "data": {
      "text/plain": "                                               filename  \\\n4875  ./train/01_tcp_ar/103/00010321/s001_2013_05_17...   \n5160  ./train/01_tcp_ar/100/00010079/s004_2013_07_02...   \n4648  ./train/01_tcp_ar/081/00008143/s009_2011_11_16...   \n3352  ./train/01_tcp_ar/028/00002806/s001_2004_12_23...   \n5820  ./train/02_tcp_le/011/00001113/s002_2004_08_31...   \n\n                                                     fs  \\\n4875  [250, 250, 250, 250, 250, 250, 250, 250, 250, ...   \n5160  [256, 256, 256, 256, 256, 256, 256, 256, 256, ...   \n4648  [256, 256, 256, 256, 256, 256, 256, 256, 256, ...   \n3352  [400, 400, 400, 400, 400, 400, 400, 400, 400, ...   \n5820  [250, 250, 250, 250, 250, 250, 250, 250, 250, ...   \n\n                                                     ch  \\\n4875  [EEG FP1-REF, EEG FP2-REF, EEG F3-REF, EEG F4-...   \n5160  [EEG FP1-REF, EEG FP2-REF, EEG F3-REF, EEG F4-...   \n4648  [EEG FP1-REF, EEG FP2-REF, EEG F3-REF, EEG F4-...   \n3352  [EEG FP1-REF, EEG FP2-REF, EEG F3-REF, EEG F4-...   \n5820  [EEG FP1-LE, EEG FP2-LE, EEG F3-LE, EEG F4-LE,...   \n\n      Index_Unnamed: 0_level_1  File No._Unnamed: 1_level_1  \\\n4875                    3897.0                       2987.0   \n5160                    2820.0                       2182.0   \n4648                    1288.0                        919.0   \n3352                    4315.0                       3348.0   \n5820                     652.0                        389.0   \n\n      Patient_Unnamed: 2_level_1 Session_Unnamed: 3_level_1  \\\n4875                     10321.0                       s001   \n5160                         NaN                        NaN   \n4648                         NaN                        NaN   \n3352                         NaN                        NaN   \n5820                         NaN                        NaN   \n\n     File_Unnamed: 4_level_1 EEG Type_Unnamed: 5_level_1  \\\n4875                    t000                         ICU   \n5160                    t007                         NaN   \n4648                    t003                         NaN   \n3352                    t005                         NaN   \n5820                     NaN                         NaN   \n\n     EEG SubType_Unnamed: 6_level_1  ... Summary_Events Summary_Freq..2  \\\n4875                           RICU  ...            NaN             NaN   \n5160                            NaN  ...            NaN             NaN   \n4648                            NaN  ...            NaN             NaN   \n3352                            NaN  ...            NaN             NaN   \n5820                            NaN  ...            NaN             NaN   \n\n      Summary_Cum..4  Summary_Cum..5  \\\n4875             NaN             NaN   \n5160             NaN             NaN   \n4648             NaN             NaN   \n3352             NaN             NaN   \n5820             NaN             NaN   \n\n                                               Filename  FP1_index  \\\n4875  ./train/01_tcp_ar/103/00010321/s001_2013_05_17...          0   \n5160  ./train/01_tcp_ar/100/00010079/s004_2013_07_02...          0   \n4648  ./train/01_tcp_ar/081/00008143/s009_2011_11_16...          0   \n3352  ./train/01_tcp_ar/028/00002806/s001_2004_12_23...          0   \n5820  ./train/02_tcp_le/011/00001113/s002_2004_08_31...          0   \n\n      Seizure_Start Seizure_Stop  fs_FP1 ref_ch_num  \n4875          [[0]]        [[0]]     250         21  \n5160          [[0]]        [[0]]     256         21  \n4648          [[0]]        [[0]]     256         21  \n3352          [[0]]        [[0]]     400         21  \n5820     [[259244]]   [[260652]]     250          0  \n\n[5 rows x 40 columns]",
      "text/html": "<div>\n<style scoped>\n    .dataframe tbody tr th:only-of-type {\n        vertical-align: middle;\n    }\n\n    .dataframe tbody tr th {\n        vertical-align: top;\n    }\n\n    .dataframe thead th {\n        text-align: right;\n    }\n</style>\n<table border=\"1\" class=\"dataframe\">\n  <thead>\n    <tr style=\"text-align: right;\">\n      <th></th>\n      <th>filename</th>\n      <th>fs</th>\n      <th>ch</th>\n      <th>Index_Unnamed: 0_level_1</th>\n      <th>File No._Unnamed: 1_level_1</th>\n      <th>Patient_Unnamed: 2_level_1</th>\n      <th>Session_Unnamed: 3_level_1</th>\n      <th>File_Unnamed: 4_level_1</th>\n      <th>EEG Type_Unnamed: 5_level_1</th>\n      <th>EEG SubType_Unnamed: 6_level_1</th>\n      <th>...</th>\n      <th>Summary_Events</th>\n      <th>Summary_Freq..2</th>\n      <th>Summary_Cum..4</th>\n      <th>Summary_Cum..5</th>\n      <th>Filename</th>\n      <th>FP1_index</th>\n      <th>Seizure_Start</th>\n      <th>Seizure_Stop</th>\n      <th>fs_FP1</th>\n      <th>ref_ch_num</th>\n    </tr>\n  </thead>\n  <tbody>\n    <tr>\n      <th>4875</th>\n      <td>./train/01_tcp_ar/103/00010321/s001_2013_05_17...</td>\n      <td>[250, 250, 250, 250, 250, 250, 250, 250, 250, ...</td>\n      <td>[EEG FP1-REF, EEG FP2-REF, EEG F3-REF, EEG F4-...</td>\n      <td>3897.0</td>\n      <td>2987.0</td>\n      <td>10321.0</td>\n      <td>s001</td>\n      <td>t000</td>\n      <td>ICU</td>\n      <td>RICU</td>\n      <td>...</td>\n      <td>NaN</td>\n      <td>NaN</td>\n      <td>NaN</td>\n      <td>NaN</td>\n      <td>./train/01_tcp_ar/103/00010321/s001_2013_05_17...</td>\n      <td>0</td>\n      <td>[[0]]</td>\n      <td>[[0]]</td>\n      <td>250</td>\n      <td>21</td>\n    </tr>\n    <tr>\n      <th>5160</th>\n      <td>./train/01_tcp_ar/100/00010079/s004_2013_07_02...</td>\n      <td>[256, 256, 256, 256, 256, 256, 256, 256, 256, ...</td>\n      <td>[EEG FP1-REF, EEG FP2-REF, EEG F3-REF, EEG F4-...</td>\n      <td>2820.0</td>\n      <td>2182.0</td>\n      <td>NaN</td>\n      <td>NaN</td>\n      <td>t007</td>\n      <td>NaN</td>\n      <td>NaN</td>\n      <td>...</td>\n      <td>NaN</td>\n      <td>NaN</td>\n      <td>NaN</td>\n      <td>NaN</td>\n      <td>./train/01_tcp_ar/100/00010079/s004_2013_07_02...</td>\n      <td>0</td>\n      <td>[[0]]</td>\n      <td>[[0]]</td>\n      <td>256</td>\n      <td>21</td>\n    </tr>\n    <tr>\n      <th>4648</th>\n      <td>./train/01_tcp_ar/081/00008143/s009_2011_11_16...</td>\n      <td>[256, 256, 256, 256, 256, 256, 256, 256, 256, ...</td>\n      <td>[EEG FP1-REF, EEG FP2-REF, EEG F3-REF, EEG F4-...</td>\n      <td>1288.0</td>\n      <td>919.0</td>\n      <td>NaN</td>\n      <td>NaN</td>\n      <td>t003</td>\n      <td>NaN</td>\n      <td>NaN</td>\n      <td>...</td>\n      <td>NaN</td>\n      <td>NaN</td>\n      <td>NaN</td>\n      <td>NaN</td>\n      <td>./train/01_tcp_ar/081/00008143/s009_2011_11_16...</td>\n      <td>0</td>\n      <td>[[0]]</td>\n      <td>[[0]]</td>\n      <td>256</td>\n      <td>21</td>\n    </tr>\n    <tr>\n      <th>3352</th>\n      <td>./train/01_tcp_ar/028/00002806/s001_2004_12_23...</td>\n      <td>[400, 400, 400, 400, 400, 400, 400, 400, 400, ...</td>\n      <td>[EEG FP1-REF, EEG FP2-REF, EEG F3-REF, EEG F4-...</td>\n      <td>4315.0</td>\n      <td>3348.0</td>\n      <td>NaN</td>\n      <td>NaN</td>\n      <td>t005</td>\n      <td>NaN</td>\n      <td>NaN</td>\n      <td>...</td>\n      <td>NaN</td>\n      <td>NaN</td>\n      <td>NaN</td>\n      <td>NaN</td>\n      <td>./train/01_tcp_ar/028/00002806/s001_2004_12_23...</td>\n      <td>0</td>\n      <td>[[0]]</td>\n      <td>[[0]]</td>\n      <td>400</td>\n      <td>21</td>\n    </tr>\n    <tr>\n      <th>5820</th>\n      <td>./train/02_tcp_le/011/00001113/s002_2004_08_31...</td>\n      <td>[250, 250, 250, 250, 250, 250, 250, 250, 250, ...</td>\n      <td>[EEG FP1-LE, EEG FP2-LE, EEG F3-LE, EEG F4-LE,...</td>\n      <td>652.0</td>\n      <td>389.0</td>\n      <td>NaN</td>\n      <td>NaN</td>\n      <td>NaN</td>\n      <td>NaN</td>\n      <td>NaN</td>\n      <td>...</td>\n      <td>NaN</td>\n      <td>NaN</td>\n      <td>NaN</td>\n      <td>NaN</td>\n      <td>./train/02_tcp_le/011/00001113/s002_2004_08_31...</td>\n      <td>0</td>\n      <td>[[259244]]</td>\n      <td>[[260652]]</td>\n      <td>250</td>\n      <td>0</td>\n    </tr>\n  </tbody>\n</table>\n<p>5 rows × 40 columns</p>\n</div>"
     },
     "execution_count": 44,
     "metadata": {},
     "output_type": "execute_result"
    }
   ],
   "source": [
    "fs_df['ref_ch_num'] = fs_df['ch'].apply(lambda x: sum([(a in EEG_channels) for a in x]))\n",
    "fs_df.sample(5)"
   ],
   "metadata": {
    "collapsed": false,
    "pycharm": {
     "name": "#%%\n"
    }
   }
  },
  {
   "cell_type": "code",
   "execution_count": 45,
   "outputs": [
    {
     "data": {
      "text/plain": "21    5156\n19    1441\n0      916\nName: ref_ch_num, dtype: int64"
     },
     "execution_count": 45,
     "metadata": {},
     "output_type": "execute_result"
    }
   ],
   "source": [
    "fs_df['ref_ch_num'].value_counts()"
   ],
   "metadata": {
    "collapsed": false,
    "pycharm": {
     "name": "#%%\n"
    }
   }
  },
  {
   "cell_type": "code",
   "execution_count": 46,
   "outputs": [
    {
     "data": {
      "text/plain": "array([\"['dev', '02_tcp_le']\", \"['train', '02_tcp_le']\"], dtype=object)"
     },
     "execution_count": 46,
     "metadata": {},
     "output_type": "execute_result"
    }
   ],
   "source": [
    "fs_df[fs_df['ref_ch_num'] == 0]['filename'].apply(lambda x: str(x.split('/')[1:3])).unique()\n"
   ],
   "metadata": {
    "collapsed": false,
    "pycharm": {
     "name": "#%%\n"
    }
   }
  },
  {
   "cell_type": "code",
   "execution_count": 47,
   "outputs": [
    {
     "data": {
      "text/plain": "                                               filename  \\\n1207  ./dev/02_tcp_le/036/00003635/s001_2006_07_20/0...   \n1208  ./dev/02_tcp_le/036/00003635/s001_2006_07_20/0...   \n1209  ./dev/02_tcp_le/036/00003635/s001_2006_07_20/0...   \n1210  ./dev/02_tcp_le/036/00003635/s001_2006_07_20/0...   \n1211  ./dev/02_tcp_le/036/00003635/s001_2006_07_20/0...   \n...                                                 ...   \n1323  ./dev/02_tcp_le/022/00002297/s002_2007_10_22/0...   \n1324  ./dev/02_tcp_le/022/00002297/s002_2007_10_22/0...   \n1325  ./dev/02_tcp_le/022/00002297/s002_2007_10_22/0...   \n1326  ./dev/02_tcp_le/010/00001027/s001_2004_01_27/0...   \n1327  ./dev/02_tcp_le/050/00005031/s001_2008_07_22/0...   \n\n                                                     fs  \\\n1207  [250, 250, 250, 250, 250, 250, 250, 250, 250, ...   \n1208  [250, 250, 250, 250, 250, 250, 250, 250, 250, ...   \n1209  [250, 250, 250, 250, 250, 250, 250, 250, 250, ...   \n1210  [250, 250, 250, 250, 250, 250, 250, 250, 250, ...   \n1211  [250, 250, 250, 250, 250, 250, 250, 250, 250, ...   \n...                                                 ...   \n1323  [250, 250, 250, 250, 250, 250, 250, 250, 250, ...   \n1324  [250, 250, 250, 250, 250, 250, 250, 250, 250, ...   \n1325  [250, 250, 250, 250, 250, 250, 250, 250, 250, ...   \n1326  [250, 250, 250, 250, 250, 250, 250, 250, 250, ...   \n1327  [250, 250, 250, 250, 250, 250, 250, 250, 250, ...   \n\n                                                     ch  \\\n1207  [EEG FP1-LE, EEG FP2-LE, EEG F3-LE, EEG F4-LE,...   \n1208  [EEG FP1-LE, EEG FP2-LE, EEG F3-LE, EEG F4-LE,...   \n1209  [EEG FP1-LE, EEG FP2-LE, EEG F3-LE, EEG F4-LE,...   \n1210  [EEG FP1-LE, EEG FP2-LE, EEG F3-LE, EEG F4-LE,...   \n1211  [EEG FP1-LE, EEG FP2-LE, EEG F3-LE, EEG F4-LE,...   \n...                                                 ...   \n1323  [EEG FP1-LE, EEG FP2-LE, EEG F3-LE, EEG F4-LE,...   \n1324  [EEG FP1-LE, EEG FP2-LE, EEG F3-LE, EEG F4-LE,...   \n1325  [EEG FP1-LE, EEG FP2-LE, EEG F3-LE, EEG F4-LE,...   \n1326  [EEG FP1-LE, EEG FP2-LE, EEG F3-LE, EEG F4-LE,...   \n1327  [EEG FP1-LE, EEG FP2-LE, EEG F3-LE, EEG F4-LE,...   \n\n      Index_Unnamed: 0_level_1  File No._Unnamed: 1_level_1  \\\n1207                    1287.0                        924.0   \n1208                    1288.0                        924.0   \n1209                    1289.0                        924.0   \n1210                    1290.0                        924.0   \n1211                    1291.0                        924.0   \n...                        ...                          ...   \n1323                    1278.0                        921.0   \n1324                    1279.0                        921.0   \n1325                    1280.0                        921.0   \n1326                    1249.0                        906.0   \n1327                    1307.0                        936.0   \n\n      Patient_Unnamed: 2_level_1 Session_Unnamed: 3_level_1  \\\n1207                      3635.0                       s001   \n1208                         NaN                        NaN   \n1209                         NaN                        NaN   \n1210                         NaN                        NaN   \n1211                         NaN                        NaN   \n...                          ...                        ...   \n1323                         NaN                        NaN   \n1324                         NaN                        NaN   \n1325                         NaN                        NaN   \n1326                      1027.0                       s001   \n1327                      5031.0                       s001   \n\n     File_Unnamed: 4_level_1 EEG Type_Unnamed: 5_level_1  \\\n1207                    t001                  Outpatient   \n1208                     NaN                         NaN   \n1209                     NaN                         NaN   \n1210                     NaN                         NaN   \n1211                     NaN                         NaN   \n...                      ...                         ...   \n1323                     NaN                         NaN   \n1324                     NaN                         NaN   \n1325                     NaN                         NaN   \n1326                    t001                   Inpatient   \n1327                    t000                         ICU   \n\n     EEG SubType_Unnamed: 6_level_1  ... Summary_Events Summary_Freq..2  \\\n1207                     Outpatient  ...            NaN             NaN   \n1208                            NaN  ...            NaN             NaN   \n1209                            NaN  ...            NaN             NaN   \n1210                            NaN  ...            NaN             NaN   \n1211                            NaN  ...            NaN             NaN   \n...                             ...  ...            ...             ...   \n1323                            NaN  ...            NaN             NaN   \n1324                            NaN  ...            NaN             NaN   \n1325                            NaN  ...            NaN             NaN   \n1326                        General  ...            NaN             NaN   \n1327                           NICU  ...            NaN             NaN   \n\n      Summary_Cum..4  Summary_Cum..5  \\\n1207             NaN             NaN   \n1208             NaN             NaN   \n1209             NaN             NaN   \n1210             NaN             NaN   \n1211             NaN             NaN   \n...              ...             ...   \n1323             NaN             NaN   \n1324             NaN             NaN   \n1325             NaN             NaN   \n1326             NaN             NaN   \n1327             NaN             NaN   \n\n                                               Filename  FP1_index  \\\n1207  ./dev/02_tcp_le/036/00003635/s001_2006_07_20/0...          0   \n1208  ./dev/02_tcp_le/036/00003635/s001_2006_07_20/0...          0   \n1209  ./dev/02_tcp_le/036/00003635/s001_2006_07_20/0...          0   \n1210  ./dev/02_tcp_le/036/00003635/s001_2006_07_20/0...          0   \n1211  ./dev/02_tcp_le/036/00003635/s001_2006_07_20/0...          0   \n...                                                 ...        ...   \n1323  ./dev/02_tcp_le/022/00002297/s002_2007_10_22/0...          0   \n1324  ./dev/02_tcp_le/022/00002297/s002_2007_10_22/0...          0   \n1325  ./dev/02_tcp_le/022/00002297/s002_2007_10_22/0...          0   \n1326  ./dev/02_tcp_le/010/00001027/s001_2004_01_27/0...          0   \n1327  ./dev/02_tcp_le/050/00005031/s001_2008_07_22/0...          0   \n\n      Seizure_Start Seizure_Stop  fs_FP1 ref_ch_num  \n1207      [[49760]]    [[50615]]     250          0  \n1208      [[78005]]    [[78766]]     250          0  \n1209     [[152529]]   [[153039]]     250          0  \n1210     [[189231]]   [[190028]]     250          0  \n1211     [[215928]]   [[216426]]     250          0  \n...             ...          ...     ...        ...  \n1323     [[201644]]   [[214247]]     250          0  \n1324     [[227223]]   [[257410]]     250          0  \n1325     [[267624]]   [[303109]]     250          0  \n1326     [[139171]]   [[169729]]     250          0  \n1327          [[0]]        [[0]]     250          0  \n\n[121 rows x 40 columns]",
      "text/html": "<div>\n<style scoped>\n    .dataframe tbody tr th:only-of-type {\n        vertical-align: middle;\n    }\n\n    .dataframe tbody tr th {\n        vertical-align: top;\n    }\n\n    .dataframe thead th {\n        text-align: right;\n    }\n</style>\n<table border=\"1\" class=\"dataframe\">\n  <thead>\n    <tr style=\"text-align: right;\">\n      <th></th>\n      <th>filename</th>\n      <th>fs</th>\n      <th>ch</th>\n      <th>Index_Unnamed: 0_level_1</th>\n      <th>File No._Unnamed: 1_level_1</th>\n      <th>Patient_Unnamed: 2_level_1</th>\n      <th>Session_Unnamed: 3_level_1</th>\n      <th>File_Unnamed: 4_level_1</th>\n      <th>EEG Type_Unnamed: 5_level_1</th>\n      <th>EEG SubType_Unnamed: 6_level_1</th>\n      <th>...</th>\n      <th>Summary_Events</th>\n      <th>Summary_Freq..2</th>\n      <th>Summary_Cum..4</th>\n      <th>Summary_Cum..5</th>\n      <th>Filename</th>\n      <th>FP1_index</th>\n      <th>Seizure_Start</th>\n      <th>Seizure_Stop</th>\n      <th>fs_FP1</th>\n      <th>ref_ch_num</th>\n    </tr>\n  </thead>\n  <tbody>\n    <tr>\n      <th>1207</th>\n      <td>./dev/02_tcp_le/036/00003635/s001_2006_07_20/0...</td>\n      <td>[250, 250, 250, 250, 250, 250, 250, 250, 250, ...</td>\n      <td>[EEG FP1-LE, EEG FP2-LE, EEG F3-LE, EEG F4-LE,...</td>\n      <td>1287.0</td>\n      <td>924.0</td>\n      <td>3635.0</td>\n      <td>s001</td>\n      <td>t001</td>\n      <td>Outpatient</td>\n      <td>Outpatient</td>\n      <td>...</td>\n      <td>NaN</td>\n      <td>NaN</td>\n      <td>NaN</td>\n      <td>NaN</td>\n      <td>./dev/02_tcp_le/036/00003635/s001_2006_07_20/0...</td>\n      <td>0</td>\n      <td>[[49760]]</td>\n      <td>[[50615]]</td>\n      <td>250</td>\n      <td>0</td>\n    </tr>\n    <tr>\n      <th>1208</th>\n      <td>./dev/02_tcp_le/036/00003635/s001_2006_07_20/0...</td>\n      <td>[250, 250, 250, 250, 250, 250, 250, 250, 250, ...</td>\n      <td>[EEG FP1-LE, EEG FP2-LE, EEG F3-LE, EEG F4-LE,...</td>\n      <td>1288.0</td>\n      <td>924.0</td>\n      <td>NaN</td>\n      <td>NaN</td>\n      <td>NaN</td>\n      <td>NaN</td>\n      <td>NaN</td>\n      <td>...</td>\n      <td>NaN</td>\n      <td>NaN</td>\n      <td>NaN</td>\n      <td>NaN</td>\n      <td>./dev/02_tcp_le/036/00003635/s001_2006_07_20/0...</td>\n      <td>0</td>\n      <td>[[78005]]</td>\n      <td>[[78766]]</td>\n      <td>250</td>\n      <td>0</td>\n    </tr>\n    <tr>\n      <th>1209</th>\n      <td>./dev/02_tcp_le/036/00003635/s001_2006_07_20/0...</td>\n      <td>[250, 250, 250, 250, 250, 250, 250, 250, 250, ...</td>\n      <td>[EEG FP1-LE, EEG FP2-LE, EEG F3-LE, EEG F4-LE,...</td>\n      <td>1289.0</td>\n      <td>924.0</td>\n      <td>NaN</td>\n      <td>NaN</td>\n      <td>NaN</td>\n      <td>NaN</td>\n      <td>NaN</td>\n      <td>...</td>\n      <td>NaN</td>\n      <td>NaN</td>\n      <td>NaN</td>\n      <td>NaN</td>\n      <td>./dev/02_tcp_le/036/00003635/s001_2006_07_20/0...</td>\n      <td>0</td>\n      <td>[[152529]]</td>\n      <td>[[153039]]</td>\n      <td>250</td>\n      <td>0</td>\n    </tr>\n    <tr>\n      <th>1210</th>\n      <td>./dev/02_tcp_le/036/00003635/s001_2006_07_20/0...</td>\n      <td>[250, 250, 250, 250, 250, 250, 250, 250, 250, ...</td>\n      <td>[EEG FP1-LE, EEG FP2-LE, EEG F3-LE, EEG F4-LE,...</td>\n      <td>1290.0</td>\n      <td>924.0</td>\n      <td>NaN</td>\n      <td>NaN</td>\n      <td>NaN</td>\n      <td>NaN</td>\n      <td>NaN</td>\n      <td>...</td>\n      <td>NaN</td>\n      <td>NaN</td>\n      <td>NaN</td>\n      <td>NaN</td>\n      <td>./dev/02_tcp_le/036/00003635/s001_2006_07_20/0...</td>\n      <td>0</td>\n      <td>[[189231]]</td>\n      <td>[[190028]]</td>\n      <td>250</td>\n      <td>0</td>\n    </tr>\n    <tr>\n      <th>1211</th>\n      <td>./dev/02_tcp_le/036/00003635/s001_2006_07_20/0...</td>\n      <td>[250, 250, 250, 250, 250, 250, 250, 250, 250, ...</td>\n      <td>[EEG FP1-LE, EEG FP2-LE, EEG F3-LE, EEG F4-LE,...</td>\n      <td>1291.0</td>\n      <td>924.0</td>\n      <td>NaN</td>\n      <td>NaN</td>\n      <td>NaN</td>\n      <td>NaN</td>\n      <td>NaN</td>\n      <td>...</td>\n      <td>NaN</td>\n      <td>NaN</td>\n      <td>NaN</td>\n      <td>NaN</td>\n      <td>./dev/02_tcp_le/036/00003635/s001_2006_07_20/0...</td>\n      <td>0</td>\n      <td>[[215928]]</td>\n      <td>[[216426]]</td>\n      <td>250</td>\n      <td>0</td>\n    </tr>\n    <tr>\n      <th>...</th>\n      <td>...</td>\n      <td>...</td>\n      <td>...</td>\n      <td>...</td>\n      <td>...</td>\n      <td>...</td>\n      <td>...</td>\n      <td>...</td>\n      <td>...</td>\n      <td>...</td>\n      <td>...</td>\n      <td>...</td>\n      <td>...</td>\n      <td>...</td>\n      <td>...</td>\n      <td>...</td>\n      <td>...</td>\n      <td>...</td>\n      <td>...</td>\n      <td>...</td>\n      <td>...</td>\n    </tr>\n    <tr>\n      <th>1323</th>\n      <td>./dev/02_tcp_le/022/00002297/s002_2007_10_22/0...</td>\n      <td>[250, 250, 250, 250, 250, 250, 250, 250, 250, ...</td>\n      <td>[EEG FP1-LE, EEG FP2-LE, EEG F3-LE, EEG F4-LE,...</td>\n      <td>1278.0</td>\n      <td>921.0</td>\n      <td>NaN</td>\n      <td>NaN</td>\n      <td>NaN</td>\n      <td>NaN</td>\n      <td>NaN</td>\n      <td>...</td>\n      <td>NaN</td>\n      <td>NaN</td>\n      <td>NaN</td>\n      <td>NaN</td>\n      <td>./dev/02_tcp_le/022/00002297/s002_2007_10_22/0...</td>\n      <td>0</td>\n      <td>[[201644]]</td>\n      <td>[[214247]]</td>\n      <td>250</td>\n      <td>0</td>\n    </tr>\n    <tr>\n      <th>1324</th>\n      <td>./dev/02_tcp_le/022/00002297/s002_2007_10_22/0...</td>\n      <td>[250, 250, 250, 250, 250, 250, 250, 250, 250, ...</td>\n      <td>[EEG FP1-LE, EEG FP2-LE, EEG F3-LE, EEG F4-LE,...</td>\n      <td>1279.0</td>\n      <td>921.0</td>\n      <td>NaN</td>\n      <td>NaN</td>\n      <td>NaN</td>\n      <td>NaN</td>\n      <td>NaN</td>\n      <td>...</td>\n      <td>NaN</td>\n      <td>NaN</td>\n      <td>NaN</td>\n      <td>NaN</td>\n      <td>./dev/02_tcp_le/022/00002297/s002_2007_10_22/0...</td>\n      <td>0</td>\n      <td>[[227223]]</td>\n      <td>[[257410]]</td>\n      <td>250</td>\n      <td>0</td>\n    </tr>\n    <tr>\n      <th>1325</th>\n      <td>./dev/02_tcp_le/022/00002297/s002_2007_10_22/0...</td>\n      <td>[250, 250, 250, 250, 250, 250, 250, 250, 250, ...</td>\n      <td>[EEG FP1-LE, EEG FP2-LE, EEG F3-LE, EEG F4-LE,...</td>\n      <td>1280.0</td>\n      <td>921.0</td>\n      <td>NaN</td>\n      <td>NaN</td>\n      <td>NaN</td>\n      <td>NaN</td>\n      <td>NaN</td>\n      <td>...</td>\n      <td>NaN</td>\n      <td>NaN</td>\n      <td>NaN</td>\n      <td>NaN</td>\n      <td>./dev/02_tcp_le/022/00002297/s002_2007_10_22/0...</td>\n      <td>0</td>\n      <td>[[267624]]</td>\n      <td>[[303109]]</td>\n      <td>250</td>\n      <td>0</td>\n    </tr>\n    <tr>\n      <th>1326</th>\n      <td>./dev/02_tcp_le/010/00001027/s001_2004_01_27/0...</td>\n      <td>[250, 250, 250, 250, 250, 250, 250, 250, 250, ...</td>\n      <td>[EEG FP1-LE, EEG FP2-LE, EEG F3-LE, EEG F4-LE,...</td>\n      <td>1249.0</td>\n      <td>906.0</td>\n      <td>1027.0</td>\n      <td>s001</td>\n      <td>t001</td>\n      <td>Inpatient</td>\n      <td>General</td>\n      <td>...</td>\n      <td>NaN</td>\n      <td>NaN</td>\n      <td>NaN</td>\n      <td>NaN</td>\n      <td>./dev/02_tcp_le/010/00001027/s001_2004_01_27/0...</td>\n      <td>0</td>\n      <td>[[139171]]</td>\n      <td>[[169729]]</td>\n      <td>250</td>\n      <td>0</td>\n    </tr>\n    <tr>\n      <th>1327</th>\n      <td>./dev/02_tcp_le/050/00005031/s001_2008_07_22/0...</td>\n      <td>[250, 250, 250, 250, 250, 250, 250, 250, 250, ...</td>\n      <td>[EEG FP1-LE, EEG FP2-LE, EEG F3-LE, EEG F4-LE,...</td>\n      <td>1307.0</td>\n      <td>936.0</td>\n      <td>5031.0</td>\n      <td>s001</td>\n      <td>t000</td>\n      <td>ICU</td>\n      <td>NICU</td>\n      <td>...</td>\n      <td>NaN</td>\n      <td>NaN</td>\n      <td>NaN</td>\n      <td>NaN</td>\n      <td>./dev/02_tcp_le/050/00005031/s001_2008_07_22/0...</td>\n      <td>0</td>\n      <td>[[0]]</td>\n      <td>[[0]]</td>\n      <td>250</td>\n      <td>0</td>\n    </tr>\n  </tbody>\n</table>\n<p>121 rows × 40 columns</p>\n</div>"
     },
     "execution_count": 47,
     "metadata": {},
     "output_type": "execute_result"
    }
   ],
   "source": [
    "fs_df[fs_df['filename'].apply(lambda x: x.startswith('./dev/02'))]"
   ],
   "metadata": {
    "collapsed": false,
    "pycharm": {
     "name": "#%%\n"
    }
   }
  },
  {
   "cell_type": "code",
   "execution_count": 48,
   "outputs": [
    {
     "data": {
      "text/plain": "array(['[0, 1, 2, 3, 4, 5, 6, 7, 8, 9, 10, 11, 12, 13, 14, 15, 16, 17, 18, 19, 20]',\n       '[0, 1, 2, 3, 4, 5, 6, 7, 8, 9, 10, 11, 12, 13, 14, 15, 27, 28, 18, 19, 20]',\n       '[0, 1, 2, 3, 4, 5, 6, 7, 8, 9, 10, 11, 12, 13, 14, 15, 26, 27, 18, 19, 20]',\n       '[0, 1, 2, 3, 4, 5, 6, 7, 8, 9, 10, 11, 12, 13, 14, 15, 20, 21, 16, 17, 18]',\n       '[0, 1, 2, 3, 4, 5, 6, 7, 8, 9, 10, 11, 12, 13, 14, 15, 24, 25, 18, 19, 20]',\n       '[0, 1, 2, 3, 4, 5, 6, 7, 8, 9, 10, 11, 12, 13, 14, 15, 23, 24, 18, 19, 20]',\n       '[0, 1, 2, 3, 4, 5, 6, 7, 8, 9, 10, 11, 12, 13, 14, 15, 22, 23, 18, 19, 20]',\n       '[0, 1, 2, 3, 4, 5, 8, 9, 10, 11, 12, 13, 14, 15, 16, 17, 6, 7, 18, 19, 20]',\n       '[0, 1, 2, 3, 4, 5, 6, 7, 8, 9, 10, 11, 12, 13, 14, 15, -1, -1, 16, 17, 18]',\n       '[0, 1, 2, 3, 4, 5, 6, 7, 8, 9, 10, 11, 12, 13, 14, 15, -1, -1, 18, 19, 20]',\n       '[0, 1, 2, 3, 4, 5, 6, 7, 8, 9, 10, 11, 12, 13, 14, 15, 25, 26, 18, 19, 20]'],\n      dtype=object)"
     },
     "execution_count": 48,
     "metadata": {},
     "output_type": "execute_result"
    }
   ],
   "source": [
    "EEG_channels_LE = ['EEG FP1-LE', 'EEG FP2-LE', 'EEG F3-LE', 'EEG F4-LE', 'EEG C3-LE', 'EEG C4-LE', 'EEG P3-LE',\n",
    "                'EEG P4-LE', 'EEG O1-LE', 'EEG O2-LE', 'EEG F7-LE', 'EEG F8-LE', 'EEG T3-LE', 'EEG T4-LE',\n",
    "                'EEG T5-LE', 'EEG T6-LE', 'EEG A1-LE', 'EEG A2-LE', 'EEG FZ-LE', 'EEG CZ-LE', 'EEG PZ-LE']\n",
    "\n",
    "def get_EEG_index(eeg_labels):\n",
    "    indices = []\n",
    "    for label, label_le in zip(EEG_channels, EEG_channels_LE):\n",
    "        if label in eeg_labels:\n",
    "            indices.append(eeg_labels.index(label))\n",
    "        elif label_le in eeg_labels:\n",
    "            indices.append(eeg_labels.index(label_le))\n",
    "        else:\n",
    "            indices.append(-1)\n",
    "    return indices\n",
    "\n",
    "fs_df['ref_ch'] = fs_df['ch'].apply(get_EEG_index)\n",
    "fs_df['ref_ch'].astype(str).unique()"
   ],
   "metadata": {
    "collapsed": false,
    "pycharm": {
     "name": "#%%\n"
    }
   }
  },
  {
   "cell_type": "code",
   "execution_count": 48,
   "outputs": [],
   "source": [],
   "metadata": {
    "collapsed": false,
    "pycharm": {
     "name": "#%%\n"
    }
   }
  }
 ],
 "metadata": {
  "kernelspec": {
   "display_name": "Python 3",
   "language": "python",
   "name": "python3"
  },
  "language_info": {
   "codemirror_mode": {
    "name": "ipython",
    "version": 2
   },
   "file_extension": ".py",
   "mimetype": "text/x-python",
   "name": "python",
   "nbconvert_exporter": "python",
   "pygments_lexer": "ipython2",
   "version": "2.7.6"
  }
 },
 "nbformat": 4,
 "nbformat_minor": 0
}